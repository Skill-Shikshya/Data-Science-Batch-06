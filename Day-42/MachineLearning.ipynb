{
 "cells": [
  {
   "cell_type": "markdown",
   "id": "6399afda-9d78-416e-8f02-f7a26939d992",
   "metadata": {},
   "source": [
    "# Machine Learning\n",
    "\n",
    "Machine learning is a branch of artificial intelligence (AI) that involves developing algorithms and statistical models that enable computers to automatically learn from data without being explicitly programmed. In machine learning, algorithms use data to identify patterns and make decisions with minimal human intervention. Machine learning is used in a wide range of applications, from self-driving cars and facial recognition technology to medical diagnosis and natural language processing."
   ]
  },
  {
   "cell_type": "markdown",
   "id": "02f8f81f-d80c-46f4-8bbd-8fb4b39cc0ee",
   "metadata": {},
   "source": [
    "### Major Approaches of ML\n",
    "\n",
    "1. **Supervised learning:** This approach involves using a labeled dataset to train a model that can predict output values for new input data. It is called \"supervised\" because the training data includes the correct answers, and the goal is for the model to learn how to produce the correct output for new, unseen data."
   ]
  },
  {
   "cell_type": "markdown",
   "id": "1c7da638-9cf7-40a3-8d2a-dfe5b9dc0f31",
   "metadata": {},
   "source": [
    "2. **Unsupervised learning:** This approach involves using an unlabeled dataset to train a model that can identify patterns or structure in the data. There is no \"correct answer\" to learn from, so the model is typically used for tasks like clustering, where similar data points are grouped together."
   ]
  },
  {
   "cell_type": "markdown",
   "id": "cad2d3b3-62cd-440e-87d3-de7cba758416",
   "metadata": {},
   "source": [
    "3. **Reinforcement learning:** This approach involves training a model to make decisions based on rewards or penalties received in response to its actions. The goal is for the model to learn to take actions that maximize its cumulative reward over time. This approach is often used in areas like game-playing and robotics, where an agent must learn to navigate an environment and make decisions based on feedback."
   ]
  },
  {
   "cell_type": "markdown",
   "id": "ae5f10c9-995d-4d4a-ada6-8f254ae4aebf",
   "metadata": {},
   "source": [
    "## Terminology\n",
    "\n",
    "1. Dataset\n",
    "2. Training and Testing Set"
   ]
  },
  {
   "cell_type": "markdown",
   "id": "25dd09ce-1687-49bb-acc3-c29adec318ba",
   "metadata": {},
   "source": [
    "## Supervised Learning\n",
    "\n",
    "1. Regression Algo\n",
    "   * Linear Regression\n",
    "   * Neural Regression\n",
    "   * SVM\n",
    "\n",
    "2. Classification Algo\n",
    "    * Logistic Regression\n",
    "    * Naive Bayes\n",
    "    * Decision Trees\n",
    "    * Neural Classification"
   ]
  },
  {
   "cell_type": "code",
   "execution_count": null,
   "id": "4b3bd576-fb0b-49d3-bcca-bd32de64dad7",
   "metadata": {},
   "outputs": [],
   "source": []
  }
 ],
 "metadata": {
  "kernelspec": {
   "display_name": "Python 3 (ipykernel)",
   "language": "python",
   "name": "python3"
  },
  "language_info": {
   "codemirror_mode": {
    "name": "ipython",
    "version": 3
   },
   "file_extension": ".py",
   "mimetype": "text/x-python",
   "name": "python",
   "nbconvert_exporter": "python",
   "pygments_lexer": "ipython3",
   "version": "3.10.12"
  }
 },
 "nbformat": 4,
 "nbformat_minor": 5
}
