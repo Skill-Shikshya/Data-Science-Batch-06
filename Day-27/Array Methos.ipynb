{
 "cells": [
  {
   "cell_type": "markdown",
   "id": "adaa318a-ad3c-4b5b-a355-beca9472511b",
   "metadata": {},
   "source": [
    "## NumPy Array Properties and Methods\n",
    "\n",
    "NumPy arrays have several useful properties and methods that can be used to manipulate them.\n",
    "\n",
    "- `shape`: Property that returns the dimensions of the array\n",
    "- `ndim`: Property that returns number of array dimensions\n",
    "- `dtype`: Property that returns data-type of the array’s elements\n",
    "- `T`: Transpose of the array’s elements\n",
    "- -------------------------------------------------------------------\n",
    "- `reshape()`: Method to change the dimensions of an array. The product of old dimensions should match the product of new dimensions\n",
    "- `ravel()`: Method that collapses all values into a single axis or dimension and returns view of original array\n",
    "- `flatten()`: Method that collapses all values into a single axis or dimension and returns an independent copy of original array\n",
    "- `np.concatenate()`: Method to concatenate two or more arrays\n",
    "- `sum()`: Method that returns the sum of all elements in an array\n",
    "- `cumsum()`: Method that returns cumulative sum over given axis\n",
    "- `prod()`: Method that compute product over given axis\n",
    "- `max()`: Method that returns the maximum along a given axis\n",
    "- `argmax()`: Method that returns indeces of the maximum values along a given axis\n",
    "- `clip()`: Clip values beyond range to threshold values\n",
    "- `np.split()`: Method to split an array into multiple sub-arrays\n",
    "- `np.vstack()`: Method to stack arrays vertically\n",
    "- `np.hstack()`: Method to stack arrays horizontally"
   ]
  },
  {
   "cell_type": "code",
   "execution_count": 1,
   "id": "2bbb252a-f2aa-427d-9e8e-5fe3e47d717c",
   "metadata": {},
   "outputs": [],
   "source": [
    "import numpy as np"
   ]
  },
  {
   "cell_type": "code",
   "execution_count": 2,
   "id": "f68bd89a-8c56-4d8c-ad89-1d51d544b829",
   "metadata": {},
   "outputs": [],
   "source": [
    "arr = np.random.randint(10,50, size = (5,2,3))"
   ]
  },
  {
   "cell_type": "code",
   "execution_count": 4,
   "id": "d00a68a5-8bc8-4f30-9d5b-67ca4a2f65f9",
   "metadata": {},
   "outputs": [
    {
     "data": {
      "text/plain": [
       "(5, 2, 3)"
      ]
     },
     "execution_count": 4,
     "metadata": {},
     "output_type": "execute_result"
    }
   ],
   "source": [
    "arr.shape"
   ]
  },
  {
   "cell_type": "code",
   "execution_count": 5,
   "id": "09e24f5f-5ee9-4064-9272-c0103fee7258",
   "metadata": {},
   "outputs": [
    {
     "data": {
      "text/plain": [
       "3"
      ]
     },
     "execution_count": 5,
     "metadata": {},
     "output_type": "execute_result"
    }
   ],
   "source": [
    "arr.ndim"
   ]
  },
  {
   "cell_type": "code",
   "execution_count": 6,
   "id": "4f8af362-1098-4761-a5a9-4b20e837b429",
   "metadata": {},
   "outputs": [
    {
     "data": {
      "text/plain": [
       "dtype('int64')"
      ]
     },
     "execution_count": 6,
     "metadata": {},
     "output_type": "execute_result"
    }
   ],
   "source": [
    "arr.dtype"
   ]
  },
  {
   "cell_type": "code",
   "execution_count": 9,
   "id": "2dfb9498-968b-45cb-974b-eb7bac79f94b",
   "metadata": {},
   "outputs": [
    {
     "data": {
      "text/plain": [
       "array([[[22, 42, 48, 18, 19],\n",
       "        [35, 38, 32, 33, 16]],\n",
       "\n",
       "       [[41, 25, 19, 18, 46],\n",
       "        [30, 26, 24, 44, 18]],\n",
       "\n",
       "       [[20, 18, 15, 23, 35],\n",
       "        [28, 23, 48, 30, 15]]])"
      ]
     },
     "execution_count": 9,
     "metadata": {},
     "output_type": "execute_result"
    }
   ],
   "source": [
    "arr_T = arr.T\n",
    "arr_T"
   ]
  },
  {
   "cell_type": "code",
   "execution_count": 11,
   "id": "454eab05-99f0-41f0-ae63-03c9c16250c1",
   "metadata": {},
   "outputs": [
    {
     "data": {
      "text/plain": [
       "(3, 2, 5)"
      ]
     },
     "execution_count": 11,
     "metadata": {},
     "output_type": "execute_result"
    }
   ],
   "source": [
    "arr_T.shape"
   ]
  },
  {
   "cell_type": "code",
   "execution_count": null,
   "id": "92d6ff8f-383e-4c0e-849d-4b070abbd849",
   "metadata": {},
   "outputs": [],
   "source": []
  },
  {
   "cell_type": "code",
   "execution_count": 12,
   "id": "99eba6af-d9f9-4f1a-aeb5-279aa24d3de5",
   "metadata": {},
   "outputs": [
    {
     "data": {
      "text/plain": [
       "(5, 2, 3)"
      ]
     },
     "execution_count": 12,
     "metadata": {},
     "output_type": "execute_result"
    }
   ],
   "source": [
    "arr.shape"
   ]
  },
  {
   "cell_type": "code",
   "execution_count": 14,
   "id": "c8604f26-fdc6-456a-9e2c-09d5c6baf8f3",
   "metadata": {},
   "outputs": [
    {
     "data": {
      "text/plain": [
       "array([[[22, 41],\n",
       "        [20, 35],\n",
       "        [30, 28],\n",
       "        [42, 25],\n",
       "        [18, 38]],\n",
       "\n",
       "       [[26, 23],\n",
       "        [48, 19],\n",
       "        [15, 32],\n",
       "        [24, 48],\n",
       "        [18, 18]],\n",
       "\n",
       "       [[23, 33],\n",
       "        [44, 30],\n",
       "        [19, 46],\n",
       "        [35, 16],\n",
       "        [18, 15]]])"
      ]
     },
     "execution_count": 14,
     "metadata": {},
     "output_type": "execute_result"
    }
   ],
   "source": [
    "arr.reshape(3,5,2)"
   ]
  },
  {
   "cell_type": "code",
   "execution_count": 17,
   "id": "141d1318-5d89-41f4-b4d8-9570bc8863f3",
   "metadata": {},
   "outputs": [
    {
     "ename": "ValueError",
     "evalue": "cannot reshape array of size 30 into shape (2,newaxis,2)",
     "output_type": "error",
     "traceback": [
      "\u001b[0;31m---------------------------------------------------------------------------\u001b[0m",
      "\u001b[0;31mValueError\u001b[0m                                Traceback (most recent call last)",
      "Cell \u001b[0;32mIn[17], line 1\u001b[0m\n\u001b[0;32m----> 1\u001b[0m \u001b[43marr\u001b[49m\u001b[38;5;241;43m.\u001b[39;49m\u001b[43mreshape\u001b[49m\u001b[43m(\u001b[49m\u001b[38;5;241;43m2\u001b[39;49m\u001b[43m,\u001b[49m\u001b[38;5;241;43m-\u001b[39;49m\u001b[38;5;241;43m1\u001b[39;49m\u001b[43m,\u001b[49m\u001b[38;5;241;43m2\u001b[39;49m\u001b[43m)\u001b[49m\n",
      "\u001b[0;31mValueError\u001b[0m: cannot reshape array of size 30 into shape (2,newaxis,2)"
     ]
    }
   ],
   "source": [
    "arr.reshape(2,-1,2)"
   ]
  },
  {
   "cell_type": "code",
   "execution_count": null,
   "id": "9cf34816-f054-4702-8ff3-f2ba15411dc6",
   "metadata": {},
   "outputs": [],
   "source": []
  }
 ],
 "metadata": {
  "kernelspec": {
   "display_name": "Python 3 (ipykernel)",
   "language": "python",
   "name": "python3"
  },
  "language_info": {
   "codemirror_mode": {
    "name": "ipython",
    "version": 3
   },
   "file_extension": ".py",
   "mimetype": "text/x-python",
   "name": "python",
   "nbconvert_exporter": "python",
   "pygments_lexer": "ipython3",
   "version": "3.10.12"
  }
 },
 "nbformat": 4,
 "nbformat_minor": 5
}
