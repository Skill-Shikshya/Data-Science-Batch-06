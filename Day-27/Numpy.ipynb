{
 "cells": [
  {
   "cell_type": "code",
   "execution_count": 2,
   "id": "5615184f-379e-4a6e-8b93-58aac5b4fb7a",
   "metadata": {},
   "outputs": [
    {
     "name": "stdout",
     "output_type": "stream",
     "text": [
      "Collecting numpy\n",
      "  Downloading numpy-2.2.2-cp310-cp310-manylinux_2_17_x86_64.manylinux2014_x86_64.whl (16.4 MB)\n",
      "\u001b[2K     \u001b[38;2;114;156;31m━━━━━━━━━━━━━━━━━━━━━━━━━━━━━━━━━━━━━━━━\u001b[0m \u001b[32m16.4/16.4 MB\u001b[0m \u001b[31m27.9 MB/s\u001b[0m eta \u001b[36m0:00:00\u001b[0mm eta \u001b[36m0:00:01\u001b[0m0:01\u001b[0m:01\u001b[0m\n",
      "\u001b[?25hInstalling collected packages: numpy\n",
      "\u001b[31mERROR: pip's dependency resolver does not currently take into account all the packages that are installed. This behaviour is the source of the following dependency conflicts.\n",
      "tensorflow 2.18.0 requires numpy<2.1.0,>=1.26.0, but you have numpy 2.2.2 which is incompatible.\n",
      "gensim 4.3.3 requires numpy<2.0,>=1.18.5, but you have numpy 2.2.2 which is incompatible.\u001b[0m\u001b[31m\n",
      "\u001b[0mSuccessfully installed numpy-2.2.2\n"
     ]
    }
   ],
   "source": [
    "!pip install numpy "
   ]
  },
  {
   "cell_type": "code",
   "execution_count": 2,
   "id": "9be95168-a0a6-45f7-b278-a05b4734a31e",
   "metadata": {},
   "outputs": [],
   "source": [
    "import numpy as np"
   ]
  },
  {
   "cell_type": "markdown",
   "id": "f94acebf-6710-448c-95ee-4946b587a2be",
   "metadata": {
    "jp-MarkdownHeadingCollapsed": true
   },
   "source": [
    "## Creating Numpy Array"
   ]
  },
  {
   "cell_type": "code",
   "execution_count": 7,
   "id": "e3a1bae5-d8ea-4488-91cb-7dbbe2c040c1",
   "metadata": {},
   "outputs": [],
   "source": [
    "list1 = [[2,3,4]]\n",
    "\n",
    "arr1 = np.array(list1)"
   ]
  },
  {
   "cell_type": "code",
   "execution_count": 8,
   "id": "8b06c4e2-2545-4af2-862c-3c32332a3648",
   "metadata": {},
   "outputs": [
    {
     "data": {
      "text/plain": [
       "array([[2, 3, 4]])"
      ]
     },
     "execution_count": 8,
     "metadata": {},
     "output_type": "execute_result"
    }
   ],
   "source": [
    "arr1"
   ]
  },
  {
   "cell_type": "code",
   "execution_count": 9,
   "id": "32f75079-af97-4009-9e33-1bb50b21bb65",
   "metadata": {},
   "outputs": [
    {
     "data": {
      "text/plain": [
       "(1, 3)"
      ]
     },
     "execution_count": 9,
     "metadata": {},
     "output_type": "execute_result"
    }
   ],
   "source": [
    "arr1.shape"
   ]
  },
  {
   "cell_type": "code",
   "execution_count": 6,
   "id": "2b09f548-1a6a-48d0-aa81-4e3c205d343a",
   "metadata": {},
   "outputs": [
    {
     "data": {
      "text/plain": [
       "1"
      ]
     },
     "execution_count": 6,
     "metadata": {},
     "output_type": "execute_result"
    }
   ],
   "source": [
    "arr1.ndim"
   ]
  },
  {
   "cell_type": "code",
   "execution_count": 10,
   "id": "c4b5c480-44e3-4f21-bf4e-139b2b371dc8",
   "metadata": {},
   "outputs": [],
   "source": [
    "list2 = [[1,5,9],\n",
    "         [6,8,2],\n",
    "         [6,9,3],\n",
    "         [6,2,4]]\n",
    "arr2 = np.array(list2)"
   ]
  },
  {
   "cell_type": "code",
   "execution_count": 11,
   "id": "3962cc7c-9f20-42d7-8d19-0a790de3784c",
   "metadata": {},
   "outputs": [
    {
     "data": {
      "text/plain": [
       "array([[1, 5, 9],\n",
       "       [6, 8, 2],\n",
       "       [6, 9, 3],\n",
       "       [6, 2, 4]])"
      ]
     },
     "execution_count": 11,
     "metadata": {},
     "output_type": "execute_result"
    }
   ],
   "source": [
    "arr2"
   ]
  },
  {
   "cell_type": "code",
   "execution_count": 12,
   "id": "cd99b9cd-eca3-4f82-87d8-18cbd5756545",
   "metadata": {},
   "outputs": [
    {
     "data": {
      "text/plain": [
       "(4, 3)"
      ]
     },
     "execution_count": 12,
     "metadata": {},
     "output_type": "execute_result"
    }
   ],
   "source": [
    "arr2.shape"
   ]
  },
  {
   "cell_type": "code",
   "execution_count": 13,
   "id": "1eb003c6-7b0f-4604-a994-4b44ee9fc3e4",
   "metadata": {},
   "outputs": [
    {
     "data": {
      "text/plain": [
       "2"
      ]
     },
     "execution_count": 13,
     "metadata": {},
     "output_type": "execute_result"
    }
   ],
   "source": [
    "arr2.ndim"
   ]
  },
  {
   "cell_type": "markdown",
   "id": "f309147e-df55-494e-b8b8-376fade05b74",
   "metadata": {},
   "source": [
    "NumPy arrays can be created in several ways. Here are some of the most common methods:\n",
    "\n",
    "- `array()`: Creates NumPy arrays from Python lists\n",
    "- `zeros()`: Creates NumPy arrays with all elements initialized to 0\n",
    "- `ones()`: Creates NumPy arrays with all elements initialized to 1\n",
    "- `full()`: Creates an array with all elements initialized to same user-specified value\n",
    "- `arange()`: Creates NumPy arrays with a sequence of values (similar to python range() function)\n",
    "- `linspace()`: Creates NumPy arrays with a sequence of evenly spaced values\n",
    "- `diag()`: Creates NumPy array with the provided list of numbers as the diagonal elements and zeros elsewhere\n",
    "- `eye()`: Creates NumPy array with ones on the diagonal and zeros elsewhere\n",
    "- `identity()`: Creates an identity matrix\n",
    "- `random.rand()`: Creates NumPy array of random numbers sampled from a uniform distribution"
   ]
  },
  {
   "cell_type": "code",
   "execution_count": 37,
   "id": "92e53732-8375-401d-bcc0-70ea70ce8071",
   "metadata": {},
   "outputs": [
    {
     "data": {
      "text/plain": [
       "array([[0., 0., 0.],\n",
       "       [0., 0., 0.],\n",
       "       [0., 0., 0.],\n",
       "       [0., 0., 0.],\n",
       "       [0., 0., 0.]])"
      ]
     },
     "execution_count": 37,
     "metadata": {},
     "output_type": "execute_result"
    }
   ],
   "source": [
    "np.zeros(shape = (5,3))"
   ]
  },
  {
   "cell_type": "code",
   "execution_count": 14,
   "id": "3278be38-4770-46ac-a9cf-42f5a21831b2",
   "metadata": {},
   "outputs": [
    {
     "data": {
      "text/plain": [
       "array([[[1., 1.],\n",
       "        [1., 1.]],\n",
       "\n",
       "       [[1., 1.],\n",
       "        [1., 1.]],\n",
       "\n",
       "       [[1., 1.],\n",
       "        [1., 1.]]])"
      ]
     },
     "execution_count": 14,
     "metadata": {},
     "output_type": "execute_result"
    }
   ],
   "source": [
    "np.ones(shape = (3,2,2))"
   ]
  },
  {
   "cell_type": "code",
   "execution_count": 15,
   "id": "43199ac1-0933-4c0d-9b86-f2de8e7a6199",
   "metadata": {},
   "outputs": [
    {
     "data": {
      "text/plain": [
       "array([[1., 0., 0., 0., 0.],\n",
       "       [0., 1., 0., 0., 0.],\n",
       "       [0., 0., 1., 0., 0.],\n",
       "       [0., 0., 0., 1., 0.],\n",
       "       [0., 0., 0., 0., 1.]])"
      ]
     },
     "execution_count": 15,
     "metadata": {},
     "output_type": "execute_result"
    }
   ],
   "source": [
    "np.identity(5)"
   ]
  },
  {
   "cell_type": "code",
   "execution_count": null,
   "id": "a0400599-6450-4f0a-8afe-4377c71e159f",
   "metadata": {},
   "outputs": [],
   "source": []
  },
  {
   "cell_type": "code",
   "execution_count": 18,
   "id": "e3020263-76e7-42b7-95c0-0f1e00f61635",
   "metadata": {},
   "outputs": [
    {
     "data": {
      "text/plain": [
       "array([[[7.8, 7.8],\n",
       "        [7.8, 7.8]],\n",
       "\n",
       "       [[7.8, 7.8],\n",
       "        [7.8, 7.8]],\n",
       "\n",
       "       [[7.8, 7.8],\n",
       "        [7.8, 7.8]],\n",
       "\n",
       "       [[7.8, 7.8],\n",
       "        [7.8, 7.8]]])"
      ]
     },
     "execution_count": 18,
     "metadata": {},
     "output_type": "execute_result"
    }
   ],
   "source": [
    "np.full(shape = (4,2,2),fill_value = 7.8)"
   ]
  },
  {
   "cell_type": "code",
   "execution_count": null,
   "id": "20d07923-07f7-44b4-aaf4-a95e01c9193e",
   "metadata": {},
   "outputs": [],
   "source": []
  },
  {
   "cell_type": "code",
   "execution_count": 19,
   "id": "9a7c8bc1-fd07-4721-a8c8-90291cdaaaf4",
   "metadata": {},
   "outputs": [
    {
     "data": {
      "text/plain": [
       "array([[[0.49445831, 0.64301581],\n",
       "        [0.61572537, 0.9636064 ],\n",
       "        [0.43188663, 0.7210148 ]],\n",
       "\n",
       "       [[0.91006821, 0.50646236],\n",
       "        [0.51022139, 0.22426326],\n",
       "        [0.13165962, 0.03060309]]])"
      ]
     },
     "execution_count": 19,
     "metadata": {},
     "output_type": "execute_result"
    }
   ],
   "source": [
    "np.random.rand(2,3,2)"
   ]
  },
  {
   "cell_type": "code",
   "execution_count": 21,
   "id": "6a4a75e6-370d-40b7-9f3f-90ff5ff28c9e",
   "metadata": {},
   "outputs": [
    {
     "data": {
      "text/plain": [
       "array([[[8, 5],\n",
       "        [6, 5]],\n",
       "\n",
       "       [[8, 6],\n",
       "        [8, 7]]])"
      ]
     },
     "execution_count": 21,
     "metadata": {},
     "output_type": "execute_result"
    }
   ],
   "source": [
    "np.random.randint(low = 4, high = 10, size = (2,2,2))"
   ]
  },
  {
   "cell_type": "code",
   "execution_count": null,
   "id": "bfd13640-c558-4659-a160-9b9f3de064a3",
   "metadata": {},
   "outputs": [],
   "source": []
  },
  {
   "cell_type": "code",
   "execution_count": 25,
   "id": "85805c92-e70f-403a-9793-21bdd4efd8d4",
   "metadata": {},
   "outputs": [
    {
     "data": {
      "text/plain": [
       "array([ 0. ,  2.5,  5. ,  7.5, 10. ])"
      ]
     },
     "execution_count": 25,
     "metadata": {},
     "output_type": "execute_result"
    }
   ],
   "source": [
    "np.linspace(start = 0, stop = 10, num=5)"
   ]
  },
  {
   "cell_type": "code",
   "execution_count": 52,
   "id": "dd929675-dc0f-4e18-b4ba-fdd3868a2780",
   "metadata": {},
   "outputs": [
    {
     "data": {
      "text/plain": [
       "array([[ 0.  ,  1.  ,  2.  ],\n",
       "       [ 2.5 ,  5.75,  9.  ],\n",
       "       [ 5.  , 10.5 , 16.  ],\n",
       "       [ 7.5 , 15.25, 23.  ],\n",
       "       [10.  , 20.  , 30.  ]])"
      ]
     },
     "execution_count": 52,
     "metadata": {},
     "output_type": "execute_result"
    }
   ],
   "source": [
    "np.linspace(start = (0,1,2) , stop = (10,20,30), num=5, axis=0)"
   ]
  },
  {
   "cell_type": "code",
   "execution_count": null,
   "id": "22233730-77a3-4e25-87bd-f16942454e4d",
   "metadata": {},
   "outputs": [],
   "source": []
  },
  {
   "cell_type": "markdown",
   "id": "f92b6196-6487-4bb6-b65c-586b1305c7af",
   "metadata": {
    "jp-MarkdownHeadingCollapsed": true
   },
   "source": [
    "## Accessing an Array"
   ]
  },
  {
   "cell_type": "markdown",
   "id": "dc148646-801c-48de-9895-da2b9d6675f6",
   "metadata": {},
   "source": [
    "## Indexing and Slicing NumPy Arrays\n",
    "\n",
    "NumPy arrays can be indexed and sliced in several ways depending on the number of dimensions.\n",
    "\n",
    "### Indexing:\n",
    "\n",
    "Indexing follows a simple rule that we may have encountered before. Let's give it a try.\n",
    "\n",
    "- 1D Array: array_name[idx] (Similar to Python list)\n",
    "- 2D Array: array_name[row_idx, col_idx] (Similar to Matrix)\n",
    "- ND Array: array_name[dim1_idx, dim2_idx, ..., dimN_idx]\n",
    "\n",
    "**OR**\n",
    "\n",
    "- 2D Array: array_name[row_idx][col_idx]\n",
    "- ND Array: array_name[dim1_idx][dim2_idx] ... [dimN_idx]\n",
    "\n",
    "\n",
    " ### Slicing:\n",
    "\n",
    "Slicing follows the same rule as indexing. The only difference is that for each dimension we provide it with a range of indeces and sometimes (optional) step size (similar to arange() function discussed above).\n",
    "\n",
    "- 1D Array: array_name[idx1:idx2:step]\n",
    "- 2D Array: array_name[row_idx1:row_idx2:step1, col_idx1:col_idx2:step2]\n",
    "- ND Array: array_name[dim1_idx1:dim1_idx2:step1, ..., dimN_idx1:dimN_idx2:stepN]"
   ]
  },
  {
   "cell_type": "code",
   "execution_count": 2,
   "id": "aa62fab8-7839-4658-b8fa-34e51f166d8a",
   "metadata": {},
   "outputs": [],
   "source": [
    "import numpy as np"
   ]
  },
  {
   "cell_type": "code",
   "execution_count": 3,
   "id": "1c5048e9-8c5c-4c4e-a3f1-6523866f8414",
   "metadata": {},
   "outputs": [],
   "source": [
    "# 1D\n",
    "a = np.array([1,2,3,4,5])"
   ]
  },
  {
   "cell_type": "code",
   "execution_count": 9,
   "id": "97b5ce8b-a459-409b-87c4-787efd30200d",
   "metadata": {},
   "outputs": [
    {
     "data": {
      "text/plain": [
       "np.int64(5)"
      ]
     },
     "execution_count": 9,
     "metadata": {},
     "output_type": "execute_result"
    }
   ],
   "source": [
    "a[4]"
   ]
  },
  {
   "cell_type": "code",
   "execution_count": 36,
   "id": "556bd266-a728-4799-9501-9f966d7addc0",
   "metadata": {},
   "outputs": [
    {
     "data": {
      "text/plain": [
       "array([5, 4, 3, 2, 1])"
      ]
     },
     "execution_count": 36,
     "metadata": {},
     "output_type": "execute_result"
    }
   ],
   "source": [
    "a[::-1]"
   ]
  },
  {
   "cell_type": "code",
   "execution_count": null,
   "id": "f54ca0a4-ab49-4b26-829b-6c94c54807a0",
   "metadata": {},
   "outputs": [],
   "source": []
  },
  {
   "cell_type": "code",
   "execution_count": 37,
   "id": "753c16ca-3482-4a7b-b560-da4f2dea00ee",
   "metadata": {},
   "outputs": [],
   "source": [
    "# 2D\n",
    "b = np.random.randint(0,10,(5,5))"
   ]
  },
  {
   "cell_type": "code",
   "execution_count": 38,
   "id": "05aa48a6-6695-4fb9-bea3-0b42039ddc22",
   "metadata": {},
   "outputs": [
    {
     "data": {
      "text/plain": [
       "array([[6, 7, 7, 8, 9],\n",
       "       [6, 8, 9, 9, 7],\n",
       "       [4, 0, 0, 9, 8],\n",
       "       [2, 6, 1, 6, 1],\n",
       "       [1, 7, 2, 0, 2]])"
      ]
     },
     "execution_count": 38,
     "metadata": {},
     "output_type": "execute_result"
    }
   ],
   "source": [
    "b"
   ]
  },
  {
   "cell_type": "code",
   "execution_count": 39,
   "id": "db20a6bd-862d-4fa0-95b2-fbebfa96e0c1",
   "metadata": {},
   "outputs": [
    {
     "data": {
      "text/plain": [
       "np.int64(6)"
      ]
     },
     "execution_count": 39,
     "metadata": {},
     "output_type": "execute_result"
    }
   ],
   "source": [
    "b[0][0]"
   ]
  },
  {
   "cell_type": "code",
   "execution_count": 43,
   "id": "c24fc063-a237-4054-8b3a-e1643bc02648",
   "metadata": {},
   "outputs": [
    {
     "data": {
      "text/plain": [
       "np.int64(8)"
      ]
     },
     "execution_count": 43,
     "metadata": {},
     "output_type": "execute_result"
    }
   ],
   "source": [
    "b[1][1]"
   ]
  },
  {
   "cell_type": "code",
   "execution_count": 51,
   "id": "8b9bd82b-2e6c-4fda-a911-a8c159b39aca",
   "metadata": {},
   "outputs": [
    {
     "data": {
      "text/plain": [
       "array([[7, 7, 8],\n",
       "       [0, 0, 9],\n",
       "       [7, 2, 0]])"
      ]
     },
     "execution_count": 51,
     "metadata": {},
     "output_type": "execute_result"
    }
   ],
   "source": [
    "# Slicing 2D array : (array[<row_slice>, <col_slice>])\n",
    "b[::2, 1:4]"
   ]
  },
  {
   "cell_type": "code",
   "execution_count": null,
   "id": "c71f7ad1-2524-410f-aa79-49d3ab5d8ff0",
   "metadata": {},
   "outputs": [],
   "source": []
  },
  {
   "cell_type": "code",
   "execution_count": 52,
   "id": "d9a515c1-adbd-4380-9b62-af338f40bbfd",
   "metadata": {},
   "outputs": [],
   "source": [
    "#3D\n",
    "c = np.random.randint(0,10,(4,3,3))"
   ]
  },
  {
   "cell_type": "code",
   "execution_count": 53,
   "id": "61ceec7e-a412-44bd-a50f-d25a5c4fd14b",
   "metadata": {},
   "outputs": [
    {
     "data": {
      "text/plain": [
       "array([[[7, 4, 6],\n",
       "        [6, 1, 5],\n",
       "        [5, 7, 0]],\n",
       "\n",
       "       [[1, 2, 8],\n",
       "        [7, 0, 1],\n",
       "        [8, 8, 4]],\n",
       "\n",
       "       [[4, 2, 7],\n",
       "        [4, 5, 1],\n",
       "        [3, 5, 8]],\n",
       "\n",
       "       [[2, 4, 9],\n",
       "        [2, 4, 9],\n",
       "        [2, 0, 9]]])"
      ]
     },
     "execution_count": 53,
     "metadata": {},
     "output_type": "execute_result"
    }
   ],
   "source": [
    "c"
   ]
  },
  {
   "cell_type": "code",
   "execution_count": 30,
   "id": "719bba92-cfa3-4bde-8800-cfeb494f7e7a",
   "metadata": {},
   "outputs": [
    {
     "data": {
      "text/plain": [
       "np.int64(9)"
      ]
     },
     "execution_count": 30,
     "metadata": {},
     "output_type": "execute_result"
    }
   ],
   "source": [
    "c[0][1][1]"
   ]
  },
  {
   "cell_type": "code",
   "execution_count": 58,
   "id": "28cc31d7-db3a-4fb0-8bfb-f76f3aa200db",
   "metadata": {},
   "outputs": [
    {
     "data": {
      "text/plain": [
       "array([[[7, 4],\n",
       "        [6, 1]],\n",
       "\n",
       "       [[4, 2],\n",
       "        [4, 5]]])"
      ]
     },
     "execution_count": 58,
     "metadata": {},
     "output_type": "execute_result"
    }
   ],
   "source": [
    "c[::2, 0:2:, 0:2:]"
   ]
  },
  {
   "cell_type": "code",
   "execution_count": null,
   "id": "f3269c06-b906-421b-85ba-1df5e7c0d749",
   "metadata": {},
   "outputs": [],
   "source": []
  },
  {
   "cell_type": "code",
   "execution_count": 70,
   "id": "64a0d48f-b7ba-433b-8cf7-4eb05e02f0ca",
   "metadata": {},
   "outputs": [],
   "source": [
    "c = np.random.randint(0,10,(16,3,500,500))"
   ]
  },
  {
   "cell_type": "code",
   "execution_count": 71,
   "id": "b84e7caf-76fd-4d6e-b24d-75deb721ef4d",
   "metadata": {},
   "outputs": [
    {
     "data": {
      "text/plain": [
       "array([[[[2, 9, 3, ..., 8, 0, 1],\n",
       "         [4, 8, 1, ..., 9, 4, 5],\n",
       "         [5, 6, 5, ..., 2, 9, 1],\n",
       "         ...,\n",
       "         [1, 4, 5, ..., 7, 2, 7],\n",
       "         [2, 5, 8, ..., 2, 9, 6],\n",
       "         [7, 2, 0, ..., 8, 0, 7]],\n",
       "\n",
       "        [[5, 0, 7, ..., 9, 5, 6],\n",
       "         [5, 2, 6, ..., 5, 3, 7],\n",
       "         [5, 0, 6, ..., 2, 3, 1],\n",
       "         ...,\n",
       "         [0, 6, 3, ..., 7, 2, 3],\n",
       "         [5, 8, 1, ..., 0, 6, 3],\n",
       "         [7, 1, 3, ..., 7, 7, 4]],\n",
       "\n",
       "        [[9, 6, 7, ..., 9, 1, 3],\n",
       "         [8, 5, 2, ..., 7, 3, 8],\n",
       "         [0, 6, 6, ..., 4, 8, 3],\n",
       "         ...,\n",
       "         [1, 9, 1, ..., 9, 7, 8],\n",
       "         [6, 8, 1, ..., 7, 4, 6],\n",
       "         [6, 3, 8, ..., 8, 8, 1]]],\n",
       "\n",
       "\n",
       "       [[[8, 7, 8, ..., 6, 0, 6],\n",
       "         [6, 9, 1, ..., 9, 8, 7],\n",
       "         [4, 3, 0, ..., 4, 5, 8],\n",
       "         ...,\n",
       "         [3, 9, 8, ..., 7, 4, 7],\n",
       "         [8, 4, 6, ..., 8, 1, 0],\n",
       "         [7, 3, 6, ..., 9, 6, 5]],\n",
       "\n",
       "        [[5, 9, 6, ..., 8, 6, 3],\n",
       "         [2, 6, 1, ..., 8, 2, 5],\n",
       "         [8, 7, 0, ..., 8, 5, 8],\n",
       "         ...,\n",
       "         [2, 4, 8, ..., 6, 4, 5],\n",
       "         [7, 0, 1, ..., 2, 9, 8],\n",
       "         [7, 1, 4, ..., 6, 6, 7]],\n",
       "\n",
       "        [[5, 9, 2, ..., 8, 7, 0],\n",
       "         [1, 3, 4, ..., 7, 1, 8],\n",
       "         [5, 4, 0, ..., 1, 6, 1],\n",
       "         ...,\n",
       "         [5, 8, 6, ..., 4, 8, 0],\n",
       "         [8, 5, 2, ..., 8, 1, 6],\n",
       "         [7, 6, 8, ..., 0, 1, 8]]],\n",
       "\n",
       "\n",
       "       [[[5, 4, 2, ..., 1, 7, 9],\n",
       "         [0, 4, 0, ..., 3, 5, 4],\n",
       "         [1, 7, 3, ..., 6, 7, 7],\n",
       "         ...,\n",
       "         [3, 5, 4, ..., 6, 9, 8],\n",
       "         [4, 2, 0, ..., 2, 4, 0],\n",
       "         [1, 4, 6, ..., 5, 1, 6]],\n",
       "\n",
       "        [[5, 1, 1, ..., 3, 2, 0],\n",
       "         [7, 3, 5, ..., 9, 6, 9],\n",
       "         [2, 1, 0, ..., 0, 0, 6],\n",
       "         ...,\n",
       "         [7, 2, 5, ..., 8, 6, 4],\n",
       "         [6, 7, 2, ..., 1, 8, 8],\n",
       "         [0, 8, 7, ..., 8, 3, 1]],\n",
       "\n",
       "        [[8, 8, 7, ..., 2, 2, 5],\n",
       "         [5, 8, 3, ..., 5, 2, 0],\n",
       "         [4, 5, 1, ..., 4, 9, 3],\n",
       "         ...,\n",
       "         [1, 1, 6, ..., 0, 4, 1],\n",
       "         [2, 9, 3, ..., 1, 8, 6],\n",
       "         [8, 3, 3, ..., 7, 8, 9]]],\n",
       "\n",
       "\n",
       "       ...,\n",
       "\n",
       "\n",
       "       [[[2, 1, 1, ..., 2, 6, 0],\n",
       "         [3, 7, 5, ..., 0, 1, 6],\n",
       "         [6, 8, 4, ..., 6, 7, 6],\n",
       "         ...,\n",
       "         [2, 9, 1, ..., 3, 5, 4],\n",
       "         [8, 9, 1, ..., 2, 2, 8],\n",
       "         [9, 0, 1, ..., 4, 3, 2]],\n",
       "\n",
       "        [[4, 8, 4, ..., 3, 2, 6],\n",
       "         [0, 6, 7, ..., 8, 1, 4],\n",
       "         [0, 7, 0, ..., 0, 5, 2],\n",
       "         ...,\n",
       "         [1, 2, 0, ..., 3, 8, 1],\n",
       "         [8, 7, 8, ..., 9, 8, 5],\n",
       "         [9, 2, 9, ..., 7, 6, 1]],\n",
       "\n",
       "        [[5, 2, 2, ..., 5, 7, 0],\n",
       "         [2, 6, 5, ..., 0, 2, 4],\n",
       "         [0, 1, 7, ..., 4, 5, 5],\n",
       "         ...,\n",
       "         [3, 3, 5, ..., 5, 8, 3],\n",
       "         [8, 5, 2, ..., 1, 7, 9],\n",
       "         [8, 7, 1, ..., 5, 4, 1]]],\n",
       "\n",
       "\n",
       "       [[[9, 4, 3, ..., 9, 8, 6],\n",
       "         [3, 5, 6, ..., 5, 6, 4],\n",
       "         [9, 8, 9, ..., 9, 3, 8],\n",
       "         ...,\n",
       "         [7, 3, 6, ..., 7, 9, 3],\n",
       "         [6, 3, 9, ..., 4, 1, 3],\n",
       "         [2, 0, 6, ..., 9, 1, 3]],\n",
       "\n",
       "        [[2, 2, 8, ..., 1, 0, 5],\n",
       "         [8, 2, 7, ..., 0, 1, 1],\n",
       "         [6, 5, 7, ..., 7, 4, 6],\n",
       "         ...,\n",
       "         [3, 9, 4, ..., 2, 4, 4],\n",
       "         [1, 5, 6, ..., 7, 9, 3],\n",
       "         [0, 8, 3, ..., 1, 3, 9]],\n",
       "\n",
       "        [[6, 8, 6, ..., 5, 6, 1],\n",
       "         [3, 9, 5, ..., 6, 7, 8],\n",
       "         [9, 5, 4, ..., 5, 3, 1],\n",
       "         ...,\n",
       "         [0, 9, 4, ..., 1, 7, 2],\n",
       "         [0, 8, 8, ..., 6, 6, 0],\n",
       "         [6, 4, 9, ..., 9, 0, 0]]],\n",
       "\n",
       "\n",
       "       [[[6, 2, 0, ..., 6, 5, 0],\n",
       "         [3, 5, 7, ..., 7, 8, 3],\n",
       "         [4, 1, 8, ..., 5, 3, 8],\n",
       "         ...,\n",
       "         [0, 6, 0, ..., 8, 6, 3],\n",
       "         [6, 5, 5, ..., 3, 5, 5],\n",
       "         [7, 9, 0, ..., 1, 9, 8]],\n",
       "\n",
       "        [[1, 0, 1, ..., 0, 7, 4],\n",
       "         [2, 4, 9, ..., 9, 0, 4],\n",
       "         [2, 4, 3, ..., 8, 1, 4],\n",
       "         ...,\n",
       "         [0, 8, 9, ..., 2, 0, 5],\n",
       "         [3, 6, 6, ..., 5, 8, 3],\n",
       "         [2, 6, 4, ..., 7, 7, 1]],\n",
       "\n",
       "        [[4, 7, 5, ..., 3, 5, 4],\n",
       "         [2, 4, 5, ..., 3, 5, 5],\n",
       "         [8, 9, 0, ..., 0, 9, 8],\n",
       "         ...,\n",
       "         [0, 1, 4, ..., 1, 1, 9],\n",
       "         [7, 1, 2, ..., 0, 4, 0],\n",
       "         [6, 8, 8, ..., 6, 3, 4]]]], shape=(16, 3, 500, 500))"
      ]
     },
     "execution_count": 71,
     "metadata": {},
     "output_type": "execute_result"
    }
   ],
   "source": [
    "c"
   ]
  },
  {
   "cell_type": "code",
   "execution_count": 72,
   "id": "a578b313-1395-40a0-a76c-768f0bf4135a",
   "metadata": {},
   "outputs": [
    {
     "data": {
      "text/plain": [
       "array([[[[2, 9, 3, ..., 7, 7, 1],\n",
       "         [4, 8, 1, ..., 1, 1, 1],\n",
       "         [5, 6, 5, ..., 5, 4, 7],\n",
       "         ...,\n",
       "         [3, 9, 2, ..., 5, 9, 2],\n",
       "         [4, 8, 8, ..., 7, 7, 3],\n",
       "         [7, 6, 8, ..., 0, 8, 6]],\n",
       "\n",
       "        [[5, 0, 7, ..., 4, 1, 5],\n",
       "         [5, 2, 6, ..., 3, 5, 0],\n",
       "         [5, 0, 6, ..., 8, 9, 9],\n",
       "         ...,\n",
       "         [2, 5, 8, ..., 3, 1, 5],\n",
       "         [3, 9, 9, ..., 1, 1, 2],\n",
       "         [8, 9, 9, ..., 2, 7, 5]],\n",
       "\n",
       "        [[9, 6, 7, ..., 5, 8, 7],\n",
       "         [8, 5, 2, ..., 2, 1, 7],\n",
       "         [0, 6, 6, ..., 4, 2, 2],\n",
       "         ...,\n",
       "         [3, 3, 4, ..., 6, 7, 7],\n",
       "         [8, 7, 9, ..., 1, 1, 7],\n",
       "         [5, 4, 6, ..., 8, 3, 6]]],\n",
       "\n",
       "\n",
       "       [[[5, 4, 2, ..., 8, 4, 5],\n",
       "         [0, 4, 0, ..., 5, 7, 7],\n",
       "         [1, 7, 3, ..., 5, 8, 3],\n",
       "         ...,\n",
       "         [6, 6, 8, ..., 3, 3, 9],\n",
       "         [2, 6, 6, ..., 5, 6, 9],\n",
       "         [5, 2, 7, ..., 5, 5, 9]],\n",
       "\n",
       "        [[5, 1, 1, ..., 2, 9, 3],\n",
       "         [7, 3, 5, ..., 2, 8, 9],\n",
       "         [2, 1, 0, ..., 0, 4, 3],\n",
       "         ...,\n",
       "         [1, 6, 3, ..., 1, 7, 7],\n",
       "         [1, 9, 0, ..., 3, 4, 8],\n",
       "         [6, 1, 8, ..., 5, 8, 4]],\n",
       "\n",
       "        [[8, 8, 7, ..., 1, 6, 3],\n",
       "         [5, 8, 3, ..., 3, 6, 8],\n",
       "         [4, 5, 1, ..., 2, 5, 7],\n",
       "         ...,\n",
       "         [1, 4, 6, ..., 4, 2, 8],\n",
       "         [5, 9, 4, ..., 5, 5, 1],\n",
       "         [3, 4, 7, ..., 3, 3, 5]]],\n",
       "\n",
       "\n",
       "       [[[8, 3, 7, ..., 4, 9, 2],\n",
       "         [9, 2, 7, ..., 1, 9, 7],\n",
       "         [2, 5, 6, ..., 4, 3, 9],\n",
       "         ...,\n",
       "         [8, 4, 6, ..., 8, 5, 9],\n",
       "         [8, 9, 2, ..., 2, 1, 1],\n",
       "         [3, 9, 1, ..., 2, 9, 7]],\n",
       "\n",
       "        [[7, 4, 6, ..., 1, 8, 3],\n",
       "         [2, 8, 3, ..., 5, 4, 4],\n",
       "         [8, 9, 6, ..., 9, 8, 5],\n",
       "         ...,\n",
       "         [4, 5, 7, ..., 0, 1, 3],\n",
       "         [3, 7, 3, ..., 0, 9, 7],\n",
       "         [5, 9, 3, ..., 5, 9, 7]],\n",
       "\n",
       "        [[2, 7, 4, ..., 4, 4, 9],\n",
       "         [6, 0, 2, ..., 2, 5, 5],\n",
       "         [2, 2, 3, ..., 3, 7, 8],\n",
       "         ...,\n",
       "         [7, 5, 8, ..., 2, 6, 4],\n",
       "         [8, 2, 3, ..., 7, 1, 3],\n",
       "         [8, 7, 3, ..., 3, 9, 9]]],\n",
       "\n",
       "\n",
       "       ...,\n",
       "\n",
       "\n",
       "       [[[3, 4, 6, ..., 2, 5, 6],\n",
       "         [7, 0, 9, ..., 7, 6, 4],\n",
       "         [2, 2, 3, ..., 8, 9, 3],\n",
       "         ...,\n",
       "         [0, 5, 1, ..., 2, 6, 6],\n",
       "         [3, 5, 9, ..., 1, 3, 4],\n",
       "         [2, 5, 8, ..., 5, 7, 8]],\n",
       "\n",
       "        [[0, 6, 6, ..., 5, 7, 7],\n",
       "         [8, 8, 0, ..., 1, 9, 3],\n",
       "         [9, 1, 6, ..., 5, 2, 1],\n",
       "         ...,\n",
       "         [1, 7, 4, ..., 1, 9, 3],\n",
       "         [2, 9, 7, ..., 6, 2, 2],\n",
       "         [0, 8, 1, ..., 3, 1, 9]],\n",
       "\n",
       "        [[1, 0, 2, ..., 1, 5, 2],\n",
       "         [1, 4, 6, ..., 7, 3, 9],\n",
       "         [4, 6, 7, ..., 5, 3, 4],\n",
       "         ...,\n",
       "         [6, 7, 8, ..., 3, 6, 6],\n",
       "         [0, 3, 6, ..., 7, 8, 8],\n",
       "         [7, 8, 6, ..., 2, 6, 5]]],\n",
       "\n",
       "\n",
       "       [[[8, 9, 8, ..., 3, 1, 5],\n",
       "         [7, 4, 3, ..., 0, 0, 2],\n",
       "         [7, 5, 5, ..., 8, 2, 1],\n",
       "         ...,\n",
       "         [5, 2, 2, ..., 7, 1, 6],\n",
       "         [6, 4, 7, ..., 9, 9, 2],\n",
       "         [2, 2, 5, ..., 5, 2, 6]],\n",
       "\n",
       "        [[7, 2, 5, ..., 1, 3, 5],\n",
       "         [8, 8, 0, ..., 4, 2, 1],\n",
       "         [6, 7, 0, ..., 9, 8, 4],\n",
       "         ...,\n",
       "         [8, 6, 9, ..., 2, 5, 3],\n",
       "         [0, 1, 8, ..., 4, 3, 8],\n",
       "         [9, 2, 2, ..., 9, 6, 6]],\n",
       "\n",
       "        [[8, 7, 9, ..., 1, 3, 4],\n",
       "         [7, 0, 7, ..., 9, 1, 2],\n",
       "         [0, 6, 6, ..., 5, 8, 0],\n",
       "         ...,\n",
       "         [5, 8, 9, ..., 5, 7, 2],\n",
       "         [3, 6, 4, ..., 6, 4, 5],\n",
       "         [7, 9, 5, ..., 2, 0, 6]]],\n",
       "\n",
       "\n",
       "       [[[9, 4, 3, ..., 2, 7, 3],\n",
       "         [3, 5, 6, ..., 2, 0, 5],\n",
       "         [9, 8, 9, ..., 4, 8, 8],\n",
       "         ...,\n",
       "         [6, 7, 6, ..., 4, 1, 8],\n",
       "         [2, 5, 8, ..., 5, 1, 6],\n",
       "         [7, 0, 4, ..., 0, 5, 5]],\n",
       "\n",
       "        [[2, 2, 8, ..., 0, 9, 7],\n",
       "         [8, 2, 7, ..., 4, 8, 6],\n",
       "         [6, 5, 7, ..., 3, 3, 6],\n",
       "         ...,\n",
       "         [4, 4, 4, ..., 4, 4, 6],\n",
       "         [0, 9, 4, ..., 3, 0, 1],\n",
       "         [4, 0, 9, ..., 9, 7, 1]],\n",
       "\n",
       "        [[6, 8, 6, ..., 7, 7, 7],\n",
       "         [3, 9, 5, ..., 3, 1, 6],\n",
       "         [9, 5, 4, ..., 6, 6, 3],\n",
       "         ...,\n",
       "         [3, 4, 1, ..., 8, 3, 4],\n",
       "         [9, 3, 3, ..., 7, 3, 1],\n",
       "         [9, 3, 7, ..., 9, 5, 3]]]], shape=(8, 3, 10, 10))"
      ]
     },
     "execution_count": 72,
     "metadata": {},
     "output_type": "execute_result"
    }
   ],
   "source": [
    "c[::2,::,0:10,0:10]"
   ]
  },
  {
   "cell_type": "code",
   "execution_count": null,
   "id": "77da2696-742e-48e3-b310-b2183d2b4e4a",
   "metadata": {},
   "outputs": [],
   "source": []
  },
  {
   "cell_type": "code",
   "execution_count": null,
   "id": "1d9beb9e-4f12-4e44-9eac-44d6a243bc82",
   "metadata": {},
   "outputs": [],
   "source": []
  },
  {
   "cell_type": "markdown",
   "id": "c09a3845-904f-413c-95f3-9e277af5b4be",
   "metadata": {},
   "source": [
    "### Boolean or Mask Indexing:\n",
    "\n",
    "Boolean or mask indexing is a powerful feature in NumPy that allows you to use boolean arrays (or masks) to select elements from another array. The basic idea behind boolean indexing is to create a boolean array with the same shape as the array you want to select from, where each element of the boolean array corresponds to whether or not you want to select the corresponding element from the other array."
   ]
  },
  {
   "cell_type": "code",
   "execution_count": 99,
   "id": "5a9516a4-af39-4cb1-9b54-11bb5ba1b9a0",
   "metadata": {},
   "outputs": [],
   "source": [
    "a = np.random.randint(1,7,(5,5))"
   ]
  },
  {
   "cell_type": "code",
   "execution_count": 100,
   "id": "b22b223b-6359-4d4f-97f2-f451b1f8ef21",
   "metadata": {},
   "outputs": [
    {
     "data": {
      "text/plain": [
       "array([[4, 3, 6, 1, 2],\n",
       "       [6, 2, 2, 4, 2],\n",
       "       [4, 2, 3, 2, 4],\n",
       "       [2, 2, 2, 4, 1],\n",
       "       [6, 3, 1, 2, 5]])"
      ]
     },
     "execution_count": 100,
     "metadata": {},
     "output_type": "execute_result"
    }
   ],
   "source": [
    "a"
   ]
  },
  {
   "cell_type": "code",
   "execution_count": 101,
   "id": "61303859-081f-427a-99cd-8e40e7cebf1b",
   "metadata": {},
   "outputs": [
    {
     "data": {
      "text/plain": [
       "array([[ True, False,  True, False, False],\n",
       "       [ True, False, False,  True, False],\n",
       "       [ True, False, False, False,  True],\n",
       "       [False, False, False,  True, False],\n",
       "       [ True, False, False, False,  True]])"
      ]
     },
     "execution_count": 101,
     "metadata": {},
     "output_type": "execute_result"
    }
   ],
   "source": [
    "mask = a >= 4\n",
    "mask"
   ]
  },
  {
   "cell_type": "code",
   "execution_count": 102,
   "id": "b35ac4fc-edd0-44ac-a861-75271523a7d5",
   "metadata": {},
   "outputs": [
    {
     "data": {
      "text/plain": [
       "array([4, 6, 6, 4, 4, 4, 4, 6, 5])"
      ]
     },
     "execution_count": 102,
     "metadata": {},
     "output_type": "execute_result"
    }
   ],
   "source": [
    "a[mask]"
   ]
  },
  {
   "cell_type": "code",
   "execution_count": null,
   "id": "5f2e7062-4c64-43fe-857b-a062adb6f133",
   "metadata": {},
   "outputs": [],
   "source": []
  },
  {
   "cell_type": "code",
   "execution_count": 103,
   "id": "484bc598-dab9-4a7e-9ed1-eb6e8b1ea8d1",
   "metadata": {},
   "outputs": [
    {
     "data": {
      "text/plain": [
       "array([[4, 3, 6, 1, 2],\n",
       "       [6, 2, 2, 4, 2],\n",
       "       [4, 2, 3, 2, 4],\n",
       "       [2, 2, 2, 4, 1],\n",
       "       [6, 3, 1, 2, 5]])"
      ]
     },
     "execution_count": 103,
     "metadata": {},
     "output_type": "execute_result"
    }
   ],
   "source": [
    "a"
   ]
  },
  {
   "cell_type": "code",
   "execution_count": 104,
   "id": "3d264345-df2b-4ec5-9273-2663b2017746",
   "metadata": {},
   "outputs": [],
   "source": [
    "mask = [True, False, False, True, True]"
   ]
  },
  {
   "cell_type": "code",
   "execution_count": 108,
   "id": "58ae169d-22ab-42c4-af47-c6dba7d3f62c",
   "metadata": {},
   "outputs": [
    {
     "data": {
      "text/plain": [
       "array([[4, 3, 6, 1, 2],\n",
       "       [2, 2, 2, 4, 1],\n",
       "       [6, 3, 1, 2, 5]])"
      ]
     },
     "execution_count": 108,
     "metadata": {},
     "output_type": "execute_result"
    }
   ],
   "source": [
    "a[mask]"
   ]
  },
  {
   "cell_type": "code",
   "execution_count": null,
   "id": "6e32a668-0a55-48e1-8398-3c4f8c47440d",
   "metadata": {},
   "outputs": [],
   "source": []
  }
 ],
 "metadata": {
  "kernelspec": {
   "display_name": "Python 3 (ipykernel)",
   "language": "python",
   "name": "python3"
  },
  "language_info": {
   "codemirror_mode": {
    "name": "ipython",
    "version": 3
   },
   "file_extension": ".py",
   "mimetype": "text/x-python",
   "name": "python",
   "nbconvert_exporter": "python",
   "pygments_lexer": "ipython3",
   "version": "3.10.12"
  }
 },
 "nbformat": 4,
 "nbformat_minor": 5
}
