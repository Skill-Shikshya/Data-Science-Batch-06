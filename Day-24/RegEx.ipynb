{
 "cells": [
  {
   "cell_type": "markdown",
   "id": "41687c86-5a04-427f-b72f-a4635069cc3d",
   "metadata": {},
   "source": [
    "# Regular Expression in Python\n",
    "\n",
    "Regular expressions (also known as regex or regexp) are a powerful tool for searching and manipulating text. They allow you to define a pattern or set of rules that describe a particular string of characters, and then search for or manipulate any text that matches that pattern.\n",
    "\n",
    "Regular expressions are commonly used in programming, particularly for tasks like data validation, searching and replacing text, and parsing strings. They are also useful in text editors, command-line tools, and other applications that involve working with text.\n",
    "\n",
    "Some of the benefits of using regular expressions include:\n",
    "\n",
    "- **Flexibility:** Regular expressions are incredibly flexible and can match a wide range of patterns, from simple strings to complex sequences of characters.\n",
    "- **Efficiency:** Regular expressions are often faster than alternative methods for text processing, particularly for large amounts of data.\n",
    "- **Accuracy:** Regular expressions are very precise and can be used to match specific patterns, ensuring that you only work with the data that you need.\n",
    "- **Standardization:** Regular expressions are a widely accepted standard for working with text, making it easier to share and collaborate on code that involves text processing.\n",
    "\n",
    "```\n",
    "https://regexr.com/\n",
    "```"
   ]
  },
  {
   "cell_type": "markdown",
   "id": "ee0caf52-4c42-419f-a202-e6a9623e8ee6",
   "metadata": {},
   "source": [
    "## Python RegEx Methods\n",
    "\n",
    "Python provides a powerful module called `re` for working with regular expressions. This module provides various methods for working with regular expressions in Python, including:\n",
    "\n",
    "### 1. re.search(pattern, string, flags=0) \n",
    "\n",
    "The `re.search()` function is used to search for a pattern in a string and return the first occurrence of the pattern. It returns `None` if the match is not found. This is equivalent to `in` operator used with python string. Since the result is either some value or None, depending on whether a match was found or not, the result can be used with conditional expressions as well.\n",
    "\n",
    "- `pattern`: The regular expression pattern to search for\n",
    "- `string`: The string to search in\n",
    "- `flags (optional)`: A set of flags that modify the behavior of the search\n",
    "\n",
    "It's a good idea to use raw strings (represented as `r'...'`) to define regular expression patterns. This will make more sense later on.\n",
    "\n",
    "The match object contains information about the match. Some of the useful methods and attributes of the match object are:\n",
    "\n",
    "- `group()`: Returns the matched string\n",
    "- `start()`: Returns the starting index of the match\n",
    "- `end()`: Returns the ending index of the match\n",
    "- `span()`: Returns a tuple containing the starting and ending indices of the match"
   ]
  },
  {
   "cell_type": "code",
   "execution_count": 1,
   "id": "cdcd349c-d5a3-4805-937b-30a20cfdbdab",
   "metadata": {},
   "outputs": [],
   "source": [
    "import re"
   ]
  },
  {
   "cell_type": "code",
   "execution_count": 2,
   "id": "cc5ed51c-0e1b-4979-847e-920b09b826c1",
   "metadata": {},
   "outputs": [],
   "source": [
    "string = \"The quice brown fox jumps over the lazy dog.\"\n",
    "pattern = r\"he\"\n",
    "\n",
    "match = re.search(pattern, string)"
   ]
  },
  {
   "cell_type": "code",
   "execution_count": 9,
   "id": "9d652fa9-b469-4f20-8ccb-f6deb076b8c4",
   "metadata": {},
   "outputs": [
    {
     "name": "stdout",
     "output_type": "stream",
     "text": [
      "Match Object: <re.Match object; span=(1, 3), match='he'>\n",
      "Match Group: he\n",
      "Match Start: 1\n",
      "Match End: 3\n",
      "Match Span: (1, 3)\n"
     ]
    }
   ],
   "source": [
    "# Using re.search() with conditional expressions\n",
    "if match:\n",
    "    print(\"Match Object:\", match)\n",
    "    print(\"Match Group:\", match.group())\n",
    "    print(\"Match Start:\", match.start())\n",
    "    print(\"Match End:\", match.end())\n",
    "    print(\"Match Span:\", match.span())\n",
    "else:\n",
    "    print(\"No match found.\")"
   ]
  },
  {
   "cell_type": "markdown",
   "id": "a4428b88-1987-4cd0-b9eb-f5de149af549",
   "metadata": {},
   "source": [
    "In the expression `<re.Match object; span=(1, 3), match='he'>` above, `re.Match` is the data type of the object, `match='he'` is the string that has been matched and `span=(1, 3)` is the index of start and end of the matched pattern `pattern` within the entire text `string`, where indexing starts from `0` as in regular python.\n"
   ]
  },
  {
   "cell_type": "markdown",
   "id": "915f1030-e62c-4095-9859-9bcfd89a3166",
   "metadata": {},
   "source": [
    "### 2. re.findall(pattern, string, flags=0)\n",
    "\n",
    "The `re.findall()` function is used to find all occurrences of a regular expression pattern in a string. All the parameters are same as that used with `re.search()`. The result of `re.findall()` is a list of all the matches found. The result in the example below is quite simple, we will discuss the pattern design later to draw more insights on the upcoming topic. "
   ]
  },
  {
   "cell_type": "code",
   "execution_count": 18,
   "id": "1515f2f1-333f-4be9-b410-2ba9c09d32b6",
   "metadata": {},
   "outputs": [],
   "source": [
    "string = \"The quice brown fox jumps over the lazy dog.\"\n",
    "pattern = r\"[A-Z]he\"\n",
    "\n",
    "match = re.findall(pattern, string)"
   ]
  },
  {
   "cell_type": "code",
   "execution_count": 19,
   "id": "970ada05-a8e7-4a91-90df-1d69a8cf13b2",
   "metadata": {},
   "outputs": [
    {
     "name": "stdout",
     "output_type": "stream",
     "text": [
      "['The']\n"
     ]
    }
   ],
   "source": [
    "print(match)"
   ]
  },
  {
   "cell_type": "markdown",
   "id": "50188f4e-1028-4882-bd24-f3246e7aa811",
   "metadata": {},
   "source": [
    "### 3. re.match(pattern, string, flags=0)\n",
    "\n",
    "`re.match()` is a method that searches for a pattern in the beginning of a string. It returns a match object if it finds a match, and None if it does not. All the parameters are same as that used with `re.search()` and `re.findall()`. Similar to `re.search()` object, `re.match()` object also has methods like `group()`, `start()`, `end()`, `span()`."
   ]
  },
  {
   "cell_type": "code",
   "execution_count": 20,
   "id": "8951d09d-6f9b-4175-b128-4bb304473daf",
   "metadata": {},
   "outputs": [],
   "source": [
    "string = \"The quice brown fox jumps over the lazy dog.\"\n",
    "pattern = r\"[A-Z]he\"\n",
    "\n",
    "match = re.match(pattern, string)"
   ]
  },
  {
   "cell_type": "code",
   "execution_count": 21,
   "id": "7e916a4e-8be3-4c06-9ea5-91d9083f90e5",
   "metadata": {},
   "outputs": [
    {
     "name": "stdout",
     "output_type": "stream",
     "text": [
      "Match Object: <re.Match object; span=(0, 3), match='The'>\n",
      "Match Group: The\n",
      "Match Start: 0\n",
      "Match End: 3\n",
      "Match Span: (0, 3)\n"
     ]
    }
   ],
   "source": [
    "# Using re.match() with conditional expressions\n",
    "if match:\n",
    "    print(\"Match Object:\", match)\n",
    "    print(\"Match Group:\", match.group())\n",
    "    print(\"Match Start:\", match.start())\n",
    "    print(\"Match End:\", match.end())\n",
    "    print(\"Match Span:\", match.span())\n",
    "else:\n",
    "    print(\"No match found.\")"
   ]
  },
  {
   "cell_type": "code",
   "execution_count": null,
   "id": "8ddadf4c-a5d4-41c6-af79-b69457492678",
   "metadata": {},
   "outputs": [],
   "source": []
  },
  {
   "cell_type": "markdown",
   "id": "2e918930-aff4-4251-a0a4-98419834a50c",
   "metadata": {},
   "source": [
    "### 4. re.sub(pattern, repl, string, count=0, flags=0)\n",
    "\n",
    "`re.sub()` is a method that is used to replace occurrences of a pattern in a string with a replacement string. It returns a new string with the replacements made. Here are the parameters used:\n",
    "\n",
    "- `pattern`: The regular expression pattern to search for\n",
    "- `repl`: replacement string that you want to use in place of matched pattern\n",
    "- `string`: The string to search in\n",
    "- `count`: Maximum number of replacements to make\n",
    "- `flags (optional)`: A set of flags that modify the behavior of the search"
   ]
  },
  {
   "cell_type": "code",
   "execution_count": 24,
   "id": "2c897e7b-00e1-4cfe-b1f8-12711a58af0e",
   "metadata": {},
   "outputs": [],
   "source": [
    "string = \"The quice brown fox jumps over the lazy dog.\"\n",
    "pattern = r\"[a-z]he\"\n",
    "repl = \"The\"\n",
    "\n",
    "match = re.sub(pattern, repl, string, count=1)\n"
   ]
  },
  {
   "cell_type": "code",
   "execution_count": 25,
   "id": "7df18194-b415-4aaa-88dc-1482487700ad",
   "metadata": {},
   "outputs": [
    {
     "data": {
      "text/plain": [
       "'The quice brown fox jumps over The lazy dog.'"
      ]
     },
     "execution_count": 25,
     "metadata": {},
     "output_type": "execute_result"
    }
   ],
   "source": [
    "match"
   ]
  },
  {
   "cell_type": "code",
   "execution_count": null,
   "id": "31681739-1437-447b-b23a-f88557337969",
   "metadata": {},
   "outputs": [],
   "source": []
  },
  {
   "cell_type": "markdown",
   "id": "87b9cc90-b752-4c44-b424-63da9733c410",
   "metadata": {},
   "source": [
    "### 5. re.split(pattern, string, maxsplit=0, flags=0)\n",
    "\n",
    "`re.split()` is a method that is used to split a string into a list of substrings based on a regular expression pattern. It returns a list of the substrings. It is similar to Python's `split()` method use with Python `str` objects. Let's see how each parameter works:\n",
    "\n",
    "- `pattern`: The regular expression pattern to search for\n",
    "- `string`: The string to search in\n",
    "- `maxsplit`: Maximum number of splits to make\n",
    "- `flags (optional)`: A set of flags that modify the behavior of the search"
   ]
  },
  {
   "cell_type": "code",
   "execution_count": 36,
   "id": "525ab47d-fd0c-418d-a11e-20bb3b34805d",
   "metadata": {},
   "outputs": [],
   "source": [
    "string = \"The quice brown fox 1 <div> over the 2 lazy dog.\"\n",
    "pattern = r\"<[a-z]\\w+>\"\n",
    "\n",
    "segements = re.split(pattern, string)"
   ]
  },
  {
   "cell_type": "code",
   "execution_count": 37,
   "id": "b12c0c09-dd6f-4138-8611-4dea7d86666e",
   "metadata": {},
   "outputs": [
    {
     "data": {
      "text/plain": [
       "['The quice brown fox 1 ', ' over the 2 lazy dog.']"
      ]
     },
     "execution_count": 37,
     "metadata": {},
     "output_type": "execute_result"
    }
   ],
   "source": [
    "segements"
   ]
  },
  {
   "cell_type": "code",
   "execution_count": null,
   "id": "f6982983-591a-4c0d-a2a1-76c3b4a6d887",
   "metadata": {},
   "outputs": [],
   "source": []
  }
 ],
 "metadata": {
  "kernelspec": {
   "display_name": "Python 3 (ipykernel)",
   "language": "python",
   "name": "python3"
  },
  "language_info": {
   "codemirror_mode": {
    "name": "ipython",
    "version": 3
   },
   "file_extension": ".py",
   "mimetype": "text/x-python",
   "name": "python",
   "nbconvert_exporter": "python",
   "pygments_lexer": "ipython3",
   "version": "3.10.12"
  }
 },
 "nbformat": 4,
 "nbformat_minor": 5
}
