{
 "cells": [
  {
   "cell_type": "markdown",
   "id": "589e8857-bb42-4584-94c9-05155d0aa149",
   "metadata": {},
   "source": [
    "# Python Generators\n",
    "\n",
    "A generator in Python is a type of iterator that generates values on-the-fly as they are requested. This means that generators are a more memory-efficient way of generating large sequences of values, as they only generate the values as they are needed, rather than generating them all at once and storing them in memory.\n",
    "\n",
    "Here's a step-by-step tutorial on how to create and use generators in Python:"
   ]
  },
  {
   "cell_type": "markdown",
   "id": "07f0f264-1d7a-4d08-a54a-cbb348720041",
   "metadata": {},
   "source": [
    "### Step 1: Define a generator function using the `yield` keyword\n",
    "\n",
    "A generator function is a special type of function that uses the `yield` keyword to generate values. The `yield` keyword suspends the function's execution and returns a value to the caller, but it also remembers the function's state so that it can resume execution where it left off the next time it is called.\n",
    "\n",
    "For example, here's a simple generator function that generates a sequence of numbers:"
   ]
  },
  {
   "cell_type": "code",
   "execution_count": 1,
   "id": "838912fb-fb84-47b9-9b3a-d92f517d0a7c",
   "metadata": {},
   "outputs": [],
   "source": [
    "def nuber_generator(start, end):\n",
    "    for num in range(start, end+1):\n",
    "        yield num"
   ]
  },
  {
   "cell_type": "markdown",
   "id": "292e7272-0da9-41cd-9e7e-d0f830f75eac",
   "metadata": {},
   "source": [
    "In this example, the `number_generator()` function takes two arguments, `start` and `end`, and generates a sequence of numbers from start to end. The `yield` keyword is used to return each number in the sequence, and to remember the function's state so that it can resume execution where it left off the next time it is called.\n",
    "\n",
    "### Step 2: Create a generator object using the generator function\n",
    "\n",
    "To create a generator object, we simply call the generator function. This returns a generator object, which we can use to generate the values on-the-fly."
   ]
  },
  {
   "cell_type": "code",
   "execution_count": 20,
   "id": "d8165a0b-e325-415d-ba8f-9864551f0480",
   "metadata": {},
   "outputs": [],
   "source": [
    "gen = nuber_generator(10,23)"
   ]
  },
  {
   "cell_type": "code",
   "execution_count": 21,
   "id": "fbad3d2b-2774-4ec8-bfcd-31a9794a1606",
   "metadata": {},
   "outputs": [
    {
     "data": {
      "text/plain": [
       "<generator object nuber_generator at 0x753ba8d6f1b0>"
      ]
     },
     "execution_count": 21,
     "metadata": {},
     "output_type": "execute_result"
    }
   ],
   "source": [
    "gen"
   ]
  },
  {
   "cell_type": "markdown",
   "id": "f95228dd-f06e-4512-a543-8f64f763112e",
   "metadata": {},
   "source": [
    "In this example, we create a generator object called `gen` by calling the `number_generator()` function with `start=10` and `end=23`.\n",
    "\n",
    "### Step 3: Use the generator object to generate the values on-the-fly\n",
    "\n",
    "We can use the `next()` function to generate the next value in the sequence on-the-fly. Each time we call `next()` on the generator object, the generator function resumes execution where it left off and generates the next value in the sequence."
   ]
  },
  {
   "cell_type": "code",
   "execution_count": 22,
   "id": "3a2d8674-58e0-4be3-823e-80c150eeaac6",
   "metadata": {},
   "outputs": [
    {
     "name": "stdout",
     "output_type": "stream",
     "text": [
      "10\n"
     ]
    }
   ],
   "source": [
    "print(next(gen))"
   ]
  },
  {
   "cell_type": "markdown",
   "id": "b804f985-2d6c-4421-ba9c-e301cfc7261e",
   "metadata": {},
   "source": [
    "In this example, we use the `next()` function to generate each value in the sequence on-the-fly, and print it to the console.\n",
    "\n",
    "### Step 4: Use a for loop to generate all the values in the sequence\n",
    "\n",
    "We can use a `for` loop to generate all the values in the sequence without having to use the `next()` function explicitly."
   ]
  },
  {
   "cell_type": "code",
   "execution_count": 25,
   "id": "b7aa4e55-e30e-4b6f-a137-2ed4bc18dde2",
   "metadata": {},
   "outputs": [
    {
     "name": "stdout",
     "output_type": "stream",
     "text": [
      "1\n",
      "2\n",
      "3\n",
      "4\n",
      "5\n",
      "6\n"
     ]
    }
   ],
   "source": [
    "my_gen = nuber_generator(1,6)\n",
    "\n",
    "for num in my_gen:\n",
    "    print(num)"
   ]
  },
  {
   "cell_type": "code",
   "execution_count": null,
   "id": "abb9ec55-4e18-44c4-aafe-869c5ffa7dee",
   "metadata": {},
   "outputs": [],
   "source": []
  },
  {
   "cell_type": "markdown",
   "id": "01b423be-dc0e-41a2-8878-c0842869a292",
   "metadata": {},
   "source": [
    "## Generator , Alternative"
   ]
  },
  {
   "cell_type": "code",
   "execution_count": 26,
   "id": "0324efe0-ca78-4380-8c87-fcc8cb9bceec",
   "metadata": {},
   "outputs": [],
   "source": [
    "gen = (i for i in range(1,5))"
   ]
  },
  {
   "cell_type": "code",
   "execution_count": 27,
   "id": "8f8e4687-0b2d-4db4-9696-e66c27b58881",
   "metadata": {},
   "outputs": [
    {
     "data": {
      "text/plain": [
       "<generator object <genexpr> at 0x753baa12c4a0>"
      ]
     },
     "execution_count": 27,
     "metadata": {},
     "output_type": "execute_result"
    }
   ],
   "source": [
    "gen"
   ]
  },
  {
   "cell_type": "code",
   "execution_count": null,
   "id": "e0ae9091-1022-47de-b22d-dac3a1e27ef7",
   "metadata": {},
   "outputs": [],
   "source": []
  },
  {
   "cell_type": "code",
   "execution_count": 52,
   "id": "f535e72f-b828-4d53-8554-46fa10ddffc0",
   "metadata": {},
   "outputs": [],
   "source": [
    "## Prepare a generator than generate prime numbers\n",
    "\n",
    "def is_prime(n):\n",
    "    if n <= 1:\n",
    "        return False\n",
    "    for i in range(2, int(n**0.5) + 1):\n",
    "        if n % i == 0:\n",
    "            return False\n",
    "    return True\n",
    "\n",
    "def prime_generator():\n",
    "    n = 2\n",
    "    while True:\n",
    "        if is_prime(n):\n",
    "            yield n\n",
    "            \n",
    "        n += 1"
   ]
  },
  {
   "cell_type": "code",
   "execution_count": 54,
   "id": "d6ab255b-d0fa-4e36-a744-3524449fec7b",
   "metadata": {},
   "outputs": [
    {
     "name": "stdout",
     "output_type": "stream",
     "text": [
      "2\n",
      "3\n",
      "5\n",
      "7\n",
      "11\n"
     ]
    }
   ],
   "source": [
    "prime_gen = prime_generator()\n",
    "\n",
    "for _ in range(5):\n",
    "    print(next(prime_gen))"
   ]
  },
  {
   "cell_type": "code",
   "execution_count": null,
   "id": "99be1fc6-3a8a-4ee7-a4f7-f3fdb68624f6",
   "metadata": {},
   "outputs": [],
   "source": []
  }
 ],
 "metadata": {
  "kernelspec": {
   "display_name": "Python 3 (ipykernel)",
   "language": "python",
   "name": "python3"
  },
  "language_info": {
   "codemirror_mode": {
    "name": "ipython",
    "version": 3
   },
   "file_extension": ".py",
   "mimetype": "text/x-python",
   "name": "python",
   "nbconvert_exporter": "python",
   "pygments_lexer": "ipython3",
   "version": "3.10.12"
  }
 },
 "nbformat": 4,
 "nbformat_minor": 5
}
