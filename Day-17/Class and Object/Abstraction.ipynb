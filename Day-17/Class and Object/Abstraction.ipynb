{
 "cells": [
  {
   "cell_type": "markdown",
   "id": "356655ab-f8db-438d-8579-03afdc64aa32",
   "metadata": {},
   "source": [
    "# Abstraction in Python\n",
    "\n",
    "Abstraction is the process of hiding complex implementation details and providing a simple interface for the users to interact with the system. In Python, abstraction can be achieved through the use of abstract classes and interfaces.\n",
    "\n",
    "An abstract class is a class that cannot be instantiated, but can be subclassed. It defines a set of abstract methods that must be implemented by its subclasses. These abstract methods define the interface of the class and are used to enforce a contract between the abstract class and its subclasses."
   ]
  },
  {
   "cell_type": "code",
   "execution_count": 15,
   "id": "4fe4bf30-068a-456d-8c87-ea4f318c2d10",
   "metadata": {},
   "outputs": [],
   "source": [
    "from abc import ABC, abstractmethod\n",
    "\n",
    "class Shape(ABC):\n",
    "\n",
    "    @abstractmethod\n",
    "    def area(self):\n",
    "        pass\n",
    "\n",
    "    @abstractmethod\n",
    "    def perimeter(self):\n",
    "        pass\n",
    "\n",
    "    def volume(self):\n",
    "        return \"Not Applicable for given shape\""
   ]
  },
  {
   "cell_type": "code",
   "execution_count": 16,
   "id": "10fd890f-c93d-409a-8858-c7bb6e105c40",
   "metadata": {},
   "outputs": [
    {
     "ename": "TypeError",
     "evalue": "Can't instantiate abstract class Shape with abstract methods area, perimeter",
     "output_type": "error",
     "traceback": [
      "\u001b[0;31m---------------------------------------------------------------------------\u001b[0m",
      "\u001b[0;31mTypeError\u001b[0m                                 Traceback (most recent call last)",
      "Cell \u001b[0;32mIn[16], line 1\u001b[0m\n\u001b[0;32m----> 1\u001b[0m shape \u001b[38;5;241m=\u001b[39m \u001b[43mShape\u001b[49m\u001b[43m(\u001b[49m\u001b[43m)\u001b[49m\n",
      "\u001b[0;31mTypeError\u001b[0m: Can't instantiate abstract class Shape with abstract methods area, perimeter"
     ]
    }
   ],
   "source": [
    "shape = Shape()"
   ]
  },
  {
   "cell_type": "markdown",
   "id": "46ae2fd8-9d6e-4b96-9345-be0ed5d53415",
   "metadata": {},
   "source": [
    "In this example, we define an abstract class called `Shape`. It has two abstract methods, `area()` and `perimeter()`, which are used to define the interface of the class. Any subclass of `Shape` must implement these methods."
   ]
  },
  {
   "cell_type": "code",
   "execution_count": 17,
   "id": "275c7d90-11a1-46a5-8632-63fe609c535d",
   "metadata": {},
   "outputs": [],
   "source": [
    "class Rectangle(Shape):\n",
    "    def __init__(self, width, length):\n",
    "        self.w = width\n",
    "        self.l = length\n",
    "\n",
    "    def area(self):\n",
    "        return self.w * self.l\n",
    "\n",
    "    def perimeter(self):\n",
    "        return 2 * (self.w + self.l)\n"
   ]
  },
  {
   "cell_type": "code",
   "execution_count": 18,
   "id": "3ee94c80-381a-43d2-b1bf-455bf638fd34",
   "metadata": {},
   "outputs": [],
   "source": [
    "rect = Rectangle(34,12)"
   ]
  },
  {
   "cell_type": "code",
   "execution_count": 19,
   "id": "99fe055c-73cd-4ddf-8f97-2326b2c0d823",
   "metadata": {},
   "outputs": [
    {
     "data": {
      "text/plain": [
       "408"
      ]
     },
     "execution_count": 19,
     "metadata": {},
     "output_type": "execute_result"
    }
   ],
   "source": [
    "rect.area()"
   ]
  },
  {
   "cell_type": "code",
   "execution_count": 20,
   "id": "c19124b9-0281-4b04-9dff-74c4c808e2cb",
   "metadata": {},
   "outputs": [
    {
     "data": {
      "text/plain": [
       "'Not Applicable for given shape'"
      ]
     },
     "execution_count": 20,
     "metadata": {},
     "output_type": "execute_result"
    }
   ],
   "source": [
    "rect.volume()"
   ]
  },
  {
   "cell_type": "code",
   "execution_count": null,
   "id": "988b01b9-2267-4b32-b2ba-deba73e43174",
   "metadata": {},
   "outputs": [],
   "source": []
  }
 ],
 "metadata": {
  "kernelspec": {
   "display_name": "Python 3 (ipykernel)",
   "language": "python",
   "name": "python3"
  },
  "language_info": {
   "codemirror_mode": {
    "name": "ipython",
    "version": 3
   },
   "file_extension": ".py",
   "mimetype": "text/x-python",
   "name": "python",
   "nbconvert_exporter": "python",
   "pygments_lexer": "ipython3",
   "version": "3.10.12"
  }
 },
 "nbformat": 4,
 "nbformat_minor": 5
}
