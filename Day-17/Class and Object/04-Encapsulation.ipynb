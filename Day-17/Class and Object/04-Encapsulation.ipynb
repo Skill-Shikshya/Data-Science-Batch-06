{
 "cells": [
  {
   "cell_type": "markdown",
   "id": "aef2e13b-49af-431f-b1ab-617b2d61d02b",
   "metadata": {},
   "source": [
    "# Encapsulation in Python\n",
    "\n",
    "Encapsulation refers to the practice of hiding the implementation details of a class from the outside world and exposing only the necessary interfaces for interacting with the class. This can be achieved through the use of `access modifiers` (such as private, protected, and public). Encapsulation helps to ensure data integrity, prevent unauthorized access and modification of data, and improve code maintainability.\n",
    "\n",
    "In object-oriented programming, `access modifiers` are used to define the scope or visibility of class members (attributes and methods) in a class. These access modifiers determine which members can be accessed and modified by the code outside the class. In Python, there is no strict implementation of access modifiers like in other object-oriented languages such as Java or C++. However, there are naming conventions that are used to indicate the scope of a class member."
   ]
  },
  {
   "cell_type": "markdown",
   "id": "c6f06b64-c641-4532-b3d5-e29d0888d020",
   "metadata": {},
   "source": [
    "**1. Private:** Private members are those that are intended to be used only within the class definition. In Python, private members are indicated by prefixing the attribute or method name with two underscores `(__)`.\n",
    "\n",
    "**2. Protected:** Protected members are those that can be accessed within the class definition and its subclasses. In Python, protected members are indicated by prefixing the attribute or method name with a single underscore `(_)`.\n",
    "\n",
    "**3. Public:** Public members are those that can be accessed by any code outside the class definition. In Python, public members do not have any special prefix or notation."
   ]
  },
  {
   "cell_type": "code",
   "execution_count": 35,
   "id": "e920d2e2-161d-43b2-91a8-9d1ac8bc6d18",
   "metadata": {},
   "outputs": [],
   "source": [
    "class Example:\n",
    "    def __init__(self):\n",
    "        self.public_var = 1\n",
    "        self.__private_var = 2\n",
    "        self._protected_var = 3\n",
    "\n",
    "    def public_method(self):\n",
    "        print(\"This is public\")\n",
    "        return self.__private_var\n",
    "\n",
    "    def __private_method(self):\n",
    "        print(\"This is private\")\n",
    "\n",
    "    def _protected_method(self):\n",
    "        print(\"This is protected\")\n"
   ]
  },
  {
   "cell_type": "code",
   "execution_count": 36,
   "id": "dadc9d45-fe1b-41a3-9d25-91de1ad097eb",
   "metadata": {},
   "outputs": [],
   "source": [
    "obj = Example()"
   ]
  },
  {
   "cell_type": "code",
   "execution_count": 37,
   "id": "b0933de8-ebc8-4a2b-bdd1-a9b65c34fef7",
   "metadata": {},
   "outputs": [
    {
     "data": {
      "text/plain": [
       "1"
      ]
     },
     "execution_count": 37,
     "metadata": {},
     "output_type": "execute_result"
    }
   ],
   "source": [
    "obj.public_var"
   ]
  },
  {
   "cell_type": "code",
   "execution_count": 38,
   "id": "53c6838f-86d1-44a1-94ec-98df07babad6",
   "metadata": {},
   "outputs": [
    {
     "ename": "AttributeError",
     "evalue": "'Example' object has no attribute '__private_var'",
     "output_type": "error",
     "traceback": [
      "\u001b[0;31m---------------------------------------------------------------------------\u001b[0m",
      "\u001b[0;31mAttributeError\u001b[0m                            Traceback (most recent call last)",
      "Cell \u001b[0;32mIn[38], line 1\u001b[0m\n\u001b[0;32m----> 1\u001b[0m \u001b[43mobj\u001b[49m\u001b[38;5;241;43m.\u001b[39;49m\u001b[43m__private_var\u001b[49m\n",
      "\u001b[0;31mAttributeError\u001b[0m: 'Example' object has no attribute '__private_var'"
     ]
    }
   ],
   "source": [
    "obj.__private_var"
   ]
  },
  {
   "cell_type": "code",
   "execution_count": 13,
   "id": "3cbed4e7-b622-4ced-8ea7-9afd059c75ab",
   "metadata": {},
   "outputs": [
    {
     "name": "stdout",
     "output_type": "stream",
     "text": [
      "This is public\n"
     ]
    }
   ],
   "source": [
    "obj.public_method()"
   ]
  },
  {
   "cell_type": "code",
   "execution_count": 14,
   "id": "522c95ff-8acf-498e-8d65-add4bc3948b4",
   "metadata": {},
   "outputs": [
    {
     "ename": "AttributeError",
     "evalue": "'Example' object has no attribute '__private_method'",
     "output_type": "error",
     "traceback": [
      "\u001b[0;31m---------------------------------------------------------------------------\u001b[0m",
      "\u001b[0;31mAttributeError\u001b[0m                            Traceback (most recent call last)",
      "Cell \u001b[0;32mIn[14], line 1\u001b[0m\n\u001b[0;32m----> 1\u001b[0m \u001b[43mobj\u001b[49m\u001b[38;5;241;43m.\u001b[39;49m\u001b[43m__private_method\u001b[49m()\n",
      "\u001b[0;31mAttributeError\u001b[0m: 'Example' object has no attribute '__private_method'"
     ]
    }
   ],
   "source": [
    "obj.__private_method()"
   ]
  },
  {
   "cell_type": "code",
   "execution_count": 16,
   "id": "83f63a54-afe4-498f-8857-b892271925d7",
   "metadata": {},
   "outputs": [],
   "source": [
    "# Your Solution Here\n",
    "# Base class\n",
    "class Vehicle:\n",
    "    def __init__(self, vehicle_id, brand, rental_price):\n",
    "        self.__vehicle_id = vehicle_id   \n",
    "        self.__brand = brand            \n",
    "        self.__rental_price = rental_price  \n",
    "\n",
    "    def calculate_rental_cost(self, days):\n",
    "        \"\"\"Calculate total rental cost.\"\"\"\n",
    "        return self.__rental_price * days  \n",
    "   \n",
    "    def get_vehicle_id(self):\n",
    "        return self.__vehicle_id\n",
    "\n",
    "    def get_brand(self):\n",
    "        return self.__brand\n",
    "\n",
    "    def get_rental_price(self):\n",
    "        return self.__rental_price\n",
    "\n",
    "class Car(Vehicle):\n",
    "    def __init__(self, vehicle_id, brand, rental_price, number_of_doors):\n",
    "        super().__init__(vehicle_id, brand, rental_price) \n",
    "        self.__number_of_doors = number_of_doors        \n",
    "\n",
    "    def display_details(self):\n",
    "        \"\"\"Display car-specific details.\"\"\"\n",
    "        base_details = super().display_details()\n",
    "        return f\"{base_details}, Number of Doors: {self.__number_of_doors}\"\n",
    "\n",
    "\n",
    "car = Car(vehicle_id=\"C001\", brand=\"Toyota\", rental_price=50, number_of_doors=4)"
   ]
  },
  {
   "cell_type": "code",
   "execution_count": 17,
   "id": "cba73835-eea5-46f7-a8f0-4eb04ccf1bda",
   "metadata": {},
   "outputs": [],
   "source": [
    "veh1 = Vehicle(\"g1\",\"BMW\",100)"
   ]
  },
  {
   "cell_type": "code",
   "execution_count": 19,
   "id": "484cd20c-3dbd-4024-b2c4-2347e413841c",
   "metadata": {},
   "outputs": [
    {
     "data": {
      "text/plain": [
       "'BMW'"
      ]
     },
     "execution_count": 19,
     "metadata": {},
     "output_type": "execute_result"
    }
   ],
   "source": [
    "veh1.get_brand()"
   ]
  },
  {
   "cell_type": "code",
   "execution_count": 25,
   "id": "d1c7a970-371a-46bc-84d4-055c8aa66f46",
   "metadata": {},
   "outputs": [
    {
     "ename": "AttributeError",
     "evalue": "'Car' object has no attribute '__vehicle_id'",
     "output_type": "error",
     "traceback": [
      "\u001b[0;31m---------------------------------------------------------------------------\u001b[0m",
      "\u001b[0;31mAttributeError\u001b[0m                            Traceback (most recent call last)",
      "Cell \u001b[0;32mIn[25], line 1\u001b[0m\n\u001b[0;32m----> 1\u001b[0m \u001b[43mcar\u001b[49m\u001b[38;5;241;43m.\u001b[39;49m\u001b[43m__vehicle_id\u001b[49m\n",
      "\u001b[0;31mAttributeError\u001b[0m: 'Car' object has no attribute '__vehicle_id'"
     ]
    }
   ],
   "source": [
    "car.__vehicle_id"
   ]
  },
  {
   "cell_type": "code",
   "execution_count": 31,
   "id": "4e642fea-94a1-4391-a241-80eaef9ffef4",
   "metadata": {},
   "outputs": [
    {
     "data": {
      "text/plain": [
       "'Toyota'"
      ]
     },
     "execution_count": 31,
     "metadata": {},
     "output_type": "execute_result"
    }
   ],
   "source": [
    "car.get_brand()"
   ]
  },
  {
   "cell_type": "markdown",
   "id": "bacc8d0e-76c1-485f-808e-0345fe47159d",
   "metadata": {},
   "source": [
    "In this example, `public_var` and `public_method` are public members that can be accessed from anywhere. `_protected_var` and `_protected_method` are protected members that can be accessed within the class and its subclasses. `__private_var` and `__private_method` are private members that can only be accessed within the class definition."
   ]
  },
  {
   "cell_type": "code",
   "execution_count": 39,
   "id": "81fee823-b3c2-4db6-b7e2-5df6967b7a75",
   "metadata": {},
   "outputs": [],
   "source": [
    "class SubClass(Example):\n",
    "   \n",
    "    def get_public_member(self):\n",
    "        print(self.public_var)\n",
    "    \n",
    "    def get_protected_member(self):\n",
    "        print(self._protected_var)\n",
    "    \n",
    "    def get_private_member(self):\n",
    "        print(self.__private_var)\n",
    "\n",
    "sub = SubClass()"
   ]
  },
  {
   "cell_type": "code",
   "execution_count": 40,
   "id": "ca16fcf0-cf15-4576-9d2c-9f8b6b669a5a",
   "metadata": {},
   "outputs": [
    {
     "name": "stdout",
     "output_type": "stream",
     "text": [
      "1\n"
     ]
    }
   ],
   "source": [
    "sub.get_public_member()"
   ]
  },
  {
   "cell_type": "code",
   "execution_count": 41,
   "id": "35d5b603-b49e-474d-b0fc-01b7fc58fa71",
   "metadata": {},
   "outputs": [
    {
     "name": "stdout",
     "output_type": "stream",
     "text": [
      "3\n"
     ]
    }
   ],
   "source": [
    "sub.get_protected_member()"
   ]
  },
  {
   "cell_type": "code",
   "execution_count": 43,
   "id": "58e5f318-4364-43dc-8c8d-7be7ec994d1b",
   "metadata": {},
   "outputs": [
    {
     "ename": "AttributeError",
     "evalue": "'SubClass' object has no attribute '_SubClass__private_var'",
     "output_type": "error",
     "traceback": [
      "\u001b[0;31m---------------------------------------------------------------------------\u001b[0m",
      "\u001b[0;31mAttributeError\u001b[0m                            Traceback (most recent call last)",
      "Cell \u001b[0;32mIn[43], line 1\u001b[0m\n\u001b[0;32m----> 1\u001b[0m \u001b[43msub\u001b[49m\u001b[38;5;241;43m.\u001b[39;49m\u001b[43mget_private_member\u001b[49m\u001b[43m(\u001b[49m\u001b[43m)\u001b[49m \u001b[38;5;66;03m# Raises an AttributeError\u001b[39;00m\n",
      "Cell \u001b[0;32mIn[39], line 10\u001b[0m, in \u001b[0;36mSubClass.get_private_member\u001b[0;34m(self)\u001b[0m\n\u001b[1;32m      9\u001b[0m \u001b[38;5;28;01mdef\u001b[39;00m \u001b[38;5;21mget_private_member\u001b[39m(\u001b[38;5;28mself\u001b[39m):\n\u001b[0;32m---> 10\u001b[0m     \u001b[38;5;28mprint\u001b[39m(\u001b[38;5;28;43mself\u001b[39;49m\u001b[38;5;241;43m.\u001b[39;49m\u001b[43m__private_var\u001b[49m)\n",
      "\u001b[0;31mAttributeError\u001b[0m: 'SubClass' object has no attribute '_SubClass__private_var'"
     ]
    }
   ],
   "source": [
    "sub.get_private_member() # Raises an AttributeError"
   ]
  },
  {
   "cell_type": "code",
   "execution_count": null,
   "id": "dc8cad41-a4cb-4f93-8a84-c723bc57c78b",
   "metadata": {},
   "outputs": [],
   "source": []
  }
 ],
 "metadata": {
  "kernelspec": {
   "display_name": "Python 3 (ipykernel)",
   "language": "python",
   "name": "python3"
  },
  "language_info": {
   "codemirror_mode": {
    "name": "ipython",
    "version": 3
   },
   "file_extension": ".py",
   "mimetype": "text/x-python",
   "name": "python",
   "nbconvert_exporter": "python",
   "pygments_lexer": "ipython3",
   "version": "3.10.12"
  }
 },
 "nbformat": 4,
 "nbformat_minor": 5
}
