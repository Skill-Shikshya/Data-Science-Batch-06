{
 "cells": [
  {
   "cell_type": "markdown",
   "id": "e36063cc-ec7f-46ab-ada3-d78e9d3c3eba",
   "metadata": {},
   "source": [
    "# Polymorphism in Python\n",
    "\n",
    "Polymorphism is the ability of an object to take on different forms or have multiple behaviors depending on the context in which it is used. In Python, polymorphism can be implemented using four different techniques:\n",
    "\n",
    "1. **Method Overloading:** A class can have multiple methods with the same name but different parameters, and the method to be called is determined based on the number and types of arguments passed during the function call.\n",
    "2. **Method Overriding:** Method overriding occurs when a subclass defines a method with the same name and parameters as a method in its superclass. When this occurs, the method in the subclass overrides the method in the superclass, allowing the subclass to provide its own implementation of the method.\n",
    "3. **Operator Overloading:** Python allows operators to be overloaded, so that they can be used with user-defined classes. For example, the \"+\" operator can be overloaded to perform concatenation on two string objects.\n",
    "4. **Duck Typing:** In Python, an object's suitability for an operation is determined by its behavior (i.e., its methods and attributes) rather than its type. So, if two different objects have the same behavior, they can be used interchangeably.\n"
   ]
  },
  {
   "cell_type": "code",
   "execution_count": 7,
   "id": "99b926e8-8d38-41b3-853d-951871753cad",
   "metadata": {},
   "outputs": [],
   "source": [
    "class Car:\n",
    "    def drive(self):\n",
    "        print(\"driving a car\")\n",
    "\n",
    "class Bike:\n",
    "    def drive(self):\n",
    "        print(\"riding a bike\")"
   ]
  },
  {
   "cell_type": "code",
   "execution_count": 4,
   "id": "e5f9c538-383f-43ba-8cb7-756c7b3c15ac",
   "metadata": {},
   "outputs": [],
   "source": [
    "def start_driving(vech):\n",
    "    vech.drive()"
   ]
  },
  {
   "cell_type": "code",
   "execution_count": 5,
   "id": "c5f17277-f01d-447e-9322-62eaa2783dc1",
   "metadata": {},
   "outputs": [
    {
     "name": "stdout",
     "output_type": "stream",
     "text": [
      "driving a car\n",
      "riding a bike\n"
     ]
    }
   ],
   "source": [
    "car = Car()\n",
    "bike = Bike()\n",
    "\n",
    "start_driving(car)\n",
    "start_driving(bike)"
   ]
  },
  {
   "cell_type": "markdown",
   "id": "11f8f68a-0832-44f2-b250-64bcf32e7dd1",
   "metadata": {},
   "source": [
    "In this example, we have defined two classes: `Car` and `Bike`. Both classes have a method called `drive`. We have defined a function called `start_driving`, which takes a parameter called `vehicle`. The `start_driving` function calls the `drive` method of the `vehicle` object. We create objects of the `Car` and `Bike` classes and pass them to the `start_driving` function. The drive method of the object is called based on its type. This is an example of duck typing, where the type of the object is not checked, but the presence of a specific method is checked."
   ]
  },
  {
   "cell_type": "code",
   "execution_count": null,
   "id": "cc622bfe-18e7-4dca-8e66-a2309583e1c5",
   "metadata": {},
   "outputs": [],
   "source": []
  }
 ],
 "metadata": {
  "kernelspec": {
   "display_name": "Python 3 (ipykernel)",
   "language": "python",
   "name": "python3"
  },
  "language_info": {
   "codemirror_mode": {
    "name": "ipython",
    "version": 3
   },
   "file_extension": ".py",
   "mimetype": "text/x-python",
   "name": "python",
   "nbconvert_exporter": "python",
   "pygments_lexer": "ipython3",
   "version": "3.10.12"
  }
 },
 "nbformat": 4,
 "nbformat_minor": 5
}
