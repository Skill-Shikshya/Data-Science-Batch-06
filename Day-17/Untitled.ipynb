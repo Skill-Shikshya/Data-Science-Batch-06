{
 "cells": [
  {
   "cell_type": "code",
   "execution_count": 1,
   "id": "21854c37-19cb-49d5-82a9-a34c5adea4e8",
   "metadata": {},
   "outputs": [],
   "source": [
    "ls = ['a','b','c']"
   ]
  },
  {
   "cell_type": "code",
   "execution_count": 3,
   "id": "b0db2a43-1f87-4db3-b5fe-85690abf3021",
   "metadata": {},
   "outputs": [
    {
     "data": {
      "text/plain": [
       "['c', 'b', 'a']"
      ]
     },
     "execution_count": 3,
     "metadata": {},
     "output_type": "execute_result"
    }
   ],
   "source": [
    "list(reversed(ls))"
   ]
  },
  {
   "cell_type": "code",
   "execution_count": 7,
   "id": "0a95f589-13f4-497d-8e16-c79ff46b285d",
   "metadata": {},
   "outputs": [
    {
     "data": {
      "text/plain": [
       "'cba'"
      ]
     },
     "execution_count": 7,
     "metadata": {},
     "output_type": "execute_result"
    }
   ],
   "source": [
    "\"\".join(reversed(ls))"
   ]
  },
  {
   "cell_type": "code",
   "execution_count": 11,
   "id": "bff7e1db-8339-42e9-9604-e9cc73984653",
   "metadata": {},
   "outputs": [
    {
     "name": "stdout",
     "output_type": "stream",
     "text": [
      "False\n"
     ]
    }
   ],
   "source": [
    "word =\"asdfg\"\n",
    "palindrome = lambda word: \"\".join(reversed(word))\n",
    "if palindrome(word) == word:\n",
    "    print(\"True\")\n",
    "\n",
    "else: \n",
    "    print(\"False\")"
   ]
  },
  {
   "cell_type": "code",
   "execution_count": 13,
   "id": "4a3c2469-235e-41c4-a67a-e77a4dbb8188",
   "metadata": {},
   "outputs": [
    {
     "data": {
      "text/plain": [
       "['1', '2', '3']"
      ]
     },
     "execution_count": 13,
     "metadata": {},
     "output_type": "execute_result"
    }
   ],
   "source": [
    "list(str(123))"
   ]
  },
  {
   "cell_type": "code",
   "execution_count": 16,
   "id": "ce82bdd5-cc47-488d-ad85-531f33dc2a1e",
   "metadata": {},
   "outputs": [
    {
     "name": "stdin",
     "output_type": "stream",
     "text": [
      "Enter the number: 153\n"
     ]
    },
    {
     "name": "stdout",
     "output_type": "stream",
     "text": [
      "3\n",
      "true\n"
     ]
    }
   ],
   "source": [
    "number = input(\"Enter the number:\")\n",
    "count = len(number)\n",
    "\n",
    "armstrong = sum(int(digit) ** count for digit in number)\n",
    "if armstrong == int(number):\n",
    "    print(\"true\")\n",
    "\n",
    "else:\n",
    "    print(\"False\")"
   ]
  },
  {
   "cell_type": "code",
   "execution_count": 17,
   "id": "da992d66-d005-4aa1-9374-e84f5c2b0a97",
   "metadata": {},
   "outputs": [
    {
     "name": "stdout",
     "output_type": "stream",
     "text": [
      "The Zen of Python, by Tim Peters\n",
      "\n",
      "Beautiful is better than ugly.\n",
      "Explicit is better than implicit.\n",
      "Simple is better than complex.\n",
      "Complex is better than complicated.\n",
      "Flat is better than nested.\n",
      "Sparse is better than dense.\n",
      "Readability counts.\n",
      "Special cases aren't special enough to break the rules.\n",
      "Although practicality beats purity.\n",
      "Errors should never pass silently.\n",
      "Unless explicitly silenced.\n",
      "In the face of ambiguity, refuse the temptation to guess.\n",
      "There should be one-- and preferably only one --obvious way to do it.\n",
      "Although that way may not be obvious at first unless you're Dutch.\n",
      "Now is better than never.\n",
      "Although never is often better than *right* now.\n",
      "If the implementation is hard to explain, it's a bad idea.\n",
      "If the implementation is easy to explain, it may be a good idea.\n",
      "Namespaces are one honking great idea -- let's do more of those!\n"
     ]
    }
   ],
   "source": [
    "import this"
   ]
  },
  {
   "cell_type": "code",
   "execution_count": 21,
   "id": "790d9a83-e0bb-4d11-a9fb-a7540681dc0b",
   "metadata": {},
   "outputs": [
    {
     "data": {
      "text/plain": [
       "False"
      ]
     },
     "execution_count": 21,
     "metadata": {},
     "output_type": "execute_result"
    }
   ],
   "source": [
    "rev =  lambda s : s == s[::-1]\n",
    "rev(\"abcd\")"
   ]
  },
  {
   "cell_type": "code",
   "execution_count": 28,
   "id": "ea4b89ae-6494-4417-832c-fc76c1f96c97",
   "metadata": {},
   "outputs": [
    {
     "name": "stdout",
     "output_type": "stream",
     "text": [
      "Car detail:\n",
      "vehicle_id : 101\n",
      "brand : Toyota\n",
      "rental price : 100\n",
      "number of door : 4\n",
      "\n",
      "\n",
      "Bike detail:\n",
      "            vehicle_id : 203\n",
      "            brand : Yamaha\n",
      "            rental price : 50\n",
      "            bike type : mountain bike\n",
      "\n",
      "Total rental cost for the car for 5 days: $500\n",
      "Total rental cost for the bike for 5 days: $250\n"
     ]
    }
   ],
   "source": [
    "class Vehicle:\n",
    "    def __init__(self, vehicle_id, brand, rental_price):\n",
    "        self.vehicle_id = vehicle_id\n",
    "        self.brand = brand\n",
    "        self.rental_price= rental_price\n",
    "\n",
    "    def total_rental_cost(self, number_of_days : int):\n",
    "        rental_cost = number_of_days * self.rental_price\n",
    "        # print(f\"Total rental cost is {rental_cost}\")  \n",
    "        return rental_cost\n",
    "\n",
    "        \n",
    "class Car(Vehicle):\n",
    "    def __init__(self,vehicle_id, brand, rental_price, number_of_doors):\n",
    "        super().__init__(vehicle_id, brand, rental_price)\n",
    "        self.number_of_doors =number_of_doors\n",
    "\n",
    "    def display(self):\n",
    "        print(f\"Car detail:\\n\"\n",
    "                   f\"vehicle_id : {self.vehicle_id}\\n\"\n",
    "                   f\"brand : {self.brand}\\n\"\n",
    "                   f\"rental price : {self.rental_price}\\n\"\n",
    "                   f\"number of door : {self.number_of_doors}\")\n",
    "\n",
    "\n",
    "class Bike(Vehicle):\n",
    "    def __init__(self,vehicle_id, brand, rental_price, bike_type):\n",
    "        super().__init__(vehicle_id, brand, rental_price)\n",
    "        self.bike_type = bike_type    \n",
    "        \n",
    "\n",
    "    def display(self):\n",
    "        print(\n",
    "            f\"\"\"Bike detail:\n",
    "            vehicle_id : {self.vehicle_id}\n",
    "            brand : {self.brand}\n",
    "            rental price : {self.rental_price}\n",
    "            bike type : {self.bike_type}\"\"\"\n",
    "        )  \n",
    "\n",
    "\n",
    "car = Car(vehicle_id = 101, brand = \"Toyota\", rental_price = 100, number_of_doors = 4)\n",
    "bike = Bike(vehicle_id = 203, brand = \"Yamaha\", rental_price = 50, bike_type = \"mountain bike\")\n",
    "\n",
    "car.display()\n",
    "print(\"\\n\")\n",
    "bike.display()\n",
    "\n",
    "number_of_days = 5\n",
    "print(f\"\\nTotal rental cost for the car for {number_of_days} days: ${car.total_rental_cost(number_of_days)}\")\n",
    "print(f\"Total rental cost for the bike for {number_of_days} days: ${bike.total_rental_cost(number_of_days)}\")\n"
   ]
  },
  {
   "cell_type": "code",
   "execution_count": null,
   "id": "f259b0cf-0c1c-47fd-9117-964844b579a8",
   "metadata": {},
   "outputs": [],
   "source": []
  },
  {
   "cell_type": "code",
   "execution_count": null,
   "id": "8873363f-0f1a-4f35-8517-443e0193b14b",
   "metadata": {},
   "outputs": [],
   "source": []
  }
 ],
 "metadata": {
  "kernelspec": {
   "display_name": "Python 3 (ipykernel)",
   "language": "python",
   "name": "python3"
  },
  "language_info": {
   "codemirror_mode": {
    "name": "ipython",
    "version": 3
   },
   "file_extension": ".py",
   "mimetype": "text/x-python",
   "name": "python",
   "nbconvert_exporter": "python",
   "pygments_lexer": "ipython3",
   "version": "3.10.12"
  }
 },
 "nbformat": 4,
 "nbformat_minor": 5
}
