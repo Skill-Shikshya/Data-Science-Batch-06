{
 "cells": [
  {
   "cell_type": "markdown",
   "id": "cff1f7f3-9b87-49e8-863a-8dcc0b55a7ba",
   "metadata": {},
   "source": [
    "# Python Text Type\n",
    "\n",
    "In Python, strings (`str`) are used to represent text data. Here's a brief overview of the Python string type.\n",
    "\n",
    "## Defining strings\n",
    "\n",
    "You can define a string in Python by enclosing the text in either single or double quotes. Here are some examples:"
   ]
  },
  {
   "cell_type": "code",
   "execution_count": 2,
   "id": "3a635747-9836-40d9-85fc-168abb03facd",
   "metadata": {},
   "outputs": [],
   "source": [
    "message = \"Hello, World!\""
   ]
  },
  {
   "cell_type": "code",
   "execution_count": 4,
   "id": "c5b2ae4f-8157-403e-97f5-3912e243d377",
   "metadata": {},
   "outputs": [
    {
     "name": "stdout",
     "output_type": "stream",
     "text": [
      "Hello, World!\n"
     ]
    }
   ],
   "source": [
    "print(message)"
   ]
  },
  {
   "cell_type": "code",
   "execution_count": 5,
   "id": "12d24ea3-f831-492e-bd28-c619a6052132",
   "metadata": {},
   "outputs": [
    {
     "data": {
      "text/plain": [
       "str"
      ]
     },
     "execution_count": 5,
     "metadata": {},
     "output_type": "execute_result"
    }
   ],
   "source": [
    "type(message)"
   ]
  },
  {
   "cell_type": "code",
   "execution_count": 8,
   "id": "e2c4d750-196a-4329-9092-d2655031e92c",
   "metadata": {},
   "outputs": [],
   "source": [
    "sent = \"\"\"\n",
    "    Today, I won't be able to attend the gala.\n",
    "    something\n",
    "    next Line\n",
    "\"\"\""
   ]
  },
  {
   "cell_type": "code",
   "execution_count": 11,
   "id": "7e6b12ed-3dc2-4dcd-a172-eea5be5c96cf",
   "metadata": {},
   "outputs": [
    {
     "data": {
      "text/plain": [
       "str"
      ]
     },
     "execution_count": 11,
     "metadata": {},
     "output_type": "execute_result"
    }
   ],
   "source": [
    "type(sent)"
   ]
  },
  {
   "cell_type": "code",
   "execution_count": null,
   "id": "dbb18125-9307-4772-8c79-89d117d60df9",
   "metadata": {},
   "outputs": [],
   "source": []
  },
  {
   "cell_type": "code",
   "execution_count": 18,
   "id": "ce80bdc8-0449-44d5-9eab-b2e99e8e5675",
   "metadata": {},
   "outputs": [
    {
     "data": {
      "text/plain": [
       "66.666"
      ]
     },
     "execution_count": 18,
     "metadata": {},
     "output_type": "execute_result"
    }
   ],
   "source": [
    "a = float(str(66.666))\n",
    "a"
   ]
  },
  {
   "cell_type": "code",
   "execution_count": null,
   "id": "d40e949f-7e94-4caa-b840-d5425988f1d2",
   "metadata": {},
   "outputs": [],
   "source": []
  },
  {
   "cell_type": "code",
   "execution_count": 80,
   "id": "d8d46cc9-4cf8-4516-abf2-56c6809ce75c",
   "metadata": {},
   "outputs": [
    {
     "data": {
      "text/plain": [
       "13"
      ]
     },
     "execution_count": 80,
     "metadata": {},
     "output_type": "execute_result"
    }
   ],
   "source": [
    "len(message)"
   ]
  },
  {
   "cell_type": "markdown",
   "id": "907d0c1a-b4fe-4c67-b410-25c20d8977be",
   "metadata": {},
   "source": [
    "## String methods\n",
    "\n",
    "Python provides a variety of built-in string methods that you can use to perform operations on strings. Some common string methods include `lower()`, `upper()`, `strip()`, `replace()`, and `split()`. Here are some examples:\n",
    "\n",
    "Docs : https://docs.python.org/3/library/stdtypes.html#string-methods"
   ]
  },
  {
   "cell_type": "code",
   "execution_count": 19,
   "id": "99151ea1-8781-4102-8805-ee5686a0c1dc",
   "metadata": {},
   "outputs": [],
   "source": [
    "x = \"        Hello, World        \""
   ]
  },
  {
   "cell_type": "code",
   "execution_count": 21,
   "id": "1dc647fa-a38e-4669-92a6-3ba2eea75774",
   "metadata": {},
   "outputs": [
    {
     "name": "stdout",
     "output_type": "stream",
     "text": [
      "        Hello, World        \n"
     ]
    }
   ],
   "source": [
    "print(x)"
   ]
  },
  {
   "cell_type": "code",
   "execution_count": 22,
   "id": "33763b8f-86d8-4c42-b59e-e331074c89aa",
   "metadata": {},
   "outputs": [
    {
     "data": {
      "text/plain": [
       "'        hello, world        '"
      ]
     },
     "execution_count": 22,
     "metadata": {},
     "output_type": "execute_result"
    }
   ],
   "source": [
    "x.lower()"
   ]
  },
  {
   "cell_type": "code",
   "execution_count": 23,
   "id": "97d6d484-677b-47aa-988b-a303af276f14",
   "metadata": {},
   "outputs": [
    {
     "data": {
      "text/plain": [
       "'        HELLO, WORLD        '"
      ]
     },
     "execution_count": 23,
     "metadata": {},
     "output_type": "execute_result"
    }
   ],
   "source": [
    "x.upper()"
   ]
  },
  {
   "cell_type": "code",
   "execution_count": 29,
   "id": "b959b7c0-a1fd-4988-b1e3-21c73c5874cf",
   "metadata": {},
   "outputs": [],
   "source": [
    "x = x.strip()"
   ]
  },
  {
   "cell_type": "code",
   "execution_count": 30,
   "id": "c2933d2f-d3ef-4a1d-a1fa-4b93531d851b",
   "metadata": {},
   "outputs": [
    {
     "data": {
      "text/plain": [
       "'Hella, Warld'"
      ]
     },
     "execution_count": 30,
     "metadata": {},
     "output_type": "execute_result"
    }
   ],
   "source": [
    "x.replace('o', 'a')"
   ]
  },
  {
   "cell_type": "code",
   "execution_count": 33,
   "id": "2d7c8f8a-3583-4c6e-bf76-f3c20289e03e",
   "metadata": {
    "scrolled": true
   },
   "outputs": [
    {
     "data": {
      "text/plain": [
       "['Hello', ' World']"
      ]
     },
     "execution_count": 33,
     "metadata": {},
     "output_type": "execute_result"
    }
   ],
   "source": [
    "x.split(\",\")"
   ]
  },
  {
   "cell_type": "code",
   "execution_count": 39,
   "id": "3ce48468-08cb-445b-acbc-424b45a58e62",
   "metadata": {},
   "outputs": [],
   "source": [
    "email = \"student@gmail.com\""
   ]
  },
  {
   "cell_type": "code",
   "execution_count": 40,
   "id": "19aae50a-e5e0-4b91-97bd-2a187bde8072",
   "metadata": {},
   "outputs": [
    {
     "data": {
      "text/plain": [
       "True"
      ]
     },
     "execution_count": 40,
     "metadata": {},
     "output_type": "execute_result"
    }
   ],
   "source": [
    "email.endswith(\"@gmail.com\")"
   ]
  },
  {
   "cell_type": "markdown",
   "id": "ba5520c3-c230-41c3-a531-3652e5ebb983",
   "metadata": {},
   "source": [
    "## String indexing\n",
    "\n",
    "You can access individual characters in a string using indexing. In Python, indexing starts at 0. Here are some examples:"
   ]
  },
  {
   "cell_type": "code",
   "execution_count": 41,
   "id": "b93b4a67-4359-4b8a-9052-7062cbac4754",
   "metadata": {},
   "outputs": [],
   "source": [
    "x = \"Hello world\""
   ]
  },
  {
   "cell_type": "code",
   "execution_count": 42,
   "id": "7dbb56e9-b623-4bd8-a128-f694973bd576",
   "metadata": {},
   "outputs": [
    {
     "data": {
      "text/plain": [
       "'H'"
      ]
     },
     "execution_count": 42,
     "metadata": {},
     "output_type": "execute_result"
    }
   ],
   "source": [
    "x[0]"
   ]
  },
  {
   "cell_type": "code",
   "execution_count": 43,
   "id": "235c3bd9-2eb8-4f38-98a5-1c9ffbca6fb4",
   "metadata": {},
   "outputs": [
    {
     "data": {
      "text/plain": [
       "' '"
      ]
     },
     "execution_count": 43,
     "metadata": {},
     "output_type": "execute_result"
    }
   ],
   "source": [
    "x[5]"
   ]
  },
  {
   "cell_type": "code",
   "execution_count": 44,
   "id": "4871d68c-ab91-4a48-b735-d834adc03f35",
   "metadata": {},
   "outputs": [
    {
     "data": {
      "text/plain": [
       "'Hello'"
      ]
     },
     "execution_count": 44,
     "metadata": {},
     "output_type": "execute_result"
    }
   ],
   "source": [
    "x[0:5]"
   ]
  },
  {
   "cell_type": "code",
   "execution_count": 48,
   "id": "a3a7d4e6-6e43-4801-b7d6-e335b9cc404e",
   "metadata": {},
   "outputs": [
    {
     "data": {
      "text/plain": [
       "'Hello '"
      ]
     },
     "execution_count": 48,
     "metadata": {},
     "output_type": "execute_result"
    }
   ],
   "source": [
    "x[:6]"
   ]
  },
  {
   "cell_type": "code",
   "execution_count": 49,
   "id": "97fbfd69-4780-4130-9851-7aec58b2b221",
   "metadata": {},
   "outputs": [
    {
     "data": {
      "text/plain": [
       "'world'"
      ]
     },
     "execution_count": 49,
     "metadata": {},
     "output_type": "execute_result"
    }
   ],
   "source": [
    "x[6:]"
   ]
  },
  {
   "cell_type": "code",
   "execution_count": 55,
   "id": "13f9b00f-9101-4d9e-b8d2-a02a1122d132",
   "metadata": {},
   "outputs": [
    {
     "data": {
      "text/plain": [
       "'ld'"
      ]
     },
     "execution_count": 55,
     "metadata": {},
     "output_type": "execute_result"
    }
   ],
   "source": [
    "x[-2:]"
   ]
  },
  {
   "cell_type": "markdown",
   "id": "88298bb0-ea6b-4a2d-b78f-38161aff4cf7",
   "metadata": {},
   "source": [
    "## String slicing\n",
    "\n",
    "You can also access a range of characters in a string using slicing. Slicing uses the syntax `start:stop:step`, where `start` is the index of the first character you want to include, `stop` is the index of the first character you want to exclude, and `step` is the number of characters to skip. Here are some examples:"
   ]
  },
  {
   "cell_type": "markdown",
   "id": "3eb5dc07-4d2b-45f5-b1cc-48ed5db514d4",
   "metadata": {},
   "source": [
    "x[start:stop:step]"
   ]
  },
  {
   "cell_type": "code",
   "execution_count": 51,
   "id": "62c024b9-6bce-40d8-b380-51d475699811",
   "metadata": {},
   "outputs": [
    {
     "data": {
      "text/plain": [
       "'Hlo'"
      ]
     },
     "execution_count": 51,
     "metadata": {},
     "output_type": "execute_result"
    }
   ],
   "source": [
    "x[0:5:2]"
   ]
  },
  {
   "cell_type": "code",
   "execution_count": 56,
   "id": "a95b4edc-2973-4175-88dd-e36583da7db1",
   "metadata": {},
   "outputs": [
    {
     "data": {
      "text/plain": [
       "'Hlowrd'"
      ]
     },
     "execution_count": 56,
     "metadata": {},
     "output_type": "execute_result"
    }
   ],
   "source": [
    "x[::2]"
   ]
  },
  {
   "cell_type": "code",
   "execution_count": 57,
   "id": "d8f5c965-242c-403c-8096-9d9f06900ae1",
   "metadata": {},
   "outputs": [
    {
     "data": {
      "text/plain": [
       "'wor'"
      ]
     },
     "execution_count": 57,
     "metadata": {},
     "output_type": "execute_result"
    }
   ],
   "source": [
    "x[-5:-2:]"
   ]
  },
  {
   "cell_type": "code",
   "execution_count": 60,
   "id": "0eb39624-f6ea-4b98-9a2e-9246b7389c36",
   "metadata": {},
   "outputs": [
    {
     "data": {
      "text/plain": [
       "'hseliahS'"
      ]
     },
     "execution_count": 60,
     "metadata": {},
     "output_type": "execute_result"
    }
   ],
   "source": [
    "name = \"Shailesh\"\n",
    "name[::-1] # Reverse String"
   ]
  },
  {
   "cell_type": "code",
   "execution_count": null,
   "id": "f6ae269f-437c-49b1-b43a-70126decf642",
   "metadata": {},
   "outputs": [],
   "source": []
  },
  {
   "cell_type": "markdown",
   "id": "9b87c8ca-6d51-4cc8-94cd-d7b717845a80",
   "metadata": {},
   "source": [
    "## String Formatting\n",
    "\n",
    "You can use string formatting to insert variables or expressions into a string. There are several ways to format strings in Python, including using `%` operator, `.format()` and `f-strings`. Here are some examples:"
   ]
  },
  {
   "cell_type": "code",
   "execution_count": 61,
   "id": "a9678ab2-6188-4ed2-9eb2-73aa40e564fa",
   "metadata": {},
   "outputs": [],
   "source": [
    "name = \"John\"\n",
    "age = 25"
   ]
  },
  {
   "cell_type": "code",
   "execution_count": 63,
   "id": "a21959cc-fb00-453b-8dcc-fca76a4016ba",
   "metadata": {},
   "outputs": [
    {
     "name": "stdout",
     "output_type": "stream",
     "text": [
      "Your name is John and you are 25 years old.\n"
     ]
    }
   ],
   "source": [
    "print(\"Your name is %s and you are %d years old.\" % (name,age)) # % Operator"
   ]
  },
  {
   "cell_type": "code",
   "execution_count": 64,
   "id": "0ad48e7a-ecd5-4e1f-9646-82dcf15fe954",
   "metadata": {},
   "outputs": [
    {
     "name": "stdout",
     "output_type": "stream",
     "text": [
      "Your name is John and you are 25 years old.\n"
     ]
    }
   ],
   "source": [
    "print(\"Your name is {} and you are {} years old.\".format(name,age)) # format method"
   ]
  },
  {
   "cell_type": "code",
   "execution_count": 67,
   "id": "54d3bfdd-0bc1-4c3c-822d-107d79153e33",
   "metadata": {},
   "outputs": [
    {
     "name": "stdout",
     "output_type": "stream",
     "text": [
      "Your name is John and you are 25 years old.\n"
     ]
    }
   ],
   "source": [
    "print(\"Your name is {0} and you are {1} years old.\".format(name,age)) # format method"
   ]
  },
  {
   "cell_type": "code",
   "execution_count": 68,
   "id": "cfccfb0e-4d03-4484-9b48-b0f0852caf70",
   "metadata": {},
   "outputs": [
    {
     "name": "stdout",
     "output_type": "stream",
     "text": [
      "Your name is John and you are 25 years old.\n"
     ]
    }
   ],
   "source": [
    "print(f\"Your name is {name} and you are {age} years old.\") #f-string"
   ]
  },
  {
   "cell_type": "code",
   "execution_count": null,
   "id": "39b85c59-7a42-4c20-8798-f395881d0089",
   "metadata": {},
   "outputs": [],
   "source": []
  },
  {
   "cell_type": "markdown",
   "id": "9d265371-20c6-4644-aa84-cab90597413a",
   "metadata": {},
   "source": [
    "## String concatenation\n",
    "\n",
    "You can concatenate two or more strings using the + operator. Here are some examples:"
   ]
  },
  {
   "cell_type": "code",
   "execution_count": 69,
   "id": "8c74b916-0ff6-4059-8c33-6af4302fac92",
   "metadata": {},
   "outputs": [],
   "source": [
    "x = \"piece\"\n",
    "y =\"of\"\n",
    "z = \"coco\""
   ]
  },
  {
   "cell_type": "code",
   "execution_count": 72,
   "id": "fac2e71e-510a-4a8e-8ac7-f0015ffb4c49",
   "metadata": {},
   "outputs": [
    {
     "data": {
      "text/plain": [
       "'piece of coco'"
      ]
     },
     "execution_count": 72,
     "metadata": {},
     "output_type": "execute_result"
    }
   ],
   "source": [
    "x + \" \" + y + \" \" + z"
   ]
  },
  {
   "cell_type": "code",
   "execution_count": 73,
   "id": "57442805-acad-4150-8a72-acf0b29d9a79",
   "metadata": {},
   "outputs": [],
   "source": [
    "concat = f\"{x} {y} {z}\""
   ]
  },
  {
   "cell_type": "code",
   "execution_count": 75,
   "id": "bacfc451-8304-4a47-8d0e-f925120d7712",
   "metadata": {},
   "outputs": [
    {
     "data": {
      "text/plain": [
       "'piece of coco'"
      ]
     },
     "execution_count": 75,
     "metadata": {},
     "output_type": "execute_result"
    }
   ],
   "source": [
    "concat"
   ]
  },
  {
   "cell_type": "code",
   "execution_count": 79,
   "id": "1b9aeb11-e232-46e5-9ada-b8233c19273e",
   "metadata": {},
   "outputs": [
    {
     "name": "stdout",
     "output_type": "stream",
     "text": [
      "----------------------------------------\n"
     ]
    }
   ],
   "source": [
    "print(\"--\"*20)"
   ]
  },
  {
   "cell_type": "code",
   "execution_count": null,
   "id": "e63a47e5-f2fc-4a6f-bc0a-d004688f831e",
   "metadata": {},
   "outputs": [],
   "source": []
  },
  {
   "cell_type": "code",
   "execution_count": null,
   "id": "d954030b-d7da-4593-ac39-0131f2f8e3cf",
   "metadata": {},
   "outputs": [],
   "source": []
  }
 ],
 "metadata": {
  "kernelspec": {
   "display_name": "Python 3 (ipykernel)",
   "language": "python",
   "name": "python3"
  },
  "language_info": {
   "codemirror_mode": {
    "name": "ipython",
    "version": 3
   },
   "file_extension": ".py",
   "mimetype": "text/x-python",
   "name": "python",
   "nbconvert_exporter": "python",
   "pygments_lexer": "ipython3",
   "version": "3.10.12"
  }
 },
 "nbformat": 4,
 "nbformat_minor": 5
}
