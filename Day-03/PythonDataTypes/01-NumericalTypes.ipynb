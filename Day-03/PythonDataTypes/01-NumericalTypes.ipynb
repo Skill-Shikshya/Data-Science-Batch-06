{
 "cells": [
  {
   "cell_type": "markdown",
   "id": "e28ac807-b991-4495-ae8b-1ce9b4b3947a",
   "metadata": {},
   "source": [
    "# Python Data Types\n",
    "\n",
    "- Numeric Types: int, float, complex\n",
    "- Text Type: str\n",
    "- Sequence Types: list, tuple, range\n",
    "- Set Type: set, frozenset\n",
    "- Mapping Type: dict\n",
    "- Boolean Type: bool\n",
    "- Binary Types: memoryview, bytearray, bytes\n"
   ]
  },
  {
   "cell_type": "code",
   "execution_count": null,
   "id": "ae7cc5f4-1515-469f-8b80-fb4edc3432e3",
   "metadata": {},
   "outputs": [],
   "source": []
  },
  {
   "cell_type": "markdown",
   "id": "0e26f8ea-789a-4d36-992f-4fb5532c88ec",
   "metadata": {},
   "source": [
    "## Python Numerical Types"
   ]
  },
  {
   "cell_type": "markdown",
   "id": "755727e9-1c26-42a2-9570-6615c38bd948",
   "metadata": {},
   "source": [
    "In Python, there are three main types of numbers: integers, floating-point numbers, and complex numbers. Here's a brief overview of each type:\n",
    "\n",
    "**1. Integers:** Integers are whole numbers, either positive or negative. In Python, integers have no size limit, so you can use them to represent very large or very small numbers. Here are some examples of integers:"
   ]
  },
  {
   "cell_type": "code",
   "execution_count": 5,
   "id": "6fbc94de-ee5c-4b8b-a0f8-1c4af807ca58",
   "metadata": {},
   "outputs": [],
   "source": [
    "mynumber = -6621456"
   ]
  },
  {
   "cell_type": "code",
   "execution_count": 6,
   "id": "3f69968a-bfc1-40d0-9432-a62b7503f453",
   "metadata": {},
   "outputs": [
    {
     "data": {
      "text/plain": [
       "int"
      ]
     },
     "execution_count": 6,
     "metadata": {},
     "output_type": "execute_result"
    }
   ],
   "source": [
    "type(mynumber)"
   ]
  },
  {
   "cell_type": "code",
   "execution_count": 7,
   "id": "88702bdb-abf6-4594-9be8-7c38eb9fa19a",
   "metadata": {},
   "outputs": [
    {
     "name": "stdout",
     "output_type": "stream",
     "text": [
      "-6621456\n"
     ]
    }
   ],
   "source": [
    "print(mynumber)"
   ]
  },
  {
   "cell_type": "code",
   "execution_count": null,
   "id": "475002b9-c657-4957-a86b-2e3a13df3993",
   "metadata": {},
   "outputs": [],
   "source": []
  },
  {
   "cell_type": "markdown",
   "id": "63a2ba2d-9bee-4770-a11c-83bcbff5b39d",
   "metadata": {},
   "source": [
    "**2. Floating-point Numbers:** Floating-point numbers are decimal numbers, either positive or negative. In Python, floating-point numbers are represented using the float type. Here are some examples of floating-point numbers:"
   ]
  },
  {
   "cell_type": "code",
   "execution_count": 11,
   "id": "57956e40-aeb5-42cd-a766-12527130ed61",
   "metadata": {},
   "outputs": [],
   "source": [
    "my_var = 14.125"
   ]
  },
  {
   "cell_type": "code",
   "execution_count": 12,
   "id": "01881573-fec1-4e3f-80cb-b609adf94f0d",
   "metadata": {},
   "outputs": [
    {
     "data": {
      "text/plain": [
       "float"
      ]
     },
     "execution_count": 12,
     "metadata": {},
     "output_type": "execute_result"
    }
   ],
   "source": [
    "type(my_var)"
   ]
  },
  {
   "cell_type": "code",
   "execution_count": 13,
   "id": "9779cd7e-e7d0-455c-95d0-fe465efffc27",
   "metadata": {},
   "outputs": [
    {
     "name": "stdout",
     "output_type": "stream",
     "text": [
      "14.125\n"
     ]
    }
   ],
   "source": [
    "print(my_var)"
   ]
  },
  {
   "cell_type": "code",
   "execution_count": 16,
   "id": "b91a9339-a4d8-4066-8814-bb23d5b8fe5c",
   "metadata": {},
   "outputs": [],
   "source": [
    "z = 1.526e-2"
   ]
  },
  {
   "cell_type": "code",
   "execution_count": null,
   "id": "68d0743f-82bc-448a-8f43-9e62782120bc",
   "metadata": {},
   "outputs": [],
   "source": []
  },
  {
   "cell_type": "markdown",
   "id": "49f85b01-b0d7-4435-bf82-c3f13189e260",
   "metadata": {},
   "source": [
    "**3. Complex numbers** Complex numbers are numbers with a real part and an imaginary part. In Python, complex numbers are represented using the complex type. Here are some examples of complex numbers:"
   ]
  },
  {
   "cell_type": "code",
   "execution_count": 18,
   "id": "c18a0705-a625-4276-8ca4-1a3572ef3766",
   "metadata": {},
   "outputs": [],
   "source": [
    "x = 6-3j"
   ]
  },
  {
   "cell_type": "code",
   "execution_count": 19,
   "id": "be6fc446-7d3d-4dc6-9c9c-4bd89b984c93",
   "metadata": {},
   "outputs": [
    {
     "data": {
      "text/plain": [
       "complex"
      ]
     },
     "execution_count": 19,
     "metadata": {},
     "output_type": "execute_result"
    }
   ],
   "source": [
    "type(x)"
   ]
  },
  {
   "cell_type": "code",
   "execution_count": 21,
   "id": "f656e245-996a-4a97-920a-18e8f892d685",
   "metadata": {},
   "outputs": [
    {
     "data": {
      "text/plain": [
       "(33.33-6j)"
      ]
     },
     "execution_count": 21,
     "metadata": {},
     "output_type": "execute_result"
    }
   ],
   "source": [
    "complex(33.33,-6)"
   ]
  },
  {
   "cell_type": "code",
   "execution_count": null,
   "id": "cf31c29b-fe28-45d8-a2d4-6ae794203ddb",
   "metadata": {},
   "outputs": [],
   "source": []
  },
  {
   "cell_type": "code",
   "execution_count": null,
   "id": "1b3a748c-74a9-4117-be9d-873d81db6d43",
   "metadata": {},
   "outputs": [],
   "source": []
  },
  {
   "cell_type": "markdown",
   "id": "b6ca436e-b526-4d19-8d1b-32c848dc1dcd",
   "metadata": {},
   "source": [
    "## Arithmetic Operations\n",
    "\n",
    "You can perform arithmetic operations on numbers in Python, including addition, subtraction, multiplication, division, and exponentiation. Here are some examples:\n",
    "\n",
    "\n",
    "* '\\+' Addition: Adds two operands.\n",
    "* '\\-' Subtraction: Subtracts the right operand from the left operand.\n",
    "* '\\*' Multiplication: Multiplies two operands.\n",
    "* '\\/' Division: Divides the left operand by the right operand.\n",
    "* '\\%' Modulus: Returns the remainder of dividing the left operand by the right operand.\n",
    "* '\\*\\*' Exponentiation: Raises the left operand to the power of the right operand.\n",
    "* '\\/\\/' Floor Division: Divides the left operand by the right operand and returns the largest integer less than or equal to the result."
   ]
  },
  {
   "cell_type": "code",
   "execution_count": 25,
   "id": "ad4bd81a-d735-4230-af3e-7d33b2e0b1f0",
   "metadata": {},
   "outputs": [],
   "source": [
    "x = 22\n",
    "y = 3.33"
   ]
  },
  {
   "cell_type": "code",
   "execution_count": 26,
   "id": "d564dfce-6fa0-4ba1-afef-d78ae6b1e517",
   "metadata": {},
   "outputs": [
    {
     "data": {
      "text/plain": [
       "25.33"
      ]
     },
     "execution_count": 26,
     "metadata": {},
     "output_type": "execute_result"
    }
   ],
   "source": [
    "x + y"
   ]
  },
  {
   "cell_type": "code",
   "execution_count": 27,
   "id": "187475f3-b2b4-47ad-a805-996b4e4a0549",
   "metadata": {},
   "outputs": [
    {
     "data": {
      "text/plain": [
       "18.67"
      ]
     },
     "execution_count": 27,
     "metadata": {},
     "output_type": "execute_result"
    }
   ],
   "source": [
    "x - y"
   ]
  },
  {
   "cell_type": "code",
   "execution_count": 28,
   "id": "5eac3ec8-2da5-4b46-93da-31890467038a",
   "metadata": {},
   "outputs": [
    {
     "data": {
      "text/plain": [
       "73.26"
      ]
     },
     "execution_count": 28,
     "metadata": {},
     "output_type": "execute_result"
    }
   ],
   "source": [
    "x * y"
   ]
  },
  {
   "cell_type": "code",
   "execution_count": 29,
   "id": "133d88ee-6f77-4ab8-9e5b-b5b003d462f4",
   "metadata": {},
   "outputs": [
    {
     "data": {
      "text/plain": [
       "6.606606606606606"
      ]
     },
     "execution_count": 29,
     "metadata": {},
     "output_type": "execute_result"
    }
   ],
   "source": [
    "x / y"
   ]
  },
  {
   "cell_type": "code",
   "execution_count": 30,
   "id": "06329e9e-0192-4479-a23c-dccc205cbffe",
   "metadata": {},
   "outputs": [
    {
     "data": {
      "text/plain": [
       "1"
      ]
     },
     "execution_count": 30,
     "metadata": {},
     "output_type": "execute_result"
    }
   ],
   "source": [
    "5 % 2"
   ]
  },
  {
   "cell_type": "code",
   "execution_count": 37,
   "id": "b52f96f6-8908-441f-92ad-9aec03f3518e",
   "metadata": {},
   "outputs": [
    {
     "data": {
      "text/plain": [
       "14455510.594905708"
      ]
     },
     "execution_count": 37,
     "metadata": {},
     "output_type": "execute_result"
    }
   ],
   "source": [
    "5.2 ** 10"
   ]
  },
  {
   "cell_type": "code",
   "execution_count": 35,
   "id": "26ae1ea9-8039-41b7-895a-7641297144c6",
   "metadata": {},
   "outputs": [
    {
     "data": {
      "text/plain": [
       "2"
      ]
     },
     "execution_count": 35,
     "metadata": {},
     "output_type": "execute_result"
    }
   ],
   "source": [
    "5 // 2"
   ]
  },
  {
   "cell_type": "code",
   "execution_count": null,
   "id": "fcbccacc-75b5-4ae2-a8f6-a4e02f459962",
   "metadata": {},
   "outputs": [],
   "source": []
  },
  {
   "cell_type": "markdown",
   "id": "d89a2f8f-6df0-44d9-b7aa-4c57a9f80d65",
   "metadata": {},
   "source": [
    "## Type Conversion\n",
    "\n",
    "You can convert numbers from one type to another in Python, using functions like *int()*, *float()*, and *complex()*. Here are some examples:"
   ]
  },
  {
   "cell_type": "code",
   "execution_count": 47,
   "id": "92e08ffa-9d39-4312-80c0-13f158ce0fd9",
   "metadata": {},
   "outputs": [],
   "source": [
    "x = 10\n",
    "y = 3.84"
   ]
  },
  {
   "cell_type": "code",
   "execution_count": 48,
   "id": "53fa8577-41aa-4285-bcd4-ad8a3bba644d",
   "metadata": {},
   "outputs": [],
   "source": [
    "a = float(x)"
   ]
  },
  {
   "cell_type": "code",
   "execution_count": 49,
   "id": "e9e76200-9378-4e09-9dc4-a3cf95ff9213",
   "metadata": {},
   "outputs": [
    {
     "data": {
      "text/plain": [
       "float"
      ]
     },
     "execution_count": 49,
     "metadata": {},
     "output_type": "execute_result"
    }
   ],
   "source": [
    "type(a)"
   ]
  },
  {
   "cell_type": "code",
   "execution_count": 50,
   "id": "904448df-86de-4176-b233-a3778c4368f4",
   "metadata": {},
   "outputs": [],
   "source": [
    "b = int(y)"
   ]
  },
  {
   "cell_type": "code",
   "execution_count": 51,
   "id": "97ab5901-68f5-412f-b15c-5b3ed14ceb30",
   "metadata": {},
   "outputs": [
    {
     "data": {
      "text/plain": [
       "int"
      ]
     },
     "execution_count": 51,
     "metadata": {},
     "output_type": "execute_result"
    }
   ],
   "source": [
    "type(b)"
   ]
  },
  {
   "cell_type": "code",
   "execution_count": 53,
   "id": "909c8e98-38cc-40b9-8eef-0cefc0fbe2d3",
   "metadata": {},
   "outputs": [
    {
     "name": "stdout",
     "output_type": "stream",
     "text": [
      "3\n"
     ]
    }
   ],
   "source": [
    "print(b)"
   ]
  },
  {
   "cell_type": "code",
   "execution_count": 54,
   "id": "03c65100-5457-4843-89cf-2548ce548abd",
   "metadata": {},
   "outputs": [
    {
     "data": {
      "text/plain": [
       "(10+3.84j)"
      ]
     },
     "execution_count": 54,
     "metadata": {},
     "output_type": "execute_result"
    }
   ],
   "source": [
    "complex(x,y)"
   ]
  },
  {
   "cell_type": "code",
   "execution_count": null,
   "id": "b50a5034-da6c-4de4-881a-e0226df5c750",
   "metadata": {},
   "outputs": [],
   "source": []
  },
  {
   "cell_type": "markdown",
   "id": "eed7184e-2285-4bd4-ab2d-e29d96d5bdea",
   "metadata": {},
   "source": [
    "## Comparison Operators\n",
    "\n",
    "You can compare numbers in Python using comparison operators like <, >, <=, >=, ==, and !=. Here are some examples:\n",
    "\n",
    "* '\\=\\=' Equal to: True if both operands are equal.\n",
    "* '\\!\\=' Not equal to: True if operands are not equal.\n",
    "* '\\>' Greater than: True if the left operand is greater than the right operand.\n",
    "* '\\<' Less than: True if the left operand is less than the right operand.\n",
    "* '\\>\\=' Greater than or equal to: True if the left operand is greater than or equal to the right operand.\n",
    "* '\\<\\=' Less than or equal to: True if the left operand is less than or equal to the right operand."
   ]
  },
  {
   "cell_type": "code",
   "execution_count": 56,
   "id": "d1e8a77c-d786-467a-81d5-17aa4e80b07e",
   "metadata": {},
   "outputs": [],
   "source": [
    "num1 = 44"
   ]
  },
  {
   "cell_type": "code",
   "execution_count": 62,
   "id": "e3860c8b-3d6f-4cbb-9414-9c4ce12f341a",
   "metadata": {},
   "outputs": [],
   "source": [
    "num2 = 66.33"
   ]
  },
  {
   "cell_type": "code",
   "execution_count": 63,
   "id": "d294e686-78ca-4601-a12f-14b1374b24c3",
   "metadata": {},
   "outputs": [
    {
     "data": {
      "text/plain": [
       "False"
      ]
     },
     "execution_count": 63,
     "metadata": {},
     "output_type": "execute_result"
    }
   ],
   "source": [
    "num1 == num2"
   ]
  },
  {
   "cell_type": "code",
   "execution_count": 64,
   "id": "7a878516-7a0a-45b0-97c0-8c043efbd70f",
   "metadata": {},
   "outputs": [
    {
     "data": {
      "text/plain": [
       "True"
      ]
     },
     "execution_count": 64,
     "metadata": {},
     "output_type": "execute_result"
    }
   ],
   "source": [
    "num1 != num2"
   ]
  },
  {
   "cell_type": "code",
   "execution_count": 65,
   "id": "e720c00c-e29d-455a-8157-1f7450bc851e",
   "metadata": {},
   "outputs": [
    {
     "data": {
      "text/plain": [
       "True"
      ]
     },
     "execution_count": 65,
     "metadata": {},
     "output_type": "execute_result"
    }
   ],
   "source": [
    "num1 <= num2"
   ]
  },
  {
   "cell_type": "code",
   "execution_count": null,
   "id": "58471506-6038-461e-9b4d-3028ed211a26",
   "metadata": {},
   "outputs": [],
   "source": []
  },
  {
   "cell_type": "markdown",
   "id": "4ebc9324-1544-4197-8b5c-f16554ce73e6",
   "metadata": {},
   "source": [
    "## Math Functions\n",
    "\n",
    "Python also provides a variety of math functions that you can use to perform more complex operations on numbers. Some of these functions include abs(), round(), min(), max(), pow(), sqrt(), and log(). Here are some examples:"
   ]
  },
  {
   "cell_type": "code",
   "execution_count": 70,
   "id": "9db475bd-76ff-4365-bee0-743b4e647742",
   "metadata": {},
   "outputs": [
    {
     "data": {
      "text/plain": [
       "1"
      ]
     },
     "execution_count": 70,
     "metadata": {},
     "output_type": "execute_result"
    }
   ],
   "source": [
    "min(1,3,4)"
   ]
  },
  {
   "cell_type": "code",
   "execution_count": 66,
   "id": "983ab777-65be-4bdf-83a1-7bfc63c90434",
   "metadata": {},
   "outputs": [],
   "source": [
    "# https://docs.python.org/3/library/math.html\n",
    "\n",
    "import math\n",
    "\n",
    "# from math import factorial"
   ]
  },
  {
   "cell_type": "code",
   "execution_count": 67,
   "id": "eb62c687-7efa-4903-95ed-85021dbbc70c",
   "metadata": {},
   "outputs": [],
   "source": [
    "x = -22.3"
   ]
  },
  {
   "cell_type": "code",
   "execution_count": 68,
   "id": "1bc556c2-3e3d-4888-9ad2-e82db4c478f4",
   "metadata": {},
   "outputs": [
    {
     "data": {
      "text/plain": [
       "22.3"
      ]
     },
     "execution_count": 68,
     "metadata": {},
     "output_type": "execute_result"
    }
   ],
   "source": [
    "math.fabs(x)"
   ]
  },
  {
   "cell_type": "code",
   "execution_count": 69,
   "id": "bb344b89-6d33-43cd-9bbc-dcfcd6b9690b",
   "metadata": {},
   "outputs": [
    {
     "data": {
      "text/plain": [
       "5.0"
      ]
     },
     "execution_count": 69,
     "metadata": {},
     "output_type": "execute_result"
    }
   ],
   "source": [
    "math.sqrt(25)"
   ]
  },
  {
   "cell_type": "code",
   "execution_count": 72,
   "id": "ce79c976-e727-4a41-85f6-220e50d7e408",
   "metadata": {},
   "outputs": [
    {
     "data": {
      "text/plain": [
       "-0.9880316240928618"
      ]
     },
     "execution_count": 72,
     "metadata": {},
     "output_type": "execute_result"
    }
   ],
   "source": [
    "math.sin(30)"
   ]
  },
  {
   "cell_type": "code",
   "execution_count": 74,
   "id": "7f7e5433-396b-4843-9b2d-2e65d28afe16",
   "metadata": {},
   "outputs": [
    {
     "data": {
      "text/plain": [
       "3.14159"
      ]
     },
     "execution_count": 74,
     "metadata": {},
     "output_type": "execute_result"
    }
   ],
   "source": [
    "round(math.pi, 5)"
   ]
  },
  {
   "cell_type": "code",
   "execution_count": null,
   "id": "05ee88fc-354f-4298-b693-c79fbf45bbf3",
   "metadata": {},
   "outputs": [],
   "source": []
  }
 ],
 "metadata": {
  "kernelspec": {
   "display_name": "Python 3 (ipykernel)",
   "language": "python",
   "name": "python3"
  },
  "language_info": {
   "codemirror_mode": {
    "name": "ipython",
    "version": 3
   },
   "file_extension": ".py",
   "mimetype": "text/x-python",
   "name": "python",
   "nbconvert_exporter": "python",
   "pygments_lexer": "ipython3",
   "version": "3.10.12"
  }
 },
 "nbformat": 4,
 "nbformat_minor": 5
}
