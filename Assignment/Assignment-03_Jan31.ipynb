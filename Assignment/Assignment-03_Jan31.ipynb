{
 "cells": [
  {
   "cell_type": "markdown",
   "id": "7e76d9b4",
   "metadata": {},
   "source": [
    "# Problem Statement\n",
    "\n",
    "We want to build an online shopping cart system that allows users to add products to their cart, calculate the total cost, apply discounts, and generate an invoice. The system should include the following functionalities:\n",
    "\n",
    "- Adding products to the cart\n",
    "- Removing products from the cart\n",
    "- Calculating the total cost\n",
    "- Applying discounts based on user type\n",
    "- Generating an invoice\n",
    "\n",
    "### 1. Create the Product class\n",
    "\n",
    "We create a basic `Product` class with attributes for the product name and price."
   ]
  },
  {
   "cell_type": "code",
   "execution_count": 1,
   "id": "a286f01a",
   "metadata": {},
   "outputs": [],
   "source": [
    "class Product:\n",
    "    def __init__(self, name, price):\n",
    "        self.name = name\n",
    "        self.__price = price\n",
    "\n",
    "    @property\n",
    "    def price(self):\n",
    "        return self.__price"
   ]
  },
  {
   "cell_type": "markdown",
   "id": "0c9aa397",
   "metadata": {},
   "source": [
    "### 2.  Implement the User class\n",
    "\n",
    "In this step, we create a `User` class with attributes for the user's name and whether they are a premium member. We then modify the `calculate_total_cost` method in the `ShoppingCart` class to apply a `10%` discount for premium users."
   ]
  },
  {
   "cell_type": "code",
   "execution_count": 2,
   "id": "3393e953",
   "metadata": {},
   "outputs": [],
   "source": [
    "class User:\n",
    "    users = []\n",
    "    \n",
    "    def __init__(self, name, is_premium = False):\n",
    "        self.name = name\n",
    "        self.cart = ShoppingCart()\n",
    "        self.__is_premium = is_premium\n",
    "        # self.__is_admin = is_admin\n",
    "\n",
    "        User.users.append(self)\n",
    "\n",
    "    @property\n",
    "    def is_premium(self):\n",
    "        return self.__is_premium\n",
    "\n",
    "    # @is_premium.setter\n",
    "    # def is_premium(self, other_user):\n",
    "    #     if __is_admin:\n",
    "    #         other_user.__is_premium = True\n",
    "        "
   ]
  },
  {
   "cell_type": "markdown",
   "id": "3b7e070b",
   "metadata": {},
   "source": [
    "### 3. Create the ShoppingCart class\n",
    "\n",
    "In this step, we create a `ShoppingCart` class with methods for adding and removing products from the cart, as well as calculating the total cost of the items in the cart."
   ]
  },
  {
   "cell_type": "code",
   "execution_count": 3,
   "id": "c0b5196d",
   "metadata": {},
   "outputs": [],
   "source": [
    "def discount_10_percentage(func):\n",
    "    \n",
    "    def wrapper(self,user):\n",
    "        total_cost = func(self, user)\n",
    "        if user.is_premium:\n",
    "            return total_cost, total_cost * 0.1\n",
    "        return total_cost, 0\n",
    "\n",
    "    return wrapper\n",
    "        "
   ]
  },
  {
   "cell_type": "markdown",
   "id": "da1f3494",
   "metadata": {},
   "source": [
    "Here, we defined a decorator `discount_10_percent` that applies a `10%` discount to the total cost. We then apply this decorator to the `calculate_total_cost` method in the `ShoppingCart` class."
   ]
  },
  {
   "cell_type": "code",
   "execution_count": 4,
   "id": "70bbec8d",
   "metadata": {},
   "outputs": [],
   "source": [
    "class ShoppingCart:\n",
    "    def __init__(self):\n",
    "        self.products = []\n",
    "\n",
    "    def add_product(self, product):\n",
    "        self.products.append(product)\n",
    "\n",
    "    def remove_product(self, product):\n",
    "        self.products.remove(product)\n",
    "\n",
    "    @discount_10_percentage\n",
    "    def calculate_total_cost(self, user):\n",
    "        return sum(product.price for product in self.products)\n",
    "\n",
    "    def generate_invoice(self, user):\n",
    "        invoice = f\"_________________________\\n\"\n",
    "        invoice += f\"| Invoice for {user.name}:\\n\"\n",
    "        invoice += \"| ====================\\n\"\n",
    "        for product in self.products:\n",
    "            invoice += f\"| {product.name}: ${product.price}\\n\"\n",
    "        total_cost, discounted = self.calculate_total_cost(user)\n",
    "        invoice += \"| -----------------------\\n\"\n",
    "        invoice += f\"| Sub-Total: ${total_cost}\\n\"\n",
    "        invoice += f\"| Discount (10%): ${discounted}\\n\"\n",
    "        invoice += \"| -----------------------\\n\"\n",
    "        invoice += f\"| Total: ${total_cost - discounted}\"\n",
    "        return invoice\n",
    "\n",
    "    def get_products(self):\n",
    "        yield from self.products"
   ]
  },
  {
   "cell_type": "markdown",
   "id": "afc26053",
   "metadata": {},
   "source": [
    "### 4. Testing the functionality\n",
    "\n",
    "Now that we have implemented the necessary classes and methods, let's test our online shopping cart system:"
   ]
  },
  {
   "cell_type": "code",
   "execution_count": 5,
   "id": "6186bdcb",
   "metadata": {},
   "outputs": [],
   "source": [
    "user1 = User(\"shailesh\")\n",
    "user2 = User(\"asmit\", True)"
   ]
  },
  {
   "cell_type": "code",
   "execution_count": 6,
   "id": "f20574df-99ec-49da-aef7-e17d1f64abcd",
   "metadata": {},
   "outputs": [],
   "source": [
    "prod1 = Product(\"Shirt\", 20)\n",
    "prod2 = Product(\"Shoes\", 50)\n",
    "prod3 = Product(\"Phone\", 200)"
   ]
  },
  {
   "cell_type": "code",
   "execution_count": 7,
   "id": "9b24005f-5714-42c9-a3fb-815c59b18170",
   "metadata": {},
   "outputs": [],
   "source": [
    "user1.cart.add_product(prod1)\n",
    "user1.cart.add_product(prod2)"
   ]
  },
  {
   "cell_type": "code",
   "execution_count": 8,
   "id": "ffbf96a9-618a-4b4f-8761-3cc3b3ec5574",
   "metadata": {},
   "outputs": [
    {
     "data": {
      "text/plain": [
       "[<__main__.Product at 0x7bd7e2da01c0>, <__main__.Product at 0x7bd7e2da2050>]"
      ]
     },
     "execution_count": 8,
     "metadata": {},
     "output_type": "execute_result"
    }
   ],
   "source": [
    "list(user1.cart.get_products())"
   ]
  },
  {
   "cell_type": "code",
   "execution_count": 9,
   "id": "775dc211-d5f3-4e00-92f2-9410e8c3f04e",
   "metadata": {},
   "outputs": [
    {
     "data": {
      "text/plain": [
       "(70, 0)"
      ]
     },
     "execution_count": 9,
     "metadata": {},
     "output_type": "execute_result"
    }
   ],
   "source": [
    "user1.cart.calculate_total_cost(user1)"
   ]
  },
  {
   "cell_type": "code",
   "execution_count": 10,
   "id": "326f41ec-1207-4bfa-8439-7085440baddd",
   "metadata": {},
   "outputs": [],
   "source": [
    "user2.cart.add_product(prod1)\n",
    "user2.cart.add_product(prod2)"
   ]
  },
  {
   "cell_type": "code",
   "execution_count": 11,
   "id": "09f5baaa-455b-41ef-96c3-9864dd2e7d75",
   "metadata": {},
   "outputs": [
    {
     "data": {
      "text/plain": [
       "(70, 7.0)"
      ]
     },
     "execution_count": 11,
     "metadata": {},
     "output_type": "execute_result"
    }
   ],
   "source": [
    "user2.cart.calculate_total_cost(user2)"
   ]
  },
  {
   "cell_type": "markdown",
   "id": "7ea7c96e",
   "metadata": {},
   "source": [
    "### 5. Generating Invoice for a given cart"
   ]
  },
  {
   "cell_type": "code",
   "execution_count": 12,
   "id": "c727607d-74ed-4609-bc88-3a14049c162f",
   "metadata": {},
   "outputs": [
    {
     "name": "stdout",
     "output_type": "stream",
     "text": [
      "_________________________\n",
      "| Invoice for shailesh:\n",
      "| ====================\n",
      "| Shirt: $20\n",
      "| Shoes: $50\n",
      "| -----------------------\n",
      "| Sub-Total: $70\n",
      "| Discount (10%): $0\n",
      "| -----------------------\n",
      "| Total: $70\n"
     ]
    }
   ],
   "source": [
    "print(user1.cart.generate_invoice(user1))"
   ]
  },
  {
   "cell_type": "code",
   "execution_count": 13,
   "id": "cfc0915a-91b0-4b54-a337-1ccd9529d469",
   "metadata": {},
   "outputs": [
    {
     "name": "stdout",
     "output_type": "stream",
     "text": [
      "_________________________\n",
      "| Invoice for asmit:\n",
      "| ====================\n",
      "| Shirt: $20\n",
      "| Shoes: $50\n",
      "| -----------------------\n",
      "| Sub-Total: $70\n",
      "| Discount (10%): $7.0\n",
      "| -----------------------\n",
      "| Total: $63.0\n"
     ]
    }
   ],
   "source": [
    "print(user2.cart.generate_invoice(user2))"
   ]
  },
  {
   "cell_type": "markdown",
   "id": "b602d561-09a8-4086-9295-dce1e8dacb71",
   "metadata": {},
   "source": [
    "### 6. Bonus Challenge"
   ]
  },
  {
   "cell_type": "markdown",
   "id": "cd2cf83b",
   "metadata": {},
   "source": [
    "In this case each user share the same cart, which is useless. Also each user can register himself/herself as a premium user, which is not practical again. So, you have to add following two additional features to the above program, to make it more real:\n",
    "\n",
    "1. Cart for a user should be independent from other users\n",
    "2. Add a new admin feature `is_admin` that takes in boolean values `[True, False]`, and only admin should be allowed to create other admins and set `is_premium=True` for other users"
   ]
  },
  {
   "cell_type": "code",
   "execution_count": null,
   "id": "59e0bc19-36f6-4f4f-9d96-994e0dc19b59",
   "metadata": {},
   "outputs": [],
   "source": []
  }
 ],
 "metadata": {
  "kernelspec": {
   "display_name": "Python 3 (ipykernel)",
   "language": "python",
   "name": "python3"
  },
  "language_info": {
   "codemirror_mode": {
    "name": "ipython",
    "version": 3
   },
   "file_extension": ".py",
   "mimetype": "text/x-python",
   "name": "python",
   "nbconvert_exporter": "python",
   "pygments_lexer": "ipython3",
   "version": "3.10.12"
  }
 },
 "nbformat": 4,
 "nbformat_minor": 5
}
