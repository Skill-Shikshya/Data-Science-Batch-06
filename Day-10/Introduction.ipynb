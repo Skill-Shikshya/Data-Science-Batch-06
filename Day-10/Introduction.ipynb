{
 "cells": [
  {
   "cell_type": "markdown",
   "id": "24ada80c-6bf9-4039-bfe6-1e9705affb5c",
   "metadata": {},
   "source": [
    "# Python Functions\n",
    "\n",
    "A function is a block of code that performs a specific task and can be reused throughout a program. \n",
    "\n",
    "Functions are defined using the `def` keyword in python, followed by the function name and any parameters the function takes. \n",
    "\n",
    "```python\n",
    "def <function_name>(parameters):\n",
    "    do something\n",
    "    .\n",
    "    .\n",
    "    return <result>\n",
    "```"
   ]
  },
  {
   "cell_type": "markdown",
   "id": "ea6464e5-c7fa-455b-9bd2-38c44ae7ba89",
   "metadata": {},
   "source": [
    "A method is a function that is associated with an object. \n",
    "It allows you to perform actions on the object or manipulate its data in some way. \n",
    "Methods can be called on any object of a particular class or data type. \n",
    "While talking about data-types in our previous lecture, we also talked about methods associated with respective data-type.\n"
   ]
  },
  {
   "cell_type": "code",
   "execution_count": null,
   "id": "34f58477-604c-4da3-b1f4-9d34fa1738e2",
   "metadata": {},
   "outputs": [],
   "source": []
  },
  {
   "cell_type": "code",
   "execution_count": 1,
   "id": "71d76808-ebf5-4fa1-b690-2ac3e4bdaf7b",
   "metadata": {},
   "outputs": [],
   "source": [
    "def calculate_sum(num1, num2):\n",
    "    summation = num1 + num2\n",
    "    return summation"
   ]
  },
  {
   "cell_type": "code",
   "execution_count": 3,
   "id": "805e58b6-a3de-446a-b328-55b0d8059830",
   "metadata": {},
   "outputs": [],
   "source": [
    "value = calculate_sum(num1 = 44, num2 = 54)"
   ]
  },
  {
   "cell_type": "code",
   "execution_count": 4,
   "id": "a17c7936-e9f8-427d-a031-f9d2459c2f74",
   "metadata": {},
   "outputs": [
    {
     "name": "stdout",
     "output_type": "stream",
     "text": [
      "98\n"
     ]
    }
   ],
   "source": [
    "print(value)"
   ]
  },
  {
   "cell_type": "code",
   "execution_count": 6,
   "id": "8b86390a-9bae-48da-a7d7-ad699fb6027a",
   "metadata": {},
   "outputs": [],
   "source": [
    "from math import sqrt"
   ]
  },
  {
   "cell_type": "code",
   "execution_count": 7,
   "id": "2bd322ec-bb02-47a1-b1b7-3cfbcc73db41",
   "metadata": {},
   "outputs": [
    {
     "data": {
      "text/plain": [
       "7.0"
      ]
     },
     "execution_count": 7,
     "metadata": {},
     "output_type": "execute_result"
    }
   ],
   "source": [
    "sqrt(49)"
   ]
  },
  {
   "cell_type": "code",
   "execution_count": null,
   "id": "bb7d8683-3373-4cd9-9f87-091a64f509f2",
   "metadata": {},
   "outputs": [],
   "source": []
  }
 ],
 "metadata": {
  "kernelspec": {
   "display_name": "Python 3 (ipykernel)",
   "language": "python",
   "name": "python3"
  },
  "language_info": {
   "codemirror_mode": {
    "name": "ipython",
    "version": 3
   },
   "file_extension": ".py",
   "mimetype": "text/x-python",
   "name": "python",
   "nbconvert_exporter": "python",
   "pygments_lexer": "ipython3",
   "version": "3.10.12"
  }
 },
 "nbformat": 4,
 "nbformat_minor": 5
}
