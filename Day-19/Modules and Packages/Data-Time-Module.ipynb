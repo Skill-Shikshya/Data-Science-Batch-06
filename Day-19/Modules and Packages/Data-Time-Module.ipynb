{
 "cells": [
  {
   "cell_type": "markdown",
   "id": "78d0d35e-f60e-44c3-89b2-3ba35b93782d",
   "metadata": {},
   "source": [
    "# Python Date and Time Modules\n",
    "\n",
    "Python has several built-in modules for working with date and time. Some of the most commonly used modules are:\n",
    "\n",
    "- **datetime:** The datetime module provides classes for working with dates and times, including formatting and arithmetic operations.\n",
    "- **time:** The time module provides functions for working with time, including formatting and arithmetic operations.\n"
   ]
  },
  {
   "cell_type": "markdown",
   "id": "86517802-7520-493d-9b2c-d18948740ebe",
   "metadata": {},
   "source": [
    "## 1. datetime\n",
    "\n",
    "The `datetime` module in Python is used to work with dates, times, and time intervals. It provides several classes for working with date and time, including `date`, `time`, `datetime`, `timedelta`, and `tzinfo`.\n",
    "\n",
    "- `datetime.date:` This class represents a date (year, month, and day) in the Gregorian calendar. Dates can be created using the constructor `date(year, month, day)`.\n",
    "- `datetime.time:` This class represents a time (hour, minute, second, and microsecond). Times can be created using the constructor `time(hour=0, minute=0, second=0, microsecond=0)`.\n",
    "- `datetime.datetime:` This class represents a date and time. Datetimes can be created using the constructor `datetime(year, month, day, hour=0, minute=0, second=0, microsecond=0)`.\n",
    "- `datetime.timedelta:` This class represents a duration or the difference between two dates or times. Timedeltas can be created using the constructor `timedelta(days=0, seconds=0, microseconds=0, milliseconds=0, minutes=0, hours=0, weeks=0)`.\n",
    "- `datetime.tzinfo:` This is an abstract base class that can be used to define time zones."
   ]
  },
  {
   "cell_type": "code",
   "execution_count": 1,
   "id": "7b7a039b-d97b-4e2e-91a8-3597dc6c01dc",
   "metadata": {},
   "outputs": [],
   "source": [
    "import datetime"
   ]
  },
  {
   "cell_type": "code",
   "execution_count": 32,
   "id": "2526fe4d-fb0a-447f-b775-d0ef786a6ad4",
   "metadata": {},
   "outputs": [],
   "source": [
    "# \"2025/01/29\"\n",
    "date1 = datetime.date(2025,1,29)\n",
    "date2 = datetime.date(2025,2,28)\n",
    "today_date = datetime.date.today()"
   ]
  },
  {
   "cell_type": "code",
   "execution_count": 33,
   "id": "73179d45-e2ca-4a80-9533-e63b99e22b89",
   "metadata": {},
   "outputs": [
    {
     "name": "stdout",
     "output_type": "stream",
     "text": [
      "2025-01-29\n"
     ]
    }
   ],
   "source": [
    "print(today_date)"
   ]
  },
  {
   "cell_type": "code",
   "execution_count": 6,
   "id": "4e383e8d-f1d8-4987-88fb-af369461ace5",
   "metadata": {},
   "outputs": [
    {
     "name": "stdout",
     "output_type": "stream",
     "text": [
      "2025-01-29\n"
     ]
    }
   ],
   "source": [
    "print(date1)"
   ]
  },
  {
   "cell_type": "code",
   "execution_count": 15,
   "id": "3dfee38d-b070-4d22-9703-f95d573e9361",
   "metadata": {},
   "outputs": [
    {
     "data": {
      "text/plain": [
       "True"
      ]
     },
     "execution_count": 15,
     "metadata": {},
     "output_type": "execute_result"
    }
   ],
   "source": [
    "date1 < date2"
   ]
  },
  {
   "cell_type": "code",
   "execution_count": 36,
   "id": "150f70ab-37b2-4226-acdd-4023fd1ceb20",
   "metadata": {},
   "outputs": [
    {
     "data": {
      "text/plain": [
       "datetime.timedelta(days=30)"
      ]
     },
     "execution_count": 36,
     "metadata": {},
     "output_type": "execute_result"
    }
   ],
   "source": [
    "date2 - date1"
   ]
  },
  {
   "cell_type": "code",
   "execution_count": 50,
   "id": "cd8889c9-1e2c-4fee-b5c7-99c8bf79e441",
   "metadata": {},
   "outputs": [
    {
     "data": {
      "text/plain": [
       "'2025-01-29'"
      ]
     },
     "execution_count": 50,
     "metadata": {},
     "output_type": "execute_result"
    }
   ],
   "source": [
    "# https://docs.python.org/3/library/datetime.html#strftime-strptime-behavior\n",
    "# https://www.programiz.com/python-programming/datetime/strftime\n",
    "date1.strftime(\"%Y-%m-%d\")"
   ]
  },
  {
   "cell_type": "code",
   "execution_count": 31,
   "id": "e39f7e45-a054-43c3-ae1a-da1ca820e713",
   "metadata": {},
   "outputs": [
    {
     "data": {
      "text/plain": [
       "4"
      ]
     },
     "execution_count": 31,
     "metadata": {},
     "output_type": "execute_result"
    }
   ],
   "source": [
    "date2.weekday()"
   ]
  },
  {
   "cell_type": "code",
   "execution_count": 16,
   "id": "c1c1ce58-8ae5-41d5-b588-bf938b03dc19",
   "metadata": {},
   "outputs": [
    {
     "data": {
      "text/plain": [
       "['__add__',\n",
       " '__class__',\n",
       " '__delattr__',\n",
       " '__dir__',\n",
       " '__doc__',\n",
       " '__eq__',\n",
       " '__format__',\n",
       " '__ge__',\n",
       " '__getattribute__',\n",
       " '__gt__',\n",
       " '__hash__',\n",
       " '__init__',\n",
       " '__init_subclass__',\n",
       " '__le__',\n",
       " '__lt__',\n",
       " '__ne__',\n",
       " '__new__',\n",
       " '__radd__',\n",
       " '__reduce__',\n",
       " '__reduce_ex__',\n",
       " '__repr__',\n",
       " '__rsub__',\n",
       " '__setattr__',\n",
       " '__sizeof__',\n",
       " '__str__',\n",
       " '__sub__',\n",
       " '__subclasshook__',\n",
       " 'ctime',\n",
       " 'day',\n",
       " 'fromisocalendar',\n",
       " 'fromisoformat',\n",
       " 'fromordinal',\n",
       " 'fromtimestamp',\n",
       " 'isocalendar',\n",
       " 'isoformat',\n",
       " 'isoweekday',\n",
       " 'max',\n",
       " 'min',\n",
       " 'month',\n",
       " 'replace',\n",
       " 'resolution',\n",
       " 'strftime',\n",
       " 'timetuple',\n",
       " 'today',\n",
       " 'toordinal',\n",
       " 'weekday',\n",
       " 'year']"
      ]
     },
     "execution_count": 16,
     "metadata": {},
     "output_type": "execute_result"
    }
   ],
   "source": [
    "dir(date1)"
   ]
  },
  {
   "cell_type": "code",
   "execution_count": 51,
   "id": "4d5ee543-c5ed-4c7e-8b88-bcf7aa776b47",
   "metadata": {},
   "outputs": [],
   "source": [
    "time1 = datetime.time(8,44,25)\n",
    "time2 = datetime.time(6,44,25)"
   ]
  },
  {
   "cell_type": "code",
   "execution_count": 52,
   "id": "7069ca7a-c377-4bef-891c-fb67f48202f5",
   "metadata": {},
   "outputs": [
    {
     "data": {
      "text/plain": [
       "44"
      ]
     },
     "execution_count": 52,
     "metadata": {},
     "output_type": "execute_result"
    }
   ],
   "source": [
    "time1.minute"
   ]
  },
  {
   "cell_type": "code",
   "execution_count": 54,
   "id": "d8966dc2-884a-4d4d-afa8-f0b2a2c0fce5",
   "metadata": {},
   "outputs": [
    {
     "data": {
      "text/plain": [
       "'08:44:25'"
      ]
     },
     "execution_count": 54,
     "metadata": {},
     "output_type": "execute_result"
    }
   ],
   "source": [
    "time1.strftime(\"%H:%M:%S\")"
   ]
  },
  {
   "cell_type": "code",
   "execution_count": 55,
   "id": "9df728ef-5451-4f39-a24b-ee005e3faa07",
   "metadata": {},
   "outputs": [
    {
     "data": {
      "text/plain": [
       "True"
      ]
     },
     "execution_count": 55,
     "metadata": {},
     "output_type": "execute_result"
    }
   ],
   "source": [
    "time1 > time2"
   ]
  },
  {
   "cell_type": "code",
   "execution_count": null,
   "id": "aa7a20f3-6f00-4101-b2db-f98a00c3b009",
   "metadata": {},
   "outputs": [],
   "source": []
  },
  {
   "cell_type": "code",
   "execution_count": 63,
   "id": "79628dd0-6561-4e16-bf9e-9e7f9de0b50e",
   "metadata": {},
   "outputs": [],
   "source": [
    "time_period = datetime.timedelta(days = 4)"
   ]
  },
  {
   "cell_type": "code",
   "execution_count": 64,
   "id": "1d9f0f47-ed73-406a-8b44-018116e9a4ff",
   "metadata": {},
   "outputs": [
    {
     "data": {
      "text/plain": [
       "datetime.date(2025, 2, 2)"
      ]
     },
     "execution_count": 64,
     "metadata": {},
     "output_type": "execute_result"
    }
   ],
   "source": [
    "date1 + time_period"
   ]
  },
  {
   "cell_type": "code",
   "execution_count": null,
   "id": "4263bb3e-609a-43d5-871c-6b7c5cffe562",
   "metadata": {},
   "outputs": [],
   "source": []
  },
  {
   "cell_type": "code",
   "execution_count": 74,
   "id": "5abd9201-d712-42a9-b525-aeaf722c8654",
   "metadata": {},
   "outputs": [],
   "source": [
    "nst = datetime.timezone(datetime.timedelta(hours=5, minutes=45))"
   ]
  },
  {
   "cell_type": "code",
   "execution_count": 75,
   "id": "1bb7aab1-ce3c-40d9-bd3f-6537b6217d39",
   "metadata": {},
   "outputs": [
    {
     "data": {
      "text/plain": [
       "datetime.datetime(2025, 1, 26, 9, 3, tzinfo=datetime.timezone(datetime.timedelta(seconds=20700)))"
      ]
     },
     "execution_count": 75,
     "metadata": {},
     "output_type": "execute_result"
    }
   ],
   "source": [
    "date = datetime.datetime(2025,1,22,9,3, tzinfo = nst)\n",
    "date + time_period"
   ]
  },
  {
   "cell_type": "code",
   "execution_count": 78,
   "id": "67a59926-56e7-40cf-9c35-f65aec5dd327",
   "metadata": {},
   "outputs": [
    {
     "data": {
      "text/plain": [
       "datetime.datetime(2025, 1, 29, 9, 11, 42, 429859, tzinfo=datetime.timezone(datetime.timedelta(seconds=20700)))"
      ]
     },
     "execution_count": 78,
     "metadata": {},
     "output_type": "execute_result"
    }
   ],
   "source": [
    "datetime.datetime.now(tz = nst)"
   ]
  },
  {
   "cell_type": "code",
   "execution_count": 73,
   "id": "746f6b83-cc9e-44a7-97e0-1987d7893368",
   "metadata": {},
   "outputs": [
    {
     "data": {
      "text/plain": [
       "'UTC+05:45'"
      ]
     },
     "execution_count": 73,
     "metadata": {},
     "output_type": "execute_result"
    }
   ],
   "source": [
    "date.tzname()"
   ]
  },
  {
   "cell_type": "code",
   "execution_count": null,
   "id": "60210927-17f4-449b-b868-586d85e5e74d",
   "metadata": {},
   "outputs": [],
   "source": []
  },
  {
   "cell_type": "markdown",
   "id": "519d5649-cf9b-4208-bc1a-4edad44a9d4a",
   "metadata": {},
   "source": [
    "Each class of `datetime` module is associated with a number of methods. Here are some of the important methods of respective classes in the Python `datetime` module:\n",
    "\n",
    "- **class datetime.date:**\n",
    "    - `today()`: Returns the current date.\n",
    "    - `fromisoformat(date_string)`: Returns a date object corresponding to a date string in the format 'YYYY-MM-DD'.\n",
    "    - `weekday()`: Returns the day of the week as an integer, where Monday is 0 and Sunday is 6.\n",
    "    - `strftime(format)`: Returns a string representing the date according to the format string specified.\n",
    "\n",
    "- **class datetime.time:**\n",
    "    - `hour`: Returns the hour of the time as an integer, in the range 0 to 23.\n",
    "    - `minute`: Returns the minute of the time as an integer, in the range 0 to 59.\n",
    "    - `second`: Returns the second of the time as an integer, in the range 0 to 59.\n",
    "    - `strftime(format)`: Returns a string representing the time according to the format string specified.\n",
    "\n",
    "- **class datetime.datetime:**\n",
    "    - `now([tz])`: Returns the current date and time as a datetime object.\n",
    "    - `fromtimestamp(timestamp[, tz])`: Returns a datetime object corresponding to a POSIX timestamp.\n",
    "    - `ctime()`: Returns a string representing the datetime object in the format 'Day Month Date Time Year'.\n",
    "    - `strftime(format)`: Returns a string representing the datetime object according to the format string specified.\n",
    "\n",
    "- **class datetime.timedelta:**\n",
    "    - `days`: Returns the number of days in the timedelta object.\n",
    "    - `seconds`: Returns the number of seconds in the timedelta object.\n",
    "    - `total_seconds()`: Returns the total number of seconds in the timedelta object.\n",
    "    - `__add__(other)`: Adds two timedelta objects together.\n",
    "    \n",
    "- **class datetime.tzinfo:**\n",
    "    - `utcoffset(self, dt)`: returns the UTC offset for a given datetime object.\n",
    "    - `dst(self, dt)`: returns the daylight saving time (DST) adjustment, if any, for a given datetime object.\n",
    "    - `tzname(self, dt)`: returns the name of the time zone.\n",
    "    - `fromutc(self, dt)`: converts a UTC time to the local time for the time zone.\n",
    "    - `localize(self, dt, is_dst=None)`: attaches the time zone information to a naive datetime object.\n",
    "    - `normalize(self, dt)`: adjusts the date and time for the time zone."
   ]
  },
  {
   "cell_type": "code",
   "execution_count": null,
   "id": "a2cf4633-0af0-4722-9c57-336413a0b978",
   "metadata": {},
   "outputs": [],
   "source": []
  }
 ],
 "metadata": {
  "kernelspec": {
   "display_name": "Python 3 (ipykernel)",
   "language": "python",
   "name": "python3"
  },
  "language_info": {
   "codemirror_mode": {
    "name": "ipython",
    "version": 3
   },
   "file_extension": ".py",
   "mimetype": "text/x-python",
   "name": "python",
   "nbconvert_exporter": "python",
   "pygments_lexer": "ipython3",
   "version": "3.10.12"
  }
 },
 "nbformat": 4,
 "nbformat_minor": 5
}
