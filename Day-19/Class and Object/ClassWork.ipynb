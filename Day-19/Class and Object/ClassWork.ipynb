{
 "cells": [
  {
   "cell_type": "markdown",
   "id": "b22497d5-c602-4116-a942-c6ac517103c9",
   "metadata": {},
   "source": [
    "### **OOP Concepts**  \n",
    "Create a class `BankAccount` that:\n",
    "1. Allows a user to create an account by providing a **name** and an initial **balance**.\n",
    "2. Includes methods to **deposit**, **withdraw**, and **check balance**. The withdrawal should not allow an account to go negative.\n",
    "3. Overloads the `+` operator to allow merging of two accounts (sum of their balances) and returns a new account.\n",
    "4. Uses **Inheritance** to create a subclass `SavingsAccount` that adds an interest rate. Implement a method to calculate interest on the balance and update it accordingly."
   ]
  },
  {
   "cell_type": "code",
   "execution_count": 6,
   "id": "468eafef-a290-4b88-b091-86acbaa7127f",
   "metadata": {},
   "outputs": [
    {
     "data": {
      "text/plain": [
       "True"
      ]
     },
     "execution_count": 6,
     "metadata": {},
     "output_type": "execute_result"
    }
   ],
   "source": [
    "isinstance([1,2], list)"
   ]
  },
  {
   "cell_type": "code",
   "execution_count": 15,
   "id": "b9607cbc-fe13-4ad1-b0c8-aac95cd0a712",
   "metadata": {},
   "outputs": [],
   "source": [
    "class BankAccount:\n",
    "    def __init__(self, name: str, balance: float):\n",
    "        self.name = name\n",
    "        self.balance = max(0.0, balance)\n",
    "\n",
    "    def __repr__(self):\n",
    "        return f\"Account(AccName: {self.name})\"\n",
    "\n",
    "    def deposit(self, amount = 0):\n",
    "        self.balance += amount\n",
    "        return self.check_balance()\n",
    "\n",
    "    def withdraw(self, amount = 0):\n",
    "        if amount > self.balance:\n",
    "            print(\"Insufficient funds to withdraw\")\n",
    "        else:\n",
    "            self.balance -= amount\n",
    "            print(f\"${amount} withdrawn\")\n",
    "\n",
    "    def check_balance(self):\n",
    "        print(f\"Hello {self.name}, you have ${self.balance}\")\n",
    "        return self.balance\n",
    "\n",
    "    def __add__(self, other):\n",
    "        if not isinstance(other, BankAccount):\n",
    "            print(\"Invalid Operation !\")\n",
    "            return None \n",
    "        \n",
    "        new_name = f\"{self.name} & {other.name}\" \n",
    "        new_balance = self.balance + other.balance\n",
    "        \n",
    "        return BankAccount(new_name, new_balance)"
   ]
  },
  {
   "cell_type": "code",
   "execution_count": 16,
   "id": "2adcfbdb-731c-49bb-967a-6e822fef0232",
   "metadata": {},
   "outputs": [],
   "source": [
    "class SavingAccount(BankAccount):\n",
    "    def __init__(self, name: str, balance: float, rate : float):\n",
    "        super().__init__(name, balance)\n",
    "        self.rate = max(0.0, rate)\n",
    "        \n",
    "    def calculate_interest(self):\n",
    "        interest = self.balance * (self.rate/100)\n",
    "        self.balance += interest\n",
    "\n",
    "        return self.check_balance()"
   ]
  },
  {
   "cell_type": "code",
   "execution_count": 17,
   "id": "7cc1ea8f-a22b-4322-a8f1-468c0c86d82f",
   "metadata": {},
   "outputs": [],
   "source": [
    "my_acc = BankAccount(\"Shailesh\", 200)\n",
    "my_sec_acc = BankAccount(\"Sagar\", 620)\n",
    "your_acc = BankAccount(\"Sneha\", 500)"
   ]
  },
  {
   "cell_type": "code",
   "execution_count": 33,
   "id": "9736fd60-c44e-4811-9164-b57ceb1f3d89",
   "metadata": {},
   "outputs": [],
   "source": [
    "sav_acc = SavingAccount(\"Rahul\", 1200, 5)"
   ]
  },
  {
   "cell_type": "code",
   "execution_count": 22,
   "id": "5ce6c197-a458-49f5-a836-fd0494d6dd98",
   "metadata": {},
   "outputs": [
    {
     "name": "stdout",
     "output_type": "stream",
     "text": [
      "Hello Shailesh, you have $200\n"
     ]
    },
    {
     "data": {
      "text/plain": [
       "200"
      ]
     },
     "execution_count": 22,
     "metadata": {},
     "output_type": "execute_result"
    }
   ],
   "source": [
    "my_acc.check_balance()"
   ]
  },
  {
   "cell_type": "code",
   "execution_count": 23,
   "id": "05b23b84-1b4f-4edf-93da-d11367aeb30e",
   "metadata": {},
   "outputs": [
    {
     "name": "stdout",
     "output_type": "stream",
     "text": [
      "Hello Shailesh, you have $224\n"
     ]
    },
    {
     "data": {
      "text/plain": [
       "224"
      ]
     },
     "execution_count": 23,
     "metadata": {},
     "output_type": "execute_result"
    }
   ],
   "source": [
    "my_acc.deposit(24)"
   ]
  },
  {
   "cell_type": "code",
   "execution_count": 25,
   "id": "c9e44d04-5a0d-472c-a028-043117af14e9",
   "metadata": {},
   "outputs": [
    {
     "name": "stdout",
     "output_type": "stream",
     "text": [
      "$100 withdrawn\n"
     ]
    }
   ],
   "source": [
    "my_acc.withdraw(100)"
   ]
  },
  {
   "cell_type": "code",
   "execution_count": 26,
   "id": "8c80396d-dff2-496d-a321-e5e9c06fb680",
   "metadata": {},
   "outputs": [
    {
     "name": "stdout",
     "output_type": "stream",
     "text": [
      "Hello Shailesh, you have $124\n"
     ]
    },
    {
     "data": {
      "text/plain": [
       "124"
      ]
     },
     "execution_count": 26,
     "metadata": {},
     "output_type": "execute_result"
    }
   ],
   "source": [
    "my_acc.check_balance()"
   ]
  },
  {
   "cell_type": "code",
   "execution_count": 27,
   "id": "6c837f1f-e939-4d60-b684-10e79544de9f",
   "metadata": {},
   "outputs": [],
   "source": [
    "joint_acc = my_acc + my_sec_acc"
   ]
  },
  {
   "cell_type": "code",
   "execution_count": 29,
   "id": "944e905e-f504-42c3-b337-b1dec67a9031",
   "metadata": {},
   "outputs": [
    {
     "name": "stdout",
     "output_type": "stream",
     "text": [
      "Hello Shailesh & Sagar, you have $744\n"
     ]
    },
    {
     "data": {
      "text/plain": [
       "744"
      ]
     },
     "execution_count": 29,
     "metadata": {},
     "output_type": "execute_result"
    }
   ],
   "source": [
    "joint_acc.check_balance()"
   ]
  },
  {
   "cell_type": "code",
   "execution_count": 34,
   "id": "ae43292e-04cb-4468-9598-79a8643f1ac7",
   "metadata": {},
   "outputs": [
    {
     "data": {
      "text/plain": [
       "Account(AccName: Rahul)"
      ]
     },
     "execution_count": 34,
     "metadata": {},
     "output_type": "execute_result"
    }
   ],
   "source": [
    "sav_acc"
   ]
  },
  {
   "cell_type": "code",
   "execution_count": 35,
   "id": "7ccf4a26-d401-4bc0-aabd-1a075d82e670",
   "metadata": {},
   "outputs": [
    {
     "name": "stdout",
     "output_type": "stream",
     "text": [
      "Hello Rahul, you have $1200\n"
     ]
    },
    {
     "data": {
      "text/plain": [
       "1200"
      ]
     },
     "execution_count": 35,
     "metadata": {},
     "output_type": "execute_result"
    }
   ],
   "source": [
    "sav_acc.check_balance()"
   ]
  },
  {
   "cell_type": "code",
   "execution_count": 38,
   "id": "ce6ba1ae-a2f1-496f-a558-32463eeaee6b",
   "metadata": {},
   "outputs": [
    {
     "name": "stdout",
     "output_type": "stream",
     "text": [
      "Hello Rahul, you have $1323.0\n"
     ]
    },
    {
     "data": {
      "text/plain": [
       "1323.0"
      ]
     },
     "execution_count": 38,
     "metadata": {},
     "output_type": "execute_result"
    }
   ],
   "source": [
    "sav_acc.calculate_interest()"
   ]
  },
  {
   "cell_type": "code",
   "execution_count": 39,
   "id": "6e8a9f87-1c75-443a-9be4-d560484d14f5",
   "metadata": {},
   "outputs": [
    {
     "name": "stdout",
     "output_type": "stream",
     "text": [
      "Hello Rahul, you have $1323.0\n"
     ]
    },
    {
     "data": {
      "text/plain": [
       "1323.0"
      ]
     },
     "execution_count": 39,
     "metadata": {},
     "output_type": "execute_result"
    }
   ],
   "source": [
    "sav_acc.check_balance()"
   ]
  },
  {
   "cell_type": "code",
   "execution_count": null,
   "id": "066bc9da-1270-47ab-85d7-219ebb938dc6",
   "metadata": {},
   "outputs": [],
   "source": []
  }
 ],
 "metadata": {
  "kernelspec": {
   "display_name": "Python 3 (ipykernel)",
   "language": "python",
   "name": "python3"
  },
  "language_info": {
   "codemirror_mode": {
    "name": "ipython",
    "version": 3
   },
   "file_extension": ".py",
   "mimetype": "text/x-python",
   "name": "python",
   "nbconvert_exporter": "python",
   "pygments_lexer": "ipython3",
   "version": "3.10.12"
  }
 },
 "nbformat": 4,
 "nbformat_minor": 5
}
