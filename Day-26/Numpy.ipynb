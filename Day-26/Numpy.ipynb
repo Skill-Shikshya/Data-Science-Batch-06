{
 "cells": [
  {
   "cell_type": "code",
   "execution_count": 2,
   "id": "5615184f-379e-4a6e-8b93-58aac5b4fb7a",
   "metadata": {},
   "outputs": [
    {
     "name": "stdout",
     "output_type": "stream",
     "text": [
      "Collecting numpy\n",
      "  Downloading numpy-2.2.2-cp310-cp310-manylinux_2_17_x86_64.manylinux2014_x86_64.whl (16.4 MB)\n",
      "\u001b[2K     \u001b[38;2;114;156;31m━━━━━━━━━━━━━━━━━━━━━━━━━━━━━━━━━━━━━━━━\u001b[0m \u001b[32m16.4/16.4 MB\u001b[0m \u001b[31m27.9 MB/s\u001b[0m eta \u001b[36m0:00:00\u001b[0mm eta \u001b[36m0:00:01\u001b[0m0:01\u001b[0m:01\u001b[0m\n",
      "\u001b[?25hInstalling collected packages: numpy\n",
      "\u001b[31mERROR: pip's dependency resolver does not currently take into account all the packages that are installed. This behaviour is the source of the following dependency conflicts.\n",
      "tensorflow 2.18.0 requires numpy<2.1.0,>=1.26.0, but you have numpy 2.2.2 which is incompatible.\n",
      "gensim 4.3.3 requires numpy<2.0,>=1.18.5, but you have numpy 2.2.2 which is incompatible.\u001b[0m\u001b[31m\n",
      "\u001b[0mSuccessfully installed numpy-2.2.2\n"
     ]
    }
   ],
   "source": [
    "!pip install numpy "
   ]
  },
  {
   "cell_type": "code",
   "execution_count": 3,
   "id": "9be95168-a0a6-45f7-b278-a05b4734a31e",
   "metadata": {},
   "outputs": [],
   "source": [
    "import numpy as np"
   ]
  },
  {
   "cell_type": "markdown",
   "id": "f94acebf-6710-448c-95ee-4946b587a2be",
   "metadata": {},
   "source": [
    "## Creating Numpy Array"
   ]
  },
  {
   "cell_type": "code",
   "execution_count": 5,
   "id": "e3a1bae5-d8ea-4488-91cb-7dbbe2c040c1",
   "metadata": {},
   "outputs": [],
   "source": [
    "list1 = [2,3,4]\n",
    "\n",
    "arr1 = np.array(list1)"
   ]
  },
  {
   "cell_type": "code",
   "execution_count": 6,
   "id": "8b06c4e2-2545-4af2-862c-3c32332a3648",
   "metadata": {},
   "outputs": [
    {
     "data": {
      "text/plain": [
       "array([2, 3, 4])"
      ]
     },
     "execution_count": 6,
     "metadata": {},
     "output_type": "execute_result"
    }
   ],
   "source": [
    "arr1"
   ]
  },
  {
   "cell_type": "code",
   "execution_count": 7,
   "id": "32f75079-af97-4009-9e33-1bb50b21bb65",
   "metadata": {},
   "outputs": [
    {
     "data": {
      "text/plain": [
       "(3,)"
      ]
     },
     "execution_count": 7,
     "metadata": {},
     "output_type": "execute_result"
    }
   ],
   "source": [
    "arr1.shape"
   ]
  },
  {
   "cell_type": "code",
   "execution_count": 15,
   "id": "2b09f548-1a6a-48d0-aa81-4e3c205d343a",
   "metadata": {},
   "outputs": [
    {
     "data": {
      "text/plain": [
       "1"
      ]
     },
     "execution_count": 15,
     "metadata": {},
     "output_type": "execute_result"
    }
   ],
   "source": [
    "arr1.ndim"
   ]
  },
  {
   "cell_type": "code",
   "execution_count": 27,
   "id": "c4b5c480-44e3-4f21-bf4e-139b2b371dc8",
   "metadata": {},
   "outputs": [],
   "source": [
    "list2 = [[1,5,9],\n",
    "         [6,8,2],\n",
    "         [6,9,3],\n",
    "         [6,2,4]]\n",
    "arr2 = np.array(list2)"
   ]
  },
  {
   "cell_type": "code",
   "execution_count": 28,
   "id": "3962cc7c-9f20-42d7-8d19-0a790de3784c",
   "metadata": {},
   "outputs": [
    {
     "data": {
      "text/plain": [
       "array([[1, 5, 9],\n",
       "       [6, 8, 2],\n",
       "       [6, 9, 3],\n",
       "       [6, 2, 4]])"
      ]
     },
     "execution_count": 28,
     "metadata": {},
     "output_type": "execute_result"
    }
   ],
   "source": [
    "arr2"
   ]
  },
  {
   "cell_type": "code",
   "execution_count": 29,
   "id": "cd99b9cd-eca3-4f82-87d8-18cbd5756545",
   "metadata": {},
   "outputs": [
    {
     "data": {
      "text/plain": [
       "(4, 3)"
      ]
     },
     "execution_count": 29,
     "metadata": {},
     "output_type": "execute_result"
    }
   ],
   "source": [
    "arr2.shape"
   ]
  },
  {
   "cell_type": "code",
   "execution_count": 30,
   "id": "1eb003c6-7b0f-4604-a994-4b44ee9fc3e4",
   "metadata": {},
   "outputs": [
    {
     "data": {
      "text/plain": [
       "2"
      ]
     },
     "execution_count": 30,
     "metadata": {},
     "output_type": "execute_result"
    }
   ],
   "source": [
    "arr2.ndim"
   ]
  },
  {
   "cell_type": "markdown",
   "id": "f309147e-df55-494e-b8b8-376fade05b74",
   "metadata": {},
   "source": [
    "NumPy arrays can be created in several ways. Here are some of the most common methods:\n",
    "\n",
    "- `array()`: Creates NumPy arrays from Python lists\n",
    "- `zeros()`: Creates NumPy arrays with all elements initialized to 0\n",
    "- `ones()`: Creates NumPy arrays with all elements initialized to 1\n",
    "- `full()`: Creates an array with all elements initialized to same user-specified value\n",
    "- `arange()`: Creates NumPy arrays with a sequence of values (similar to python range() function)\n",
    "- `linspace()`: Creates NumPy arrays with a sequence of evenly spaced values\n",
    "- `diag()`: Creates NumPy array with the provided list of numbers as the diagonal elements and zeros elsewhere\n",
    "- `eye()`: Creates NumPy array with ones on the diagonal and zeros elsewhere\n",
    "- `identity()`: Creates an identity matrix\n",
    "- `random.rand()`: Creates NumPy array of random numbers sampled from a uniform distribution"
   ]
  },
  {
   "cell_type": "code",
   "execution_count": 37,
   "id": "92e53732-8375-401d-bcc0-70ea70ce8071",
   "metadata": {},
   "outputs": [
    {
     "data": {
      "text/plain": [
       "array([[0., 0., 0.],\n",
       "       [0., 0., 0.],\n",
       "       [0., 0., 0.],\n",
       "       [0., 0., 0.],\n",
       "       [0., 0., 0.]])"
      ]
     },
     "execution_count": 37,
     "metadata": {},
     "output_type": "execute_result"
    }
   ],
   "source": [
    "np.zeros(shape = (5,3))"
   ]
  },
  {
   "cell_type": "code",
   "execution_count": 38,
   "id": "3278be38-4770-46ac-a9cf-42f5a21831b2",
   "metadata": {},
   "outputs": [
    {
     "data": {
      "text/plain": [
       "array([[1., 1.],\n",
       "       [1., 1.],\n",
       "       [1., 1.],\n",
       "       [1., 1.]])"
      ]
     },
     "execution_count": 38,
     "metadata": {},
     "output_type": "execute_result"
    }
   ],
   "source": [
    "np.ones(shape = (4,2))"
   ]
  },
  {
   "cell_type": "code",
   "execution_count": 41,
   "id": "43199ac1-0933-4c0d-9b86-f2de8e7a6199",
   "metadata": {},
   "outputs": [
    {
     "data": {
      "text/plain": [
       "array([[1., 0., 0., 0., 0., 0., 0., 0., 0., 0.],\n",
       "       [0., 1., 0., 0., 0., 0., 0., 0., 0., 0.],\n",
       "       [0., 0., 1., 0., 0., 0., 0., 0., 0., 0.],\n",
       "       [0., 0., 0., 1., 0., 0., 0., 0., 0., 0.],\n",
       "       [0., 0., 0., 0., 1., 0., 0., 0., 0., 0.],\n",
       "       [0., 0., 0., 0., 0., 1., 0., 0., 0., 0.],\n",
       "       [0., 0., 0., 0., 0., 0., 1., 0., 0., 0.],\n",
       "       [0., 0., 0., 0., 0., 0., 0., 1., 0., 0.],\n",
       "       [0., 0., 0., 0., 0., 0., 0., 0., 1., 0.],\n",
       "       [0., 0., 0., 0., 0., 0., 0., 0., 0., 1.]])"
      ]
     },
     "execution_count": 41,
     "metadata": {},
     "output_type": "execute_result"
    }
   ],
   "source": [
    "np.identity(10)"
   ]
  },
  {
   "cell_type": "code",
   "execution_count": 43,
   "id": "e3020263-76e7-42b7-95c0-0f1e00f61635",
   "metadata": {},
   "outputs": [
    {
     "data": {
      "text/plain": [
       "array([[7.8, 7.8],\n",
       "       [7.8, 7.8]])"
      ]
     },
     "execution_count": 43,
     "metadata": {},
     "output_type": "execute_result"
    }
   ],
   "source": [
    "np.full((2,2), 7.8)"
   ]
  },
  {
   "cell_type": "code",
   "execution_count": 45,
   "id": "9a7c8bc1-fd07-4721-a8c8-90291cdaaaf4",
   "metadata": {},
   "outputs": [
    {
     "data": {
      "text/plain": [
       "array([[0.25290194, 0.76830632, 0.63322382],\n",
       "       [0.84996208, 0.34493012, 0.06003046]])"
      ]
     },
     "execution_count": 45,
     "metadata": {},
     "output_type": "execute_result"
    }
   ],
   "source": [
    "np.random.rand(2,3)"
   ]
  },
  {
   "cell_type": "code",
   "execution_count": 55,
   "id": "6a4a75e6-370d-40b7-9f3f-90ff5ff28c9e",
   "metadata": {},
   "outputs": [
    {
     "data": {
      "text/plain": [
       "array([[15,  7],\n",
       "       [29, 25]])"
      ]
     },
     "execution_count": 55,
     "metadata": {},
     "output_type": "execute_result"
    }
   ],
   "source": [
    "np.random.randint(low = 4, high = 30, size = (2,2))"
   ]
  },
  {
   "cell_type": "code",
   "execution_count": 49,
   "id": "85805c92-e70f-403a-9793-21bdd4efd8d4",
   "metadata": {},
   "outputs": [
    {
     "data": {
      "text/plain": [
       "array([ 0. ,  2.5,  5. ,  7.5, 10. ])"
      ]
     },
     "execution_count": 49,
     "metadata": {},
     "output_type": "execute_result"
    }
   ],
   "source": [
    "np.linspace(start = 0, stop = 10, num=5)"
   ]
  },
  {
   "cell_type": "code",
   "execution_count": 52,
   "id": "dd929675-dc0f-4e18-b4ba-fdd3868a2780",
   "metadata": {},
   "outputs": [
    {
     "data": {
      "text/plain": [
       "array([[ 0.  ,  1.  ,  2.  ],\n",
       "       [ 2.5 ,  5.75,  9.  ],\n",
       "       [ 5.  , 10.5 , 16.  ],\n",
       "       [ 7.5 , 15.25, 23.  ],\n",
       "       [10.  , 20.  , 30.  ]])"
      ]
     },
     "execution_count": 52,
     "metadata": {},
     "output_type": "execute_result"
    }
   ],
   "source": [
    "np.linspace(start = (0,1,2) , stop = (10,20,30), num=5, axis=0)"
   ]
  },
  {
   "cell_type": "code",
   "execution_count": null,
   "id": "22233730-77a3-4e25-87bd-f16942454e4d",
   "metadata": {},
   "outputs": [],
   "source": []
  }
 ],
 "metadata": {
  "kernelspec": {
   "display_name": "Python 3 (ipykernel)",
   "language": "python",
   "name": "python3"
  },
  "language_info": {
   "codemirror_mode": {
    "name": "ipython",
    "version": 3
   },
   "file_extension": ".py",
   "mimetype": "text/x-python",
   "name": "python",
   "nbconvert_exporter": "python",
   "pygments_lexer": "ipython3",
   "version": "3.10.12"
  }
 },
 "nbformat": 4,
 "nbformat_minor": 5
}
