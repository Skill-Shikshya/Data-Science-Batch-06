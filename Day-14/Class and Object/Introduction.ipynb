{
 "cells": [
  {
   "cell_type": "markdown",
   "id": "d288a0ed-9fb7-4cc1-a54f-59ca43cffe46",
   "metadata": {},
   "source": [
    "# Object Oriented Programming\n",
    "\n",
    "Object-oriented programming is a programming paradigm that is centered around objects, which are instances of classes that encapsulate data and behavior. In Python, everything is an object, including integers, strings, lists, and functions. Python's support for OOP is a key feature of the language that makes it powerful and flexible.\n"
   ]
  },
  {
   "cell_type": "markdown",
   "id": "74cab39a-a46d-41de-a60f-6c4961f18da7",
   "metadata": {},
   "source": [
    "# Class and Objects\n",
    "\n",
    "A class is a blueprint or a template for creating objects, which are instances of the class. Classes encapsulate data and the behavior that operates on that data. A class defines a set of attributes and methods that can be used to create objects. In Python, you can define a class using the class keyword. Attributes and methods are the two key components of a python class. Attributes are the characteristics or properties of an object, while methods are the functions that are associated with the object.\n",
    "\n",
    "Syntax:\n",
    "```python\n",
    "class ClassName:\n",
    "    def methods:\n",
    "        ..\n",
    "```"
   ]
  },
  {
   "cell_type": "code",
   "execution_count": 1,
   "id": "0b19c22b-74d0-4a0e-91da-e119dd6c5e32",
   "metadata": {},
   "outputs": [],
   "source": [
    "class Calculator:\n",
    "    def __init__(self, num1, num2):\n",
    "        self.x = num1\n",
    "        self.y = num2\n",
    "\n",
    "    def sum(self):\n",
    "        return self.x + self.y \n",
    "\n",
    "    def product(self):\n",
    "        return self.x * self.y\n",
    "        "
   ]
  },
  {
   "cell_type": "code",
   "execution_count": 3,
   "id": "e60efd44-3c8a-4f00-8a91-fd5824e8a19d",
   "metadata": {},
   "outputs": [],
   "source": [
    "cal_obj = Calculator(num1 = 22, num2 = 44)\n",
    "cal_obj1 = Calculator(num1 = 33.4, num2 = 22.5)"
   ]
  },
  {
   "cell_type": "code",
   "execution_count": 5,
   "id": "7f912d38-793a-4b40-9659-c7531c8ae313",
   "metadata": {},
   "outputs": [
    {
     "data": {
      "text/plain": [
       "66"
      ]
     },
     "execution_count": 5,
     "metadata": {},
     "output_type": "execute_result"
    }
   ],
   "source": [
    "cal_obj.sum()"
   ]
  },
  {
   "cell_type": "code",
   "execution_count": 9,
   "id": "0fb03ecd-456c-49c5-a563-05b4eaf730b1",
   "metadata": {},
   "outputs": [
    {
     "data": {
      "text/plain": [
       "968"
      ]
     },
     "execution_count": 9,
     "metadata": {},
     "output_type": "execute_result"
    }
   ],
   "source": [
    "cal_obj.product()"
   ]
  },
  {
   "cell_type": "code",
   "execution_count": 6,
   "id": "631e71b1-d177-481b-8f16-4b5809e4e48f",
   "metadata": {},
   "outputs": [
    {
     "data": {
      "text/plain": [
       "55.9"
      ]
     },
     "execution_count": 6,
     "metadata": {},
     "output_type": "execute_result"
    }
   ],
   "source": [
    "cal_obj1.sum()"
   ]
  },
  {
   "cell_type": "markdown",
   "id": "f689fad7-ace7-46fa-bc8c-748ad1d2866d",
   "metadata": {},
   "source": [
    "This class, called `Dog`, has two attributes (`name` and `age`) and one method (`bark`). The `__init__` method is a special method that is called when a new instance of the class is created. It takes two arguments (`name` and `age`) and initializes the corresponding attributes. The `bark` method is a simple method that prints a message to the console."
   ]
  },
  {
   "cell_type": "code",
   "execution_count": 22,
   "id": "2e6a40ea-03dc-40e1-acb4-1762ca9083c9",
   "metadata": {},
   "outputs": [],
   "source": [
    "class Dog:\n",
    "    count = 0 #Class attribute\n",
    "    \n",
    "    def __init__(self, name, age=3):\n",
    "        self.name = name\n",
    "        self.age = age\n",
    "\n",
    "        Dog.count += 1\n",
    "\n",
    "    def bark(self):\n",
    "        print(f\"{self.name} is barking!\")\n",
    "    \n",
    "    @classmethod\n",
    "    def get_count(cls):\n",
    "        return cls.count\n",
    "\n",
    "    @staticmethod\n",
    "    def get_vet_info():\n",
    "        return \"Dr. Sam, NYC\""
   ]
  },
  {
   "cell_type": "code",
   "execution_count": 27,
   "id": "1684d0ab-0361-402e-b71b-3fdfa0f27402",
   "metadata": {},
   "outputs": [],
   "source": [
    "my_dog = Dog(\"Buddy\")"
   ]
  },
  {
   "cell_type": "code",
   "execution_count": 28,
   "id": "ed2cec75-ba1e-476d-a131-c19b0c3696d3",
   "metadata": {},
   "outputs": [
    {
     "name": "stdout",
     "output_type": "stream",
     "text": [
      "Buddy is barking!\n"
     ]
    }
   ],
   "source": [
    "my_dog.bark()"
   ]
  },
  {
   "cell_type": "code",
   "execution_count": 29,
   "id": "96ffd9e2-a732-4e48-acb5-eb59115350ea",
   "metadata": {},
   "outputs": [
    {
     "data": {
      "text/plain": [
       "2"
      ]
     },
     "execution_count": 29,
     "metadata": {},
     "output_type": "execute_result"
    }
   ],
   "source": [
    "my_dog.get_count()"
   ]
  },
  {
   "cell_type": "markdown",
   "id": "96fa5954-eefe-4745-9809-77a036315844",
   "metadata": {},
   "source": [
    "## Types of Attributes\n",
    "\n",
    "#### 1. Instance Attributes\n",
    "\n",
    "These are the attributes that belong to instances of a class. They are defined within the constructor method `__init__` and can be accessed using the `self` keyword like `self.name` and `self.age` in the above `Dog` class.. They are initialized when a new instance of the class is created.\n",
    "\n",
    "#### 2. Class attributes\n",
    "\n",
    "Class attributes are attributes that belong to the class itself. They are defined outside the constructor method `__init__` and can be accessed using the class name. Class attributes are shared by all instances of the class like `count` attribute in the `Person` class below."
   ]
  },
  {
   "cell_type": "markdown",
   "id": "010e0433-70f6-448f-b3ec-c7634ef17207",
   "metadata": {},
   "source": [
    "## Types of Methods\n",
    "\n",
    "#### 1. Instance methods\n",
    "\n",
    "The most common type of method in Python. These are the methods that operate on an instance of a class and have access to the instance's attributes. Instance methods are defined within the class and are called on instances of the class like `bark` method of the `Dog` class above.\n",
    "\n",
    "#### 2. Class methods\n",
    "\n",
    "Class methods are methods that operate on the class itself rather than on instances of the class. They are defined using the `@classmethod` decorator and take the class itself as the first argument like `get_count` method of `Person` class below.\n",
    "\n",
    "#### 3. Static methods\n",
    "\n",
    "Static methods are methods that do not operate on the instance or the class, but are related to the class in some way. They are defined using the `@staticmethod` decorator and do not take the instance or the class as arguments like `get_full_name` in `Person` class below."
   ]
  },
  {
   "cell_type": "code",
   "execution_count": 59,
   "id": "9c4343b6-8c73-4ffa-be81-3bcf0da4fb6f",
   "metadata": {},
   "outputs": [],
   "source": [
    "class Person:\n",
    "    count = 0 #< Class Attribute\n",
    "\n",
    "    def __init__(self, name, address = \"Kathmandu\"): #< Constructor/ Initializer\n",
    "        \"\"\"\n",
    "        Consturctor for Person Class\n",
    "\n",
    "        Parameters:\n",
    "            name : str\n",
    "                Name of the student\n",
    "            address : str , default: Kathmandu\n",
    "                Address of student\n",
    "        \"\"\"\n",
    "        self.name = name\n",
    "        self.address = address\n",
    "        Person.count += 1\n",
    "\n",
    "    def update_name(self, new_name): #< Instance Method\n",
    "        self.name = new_name\n",
    "        print(f\"Name Updated to {self.name}\")\n",
    "\n",
    "    @classmethod\n",
    "    def get_count(cls): #< Class Method\n",
    "        return cls.count\n",
    "\n",
    "    @staticmethod\n",
    "    def create_fullname(firstname, lastname): #< Static Methods\n",
    "        return f\"{lastname}, {firstname}\"\n",
    "    "
   ]
  },
  {
   "cell_type": "code",
   "execution_count": 60,
   "id": "f136e53a-2f9c-42dc-9604-42063160f217",
   "metadata": {},
   "outputs": [
    {
     "name": "stdout",
     "output_type": "stream",
     "text": [
      "0\n"
     ]
    }
   ],
   "source": [
    "print(Person.get_count())"
   ]
  },
  {
   "cell_type": "code",
   "execution_count": 61,
   "id": "68e56a6c-6cd4-45eb-93af-10bf2a990ecc",
   "metadata": {},
   "outputs": [
    {
     "name": "stdout",
     "output_type": "stream",
     "text": [
      "Name Updated to Shyam Khatri\n",
      "Shyam Khatri\n",
      "1\n"
     ]
    }
   ],
   "source": [
    "person1 = Person(name = \"jhon wick\")\n",
    "person1.update_name(\"Shyam Khatri\")\n",
    "print(person1.name)\n",
    "print(Person.get_count())"
   ]
  },
  {
   "cell_type": "code",
   "execution_count": null,
   "id": "3f58c507-16b8-400e-9de3-309c3c4849dc",
   "metadata": {},
   "outputs": [],
   "source": []
  },
  {
   "cell_type": "code",
   "execution_count": 62,
   "id": "c8a9c832-7ef9-47f6-a1f0-7a8c8fe3a0e8",
   "metadata": {},
   "outputs": [
    {
     "name": "stdout",
     "output_type": "stream",
     "text": [
      "Laxam\n",
      "2\n"
     ]
    }
   ],
   "source": [
    "person2 = Person(name = \"Laxam\", address=\"Napaltar\")\n",
    "print(person2.name)\n",
    "print(Person.get_count())"
   ]
  },
  {
   "cell_type": "code",
   "execution_count": null,
   "id": "7338ec78-2ba6-44b3-8ebc-472082b05a78",
   "metadata": {},
   "outputs": [],
   "source": []
  },
  {
   "cell_type": "code",
   "execution_count": 63,
   "id": "38c7f323-4b76-4d01-8414-d1a566e04997",
   "metadata": {},
   "outputs": [
    {
     "name": "stdout",
     "output_type": "stream",
     "text": [
      "Hari Bd.\n",
      "3\n"
     ]
    }
   ],
   "source": [
    "person3 = Person(name = \"Hari Bd.\", address=\"Dhading\")\n",
    "print(person3.name)\n",
    "print(Person.get_count())"
   ]
  },
  {
   "cell_type": "code",
   "execution_count": null,
   "id": "980c8239-1b12-41b1-ac19-bc98bda38602",
   "metadata": {},
   "outputs": [],
   "source": []
  },
  {
   "cell_type": "code",
   "execution_count": 64,
   "id": "473bbfdf-65a6-4a99-8d17-bb53e1853c47",
   "metadata": {},
   "outputs": [
    {
     "data": {
      "text/plain": [
       "'Bista, Shyam'"
      ]
     },
     "execution_count": 64,
     "metadata": {},
     "output_type": "execute_result"
    }
   ],
   "source": [
    "person1.create_fullname(\"Shyam\", \"Bista\")"
   ]
  },
  {
   "cell_type": "code",
   "execution_count": null,
   "id": "c1576bdc-e671-493c-8344-9b52f7495029",
   "metadata": {},
   "outputs": [],
   "source": []
  },
  {
   "cell_type": "markdown",
   "id": "413edb36-c8ab-49b0-b843-919c599d6ac5",
   "metadata": {},
   "source": [
    "## Library class\n",
    "\n",
    "method: can_burrow(book_name)\n",
    " \n",
    "books = [ \n",
    "            (\"The Alchemist\", 25),\n",
    "            (\"The Da Vinci Code\", 30),\n",
    "            (\"A Brief History of Time\", 15),\n",
    "            (\"Angels & Demons\", 0),\n",
    "            (\"The Grand Design\", 0),\n",
    "            (\"1984\", 19)\n",
    "        ]"
   ]
  },
  {
   "cell_type": "code",
   "execution_count": 103,
   "id": "c89fc35e-b583-40d2-a439-486ce211fdee",
   "metadata": {},
   "outputs": [],
   "source": [
    "class Library:\n",
    "    def __init__(inst, name, depart = \"Chemistry\"):\n",
    "        inst.student_name = name\n",
    "        inst.department = depart\n",
    "        \n",
    "        inst.books = [ \n",
    "            (\"The Alchemist\", 25),\n",
    "            (\"The Da Vinci Code\", 30),\n",
    "            (\"A Brief History of Time\", 15),\n",
    "            (\"Angels & Demons\", 0),\n",
    "            (\"The Grand Design\", 0),\n",
    "            (\"1984\", 19)\n",
    "        ]\n",
    "\n",
    "    def can_burrow(inst, book_name):\n",
    "        book_name = book_name.lower()\n",
    "        staus = [name for name, quantity in inst.books if (name.lower() == book_name) & (quantity > 0)]\n",
    "        \n",
    "        return \"Can Burrow\" if staus else \"Cannot Burrow\"\n",
    "\n",
    "    def can_burrow_second(inst, book_name):\n",
    "        is_available = False\n",
    "        book_name = book_name.lower()\n",
    "        for name, quantity in inst.books:\n",
    "            if (book_name == name.lower()) and (quantity > 0):\n",
    "                is_available = True\n",
    "        \n",
    "        return f\"{book_name} Can Burrow\" if is_available else f\"{book_name} Cannot Burrow\"\n"
   ]
  },
  {
   "cell_type": "code",
   "execution_count": 104,
   "id": "2796485a-f3d8-41df-8fa9-68c6dda63ec0",
   "metadata": {},
   "outputs": [],
   "source": [
    "student_1 = Library(\"Shailesh\", \"Engineering\")"
   ]
  },
  {
   "cell_type": "code",
   "execution_count": 105,
   "id": "a28fb591-ebf4-4291-ae52-26103fb503ce",
   "metadata": {},
   "outputs": [
    {
     "data": {
      "text/plain": [
       "'Can Burrow'"
      ]
     },
     "execution_count": 105,
     "metadata": {},
     "output_type": "execute_result"
    }
   ],
   "source": [
    "student_1.can_burrow(\"The Da Vinci code\")"
   ]
  },
  {
   "cell_type": "code",
   "execution_count": 106,
   "id": "39586b08-89ff-42c0-b4c2-ba95861d2dc1",
   "metadata": {},
   "outputs": [
    {
     "data": {
      "text/plain": [
       "'the grand design Cannot Burrow'"
      ]
     },
     "execution_count": 106,
     "metadata": {},
     "output_type": "execute_result"
    }
   ],
   "source": [
    "student_1.can_burrow_second(\"The Grand Design\")"
   ]
  },
  {
   "cell_type": "code",
   "execution_count": null,
   "id": "4a0688dc-783f-491e-bf6e-430043216365",
   "metadata": {},
   "outputs": [],
   "source": []
  }
 ],
 "metadata": {
  "kernelspec": {
   "display_name": "Python 3 (ipykernel)",
   "language": "python",
   "name": "python3"
  },
  "language_info": {
   "codemirror_mode": {
    "name": "ipython",
    "version": 3
   },
   "file_extension": ".py",
   "mimetype": "text/x-python",
   "name": "python",
   "nbconvert_exporter": "python",
   "pygments_lexer": "ipython3",
   "version": "3.10.12"
  }
 },
 "nbformat": 4,
 "nbformat_minor": 5
}
