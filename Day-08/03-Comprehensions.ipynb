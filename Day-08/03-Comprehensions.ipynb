{
 "cells": [
  {
   "cell_type": "markdown",
   "id": "0c1635da-ae6e-4321-817f-4a699fffeddc",
   "metadata": {},
   "source": [
    "# Python Comprehensions\n",
    "\n",
    "In Python, comprehensions provide a concise way to create sequences like lists, dictionaries, and sets. They are a more readable and often more efficient alternative to using traditional loops to generate sequences.\n",
    "\n",
    "There are three types of comprehensions in Python: list comprehensions, dictionary comprehensions, and set comprehensions.\n",
    "\n"
   ]
  },
  {
   "cell_type": "markdown",
   "id": "245e8310-df45-45b0-abb7-730076e5f563",
   "metadata": {},
   "source": [
    "## 1. List Comprehensions\n",
    "\n",
    "In Python, list comprehension is a concise way to create lists. It provides a compact syntax for mapping a given iterable (e.g. list, tuple) to a new list by applying a specific expression to each element in the original iterable.\n",
    "\n",
    "Syntax: \n",
    "```python\n",
    "output = [ <expression> for items in iterables if <condition>]\n",
    "```\n",
    "\n",
    "In this syntax, `expression` is the operation to be performed on each item in the iterable, `item` is the variable that represents each element in the iterable, and `condition` is an optional filter that can be applied to select only certain elements from the iterable.\n"
   ]
  },
  {
   "cell_type": "code",
   "execution_count": null,
   "id": "45f44917-3838-453e-8b5a-0c233da205f1",
   "metadata": {},
   "outputs": [],
   "source": []
  },
  {
   "cell_type": "code",
   "execution_count": 2,
   "id": "9feff85a-4dd2-41b9-a67d-e91afefe040c",
   "metadata": {},
   "outputs": [
    {
     "name": "stdout",
     "output_type": "stream",
     "text": [
      "[1, 9, 25, 49, 81, 121, 169, 225, 289, 361, 441, 529, 625, 729, 841, 961, 1089, 1225, 1369, 1521, 1681, 1849, 2025, 2209, 2401]\n"
     ]
    }
   ],
   "source": [
    "# Usual Way\n",
    "numbers = range(1,50,2)\n",
    "\n",
    "squared = []\n",
    "for each in numbers:\n",
    "    squared.append(each ** 2)\n",
    "\n",
    "print(squared)"
   ]
  },
  {
   "cell_type": "code",
   "execution_count": 4,
   "id": "2fe1e2d2-00bd-4a43-8b21-06777e6ac555",
   "metadata": {},
   "outputs": [
    {
     "name": "stdout",
     "output_type": "stream",
     "text": [
      "[1, 9, 25, 49, 81, 121, 169, 225, 289, 361, 441, 529, 625, 729, 841, 961, 1089, 1225, 1369, 1521, 1681, 1849, 2025, 2209, 2401]\n"
     ]
    }
   ],
   "source": [
    "# Using comprehensions\n",
    "c_squared = [num ** 2 for num in numbers]\n",
    "print(c_squared)"
   ]
  },
  {
   "cell_type": "markdown",
   "id": "a11c88af-8ca8-47ba-a71e-61bc112b52fc",
   "metadata": {},
   "source": [
    "In this example, the expression `num ** 2` is applied to each element in the `numbers` list, and the results are stored in a new list called `c_squared`.\n",
    "\n",
    "You can also add an optional condition to the list comprehension. For example, here is a list comprehension that filters out even numbers from the original list:"
   ]
  },
  {
   "cell_type": "code",
   "execution_count": 5,
   "id": "fd52468e-c896-4ea9-b596-a76eb1fef5c2",
   "metadata": {},
   "outputs": [
    {
     "data": {
      "text/plain": [
       "[1, 3, 5, 7, 9, 11, 13, 15, 17, 19, 21, 23, 25, 27, 29]"
      ]
     },
     "execution_count": 5,
     "metadata": {},
     "output_type": "execute_result"
    }
   ],
   "source": [
    "odds = [num for num in range(1,31) if num % 2 != 0 ]\n",
    "odds"
   ]
  },
  {
   "cell_type": "markdown",
   "id": "2288a1a4-9d56-4157-8d26-c3a34a9cb3f0",
   "metadata": {},
   "source": [
    "In this example, the condition `if num % 2 != 0` filters out the even numbers from the original `numbers` list, and the remaining odd numbers are stored in the new `odds` list.\n"
   ]
  },
  {
   "cell_type": "code",
   "execution_count": null,
   "id": "bb6cbbe8-7517-4ae4-bdb4-763582310763",
   "metadata": {},
   "outputs": [],
   "source": []
  },
  {
   "cell_type": "code",
   "execution_count": 9,
   "id": "ae646cb0-2e5e-4fcb-81b3-bd54dcda392c",
   "metadata": {},
   "outputs": [
    {
     "name": "stdout",
     "output_type": "stream",
     "text": [
      "[2, 4, 6, 16, 10, 36, 14, 64, 18, 100, 22, 144, 26, 196, 30, 256, 34, 324, 38, 400, 42, 484, 46, 576, 50, 676, 54, 784, 58, 900]\n"
     ]
    }
   ],
   "source": [
    "even_sq= [num**2 if num% 2 ==0 else num * 2 for num in range(1,31) ]\n",
    "print(even_sq)"
   ]
  },
  {
   "cell_type": "code",
   "execution_count": null,
   "id": "f0df4f0b-cccc-4442-814c-fafc13c02444",
   "metadata": {},
   "outputs": [],
   "source": []
  },
  {
   "cell_type": "markdown",
   "id": "c747c09a-6420-424e-af69-44abcd86cddb",
   "metadata": {},
   "source": [
    "List comprehensions can also be nested, allowing you to create more complex sequences. Here is an example that creates a list of tuples:"
   ]
  },
  {
   "cell_type": "code",
   "execution_count": 10,
   "id": "08ee7ed0-eab5-4f90-8acd-200a2a383115",
   "metadata": {},
   "outputs": [
    {
     "name": "stdout",
     "output_type": "stream",
     "text": [
      "[('red', 'apple'), ('red', 'banana'), ('red', 'cherry'), ('red', 'mango'), ('big', 'apple'), ('big', 'banana'), ('big', 'cherry'), ('big', 'mango'), ('tasty', 'apple'), ('tasty', 'banana'), ('tasty', 'cherry'), ('tasty', 'mango')]\n"
     ]
    }
   ],
   "source": [
    "adjective = ['red','big','tasty']\n",
    "fruits = ['apple','banana','cherry','mango']\n",
    "\n",
    "# for adj in adjective:\n",
    "#     for fruit in fruits:\n",
    "#         print(adj, fruit)\n",
    "        \n",
    "pair = [(adj, fruit) for adj in adjective for fruit in fruits]\n",
    "print(pair)"
   ]
  },
  {
   "cell_type": "code",
   "execution_count": null,
   "id": "89f7db17-3aea-454a-951f-ee48eb50777f",
   "metadata": {},
   "outputs": [],
   "source": []
  },
  {
   "cell_type": "markdown",
   "id": "433bb80d-210a-4268-9f7c-af74dbaf30f8",
   "metadata": {},
   "source": [
    "### Count number of letters for each words in following sentence."
   ]
  },
  {
   "cell_type": "code",
   "execution_count": 12,
   "id": "802125ff-6d92-45ac-88c2-b243e606f6fe",
   "metadata": {},
   "outputs": [
    {
     "name": "stdout",
     "output_type": "stream",
     "text": [
      "A single training set that has already been processed is usually split into several types of datasets in machine learning which is needed to check how well the training of the model went\n"
     ]
    }
   ],
   "source": [
    "sent = \"A single training set that has already been processed is usually split into several types of datasets in machine learning which is needed to check how well the training of the model went\"\n",
    "print(sent)"
   ]
  },
  {
   "cell_type": "code",
   "execution_count": 16,
   "id": "56ca6b5a-8444-47f2-b860-8011f9c1e3d2",
   "metadata": {},
   "outputs": [
    {
     "name": "stdout",
     "output_type": "stream",
     "text": [
      "[1, 6, 8, 3, 4, 3, 7, 4, 9, 2, 7, 5, 4, 7, 5, 2, 8, 2, 7, 8, 5, 2, 6, 2, 5, 3, 4, 3, 8, 2, 3, 5, 4]\n"
     ]
    }
   ],
   "source": [
    "result = []\n",
    "\n",
    "words = sent.split(\" \")\n",
    "for word in words:\n",
    "    result.append(len(word))\n",
    "\n",
    "print(result)"
   ]
  },
  {
   "cell_type": "code",
   "execution_count": 15,
   "id": "267596f9-901c-4518-ab36-4754311889a3",
   "metadata": {},
   "outputs": [
    {
     "name": "stdout",
     "output_type": "stream",
     "text": [
      "[1, 6, 8, 3, 4, 3, 7, 4, 9, 2, 7, 5, 4, 7, 5, 2, 8, 2, 7, 8, 5, 2, 6, 2, 5, 3, 4, 3, 8, 2, 3, 5, 4]\n"
     ]
    }
   ],
   "source": [
    "words_length = [ len(each) for each in sent.split(\" \")]\n",
    "print(words_length)"
   ]
  },
  {
   "cell_type": "code",
   "execution_count": null,
   "id": "ecc5f6b8-4f11-4cd2-a175-8bfd7cd4c96b",
   "metadata": {},
   "outputs": [],
   "source": []
  },
  {
   "cell_type": "code",
   "execution_count": null,
   "id": "28f84a95-380a-4a72-bc89-a53b3f3faca9",
   "metadata": {},
   "outputs": [],
   "source": []
  }
 ],
 "metadata": {
  "kernelspec": {
   "display_name": "Python 3 (ipykernel)",
   "language": "python",
   "name": "python3"
  },
  "language_info": {
   "codemirror_mode": {
    "name": "ipython",
    "version": 3
   },
   "file_extension": ".py",
   "mimetype": "text/x-python",
   "name": "python",
   "nbconvert_exporter": "python",
   "pygments_lexer": "ipython3",
   "version": "3.10.12"
  }
 },
 "nbformat": 4,
 "nbformat_minor": 5
}
