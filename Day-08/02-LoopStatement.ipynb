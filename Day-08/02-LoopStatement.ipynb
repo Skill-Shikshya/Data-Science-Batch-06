{
 "cells": [
  {
   "cell_type": "markdown",
   "id": "d9899974-867c-4bf5-9de2-4fe3d6cb62a0",
   "metadata": {},
   "source": [
    "# Python Loop Statements\n",
    "\n",
    "In Python, loops are used to execute a block of code repeatedly. There are two types of loops in Python: for loops and while loops.\n"
   ]
  },
  {
   "cell_type": "markdown",
   "id": "ac2f5967-23cb-4d79-ba43-a9567797851a",
   "metadata": {},
   "source": [
    "## 1. Python For Loop\n",
    "\n",
    "The `for` loop is used in Python to iterate over a sequence of values, such as a list, tuple, string, or range. The basic syntax of a `for` loop is as follows:\n",
    "\n",
    "Syntax:\n",
    "```python\n",
    "for item in items:\n",
    "    do somethings\n",
    "```"
   ]
  },
  {
   "cell_type": "markdown",
   "id": "978f189e-fecd-4063-8234-65adaf1b94de",
   "metadata": {},
   "source": [
    "The `item` is a new variable that is created with each iteration of the loop, and takes on the value of the next element in the `items`. The code block that follows the `for` statement is executed for each value in the `items`.\n",
    "\n",
    "Here's an example of how to use the `for` loop to iterate over a list:"
   ]
  },
  {
   "cell_type": "code",
   "execution_count": 1,
   "id": "d3da44ab-2926-4ff6-8a63-788c502306da",
   "metadata": {},
   "outputs": [
    {
     "name": "stdout",
     "output_type": "stream",
     "text": [
      "apple\n",
      "banana\n",
      "cherry\n",
      "completed\n"
     ]
    }
   ],
   "source": [
    "fruits = ['apple','banana','cherry']\n",
    "\n",
    "for each in fruits:\n",
    "    print(each)\n",
    "\n",
    "print(\"completed\")"
   ]
  },
  {
   "cell_type": "code",
   "execution_count": null,
   "id": "e2b38a17-1768-4ea1-a4e6-db71ad608cdd",
   "metadata": {},
   "outputs": [],
   "source": []
  },
  {
   "cell_type": "markdown",
   "id": "5c4fef62-2069-4f34-b1ff-4df6b9879a54",
   "metadata": {},
   "source": [
    "The `range` function is commonly used in `for` loops to generate a sequence of integers. Here's an example:"
   ]
  },
  {
   "cell_type": "code",
   "execution_count": 2,
   "id": "a86900c7-15e2-4d57-90ca-7bde913efc55",
   "metadata": {},
   "outputs": [
    {
     "data": {
      "text/plain": [
       "[0, 2, 4]"
      ]
     },
     "execution_count": 2,
     "metadata": {},
     "output_type": "execute_result"
    }
   ],
   "source": [
    "list(range(0,5,2))"
   ]
  },
  {
   "cell_type": "code",
   "execution_count": 3,
   "id": "08b9dbb3-58d6-4d1b-88cf-db04cb3e0033",
   "metadata": {},
   "outputs": [
    {
     "name": "stdout",
     "output_type": "stream",
     "text": [
      "0\n",
      "1\n",
      "2\n",
      "3\n",
      "4\n",
      "5\n",
      "6\n",
      "7\n",
      "8\n",
      "9\n"
     ]
    }
   ],
   "source": [
    "for i in range(0,10):\n",
    "    print(i)"
   ]
  },
  {
   "cell_type": "code",
   "execution_count": 4,
   "id": "e7c802c6-b89f-489f-8205-bf3fa9b03b08",
   "metadata": {},
   "outputs": [
    {
     "name": "stdout",
     "output_type": "stream",
     "text": [
      "x\n",
      "xx\n",
      "xxx\n",
      "xxxx\n",
      "xxxxx\n"
     ]
    }
   ],
   "source": [
    "# *\n",
    "# **\n",
    "# ***\n",
    "# ****\n",
    "# *****\n",
    "\n",
    "for i in range(1,6):\n",
    "    print(\"x\"*i)"
   ]
  },
  {
   "cell_type": "code",
   "execution_count": null,
   "id": "b3c63f48-8bb2-43db-ab37-d172a990cc93",
   "metadata": {},
   "outputs": [],
   "source": []
  },
  {
   "cell_type": "markdown",
   "id": "86975398-9beb-48ec-aafe-24c78bc80863",
   "metadata": {},
   "source": [
    "`Nested for` loops can also be used to iterate over multiple sequences. Here's an example:"
   ]
  },
  {
   "cell_type": "code",
   "execution_count": 5,
   "id": "e47b9a64-deea-42d8-a1b7-4bfb6164df2e",
   "metadata": {},
   "outputs": [],
   "source": [
    "adjective = ['red','big','tasty']\n",
    "fruits = ['apple','banana','cherry','mango']"
   ]
  },
  {
   "cell_type": "code",
   "execution_count": 6,
   "id": "260618a1-a1b6-43d0-80f4-7d438c0c82a8",
   "metadata": {},
   "outputs": [
    {
     "name": "stdout",
     "output_type": "stream",
     "text": [
      "red apple\n",
      "red banana\n",
      "red cherry\n",
      "red mango\n",
      "big apple\n",
      "big banana\n",
      "big cherry\n",
      "big mango\n",
      "tasty apple\n",
      "tasty banana\n",
      "tasty cherry\n",
      "tasty mango\n"
     ]
    }
   ],
   "source": [
    "for adj in adjective:\n",
    "\n",
    "    for fruit in fruits:\n",
    "\n",
    "        print(adj, fruit)"
   ]
  },
  {
   "cell_type": "code",
   "execution_count": null,
   "id": "c6985585-608f-43f9-a53f-3e4a42244abe",
   "metadata": {},
   "outputs": [],
   "source": []
  },
  {
   "cell_type": "code",
   "execution_count": 7,
   "id": "e28088f3-595d-4f2a-905c-d5a09abcf512",
   "metadata": {},
   "outputs": [],
   "source": [
    "person = {\"name\": \"John\", \"age\": \"30\", \"city\": \"New York\", \"gender\": \"Male\"}\n",
    "person_list = list(person.items())"
   ]
  },
  {
   "cell_type": "code",
   "execution_count": 8,
   "id": "d082634c-63fe-4d57-9721-fe1a48339185",
   "metadata": {},
   "outputs": [
    {
     "data": {
      "text/plain": [
       "[('name', 'John'), ('age', '30'), ('city', 'New York'), ('gender', 'Male')]"
      ]
     },
     "execution_count": 8,
     "metadata": {},
     "output_type": "execute_result"
    }
   ],
   "source": [
    "person_list"
   ]
  },
  {
   "cell_type": "code",
   "execution_count": 9,
   "id": "5535ad87-b41e-40c2-8730-00ba6265cd3a",
   "metadata": {},
   "outputs": [
    {
     "name": "stdout",
     "output_type": "stream",
     "text": [
      "('name', 'John')\n",
      "('age', '30')\n",
      "('city', 'New York')\n",
      "('gender', 'Male')\n"
     ]
    }
   ],
   "source": [
    "for each in person.items():\n",
    "    print(each)"
   ]
  },
  {
   "cell_type": "code",
   "execution_count": null,
   "id": "232e6352-dd27-4553-ac13-9d826fb25f88",
   "metadata": {},
   "outputs": [],
   "source": []
  },
  {
   "cell_type": "code",
   "execution_count": 10,
   "id": "614d3ae5-c883-434d-9224-1155a9bb2a90",
   "metadata": {},
   "outputs": [
    {
     "name": "stdout",
     "output_type": "stream",
     "text": [
      "name John\n",
      "age 30\n",
      "city New York\n",
      "gender Male\n"
     ]
    }
   ],
   "source": [
    "for key, value in person.items():\n",
    "    print(key, value)"
   ]
  },
  {
   "cell_type": "code",
   "execution_count": 11,
   "id": "0b5f5e7d-7461-4b4a-94e0-88d3e3d27f82",
   "metadata": {},
   "outputs": [],
   "source": [
    "long_list = [tuple(range(1,5)) , tuple(range(5,9))]"
   ]
  },
  {
   "cell_type": "code",
   "execution_count": 12,
   "id": "dbf2e170-6570-4229-88d0-2487ac5df02b",
   "metadata": {},
   "outputs": [
    {
     "data": {
      "text/plain": [
       "[(1, 2, 3, 4), (5, 6, 7, 8)]"
      ]
     },
     "execution_count": 12,
     "metadata": {},
     "output_type": "execute_result"
    }
   ],
   "source": [
    "long_list"
   ]
  },
  {
   "cell_type": "code",
   "execution_count": 13,
   "id": "383a2b7b-476b-4992-886a-1f64d8abfbf7",
   "metadata": {},
   "outputs": [
    {
     "name": "stdout",
     "output_type": "stream",
     "text": [
      "1 2\n",
      "3 4\n",
      "5 6\n",
      "7 8\n"
     ]
    }
   ],
   "source": [
    "for a,b,c,d in long_list:\n",
    "    print(a,b)\n",
    "    print(c,d)"
   ]
  },
  {
   "cell_type": "code",
   "execution_count": null,
   "id": "61823b25-be33-4ac3-8a46-9a9812f278dd",
   "metadata": {},
   "outputs": [],
   "source": []
  },
  {
   "cell_type": "markdown",
   "id": "9d8a130b-15b5-483f-91f4-52917e4ad488",
   "metadata": {},
   "source": [
    "### Write a Program to Display the Multiplication Table of a Given Number:\n",
    "Create a Python program that asks the user to enter an integer, and then prints the multiplication table for that number from 1 to 10. Use a for loop to generate and display the table."
   ]
  },
  {
   "cell_type": "code",
   "execution_count": 14,
   "id": "17e050af-af30-4447-8492-e0d7c4de0c03",
   "metadata": {},
   "outputs": [
    {
     "name": "stdout",
     "output_type": "stream",
     "text": [
      "1 x 1 = 1\n",
      "1 x 2 = 2\n",
      "1 x 3 = 3\n",
      "1 x 4 = 4\n",
      "1 x 5 = 5\n",
      "1 x 6 = 6\n",
      "1 x 7 = 7\n",
      "1 x 8 = 8\n",
      "1 x 9 = 9\n",
      "1 x 10 = 10\n"
     ]
    }
   ],
   "source": [
    "i =1    \n",
    "for j in range(1,11):\n",
    "    print(f\"{i} x {j} = {i*j}\")"
   ]
  },
  {
   "cell_type": "code",
   "execution_count": null,
   "id": "e51d3434-76e9-42f4-9c85-4e636368ec59",
   "metadata": {},
   "outputs": [],
   "source": []
  },
  {
   "cell_type": "code",
   "execution_count": 15,
   "id": "e814f782-182d-4241-a346-d5e33aaaa6a6",
   "metadata": {},
   "outputs": [
    {
     "name": "stdout",
     "output_type": "stream",
     "text": [
      "c\n",
      " \n",
      "v\n",
      "r\n",
      "b\n",
      "i\n",
      "g\n",
      "a\n",
      "j\n",
      "y\n",
      "t\n",
      "m\n",
      "n\n",
      "d\n",
      "k\n",
      "s\n",
      "z\n",
      "x\n",
      "l\n",
      "h\n",
      "u\n",
      "w\n",
      "o\n",
      "p\n",
      "q\n",
      "e\n",
      "f\n"
     ]
    }
   ],
   "source": [
    "sent = \"the quick brown fox jumps over lazy dog\"\n",
    "unique_sent = set(sent)\n",
    "\n",
    "for char in unique_sent:\n",
    "    print(char)"
   ]
  },
  {
   "cell_type": "code",
   "execution_count": null,
   "id": "eff015ec-6255-471c-877d-6f88de2006f3",
   "metadata": {},
   "outputs": [],
   "source": []
  },
  {
   "cell_type": "code",
   "execution_count": null,
   "id": "8c849ab1-c89b-4368-8545-40cc9e4bb57e",
   "metadata": {},
   "outputs": [],
   "source": []
  },
  {
   "cell_type": "markdown",
   "id": "804fe7a5-cb12-4d07-b92a-3d5b08834087",
   "metadata": {},
   "source": [
    "## 2. Python While Loop\n",
    "\n",
    "The `while` loop is used in Python to repeat a block of code as long as a certain condition is true. The basic syntax of a while loop is as follows:\n",
    "\n",
    "```python\n",
    "while condition:\n",
    "    do something\n",
    "```\n",
    "\n",
    "The `condition` is an expression that returns a boolean value (`True` or `False`). The code block that follows the `while` statement is executed repeatedly as long as the condition is `True`. If the condition is initially `False`, then the code block is skipped entirely.\n",
    "\n",
    "Here's an example of how to use the while loop in Python:"
   ]
  },
  {
   "cell_type": "code",
   "execution_count": 16,
   "id": "87dfe07d-c117-46de-be24-f9fd0c709b0d",
   "metadata": {},
   "outputs": [
    {
     "name": "stdout",
     "output_type": "stream",
     "text": [
      "0\n",
      "1\n",
      "2\n",
      "3\n",
      "4\n"
     ]
    }
   ],
   "source": [
    "i = 0\n",
    "\n",
    "while i < 5:\n",
    "    print(i)\n",
    "    i += 1"
   ]
  },
  {
   "cell_type": "markdown",
   "id": "1b434d1e-6dcd-465b-a49e-5048d4a9fc09",
   "metadata": {},
   "source": [
    "In this example, the `while` loop repeats the code block as long as `i` is less than `5`. The code block that follows the `while` statement (which is just a print statement and an increment statement in this case) is executed repeatedly as long as the condition is `True`.\n",
    "\n",
    "It's important to be careful with `while` loops to avoid creating an infinite loop. If the condition is always `True`, then the loop will continue to run indefinitely. Here's an example of an infinite loop:"
   ]
  },
  {
   "cell_type": "markdown",
   "id": "9cc832ec-368c-4483-a8f0-d52055725a28",
   "metadata": {},
   "source": [
    "# i = 0\n",
    "\n",
    "# while i < 5:\n",
    "#     print(i)"
   ]
  },
  {
   "cell_type": "code",
   "execution_count": null,
   "id": "2d698758-e167-4104-9e4a-4a7cdde260cb",
   "metadata": {},
   "outputs": [],
   "source": []
  },
  {
   "cell_type": "markdown",
   "id": "ffbc1894-f04e-4a81-828e-38543baff7c0",
   "metadata": {},
   "source": [
    "**break statement**\n",
    "\n",
    "If we want to terminate loops at certain point we can use `break` inside the loops (works for both `for` and `while` loops). Here's an example:"
   ]
  },
  {
   "cell_type": "code",
   "execution_count": 17,
   "id": "504b0deb-c8dc-4b15-8b47-489a6137b38c",
   "metadata": {},
   "outputs": [
    {
     "name": "stdout",
     "output_type": "stream",
     "text": [
      "0\n",
      "1\n",
      "2\n",
      "3\n",
      "4\n"
     ]
    }
   ],
   "source": [
    "count = 0\n",
    "\n",
    "while count < 10:\n",
    "    print(count)\n",
    "    count += 1\n",
    "    if count == 5:\n",
    "        break"
   ]
  },
  {
   "cell_type": "code",
   "execution_count": null,
   "id": "7c2ae6cf-b94d-4bd1-8f6d-f5efd2ce4f1b",
   "metadata": {},
   "outputs": [],
   "source": []
  },
  {
   "cell_type": "markdown",
   "id": "f851c688-15aa-4ffb-8349-b53b08d6175a",
   "metadata": {},
   "source": [
    "**continue statement**\n",
    "\n",
    "If we want to skips loops at certain point we can use `continue` inside the loops (works for both `for` and `while` loops). Here's an example:"
   ]
  },
  {
   "cell_type": "code",
   "execution_count": 18,
   "id": "3a245b4e-b15b-40d2-8944-9685d47b8db6",
   "metadata": {},
   "outputs": [
    {
     "name": "stdout",
     "output_type": "stream",
     "text": [
      "apple\n",
      "cherry\n"
     ]
    }
   ],
   "source": [
    "fruits = ['apple','banana','cherry']\n",
    "\n",
    "for each in fruits:\n",
    "    if each == 'banana':\n",
    "        continue\n",
    "    print(each)\n"
   ]
  },
  {
   "cell_type": "code",
   "execution_count": null,
   "id": "6f9004dd-ff3f-430c-b8da-84b04628d5bf",
   "metadata": {},
   "outputs": [],
   "source": []
  },
  {
   "cell_type": "markdown",
   "id": "87c545ac-ac74-4a70-9b68-bb5b70ac8f3d",
   "metadata": {},
   "source": [
    "## Write a Program to Calculate the Sum of the First N Natural Numbers:"
   ]
  },
  {
   "cell_type": "code",
   "execution_count": 20,
   "id": "422c4c05-81d3-4806-8d2e-b9df4b58be2f",
   "metadata": {},
   "outputs": [
    {
     "name": "stdout",
     "output_type": "stream",
     "text": [
      "CPU times: user 1 μs, sys: 0 ns, total: 1 μs\n",
      "Wall time: 2.62 μs\n",
      "Sum of 500000.0 numbers is 125000250000\n"
     ]
    }
   ],
   "source": [
    "%time\n",
    "\n",
    "num = 5e5\n",
    "total_sum = 0\n",
    "\n",
    "i = 0\n",
    "while i <= num:\n",
    "    total_sum += i\n",
    "    \n",
    "    i += 1\n",
    "\n",
    "print(f\"Sum of {num} numbers is {total_sum}\")"
   ]
  },
  {
   "cell_type": "code",
   "execution_count": 21,
   "id": "f28be0af-7f01-4121-9f1c-194278ef81f1",
   "metadata": {},
   "outputs": [
    {
     "name": "stdout",
     "output_type": "stream",
     "text": [
      "Product of 5 numbers is 120\n"
     ]
    }
   ],
   "source": [
    "## Write a Program to Calculate the Product of the First N Natural Numbers:\n",
    "num = 5\n",
    "total_prod = 1\n",
    "\n",
    "i = 1\n",
    "while i <= num:\n",
    "    total_prod *= i\n",
    "    \n",
    "    i += 1\n",
    "\n",
    "print(f\"Product of {num} numbers is {total_prod}\")"
   ]
  },
  {
   "cell_type": "code",
   "execution_count": 22,
   "id": "b87316b3-6abb-4cf5-8938-ccc6057b6de3",
   "metadata": {},
   "outputs": [
    {
     "data": {
      "text/plain": [
       "15"
      ]
     },
     "execution_count": 22,
     "metadata": {},
     "output_type": "execute_result"
    }
   ],
   "source": [
    "sum(range(1,6))"
   ]
  },
  {
   "cell_type": "code",
   "execution_count": 23,
   "id": "e620a98e-5b92-4cbb-ba72-13e9518c1907",
   "metadata": {},
   "outputs": [
    {
     "name": "stdout",
     "output_type": "stream",
     "text": [
      "67\n"
     ]
    }
   ],
   "source": [
    "# Max value\n",
    "max_value = 0\n",
    "\n",
    "for each in [22,54,6,2,67,8,9,34]:\n",
    "    if each > max_value:\n",
    "        max_value = each\n",
    "        \n",
    "print(max_value)"
   ]
  },
  {
   "cell_type": "code",
   "execution_count": 24,
   "id": "8ccf738b-5761-4441-b736-f75b22816806",
   "metadata": {},
   "outputs": [
    {
     "data": {
      "text/plain": [
       "67"
      ]
     },
     "execution_count": 24,
     "metadata": {},
     "output_type": "execute_result"
    }
   ],
   "source": [
    "max([22,54,6,2,67,8,9,34])"
   ]
  },
  {
   "cell_type": "code",
   "execution_count": null,
   "id": "13ab47b0-2c3f-469b-96b3-18ad85aa6a24",
   "metadata": {},
   "outputs": [],
   "source": []
  }
 ],
 "metadata": {
  "kernelspec": {
   "display_name": "Python 3 (ipykernel)",
   "language": "python",
   "name": "python3"
  },
  "language_info": {
   "codemirror_mode": {
    "name": "ipython",
    "version": 3
   },
   "file_extension": ".py",
   "mimetype": "text/x-python",
   "name": "python",
   "nbconvert_exporter": "python",
   "pygments_lexer": "ipython3",
   "version": "3.10.12"
  }
 },
 "nbformat": 4,
 "nbformat_minor": 5
}
