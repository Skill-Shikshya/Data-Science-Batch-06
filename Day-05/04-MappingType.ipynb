{
 "cells": [
  {
   "cell_type": "markdown",
   "id": "276b4999-bd7f-4f89-b0b0-90a784cd2788",
   "metadata": {},
   "source": [
    "# Mapping Type\n",
    "\n",
    "Mapping Types are popularly known as dictionaries in python represented by `dict` keyword. In Python, dict is a built-in type that represents a collection of key-value pairs. It is also known as a dictionary or associative array in other programming languages.\n",
    "\n",
    "A dictionary is an unordered collection of elements where each element is a pair consisting of a key and a value. The key is used to index and uniquely identify the value in the dictionary.\n",
    "\n",
    "Here are some key features of Python dictionaries:\n",
    "\n",
    "- Dictionaries are unordered, meaning that the order of elements is not guaranteed.\n",
    "- Keys must be unique and immutable, while values can be of any data type, including other dictionaries (nested dictionaries).\n",
    "- Dictionary elements are accessed using the keys, rather than the index as in a list or tuple.\n",
    "- Dictionaries are mutable, meaning that you can add, delete, or modify elements after the dictionary has been created."
   ]
  },
  {
   "cell_type": "markdown",
   "id": "1b517e96-5ce3-45c6-ac5a-8e0e6d39f14a",
   "metadata": {},
   "source": [
    "## Creating a Dictionary\n",
    "\n",
    "You can create a dictionary by enclosing key-value pairs in curly braces {} or by using the dict() constructor."
   ]
  },
  {
   "cell_type": "markdown",
   "id": "c02b8fdc-2fde-46e0-b476-3a10c8bc47b9",
   "metadata": {},
   "source": [
    "dict_one = {key: value, kay:value ...... }"
   ]
  },
  {
   "cell_type": "code",
   "execution_count": 1,
   "id": "0a006f48-24e5-402a-a02d-dcfd905990db",
   "metadata": {},
   "outputs": [
    {
     "name": "stdout",
     "output_type": "stream",
     "text": [
      "{'name': 'Jhon Doe', 'age': 30, 'City': 'Baltimor', 'Gender': 'male', 'subjects': ['maths', 'science']}\n"
     ]
    }
   ],
   "source": [
    "person = {\n",
    "    \"name\": \"Jhon Doe\",\n",
    "    \"age\" : 30 , \n",
    "    \"City\" : \"Baltimor\", \n",
    "    \"Gender\" : \"male\",\n",
    "    \"subjects\" : [\"maths\",\"science\"]\n",
    "}\n",
    "print(person)"
   ]
  },
  {
   "cell_type": "code",
   "execution_count": 2,
   "id": "0c8eb6aa-ad68-4a8f-92e2-8dfa60c3872c",
   "metadata": {},
   "outputs": [
    {
     "name": "stdout",
     "output_type": "stream",
     "text": [
      "{'name': 'jhon', 'age': 33, 'city': 'NYC'}\n"
     ]
    }
   ],
   "source": [
    "person = dict(name = \"jhon\", age = 33, city = \"NYC\")\n",
    "print(person)"
   ]
  },
  {
   "cell_type": "code",
   "execution_count": null,
   "id": "2a6085d1-29bf-4881-9f69-5a0f08b56b78",
   "metadata": {},
   "outputs": [],
   "source": []
  },
  {
   "cell_type": "markdown",
   "id": "29fbd2c5-3ffb-4e74-96b6-e644d284ce3a",
   "metadata": {},
   "source": [
    "## Accessing Elements\n",
    "\n",
    "You can access the value of a dictionary element by specifying the key inside square brackets []. If you try to access a key that doesn't exist, Python will raise a `KeyError` exception. You can avoid this by using the `get()` method, which returns None (or a default value you provide) instead of raising an exception."
   ]
  },
  {
   "cell_type": "code",
   "execution_count": 3,
   "id": "692614c8-deba-48c6-ba98-5c14c9818984",
   "metadata": {},
   "outputs": [
    {
     "ename": "KeyError",
     "evalue": "'City'",
     "output_type": "error",
     "traceback": [
      "\u001b[0;31m---------------------------------------------------------------------------\u001b[0m",
      "\u001b[0;31mKeyError\u001b[0m                                  Traceback (most recent call last)",
      "Cell \u001b[0;32mIn[3], line 1\u001b[0m\n\u001b[0;32m----> 1\u001b[0m \u001b[43mperson\u001b[49m\u001b[43m[\u001b[49m\u001b[38;5;124;43m'\u001b[39;49m\u001b[38;5;124;43mCity\u001b[39;49m\u001b[38;5;124;43m'\u001b[39;49m\u001b[43m]\u001b[49m\n",
      "\u001b[0;31mKeyError\u001b[0m: 'City'"
     ]
    }
   ],
   "source": [
    "person['City']"
   ]
  },
  {
   "cell_type": "code",
   "execution_count": null,
   "id": "9eadd386-f551-4ed4-bb23-94e570263ee6",
   "metadata": {},
   "outputs": [],
   "source": [
    "person['DOB']"
   ]
  },
  {
   "cell_type": "code",
   "execution_count": null,
   "id": "6d2751a8-969c-49f5-9e0d-e3add2c9c40b",
   "metadata": {},
   "outputs": [],
   "source": [
    "person.get(\"City\",\"unknown\")"
   ]
  },
  {
   "cell_type": "code",
   "execution_count": null,
   "id": "4abd7eae-bfd2-41c5-8f37-f6d714693db2",
   "metadata": {},
   "outputs": [],
   "source": [
    "person.get(\"subjects\")"
   ]
  },
  {
   "cell_type": "code",
   "execution_count": null,
   "id": "d554dc0b-05d9-404c-97e7-82eba6ea5d2a",
   "metadata": {},
   "outputs": [],
   "source": []
  },
  {
   "cell_type": "markdown",
   "id": "0e913ffd-f58d-41d1-855d-4ff764ba8edd",
   "metadata": {},
   "source": [
    "## Modifying Elements\n",
    "\n",
    "You can modify the value of a dictionary element by specifying the key and assigning a new value to it."
   ]
  },
  {
   "cell_type": "code",
   "execution_count": 4,
   "id": "bdc85630-de2a-4e98-af00-21ac78997b78",
   "metadata": {},
   "outputs": [
    {
     "name": "stdout",
     "output_type": "stream",
     "text": [
      "{'name': 'jhon', 'age': 33, 'city': 'NYC'}\n"
     ]
    }
   ],
   "source": [
    "print(person)"
   ]
  },
  {
   "cell_type": "code",
   "execution_count": null,
   "id": "ef97637a-eb2c-40d0-b01f-e1ea579ad361",
   "metadata": {},
   "outputs": [],
   "source": []
  },
  {
   "cell_type": "code",
   "execution_count": 6,
   "id": "d02f43aa-e7ba-4f23-a8c0-4741904d796e",
   "metadata": {},
   "outputs": [],
   "source": [
    "person['age'] = 45"
   ]
  },
  {
   "cell_type": "code",
   "execution_count": 7,
   "id": "c8c2628a-3418-454a-ba88-353d48bb15c9",
   "metadata": {},
   "outputs": [
    {
     "name": "stdout",
     "output_type": "stream",
     "text": [
      "{'name': 'jhon', 'age': 45, 'city': 'NYC'}\n"
     ]
    }
   ],
   "source": [
    "print(person)"
   ]
  },
  {
   "cell_type": "code",
   "execution_count": null,
   "id": "acae5ab3-4bc7-470a-9710-597b4aa96816",
   "metadata": {},
   "outputs": [],
   "source": []
  },
  {
   "cell_type": "code",
   "execution_count": 9,
   "id": "4a70c1e0-8793-4637-bb72-1602c0c93fb7",
   "metadata": {},
   "outputs": [],
   "source": [
    "person['gender'] = \"male\""
   ]
  },
  {
   "cell_type": "code",
   "execution_count": 10,
   "id": "8798556b-df57-471b-a082-d13dbb7f250e",
   "metadata": {},
   "outputs": [
    {
     "name": "stdout",
     "output_type": "stream",
     "text": [
      "{'name': 'jhon', 'age': 45, 'city': 'NYC', 'gender': 'male'}\n"
     ]
    }
   ],
   "source": [
    "print(person)"
   ]
  },
  {
   "cell_type": "code",
   "execution_count": null,
   "id": "4b9721cd-6962-4dca-b2e0-34d60f2df072",
   "metadata": {},
   "outputs": [],
   "source": []
  },
  {
   "cell_type": "code",
   "execution_count": 12,
   "id": "e07f055a-c51d-4af4-8269-2aaf84a01dc8",
   "metadata": {},
   "outputs": [],
   "source": [
    "del person['city']"
   ]
  },
  {
   "cell_type": "code",
   "execution_count": 13,
   "id": "1077fa7e-0c8d-4633-ba3c-ff85666b1129",
   "metadata": {},
   "outputs": [
    {
     "name": "stdout",
     "output_type": "stream",
     "text": [
      "{'name': 'jhon', 'age': 45, 'gender': 'male'}\n"
     ]
    }
   ],
   "source": [
    "print(person)"
   ]
  },
  {
   "cell_type": "code",
   "execution_count": null,
   "id": "e73f0a47-2b6a-4952-93f4-d024636418f3",
   "metadata": {},
   "outputs": [],
   "source": []
  },
  {
   "cell_type": "markdown",
   "id": "7d7d9638-7ff1-4a89-b28e-b49f09c69783",
   "metadata": {},
   "source": [
    "## Dictionary Methods\n",
    "\n",
    "Docs : https://docs.python.org/3/library/stdtypes.html#typesmapping\n",
    "\n",
    "Some commonly used methods in Python dictionaries are `keys()`, `values()`, `items()`, `pop()`, `copy()`, `clear()`."
   ]
  },
  {
   "cell_type": "code",
   "execution_count": 15,
   "id": "d38b51b0-e27f-4c3d-8c5f-c5c16b633e4b",
   "metadata": {},
   "outputs": [
    {
     "name": "stdout",
     "output_type": "stream",
     "text": [
      "{'name': 'jhon', 'age': 45, 'gender': 'male'}\n"
     ]
    }
   ],
   "source": [
    "print(person)"
   ]
  },
  {
   "cell_type": "code",
   "execution_count": 16,
   "id": "e469628a-19dc-4a7b-a9a6-821dae057e02",
   "metadata": {},
   "outputs": [
    {
     "name": "stdout",
     "output_type": "stream",
     "text": [
      "dict_keys(['name', 'age', 'gender'])\n"
     ]
    }
   ],
   "source": [
    "print(person.keys()) # Returns a view object that contains keys of the dictionary"
   ]
  },
  {
   "cell_type": "code",
   "execution_count": 18,
   "id": "01e25daf-d2b6-4059-a63b-dd7273881357",
   "metadata": {},
   "outputs": [
    {
     "name": "stdout",
     "output_type": "stream",
     "text": [
      "dict_values(['jhon', 45, 'male'])\n"
     ]
    }
   ],
   "source": [
    "print(person.values()) # Returns a view object that contains values of the dictionary"
   ]
  },
  {
   "cell_type": "code",
   "execution_count": 20,
   "id": "5a57c4e3-e84f-4e6f-86f2-eed9e2cf2134",
   "metadata": {},
   "outputs": [
    {
     "name": "stdout",
     "output_type": "stream",
     "text": [
      "dict_items([('name', 'jhon'), ('age', 45), ('gender', 'male')])\n"
     ]
    }
   ],
   "source": [
    "print(person.items()) # Returns a view object that contains key-value pairs of the dictionary as tuples"
   ]
  },
  {
   "cell_type": "code",
   "execution_count": null,
   "id": "6bd48b72-e61e-48e0-a5c7-1f895c29f6dc",
   "metadata": {},
   "outputs": [],
   "source": []
  },
  {
   "cell_type": "code",
   "execution_count": 23,
   "id": "63a6bd27-a8cf-4ced-8369-a3e34463663e",
   "metadata": {},
   "outputs": [],
   "source": [
    "age = person.pop('age') # Removes the key-value pair with the given key and returns the value"
   ]
  },
  {
   "cell_type": "code",
   "execution_count": 24,
   "id": "ba2f25c1-adf5-4eee-8cb0-2367ac172848",
   "metadata": {},
   "outputs": [
    {
     "data": {
      "text/plain": [
       "45"
      ]
     },
     "execution_count": 24,
     "metadata": {},
     "output_type": "execute_result"
    }
   ],
   "source": [
    "age"
   ]
  },
  {
   "cell_type": "code",
   "execution_count": 25,
   "id": "20f47a6a-aa2a-4244-bb94-4234f295b0fe",
   "metadata": {},
   "outputs": [
    {
     "data": {
      "text/plain": [
       "{'name': 'jhon', 'gender': 'male'}"
      ]
     },
     "execution_count": 25,
     "metadata": {},
     "output_type": "execute_result"
    }
   ],
   "source": [
    "person"
   ]
  },
  {
   "cell_type": "code",
   "execution_count": null,
   "id": "5ed38d9e-d73b-4e5c-bc2d-5c8b663f8bc7",
   "metadata": {},
   "outputs": [],
   "source": []
  },
  {
   "cell_type": "code",
   "execution_count": 27,
   "id": "34d09ef9-a1cf-4a5d-b92d-e1b31ce0c58b",
   "metadata": {},
   "outputs": [],
   "source": [
    "city = person.pop('city', \"NYC\")  #  Providing a default value avoids the KeyError"
   ]
  },
  {
   "cell_type": "code",
   "execution_count": 28,
   "id": "13cdc694-751b-4e58-b2b4-ce6832663c44",
   "metadata": {},
   "outputs": [
    {
     "data": {
      "text/plain": [
       "'NYC'"
      ]
     },
     "execution_count": 28,
     "metadata": {},
     "output_type": "execute_result"
    }
   ],
   "source": [
    "city"
   ]
  },
  {
   "cell_type": "code",
   "execution_count": 29,
   "id": "c7980976-074d-4670-aad1-6a6da30a4ad6",
   "metadata": {},
   "outputs": [
    {
     "data": {
      "text/plain": [
       "{'name': 'jhon', 'gender': 'male'}"
      ]
     },
     "execution_count": 29,
     "metadata": {},
     "output_type": "execute_result"
    }
   ],
   "source": [
    "person"
   ]
  },
  {
   "cell_type": "code",
   "execution_count": null,
   "id": "32e5894a-f4ab-4f5e-af2c-9ddfed95644c",
   "metadata": {},
   "outputs": [],
   "source": []
  },
  {
   "cell_type": "markdown",
   "id": "84fd4c61-f4c2-4679-b3b9-e5f3291087b5",
   "metadata": {},
   "source": [
    "### copy() method"
   ]
  },
  {
   "cell_type": "code",
   "execution_count": 30,
   "id": "0edf7a45-ed1c-490e-9c2a-abc13fbd8378",
   "metadata": {},
   "outputs": [
    {
     "data": {
      "text/plain": [
       "{'name': 'jhon', 'gender': 'male'}"
      ]
     },
     "execution_count": 30,
     "metadata": {},
     "output_type": "execute_result"
    }
   ],
   "source": [
    "person"
   ]
  },
  {
   "cell_type": "code",
   "execution_count": 31,
   "id": "8f482408-a2ca-4d28-a866-6662b13a6ddd",
   "metadata": {},
   "outputs": [],
   "source": [
    "person2 = person"
   ]
  },
  {
   "cell_type": "code",
   "execution_count": 32,
   "id": "40a82de2-5e2a-40b0-8582-338e34f8da22",
   "metadata": {},
   "outputs": [
    {
     "data": {
      "text/plain": [
       "{'name': 'jhon', 'gender': 'male'}"
      ]
     },
     "execution_count": 32,
     "metadata": {},
     "output_type": "execute_result"
    }
   ],
   "source": [
    "person2"
   ]
  },
  {
   "cell_type": "code",
   "execution_count": 33,
   "id": "ff3e70fe-8293-47c7-8e06-e6406728fb1d",
   "metadata": {},
   "outputs": [],
   "source": [
    "person2['name'] = \"hari Pd.\""
   ]
  },
  {
   "cell_type": "code",
   "execution_count": 34,
   "id": "067bca80-bfeb-4866-8406-48f0c0528fdf",
   "metadata": {},
   "outputs": [
    {
     "data": {
      "text/plain": [
       "{'name': 'hari Pd.', 'gender': 'male'}"
      ]
     },
     "execution_count": 34,
     "metadata": {},
     "output_type": "execute_result"
    }
   ],
   "source": [
    "person2"
   ]
  },
  {
   "cell_type": "code",
   "execution_count": 35,
   "id": "149d97b0-5d16-466d-a661-fab16b4789fb",
   "metadata": {},
   "outputs": [
    {
     "data": {
      "text/plain": [
       "{'name': 'hari Pd.', 'gender': 'male'}"
      ]
     },
     "execution_count": 35,
     "metadata": {},
     "output_type": "execute_result"
    }
   ],
   "source": [
    "person"
   ]
  },
  {
   "cell_type": "code",
   "execution_count": null,
   "id": "f56148bb-9a7b-4027-bf3a-291a68c6be20",
   "metadata": {},
   "outputs": [],
   "source": []
  },
  {
   "cell_type": "code",
   "execution_count": 36,
   "id": "d11bcd28-306f-431e-9eca-4ec221cefb1e",
   "metadata": {},
   "outputs": [],
   "source": [
    "person3 = person.copy()"
   ]
  },
  {
   "cell_type": "code",
   "execution_count": 37,
   "id": "a3ec29bd-25ca-49b7-ae65-3d8a70679aa2",
   "metadata": {},
   "outputs": [
    {
     "data": {
      "text/plain": [
       "{'name': 'hari Pd.', 'gender': 'male'}"
      ]
     },
     "execution_count": 37,
     "metadata": {},
     "output_type": "execute_result"
    }
   ],
   "source": [
    "person3"
   ]
  },
  {
   "cell_type": "code",
   "execution_count": 38,
   "id": "b0079a12-35ba-43fe-9478-7f2bde9957df",
   "metadata": {},
   "outputs": [],
   "source": [
    "person3['name'] = \"Lotus Sharma\""
   ]
  },
  {
   "cell_type": "code",
   "execution_count": 39,
   "id": "8daa7d93-c0a6-47cc-9714-f20b780efa18",
   "metadata": {},
   "outputs": [
    {
     "data": {
      "text/plain": [
       "{'name': 'Lotus Sharma', 'gender': 'male'}"
      ]
     },
     "execution_count": 39,
     "metadata": {},
     "output_type": "execute_result"
    }
   ],
   "source": [
    "person3"
   ]
  },
  {
   "cell_type": "code",
   "execution_count": 40,
   "id": "c3be2948-b0a8-4fd3-96ef-a2c3d3dd0703",
   "metadata": {},
   "outputs": [
    {
     "data": {
      "text/plain": [
       "{'name': 'hari Pd.', 'gender': 'male'}"
      ]
     },
     "execution_count": 40,
     "metadata": {},
     "output_type": "execute_result"
    }
   ],
   "source": [
    "person"
   ]
  },
  {
   "cell_type": "code",
   "execution_count": null,
   "id": "dbaf81a9-c3de-4b82-bb88-4941a3fc2c4c",
   "metadata": {},
   "outputs": [],
   "source": []
  },
  {
   "cell_type": "markdown",
   "id": "fb1307b7-e963-4d45-899b-94c9b5fdad9d",
   "metadata": {},
   "source": [
    "## sorted() method\n",
    "We can also sort the dictionary elements both by dictionary keys and values using `sorted()` method. Let's see how we can do it for real:"
   ]
  },
  {
   "cell_type": "code",
   "execution_count": 1,
   "id": "8a630f40-9b24-475b-a14e-e8315bc0a368",
   "metadata": {},
   "outputs": [],
   "source": [
    "person = {\"name\": \"John\", \"age\": \"30\", \"city\": \"New York\", \"gender\": \"Male\"}"
   ]
  },
  {
   "cell_type": "code",
   "execution_count": 2,
   "id": "00d73134-3d49-40f3-8df0-1cee5d1a6de6",
   "metadata": {},
   "outputs": [
    {
     "data": {
      "text/plain": [
       "{'age': '30', 'city': 'New York', 'gender': 'Male', 'name': 'John'}"
      ]
     },
     "execution_count": 2,
     "metadata": {},
     "output_type": "execute_result"
    }
   ],
   "source": [
    "dict(sorted(person.items(), key = lambda item: item[0])) # Sort by key"
   ]
  },
  {
   "cell_type": "code",
   "execution_count": 3,
   "id": "2f5a17ee-c5db-4576-9c0b-b833d969f145",
   "metadata": {},
   "outputs": [
    {
     "data": {
      "text/plain": [
       "{'age': '30', 'name': 'John', 'gender': 'Male', 'city': 'New York'}"
      ]
     },
     "execution_count": 3,
     "metadata": {},
     "output_type": "execute_result"
    }
   ],
   "source": [
    "dict(sorted(person.items(), key = lambda item: item[1])) # Sort by value"
   ]
  },
  {
   "cell_type": "code",
   "execution_count": null,
   "id": "2d942e88-7742-4cc0-baa7-7bcb9ae95f26",
   "metadata": {},
   "outputs": [],
   "source": []
  },
  {
   "cell_type": "code",
   "execution_count": null,
   "id": "12a1efc0-2d0e-4b7e-937d-cfa29955e29c",
   "metadata": {},
   "outputs": [],
   "source": []
  },
  {
   "cell_type": "markdown",
   "id": "9fe81c5f-b9ec-4ca2-97b7-dc1ae3a38152",
   "metadata": {},
   "source": [
    "## Merging two dict"
   ]
  },
  {
   "cell_type": "code",
   "execution_count": 7,
   "id": "875dddd0-39d5-43e0-9014-0342c2ee0e0a",
   "metadata": {},
   "outputs": [],
   "source": [
    "person = {\"name\": \"John\", \"age\": \"30\", \"city\": \"New York\", \"gender\": \"Male\"}\n",
    "address = {\"city\": \"kathmandu\", 'ward':5, 'pincode':445}"
   ]
  },
  {
   "cell_type": "code",
   "execution_count": 16,
   "id": "8ed7eef1-487a-446d-98a0-1872f070179d",
   "metadata": {},
   "outputs": [
    {
     "data": {
      "text/plain": [
       "{'city': 'New York',\n",
       " 'ward': 5,\n",
       " 'pincode': 445,\n",
       " 'name': 'John',\n",
       " 'age': '30',\n",
       " 'gender': 'Male'}"
      ]
     },
     "execution_count": 16,
     "metadata": {},
     "output_type": "execute_result"
    }
   ],
   "source": [
    "result = address | person\n",
    "result"
   ]
  },
  {
   "cell_type": "code",
   "execution_count": 17,
   "id": "ec4046d2-7259-43a7-8758-c51d3377961c",
   "metadata": {},
   "outputs": [
    {
     "data": {
      "text/plain": [
       "{'name': 'John',\n",
       " 'age': '30',\n",
       " 'city': 'kathmandu',\n",
       " 'gender': 'Male',\n",
       " 'ward': 5,\n",
       " 'pincode': 445}"
      ]
     },
     "execution_count": 17,
     "metadata": {},
     "output_type": "execute_result"
    }
   ],
   "source": [
    "z = {**person, **address}\n",
    "z"
   ]
  },
  {
   "cell_type": "code",
   "execution_count": null,
   "id": "b48d6f6e-1cd8-492c-aca1-b94d52b6c6d4",
   "metadata": {},
   "outputs": [],
   "source": []
  }
 ],
 "metadata": {
  "kernelspec": {
   "display_name": "Python 3 (ipykernel)",
   "language": "python",
   "name": "python3"
  },
  "language_info": {
   "codemirror_mode": {
    "name": "ipython",
    "version": 3
   },
   "file_extension": ".py",
   "mimetype": "text/x-python",
   "name": "python",
   "nbconvert_exporter": "python",
   "pygments_lexer": "ipython3",
   "version": "3.10.12"
  }
 },
 "nbformat": 4,
 "nbformat_minor": 5
}
