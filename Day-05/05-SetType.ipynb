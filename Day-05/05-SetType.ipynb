{
 "cells": [
  {
   "cell_type": "markdown",
   "id": "78e4a383-d23f-443d-895d-cf0e12db4aed",
   "metadata": {},
   "source": [
    "# Python Set Type\n",
    "\n",
    "A set is an unordered collection of unique elements in Python. Sets are mutable, meaning their contents can be changed after they are created. Sets are created using curly braces `{}` or the `set()` constructor.\n"
   ]
  },
  {
   "cell_type": "markdown",
   "id": "2c3fee12-bb66-46bc-8cc7-2f25c1027cfd",
   "metadata": {},
   "source": [
    "## Creating a Set\n",
    "\n",
    "To create a set, you can use curly braces `{}` with comma-separated values inside or the `set()` constructor with a list as an argument. Here are some examples:"
   ]
  },
  {
   "cell_type": "code",
   "execution_count": 1,
   "id": "030134b3-1374-438a-a457-beafb4121beb",
   "metadata": {},
   "outputs": [],
   "source": [
    "my_set = {4,5,6,7,1,1,4.1}\n",
    "\n",
    "# my_set = set([4,5,6,7,1])"
   ]
  },
  {
   "cell_type": "code",
   "execution_count": 2,
   "id": "64a9f1a1-e142-4d4d-bf1a-46d9048b8862",
   "metadata": {},
   "outputs": [
    {
     "data": {
      "text/plain": [
       "{1, 4, 4.1, 5, 6, 7}"
      ]
     },
     "execution_count": 2,
     "metadata": {},
     "output_type": "execute_result"
    }
   ],
   "source": [
    "my_set"
   ]
  },
  {
   "cell_type": "code",
   "execution_count": null,
   "id": "53a82351-0f79-4eab-9782-4e26ce3718a7",
   "metadata": {},
   "outputs": [],
   "source": []
  },
  {
   "cell_type": "markdown",
   "id": "6025126b-1d23-49eb-a613-1b557efb3ec4",
   "metadata": {},
   "source": [
    "## Set Operations\n",
    "\n",
    "Docs : https://www.w3schools.com/python/python_ref_set.asp\n",
    "\n",
    "Sets in Python support a variety of operations, including union, intersection, difference, and symmetric difference. Here are some examples:"
   ]
  },
  {
   "cell_type": "code",
   "execution_count": 3,
   "id": "57035a95-1825-4ff0-a032-3801a537e8bb",
   "metadata": {},
   "outputs": [],
   "source": [
    "A = {1,2,3,4}\n",
    "B = {5,6, 3,4}"
   ]
  },
  {
   "cell_type": "code",
   "execution_count": 4,
   "id": "5f9e4baa-c930-464e-b58f-cd56a5e7f267",
   "metadata": {},
   "outputs": [
    {
     "name": "stdout",
     "output_type": "stream",
     "text": [
      "{1, 2, 3, 4, 5, 6}\n"
     ]
    }
   ],
   "source": [
    "unionset = A.union(B)\n",
    "print(unionset)"
   ]
  },
  {
   "cell_type": "code",
   "execution_count": 5,
   "id": "833f9975-f552-4d2c-9049-de60da3f0096",
   "metadata": {},
   "outputs": [
    {
     "name": "stdout",
     "output_type": "stream",
     "text": [
      "{3, 4}\n"
     ]
    }
   ],
   "source": [
    "set2 = A.intersection(B)\n",
    "print(set2)"
   ]
  },
  {
   "cell_type": "code",
   "execution_count": 6,
   "id": "0dc18ae9-846f-4e72-85ba-5ac0c604e712",
   "metadata": {},
   "outputs": [
    {
     "data": {
      "text/plain": [
       "False"
      ]
     },
     "execution_count": 6,
     "metadata": {},
     "output_type": "execute_result"
    }
   ],
   "source": [
    "A.isdisjoint(B)"
   ]
  },
  {
   "cell_type": "code",
   "execution_count": 7,
   "id": "1bb25954-4f54-4d94-8e75-63287b9e6748",
   "metadata": {},
   "outputs": [
    {
     "data": {
      "text/plain": [
       "{1, 2}"
      ]
     },
     "execution_count": 7,
     "metadata": {},
     "output_type": "execute_result"
    }
   ],
   "source": [
    "set3 = A.difference(B)\n",
    "set3"
   ]
  },
  {
   "cell_type": "code",
   "execution_count": 8,
   "id": "d987718e-2722-4fd8-a229-4663d64cb4cc",
   "metadata": {},
   "outputs": [
    {
     "data": {
      "text/plain": [
       "{1, 2, 5, 6}"
      ]
     },
     "execution_count": 8,
     "metadata": {},
     "output_type": "execute_result"
    }
   ],
   "source": [
    "set4 = A.symmetric_difference(B)\n",
    "set4"
   ]
  },
  {
   "cell_type": "code",
   "execution_count": null,
   "id": "c49a6ffc-284f-4f36-a352-9ce7f49a1365",
   "metadata": {},
   "outputs": [],
   "source": []
  },
  {
   "cell_type": "code",
   "execution_count": 9,
   "id": "db0805f9-48db-41a1-a0b7-40372987ee9d",
   "metadata": {},
   "outputs": [],
   "source": [
    "set4.remove(1)"
   ]
  },
  {
   "cell_type": "code",
   "execution_count": 10,
   "id": "ccf4ae5a-6c4d-4a6f-a762-3be33d6e92b9",
   "metadata": {},
   "outputs": [
    {
     "data": {
      "text/plain": [
       "{2, 5, 6}"
      ]
     },
     "execution_count": 10,
     "metadata": {},
     "output_type": "execute_result"
    }
   ],
   "source": [
    "set4"
   ]
  },
  {
   "cell_type": "code",
   "execution_count": 11,
   "id": "76ab5c3d-685b-4695-b764-fd0e32c62e63",
   "metadata": {},
   "outputs": [
    {
     "data": {
      "text/plain": [
       "2"
      ]
     },
     "execution_count": 11,
     "metadata": {},
     "output_type": "execute_result"
    }
   ],
   "source": [
    "set4.pop()"
   ]
  },
  {
   "cell_type": "code",
   "execution_count": 12,
   "id": "a47dad67-2498-4ba6-9d68-c09c5b1259bb",
   "metadata": {},
   "outputs": [
    {
     "data": {
      "text/plain": [
       "{5, 6}"
      ]
     },
     "execution_count": 12,
     "metadata": {},
     "output_type": "execute_result"
    }
   ],
   "source": [
    "set4"
   ]
  },
  {
   "cell_type": "code",
   "execution_count": 13,
   "id": "313429fe-6567-40d3-a730-6ec80c9320d0",
   "metadata": {},
   "outputs": [],
   "source": [
    "set4.add(2)"
   ]
  },
  {
   "cell_type": "code",
   "execution_count": 14,
   "id": "11c8f35f-9f30-4b21-b8f5-d49bcd8ebe1e",
   "metadata": {},
   "outputs": [
    {
     "data": {
      "text/plain": [
       "{2, 5, 6}"
      ]
     },
     "execution_count": 14,
     "metadata": {},
     "output_type": "execute_result"
    }
   ],
   "source": [
    "set4"
   ]
  },
  {
   "cell_type": "code",
   "execution_count": 15,
   "id": "935016aa-0ab0-4324-897c-dab8a23ea268",
   "metadata": {},
   "outputs": [],
   "source": [
    "set4.discard(2)"
   ]
  },
  {
   "cell_type": "code",
   "execution_count": 16,
   "id": "b1687c2d-19d3-4d69-ad32-090f8801c162",
   "metadata": {},
   "outputs": [
    {
     "data": {
      "text/plain": [
       "{5, 6}"
      ]
     },
     "execution_count": 16,
     "metadata": {},
     "output_type": "execute_result"
    }
   ],
   "source": [
    "set4"
   ]
  },
  {
   "cell_type": "code",
   "execution_count": null,
   "id": "629f5416-4d55-4d04-856a-b09015dc5512",
   "metadata": {},
   "outputs": [],
   "source": []
  }
 ],
 "metadata": {
  "kernelspec": {
   "display_name": "Python 3 (ipykernel)",
   "language": "python",
   "name": "python3"
  },
  "language_info": {
   "codemirror_mode": {
    "name": "ipython",
    "version": 3
   },
   "file_extension": ".py",
   "mimetype": "text/x-python",
   "name": "python",
   "nbconvert_exporter": "python",
   "pygments_lexer": "ipython3",
   "version": "3.10.12"
  }
 },
 "nbformat": 4,
 "nbformat_minor": 5
}
