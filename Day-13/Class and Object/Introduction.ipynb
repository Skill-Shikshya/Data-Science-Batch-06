{
 "cells": [
  {
   "cell_type": "markdown",
   "id": "d288a0ed-9fb7-4cc1-a54f-59ca43cffe46",
   "metadata": {},
   "source": [
    "# Object Oriented Programming\n",
    "\n",
    "Object-oriented programming is a programming paradigm that is centered around objects, which are instances of classes that encapsulate data and behavior. In Python, everything is an object, including integers, strings, lists, and functions. Python's support for OOP is a key feature of the language that makes it powerful and flexible.\n"
   ]
  },
  {
   "cell_type": "markdown",
   "id": "74cab39a-a46d-41de-a60f-6c4961f18da7",
   "metadata": {},
   "source": [
    "# Class and Objects\n",
    "\n",
    "A class is a blueprint or a template for creating objects, which are instances of the class. Classes encapsulate data and the behavior that operates on that data. A class defines a set of attributes and methods that can be used to create objects. In Python, you can define a class using the class keyword. Attributes and methods are the two key components of a python class. Attributes are the characteristics or properties of an object, while methods are the functions that are associated with the object.\n",
    "\n",
    "Syntax:\n",
    "```python\n",
    "class ClassName:\n",
    "    def methods:\n",
    "        ..\n",
    "```"
   ]
  },
  {
   "cell_type": "code",
   "execution_count": 13,
   "id": "0b19c22b-74d0-4a0e-91da-e119dd6c5e32",
   "metadata": {},
   "outputs": [],
   "source": [
    "class Calculator:\n",
    "    def __init__(self, num1, num2):\n",
    "        self.num1 = num1\n",
    "\n",
    "    def sum(self):\n",
    "        print(\"Here\")\n",
    "\n",
    "    def product(self):\n",
    "        pass\n",
    "        "
   ]
  },
  {
   "cell_type": "code",
   "execution_count": 14,
   "id": "e60efd44-3c8a-4f00-8a91-fd5824e8a19d",
   "metadata": {},
   "outputs": [],
   "source": [
    "cal_obj = Calculator(10,4)"
   ]
  },
  {
   "cell_type": "code",
   "execution_count": 15,
   "id": "d74593b8-a7e7-43f8-b380-cc47935de599",
   "metadata": {},
   "outputs": [
    {
     "data": {
      "text/plain": [
       "__main__.Calculator"
      ]
     },
     "execution_count": 15,
     "metadata": {},
     "output_type": "execute_result"
    }
   ],
   "source": [
    "type(cal_obj)"
   ]
  },
  {
   "cell_type": "code",
   "execution_count": 16,
   "id": "c6685ac2-b8a9-4844-8e54-cff63b5451cd",
   "metadata": {},
   "outputs": [
    {
     "name": "stdout",
     "output_type": "stream",
     "text": [
      "Here\n"
     ]
    }
   ],
   "source": [
    "cal_obj.sum()"
   ]
  },
  {
   "cell_type": "code",
   "execution_count": 17,
   "id": "7f912d38-793a-4b40-9659-c7531c8ae313",
   "metadata": {},
   "outputs": [
    {
     "data": {
      "text/plain": [
       "10"
      ]
     },
     "execution_count": 17,
     "metadata": {},
     "output_type": "execute_result"
    }
   ],
   "source": [
    "cal_obj.num1"
   ]
  },
  {
   "cell_type": "code",
   "execution_count": null,
   "id": "631e71b1-d177-481b-8f16-4b5809e4e48f",
   "metadata": {},
   "outputs": [],
   "source": []
  }
 ],
 "metadata": {
  "kernelspec": {
   "display_name": "Python 3 (ipykernel)",
   "language": "python",
   "name": "python3"
  },
  "language_info": {
   "codemirror_mode": {
    "name": "ipython",
    "version": 3
   },
   "file_extension": ".py",
   "mimetype": "text/x-python",
   "name": "python",
   "nbconvert_exporter": "python",
   "pygments_lexer": "ipython3",
   "version": "3.10.12"
  }
 },
 "nbformat": 4,
 "nbformat_minor": 5
}
