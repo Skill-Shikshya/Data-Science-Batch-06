{
 "cells": [
  {
   "cell_type": "markdown",
   "id": "de7cd061-bde1-492b-85ce-ec0327c5b56f",
   "metadata": {},
   "source": [
    "## User-Defined Functions"
   ]
  },
  {
   "cell_type": "markdown",
   "id": "9ac1610b-0e6d-4e32-9b39-923a5c58cf31",
   "metadata": {},
   "source": [
    "```python\n",
    "def function_name(parameter1, parameter2, ...):\n",
    "    # Function body\n",
    "    return output_value\n",
    "```\n",
    "\n",
    "In this syntax, `def` is the keyword used to define a function, `function_name` is the name of the function, and `parameter1`, `parameter2`, etc. are the input parameters of the function. The `return` keyword is used to specify the output value of the function.\n"
   ]
  },
  {
   "cell_type": "code",
   "execution_count": 4,
   "id": "ce0130b3-0b99-4c33-93cb-3e981eaaa04e",
   "metadata": {},
   "outputs": [],
   "source": [
    "def sum_list(input_list):\n",
    "    result = 0\n",
    "    \n",
    "    for x in input_list:\n",
    "        result += x\n",
    "\n",
    "    return result"
   ]
  },
  {
   "cell_type": "code",
   "execution_count": 6,
   "id": "8ddf234b-f1eb-4e58-90c5-3ec92e264d41",
   "metadata": {},
   "outputs": [],
   "source": [
    "sum_result = sum_list([2,3,4,5])"
   ]
  },
  {
   "cell_type": "code",
   "execution_count": 7,
   "id": "ae50e542-294d-4274-8aaf-6a6c7a7f9b79",
   "metadata": {},
   "outputs": [
    {
     "name": "stdout",
     "output_type": "stream",
     "text": [
      "14\n"
     ]
    }
   ],
   "source": [
    "print(sum_result)"
   ]
  },
  {
   "cell_type": "code",
   "execution_count": null,
   "id": "5a69a521-095a-4c49-abb4-95af75e15bd0",
   "metadata": {},
   "outputs": [],
   "source": []
  },
  {
   "cell_type": "markdown",
   "id": "eb22dcf0-d02b-48e8-bd3b-e0ba0965ea95",
   "metadata": {},
   "source": [
    "Functions in Python can also have optional parameters with default values, which allows the caller to omit certain arguments if they are not needed. Here's an example that demonstrates how to define a function with optional parameters:"
   ]
  },
  {
   "cell_type": "code",
   "execution_count": 18,
   "id": "d40bc4f0-8496-4b11-a434-23a0ddcddc6f",
   "metadata": {},
   "outputs": [],
   "source": [
    "def greet(name, greeting = \"Hello\"):\n",
    "    return f\"{greeting}, {name}\""
   ]
  },
  {
   "cell_type": "code",
   "execution_count": 15,
   "id": "9483ddb9-c7a5-4e57-a16f-40afa4d26dd6",
   "metadata": {},
   "outputs": [
    {
     "data": {
      "text/plain": [
       "'Hello, hari'"
      ]
     },
     "execution_count": 15,
     "metadata": {},
     "output_type": "execute_result"
    }
   ],
   "source": [
    "greet(\"hari\")"
   ]
  },
  {
   "cell_type": "code",
   "execution_count": 16,
   "id": "b90c3d8b-bcc0-4ae7-a73d-bd9376338fd7",
   "metadata": {},
   "outputs": [
    {
     "data": {
      "text/plain": [
       "'Hi, bob'"
      ]
     },
     "execution_count": 16,
     "metadata": {},
     "output_type": "execute_result"
    }
   ],
   "source": [
    "greet(\"bob\", \"Hi\")"
   ]
  },
  {
   "cell_type": "markdown",
   "id": "2178295c-2f47-4848-a802-34cf5a3eb7ed",
   "metadata": {},
   "source": [
    "In this example, we define a function called `greet` that takes an input parameter `name` and an optional parameter `greeting` with a default value of `'Hello'`. The function returns a greeting message that includes the `name` and the `greeting`. We then call the function with only the name argument in the first case, and with both name and greeting arguments in the second case.\n",
    "\n",
    "Functions in Python can also have variable-length argument lists. These are called `*args` and `**kwargs`, and they allow the function to accept any number of arguments and keyword arguments, respectively. Here's an example that demonstrates how to define a function with variable-length argument lists:"
   ]
  },
  {
   "cell_type": "code",
   "execution_count": 50,
   "id": "a915313f-a2ed-4544-b4ab-c58da48dbecc",
   "metadata": {},
   "outputs": [],
   "source": [
    "def print_arguments(*args, **kwargs):\n",
    "    print(\"Positional Args\")\n",
    "    for arg in args:\n",
    "        print(arg, end = \" \")\n",
    "        \n",
    "    print(\"\\n\",\"-\"*30)\n",
    "    print(\"Keyword Args\")\n",
    "    # for key, value in kwargs.items():\n",
    "    #     print(f\"Value for {key} is {value}\")\n",
    "\n",
    "    time = kwargs.get('time','12am')\n",
    "    print(time)\n",
    "    \n",
    "    "
   ]
  },
  {
   "cell_type": "code",
   "execution_count": 51,
   "id": "c332b7f5-094c-4a3f-afb7-590ddf2d3720",
   "metadata": {},
   "outputs": [
    {
     "name": "stdout",
     "output_type": "stream",
     "text": [
      "Positional Args\n",
      "ram 1 Hello [4, 5, 6] \n",
      " ------------------------------\n",
      "Keyword Args\n",
      "12am\n"
     ]
    }
   ],
   "source": [
    "print_arguments(\"ram\", 1, \"Hello\", [4,5,6] , greet = \"Hello\")"
   ]
  },
  {
   "cell_type": "markdown",
   "id": "114d0253-59dd-467d-b11d-21e36c5bdc12",
   "metadata": {},
   "source": [
    "In this example, we define a function called `print_arguments that accepts a variable number of positional arguments (*args) and keyword arguments (**kwargs). The function then prints the positional and keyword arguments to the console."
   ]
  },
  {
   "cell_type": "code",
   "execution_count": null,
   "id": "52c2c1a8-72f9-4cca-a6e8-d972aa857082",
   "metadata": {},
   "outputs": [],
   "source": [
    "default_values = dict(\n",
    "    epochs = 50, loader = None, optimizer = None, save_path = \"model.pth\"\n",
    ")\n",
    "\n",
    "def train_model(model, **kwargs):\n",
    "    params = {**default_values, **kwargs}    \n",
    "    \n",
    "    epochs = params['epochs']\n",
    "    loader = kwargs.get('loader', None)\n"
   ]
  },
  {
   "cell_type": "code",
   "execution_count": 52,
   "id": "72a5a8e9-b545-4463-9758-d8bf20b2f28d",
   "metadata": {},
   "outputs": [],
   "source": []
  },
  {
   "cell_type": "markdown",
   "id": "d1f756c0-fcac-4848-bc22-7a2493a48dfa",
   "metadata": {},
   "source": [
    "### Documentation in Function\n",
    "\n",
    "Python docstrings are the string literals that appear right after the definition of a function, method, class, or module. Let's take an example.\n",
    "\n",
    "Refer: [Programiz Docs](https://www.programiz.com/python-programming/docstrings)"
   ]
  },
  {
   "cell_type": "code",
   "execution_count": 69,
   "id": "433b99dd-c6d9-4df9-a73e-e8dd3fcdf71b",
   "metadata": {},
   "outputs": [],
   "source": [
    "def square(n:int) -> int:\n",
    "    \"\"\"\n",
    "    Give square of a number.\n",
    "\n",
    "    Parameter:\n",
    "        n (int) : User input number\n",
    "\n",
    "    Return:\n",
    "        int : Squre of input number\n",
    "    \"\"\"\n",
    "    return n ** 2 "
   ]
  },
  {
   "cell_type": "code",
   "execution_count": 71,
   "id": "1e6c99a8-1b17-4ea6-8135-5a9e66c77c5b",
   "metadata": {},
   "outputs": [
    {
     "data": {
      "text/plain": [
       "20.25"
      ]
     },
     "execution_count": 71,
     "metadata": {},
     "output_type": "execute_result"
    }
   ],
   "source": [
    "square(4.5)"
   ]
  },
  {
   "cell_type": "code",
   "execution_count": 66,
   "id": "af263a3a-6f8c-4e1f-9244-ab8a1361479b",
   "metadata": {},
   "outputs": [
    {
     "name": "stdout",
     "output_type": "stream",
     "text": [
      "\n",
      "    Give square of a number.\n",
      "\n",
      "    Parameter:\n",
      "        n (int) : User input number\n",
      "\n",
      "    Return:\n",
      "        int : Squre of input number\n",
      "    \n"
     ]
    }
   ],
   "source": [
    "print(square.__doc__)"
   ]
  },
  {
   "cell_type": "markdown",
   "id": "b3e140eb-2930-4c51-8cf2-7a5b2cc3b5cd",
   "metadata": {},
   "source": [
    "### Question : Calculate Std. Deviation of given list.\n",
    "\n",
    "Standard Deviation : $\\sqrt{\\frac{\\sum{(X - \\bar{X})}^2}{N}}$"
   ]
  },
  {
   "cell_type": "code",
   "execution_count": 76,
   "id": "4c95f64d-f77a-43d4-8065-a17011bb406a",
   "metadata": {},
   "outputs": [],
   "source": [
    "from math import sqrt\n",
    "\n",
    "def std_deviation(inp_list : list ) -> float :\n",
    "    \"\"\"\n",
    "    _docs_\n",
    "    \"\"\"\n",
    "    N = len(inp_list)\n",
    "    mean = sum(inp_list) / N\n",
    "    summation = sum([(x-mean) ** 2 for x in inp_list])\n",
    "    result = sqrt(summation / N )\n",
    "\n",
    "    return result"
   ]
  },
  {
   "cell_type": "code",
   "execution_count": 77,
   "id": "faa74a6c-2b23-42d0-9605-564b22d62242",
   "metadata": {},
   "outputs": [
    {
     "data": {
      "text/plain": [
       "6.340668863192041"
      ]
     },
     "execution_count": 77,
     "metadata": {},
     "output_type": "execute_result"
    }
   ],
   "source": [
    "std_deviation([1,4,6,8,4,9,22])"
   ]
  },
  {
   "cell_type": "code",
   "execution_count": null,
   "id": "026e1ef3-b6da-48c5-8763-6b648a80dd82",
   "metadata": {},
   "outputs": [],
   "source": []
  },
  {
   "cell_type": "markdown",
   "id": "774b208f-d4f4-4633-b130-5a025bdbe658",
   "metadata": {},
   "source": [
    "## Question: Calculate mean Error\n",
    "\n",
    "Create a function that takes any number of error value and find their mean"
   ]
  },
  {
   "cell_type": "code",
   "execution_count": 12,
   "id": "acdbb9d0-3343-4a56-be09-6e3ded554031",
   "metadata": {},
   "outputs": [
    {
     "name": "stdout",
     "output_type": "stream",
     "text": [
      "3.9875000000000003\n"
     ]
    }
   ],
   "source": [
    "# mean_error(2.3,5.6,5.2,2.2,1.2,0.2,0.66)\n",
    "# Result => Mean Error is 3.2\n",
    "\n",
    "def mean_error(*error):\n",
    "    return sum(error) / len(error)\n",
    "\n",
    "print(mean_error(2.3,2.5,2.9,6.4,4.4,1,4.1,8.3))"
   ]
  },
  {
   "cell_type": "code",
   "execution_count": null,
   "id": "b16beeb1-36f9-4fa6-8590-c351ccd17087",
   "metadata": {},
   "outputs": [],
   "source": []
  }
 ],
 "metadata": {
  "kernelspec": {
   "display_name": "Python 3 (ipykernel)",
   "language": "python",
   "name": "python3"
  },
  "language_info": {
   "codemirror_mode": {
    "name": "ipython",
    "version": 3
   },
   "file_extension": ".py",
   "mimetype": "text/x-python",
   "name": "python",
   "nbconvert_exporter": "python",
   "pygments_lexer": "ipython3",
   "version": "3.10.12"
  }
 },
 "nbformat": 4,
 "nbformat_minor": 5
}
