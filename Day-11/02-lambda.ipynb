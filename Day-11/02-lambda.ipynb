{
 "cells": [
  {
   "cell_type": "markdown",
   "id": "08db22eb-7716-49e5-bd0a-3adab742abab",
   "metadata": {},
   "source": [
    "# Python Lambda Expressions\n",
    "\n",
    "In Python, a lambda expression is a way to create a small, anonymous function without using the def keyword. Lambda expressions are useful for writing simple functions that can be passed as arguments to other functions. The general syntax for a lambda expression is as follows:\n",
    "\n",
    "\n",
    "```python\n",
    "lambda arguments: expression\n",
    "```\n",
    "\n",
    "In this syntax, `arguments` is a comma-separated list of input arguments, and `expression` is a single expression that is evaluated and returned as the output of the function. The resulting lambda function can be assigned to a variable, or passed as an argument to another function.\n",
    "\n"
   ]
  },
  {
   "cell_type": "code",
   "execution_count": 1,
   "id": "437e433e-6774-4b3c-9d84-68b497fe3977",
   "metadata": {},
   "outputs": [
    {
     "data": {
      "text/plain": [
       "8"
      ]
     },
     "execution_count": 1,
     "metadata": {},
     "output_type": "execute_result"
    }
   ],
   "source": [
    "def get_sum(a,b,c):\n",
    "    return a + b +c\n",
    "\n",
    "get_sum(4,3,1)"
   ]
  },
  {
   "cell_type": "code",
   "execution_count": 2,
   "id": "fe2e7840-b5a6-4709-b128-a3fd7c3d1dda",
   "metadata": {},
   "outputs": [
    {
     "data": {
      "text/plain": [
       "54"
      ]
     },
     "execution_count": 2,
     "metadata": {},
     "output_type": "execute_result"
    }
   ],
   "source": [
    "get_sum = lambda a,b,c: a + b + c\n",
    "\n",
    "get_sum(10,11,33)"
   ]
  },
  {
   "cell_type": "markdown",
   "id": "7306fb6f-e43d-4f9d-a15a-f182063401ec",
   "metadata": {},
   "source": [
    "Lambda expressions are a powerful tool in Python for writing concise, one-time use functions. However, they should be used judiciously, and more complex functions should be defined using the `def` keyword for readability and maintainability."
   ]
  },
  {
   "cell_type": "code",
   "execution_count": null,
   "id": "420a475a-e4d8-4910-8046-f7dabdae2298",
   "metadata": {},
   "outputs": [],
   "source": []
  },
  {
   "cell_type": "markdown",
   "id": "a66f51f4-facc-48fe-837a-03f129f29165",
   "metadata": {},
   "source": [
    "## Area of Cuboid"
   ]
  },
  {
   "cell_type": "code",
   "execution_count": 5,
   "id": "b7edd4c2-a97f-48ea-860a-ee748edc821d",
   "metadata": {},
   "outputs": [
    {
     "data": {
      "text/plain": [
       "94"
      ]
     },
     "execution_count": 5,
     "metadata": {},
     "output_type": "execute_result"
    }
   ],
   "source": [
    "cube_tsa = lambda l,b,h: 2*(l*b + b*h + l*h)\n",
    "cube_tsa(3,4,5)"
   ]
  },
  {
   "cell_type": "code",
   "execution_count": null,
   "id": "357d59e4-76ca-40cd-8d2a-485faf13703f",
   "metadata": {},
   "outputs": [],
   "source": []
  }
 ],
 "metadata": {
  "kernelspec": {
   "display_name": "Python 3 (ipykernel)",
   "language": "python",
   "name": "python3"
  },
  "language_info": {
   "codemirror_mode": {
    "name": "ipython",
    "version": 3
   },
   "file_extension": ".py",
   "mimetype": "text/x-python",
   "name": "python",
   "nbconvert_exporter": "python",
   "pygments_lexer": "ipython3",
   "version": "3.10.12"
  }
 },
 "nbformat": 4,
 "nbformat_minor": 5
}
