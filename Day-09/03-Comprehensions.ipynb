{
 "cells": [
  {
   "cell_type": "markdown",
   "id": "0c1635da-ae6e-4321-817f-4a699fffeddc",
   "metadata": {},
   "source": [
    "# Python Comprehensions\n",
    "\n",
    "In Python, comprehensions provide a concise way to create sequences like lists, dictionaries, and sets. They are a more readable and often more efficient alternative to using traditional loops to generate sequences.\n",
    "\n",
    "There are three types of comprehensions in Python: list comprehensions, dictionary comprehensions, and set comprehensions.\n",
    "\n"
   ]
  },
  {
   "cell_type": "markdown",
   "id": "245e8310-df45-45b0-abb7-730076e5f563",
   "metadata": {},
   "source": [
    "## 1. List Comprehensions\n",
    "\n",
    "In Python, list comprehension is a concise way to create lists. It provides a compact syntax for mapping a given iterable (e.g. list, tuple) to a new list by applying a specific expression to each element in the original iterable.\n",
    "\n",
    "Syntax: \n",
    "```python\n",
    "output = [ <expression> for items in iterables if <condition>]\n",
    "```\n",
    "\n",
    "In this syntax, `expression` is the operation to be performed on each item in the iterable, `item` is the variable that represents each element in the iterable, and `condition` is an optional filter that can be applied to select only certain elements from the iterable.\n"
   ]
  },
  {
   "cell_type": "code",
   "execution_count": null,
   "id": "45f44917-3838-453e-8b5a-0c233da205f1",
   "metadata": {},
   "outputs": [],
   "source": []
  },
  {
   "cell_type": "code",
   "execution_count": 1,
   "id": "9feff85a-4dd2-41b9-a67d-e91afefe040c",
   "metadata": {},
   "outputs": [
    {
     "name": "stdout",
     "output_type": "stream",
     "text": [
      "[1, 9, 25, 49, 81, 121, 169, 225, 289, 361, 441, 529, 625, 729, 841, 961, 1089, 1225, 1369, 1521, 1681, 1849, 2025, 2209, 2401]\n"
     ]
    }
   ],
   "source": [
    "# Usual Way\n",
    "numbers = range(1,50,2)\n",
    "\n",
    "squared = []\n",
    "for each in numbers:\n",
    "    squared.append(each ** 2)\n",
    "\n",
    "print(squared)"
   ]
  },
  {
   "cell_type": "code",
   "execution_count": 3,
   "id": "2fe1e2d2-00bd-4a43-8b21-06777e6ac555",
   "metadata": {},
   "outputs": [
    {
     "name": "stdout",
     "output_type": "stream",
     "text": [
      "[1, 9, 25, 49, 81, 121, 169, 225, 289, 361, 441, 529, 625, 729, 841, 961, 1089, 1225, 1369, 1521, 1681, 1849, 2025, 2209, 2401]\n"
     ]
    }
   ],
   "source": [
    "# Using comprehensions\n",
    "c_squared = [num ** 2 for num in numbers]\n",
    "print(c_squared)"
   ]
  },
  {
   "cell_type": "markdown",
   "id": "a11c88af-8ca8-47ba-a71e-61bc112b52fc",
   "metadata": {},
   "source": [
    "In this example, the expression `num ** 2` is applied to each element in the `numbers` list, and the results are stored in a new list called `c_squared`.\n",
    "\n",
    "You can also add an optional condition to the list comprehension. For example, here is a list comprehension that filters out even numbers from the original list:"
   ]
  },
  {
   "cell_type": "code",
   "execution_count": 5,
   "id": "fd52468e-c896-4ea9-b596-a76eb1fef5c2",
   "metadata": {},
   "outputs": [
    {
     "data": {
      "text/plain": [
       "[1, 3, 5, 7, 9, 11, 13, 15, 17, 19, 21, 23, 25, 27, 29]"
      ]
     },
     "execution_count": 5,
     "metadata": {},
     "output_type": "execute_result"
    }
   ],
   "source": [
    "odds = [num for num in range(1,31) if num % 2 != 0 ]\n",
    "odds"
   ]
  },
  {
   "cell_type": "markdown",
   "id": "2288a1a4-9d56-4157-8d26-c3a34a9cb3f0",
   "metadata": {},
   "source": [
    "In this example, the condition `if num % 2 != 0` filters out the even numbers from the original `numbers` list, and the remaining odd numbers are stored in the new `odds` list.\n"
   ]
  },
  {
   "cell_type": "code",
   "execution_count": null,
   "id": "bb6cbbe8-7517-4ae4-bdb4-763582310763",
   "metadata": {},
   "outputs": [],
   "source": []
  },
  {
   "cell_type": "code",
   "execution_count": 9,
   "id": "ae646cb0-2e5e-4fcb-81b3-bd54dcda392c",
   "metadata": {},
   "outputs": [
    {
     "name": "stdout",
     "output_type": "stream",
     "text": [
      "[2, 4, 6, 16, 10, 36, 14, 64, 18, 100, 22, 144, 26, 196, 30, 256, 34, 324, 38, 400, 42, 484, 46, 576, 50, 676, 54, 784, 58, 900]\n"
     ]
    }
   ],
   "source": [
    "even_sq= [num**2 if num% 2 ==0 else num * 2 for num in range(1,31) ]\n",
    "print(even_sq)"
   ]
  },
  {
   "cell_type": "code",
   "execution_count": null,
   "id": "f0df4f0b-cccc-4442-814c-fafc13c02444",
   "metadata": {},
   "outputs": [],
   "source": []
  },
  {
   "cell_type": "markdown",
   "id": "c747c09a-6420-424e-af69-44abcd86cddb",
   "metadata": {},
   "source": [
    "List comprehensions can also be nested, allowing you to create more complex sequences. Here is an example that creates a list of tuples:"
   ]
  },
  {
   "cell_type": "code",
   "execution_count": 10,
   "id": "08ee7ed0-eab5-4f90-8acd-200a2a383115",
   "metadata": {},
   "outputs": [
    {
     "name": "stdout",
     "output_type": "stream",
     "text": [
      "[('red', 'apple'), ('red', 'banana'), ('red', 'cherry'), ('red', 'mango'), ('big', 'apple'), ('big', 'banana'), ('big', 'cherry'), ('big', 'mango'), ('tasty', 'apple'), ('tasty', 'banana'), ('tasty', 'cherry'), ('tasty', 'mango')]\n"
     ]
    }
   ],
   "source": [
    "adjective = ['red','big','tasty']\n",
    "fruits = ['apple','banana','cherry','mango']\n",
    "\n",
    "# for adj in adjective:\n",
    "#     for fruit in fruits:\n",
    "#         print(adj, fruit)\n",
    "        \n",
    "pair = [(adj, fruit) for adj in adjective for fruit in fruits]\n",
    "print(pair)"
   ]
  },
  {
   "cell_type": "code",
   "execution_count": null,
   "id": "89f7db17-3aea-454a-951f-ee48eb50777f",
   "metadata": {},
   "outputs": [],
   "source": []
  },
  {
   "cell_type": "markdown",
   "id": "433bb80d-210a-4268-9f7c-af74dbaf30f8",
   "metadata": {},
   "source": [
    "### Count number of letters for each words in following sentence."
   ]
  },
  {
   "cell_type": "code",
   "execution_count": 12,
   "id": "802125ff-6d92-45ac-88c2-b243e606f6fe",
   "metadata": {},
   "outputs": [
    {
     "name": "stdout",
     "output_type": "stream",
     "text": [
      "A single training set that has already been processed is usually split into several types of datasets in machine learning which is needed to check how well the training of the model went\n"
     ]
    }
   ],
   "source": [
    "sent = \"A single training set that has already been processed is usually split into several types of datasets in machine learning which is needed to check how well the training of the model went\"\n",
    "print(sent)"
   ]
  },
  {
   "cell_type": "code",
   "execution_count": 16,
   "id": "56ca6b5a-8444-47f2-b860-8011f9c1e3d2",
   "metadata": {},
   "outputs": [
    {
     "name": "stdout",
     "output_type": "stream",
     "text": [
      "[1, 6, 8, 3, 4, 3, 7, 4, 9, 2, 7, 5, 4, 7, 5, 2, 8, 2, 7, 8, 5, 2, 6, 2, 5, 3, 4, 3, 8, 2, 3, 5, 4]\n"
     ]
    }
   ],
   "source": [
    "result = []\n",
    "\n",
    "words = sent.split(\" \")\n",
    "for word in words:\n",
    "    result.append(len(word))\n",
    "\n",
    "print(result)"
   ]
  },
  {
   "cell_type": "code",
   "execution_count": 15,
   "id": "267596f9-901c-4518-ab36-4754311889a3",
   "metadata": {},
   "outputs": [
    {
     "name": "stdout",
     "output_type": "stream",
     "text": [
      "[1, 6, 8, 3, 4, 3, 7, 4, 9, 2, 7, 5, 4, 7, 5, 2, 8, 2, 7, 8, 5, 2, 6, 2, 5, 3, 4, 3, 8, 2, 3, 5, 4]\n"
     ]
    }
   ],
   "source": [
    "words_length = [ len(each) for each in sent.split(\" \")]\n",
    "print(words_length)"
   ]
  },
  {
   "cell_type": "code",
   "execution_count": null,
   "id": "ecc5f6b8-4f11-4cd2-a175-8bfd7cd4c96b",
   "metadata": {},
   "outputs": [],
   "source": []
  },
  {
   "cell_type": "markdown",
   "id": "6bd5aacc-dcd9-4249-8809-68c51d61e6da",
   "metadata": {},
   "source": [
    "## 2. Dictionary Comprehension\n",
    "\n",
    "In Python, dictionary comprehension is a concise way to create a new dictionary by transforming an existing iterable (such as a list or tuple) into key-value pairs. It provides a compact syntax for mapping a given iterable to a new dictionary by applying a specific expression to each element in the iterable.\n",
    "\n",
    "The basic syntax of a dictionary comprehension is as follows:\n",
    "\n",
    "```python\n",
    "new_dict = {key_expression: value_expression for item in iterable if condition}\n",
    "```\n",
    "\n",
    "In this syntax, `key_expression` is the expression that generates the key for the dictionary, `value_expression` is the expression that generates the value for the dictionary, `item` is the variable that represents each element in the iterable, and `condition` is an optional filter that can be applied to select only certain elements from the iterable."
   ]
  },
  {
   "cell_type": "code",
   "execution_count": 9,
   "id": "8f0e9eec-cfb0-4839-a020-b72caa6b90e1",
   "metadata": {},
   "outputs": [
    {
     "name": "stdout",
     "output_type": "stream",
     "text": [
      "{1: 1, 2: 4, 3: 9, 4: 16}\n"
     ]
    }
   ],
   "source": [
    "# Usual Way\n",
    "odd_dict = {}\n",
    "\n",
    "for num in range(1,5):\n",
    "    odd_dict[num] = num**2\n",
    "\n",
    "print(odd_dict)"
   ]
  },
  {
   "cell_type": "code",
   "execution_count": 6,
   "id": "42839431-9052-4953-9c3e-e758233229f4",
   "metadata": {},
   "outputs": [
    {
     "name": "stdout",
     "output_type": "stream",
     "text": [
      "{1: 1, 3: 9, 5: 25, 7: 49, 9: 81, 11: 121, 13: 169, 15: 225, 17: 289, 19: 361}\n"
     ]
    }
   ],
   "source": [
    "# Dict Comprehension\n",
    "odd_dict = { num:num**2 for num in range(1,20,2)}\n",
    "print(odd_dict)"
   ]
  },
  {
   "cell_type": "code",
   "execution_count": 10,
   "id": "6deb5cf7-ddc2-48d4-b131-3ecf6b4621d3",
   "metadata": {},
   "outputs": [
    {
     "name": "stdout",
     "output_type": "stream",
     "text": [
      "{2: 4, 4: 16, 6: 36, 8: 64, 10: 100, 12: 144, 14: 196, 16: 256, 18: 324}\n"
     ]
    }
   ],
   "source": [
    "# Dict Comprehension\n",
    "even_dict = { num:num**2 for num in range(1,20) if num %2 == 0}\n",
    "print(even_dict)"
   ]
  },
  {
   "cell_type": "code",
   "execution_count": null,
   "id": "0a5cf3bc-86b2-49e8-add9-27b4be21b9d7",
   "metadata": {},
   "outputs": [],
   "source": []
  },
  {
   "cell_type": "markdown",
   "id": "49cda6e7-9df8-4f38-8dba-1ac750d70375",
   "metadata": {},
   "source": [
    "### Count number of letters for each words in following sentence. "
   ]
  },
  {
   "cell_type": "code",
   "execution_count": 29,
   "id": "62d7a81b-1803-43ef-95ff-7456e6fd7b93",
   "metadata": {},
   "outputs": [
    {
     "name": "stdout",
     "output_type": "stream",
     "text": [
      "A single training set that has already been processed is usually split into several types of datasets in \n",
      " machine learning which is needed to check how well the training of the model went\n"
     ]
    }
   ],
   "source": [
    "sent = \"\"\"A single training set that has already been processed is usually split into several types of datasets in \n",
    " machine learning which is needed to check how well the training of the model went\"\"\"\n",
    "print(sent)"
   ]
  },
  {
   "cell_type": "code",
   "execution_count": 32,
   "id": "74ef5add-3f52-40d0-b772-1e5449794ae1",
   "metadata": {},
   "outputs": [],
   "source": [
    "counter = { each : len(each) for each in sent.split(\" \") if len(each) > 5}"
   ]
  },
  {
   "cell_type": "code",
   "execution_count": 33,
   "id": "57f1a39f-dd99-4e57-8920-c68bde7aa5a7",
   "metadata": {},
   "outputs": [
    {
     "name": "stdout",
     "output_type": "stream",
     "text": [
      "{'single': 6, 'training': 8, 'already': 7, 'processed': 9, 'usually': 7, 'several': 7, 'datasets': 8, 'machine': 7, 'learning': 8, 'needed': 6}\n"
     ]
    }
   ],
   "source": [
    "print(counter)"
   ]
  },
  {
   "cell_type": "code",
   "execution_count": null,
   "id": "5d138e1f-f531-48d3-bb5b-aa499f5bfa1b",
   "metadata": {},
   "outputs": [],
   "source": []
  },
  {
   "cell_type": "markdown",
   "id": "54878201-fdbc-4ed2-8f0a-20e0e7ef4753",
   "metadata": {},
   "source": [
    "## 3. Set Comprehension\n",
    "\n",
    "Set comprehension is a concise way to create a new set by transforming an existing iterable (such as a list or tuple). It provides a compact syntax for mapping a given iterable to a new set by applying a specific expression to each element in the iterable.\n",
    "\n",
    "The basic syntax of a set comprehension is as follows:\n",
    "\n",
    "```python\n",
    "new_set = {expression for item in iterable if condition}\n",
    "```"
   ]
  },
  {
   "cell_type": "code",
   "execution_count": 34,
   "id": "397dc61f-f525-4c00-96ee-61d9a1cb266b",
   "metadata": {},
   "outputs": [
    {
     "name": "stdout",
     "output_type": "stream",
     "text": [
      "{16, 64, 4, 36}\n"
     ]
    }
   ],
   "source": [
    "squared_even = { num**2 for num in range(1,10) if num%2 == 0}\n",
    "print(squared_even)"
   ]
  },
  {
   "cell_type": "code",
   "execution_count": null,
   "id": "e171c728-f082-4c06-8cdf-5f397dbd6ba1",
   "metadata": {},
   "outputs": [],
   "source": []
  },
  {
   "cell_type": "code",
   "execution_count": 36,
   "id": "0ba42f8e-30f5-4e8b-8d5a-3b2eaf524dd3",
   "metadata": {},
   "outputs": [
    {
     "name": "stdout",
     "output_type": "stream",
     "text": [
      "{'bb', 'aa', 'ac', 'bc', 'ca', 'cb', 'ba', 'cc', 'ab'}\n"
     ]
    }
   ],
   "source": [
    "letters = ['a','b','c']\n",
    "\n",
    "pairs = {let1 + let2 for let1 in letters for let2 in letters}\n",
    "\n",
    "print(pairs)"
   ]
  },
  {
   "cell_type": "code",
   "execution_count": null,
   "id": "17afe867-6024-465c-ae31-dcfcb4295da2",
   "metadata": {},
   "outputs": [],
   "source": []
  },
  {
   "cell_type": "markdown",
   "id": "32c54c4a-45d6-48f8-8df5-47db969ebf8d",
   "metadata": {},
   "source": [
    "### Unique Vowels in a String\n",
    "Write a Python program that uses set comprehension to create a set of all unique vowels found in the following string: \"Set comprehensions can be nested\"\n",
    " "
   ]
  },
  {
   "cell_type": "code",
   "execution_count": 38,
   "id": "63870d72-470c-40a9-957b-131cfd36abf1",
   "metadata": {},
   "outputs": [],
   "source": [
    "sent = \"Set comprehensions can be nested\"\n",
    "vowels = \"aeiou\""
   ]
  },
  {
   "cell_type": "code",
   "execution_count": 43,
   "id": "cc6afbba-8848-4306-9938-c226e4e2d091",
   "metadata": {},
   "outputs": [
    {
     "data": {
      "text/plain": [
       "{'a', 'e', 'i', 'o'}"
      ]
     },
     "execution_count": 43,
     "metadata": {},
     "output_type": "execute_result"
    }
   ],
   "source": [
    "output = { char for char in sent.lower() if char in set(vowels) }\n",
    "output"
   ]
  },
  {
   "cell_type": "code",
   "execution_count": null,
   "id": "84e70233-aa0f-4bec-abc3-b3ed312c0154",
   "metadata": {},
   "outputs": [],
   "source": []
  },
  {
   "cell_type": "code",
   "execution_count": null,
   "id": "438f9749-76a3-43c3-b563-f1e6edf273fd",
   "metadata": {},
   "outputs": [],
   "source": []
  },
  {
   "cell_type": "code",
   "execution_count": null,
   "id": "a5dc1f3c-4652-403d-84bd-888b8e81648e",
   "metadata": {},
   "outputs": [],
   "source": []
  }
 ],
 "metadata": {
  "kernelspec": {
   "display_name": "Python 3 (ipykernel)",
   "language": "python",
   "name": "python3"
  },
  "language_info": {
   "codemirror_mode": {
    "name": "ipython",
    "version": 3
   },
   "file_extension": ".py",
   "mimetype": "text/x-python",
   "name": "python",
   "nbconvert_exporter": "python",
   "pygments_lexer": "ipython3",
   "version": "3.10.12"
  }
 },
 "nbformat": 4,
 "nbformat_minor": 5
}
