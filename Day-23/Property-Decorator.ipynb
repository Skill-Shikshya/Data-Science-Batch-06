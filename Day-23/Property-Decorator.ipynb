{
 "cells": [
  {
   "cell_type": "markdown",
   "id": "3132230e-b5a8-434b-a4cf-8a82471a58c0",
   "metadata": {},
   "source": [
    "# Python Property Decorator\n",
    "\n",
    "In Python, the `@property` decorator is used to define a getters, setters, and deleters method for a class attribute. They are used to ensure that the attributes of a class are accessed and modified in a controlled manner."
   ]
  },
  {
   "cell_type": "markdown",
   "id": "6572a5dd-d55c-46f3-a3a3-9d57077d142c",
   "metadata": {},
   "source": [
    "## Getter\n",
    "\n",
    "A getter method is used to get the value of an attribute. It is called automatically when the attribute is accessed. In Python, we can define a getter method using the `@property` decorator."
   ]
  },
  {
   "cell_type": "code",
   "execution_count": 5,
   "id": "f4d324ac-7e09-4ccc-b8be-5d6e1196783d",
   "metadata": {},
   "outputs": [],
   "source": [
    "class Person:\n",
    "    def __init__(self,name):\n",
    "        self.__name = name\n",
    "\n",
    "    @property\n",
    "    def name(self):\n",
    "        print(\"Getting Name\")\n",
    "        return self.__name\n",
    "\n",
    "person = Person(\"Han Solo\")"
   ]
  },
  {
   "cell_type": "code",
   "execution_count": 11,
   "id": "eeb857a2-4ad7-4110-8ea5-d8eb7ed73ff3",
   "metadata": {},
   "outputs": [
    {
     "name": "stdout",
     "output_type": "stream",
     "text": [
      "Getting Name\n"
     ]
    },
    {
     "data": {
      "text/plain": [
       "'Han Solo'"
      ]
     },
     "execution_count": 11,
     "metadata": {},
     "output_type": "execute_result"
    }
   ],
   "source": [
    "person.name"
   ]
  },
  {
   "cell_type": "markdown",
   "id": "16cc214e-41e6-4756-a1b1-812ec37a2990",
   "metadata": {},
   "source": [
    "In this example, `Person` is a class that has an attribute `_name` and a method `name` decorated with `@property`. The `name` method simply returns the value of the `_name` attribute. When we create an instance of `Person` and access the `name` attribute with `person.name`, the `@property` decorator automatically calls the `name` method and returns its result.\n",
    "\n",
    "Notice that the `name` method was called automatically when we accessed the `name` attribute."
   ]
  },
  {
   "cell_type": "markdown",
   "id": "17ada8a5-2975-4409-92ea-bf8b43985f93",
   "metadata": {},
   "source": [
    "## Setter\n",
    "\n",
    "A setter method is used to set the value of an attribute. It is called automatically when the attribute is assigned a new value. In Python, we can define a setter method using the `@property` decorator with the `@setter` decorator."
   ]
  },
  {
   "cell_type": "code",
   "execution_count": 16,
   "id": "d8a38b3d-c1a3-4a05-a794-942f11b8b55d",
   "metadata": {},
   "outputs": [],
   "source": [
    "class Person:\n",
    "    def __init__(self,name):\n",
    "        self.__name = name\n",
    "        self.age = 66\n",
    "\n",
    "    @property\n",
    "    def name(self):\n",
    "        print(\"Getting Name\")\n",
    "        return self.__name\n",
    "\n",
    "    @name.setter\n",
    "    def name(self, value):\n",
    "        print(\"setting Name ..\")\n",
    "        self.__name = value\n",
    "\n",
    "person = Person(\"Han Solo\")"
   ]
  },
  {
   "cell_type": "code",
   "execution_count": 13,
   "id": "1cfddab9-24bb-4754-8154-39f3ef9c5776",
   "metadata": {},
   "outputs": [
    {
     "name": "stdout",
     "output_type": "stream",
     "text": [
      "Getting Name\n"
     ]
    },
    {
     "data": {
      "text/plain": [
       "'Han Solo'"
      ]
     },
     "execution_count": 13,
     "metadata": {},
     "output_type": "execute_result"
    }
   ],
   "source": [
    "person.name"
   ]
  },
  {
   "cell_type": "code",
   "execution_count": 14,
   "id": "7941e8b1-8474-44bc-8e89-9d147ab3f90d",
   "metadata": {},
   "outputs": [
    {
     "name": "stdout",
     "output_type": "stream",
     "text": [
      "setting Name ..\n"
     ]
    }
   ],
   "source": [
    "person.name = \"Ram Pd.\""
   ]
  },
  {
   "cell_type": "code",
   "execution_count": 15,
   "id": "241a91e8-ce23-4a8a-86f6-0b7cb5681c1e",
   "metadata": {},
   "outputs": [
    {
     "name": "stdout",
     "output_type": "stream",
     "text": [
      "Getting Name\n"
     ]
    },
    {
     "data": {
      "text/plain": [
       "'Ram Pd.'"
      ]
     },
     "execution_count": 15,
     "metadata": {},
     "output_type": "execute_result"
    }
   ],
   "source": [
    "person.name"
   ]
  },
  {
   "cell_type": "markdown",
   "id": "4508cc52-2bb2-422e-946e-75ff83657fc6",
   "metadata": {},
   "source": [
    "In this example, `Person` is a class that has an attribute `_name`, a method `name` decorated with `@property`, and a method `name` decorated with `@name.setter`. The `name` method gets and sets the `_name` attribute. When we create an instance of `Person` and access the `name` attribute with `person.name`, the `@property` decorator automatically calls the `name` method and returns its result. When we set the `name` attribute with `person.name = \"Bob\"`, the `@name.setter` decorator automatically calls the `name` method with the value of \"Bob\".\n",
    "\n",
    "Notice that the name method was called automatically when we accessed or set the name attribute."
   ]
  },
  {
   "cell_type": "markdown",
   "id": "ea9facea-d7df-445d-b0df-cc6b2e606b90",
   "metadata": {},
   "source": [
    "## Deleter\n",
    "\n",
    "A deleter method is used to delete an attribute. It is called automatically when the `del` statement is used to delete the attribute. In Python, we can define a deleter method using the `@property` decorator with the `@deleter` decorator."
   ]
  },
  {
   "cell_type": "code",
   "execution_count": 21,
   "id": "6216100b-f8b7-4f17-95ba-839588cc8122",
   "metadata": {},
   "outputs": [],
   "source": [
    "class Person:\n",
    "    def __init__(self,name):\n",
    "        self.__name = name\n",
    "        self.age = 66\n",
    "\n",
    "    @property\n",
    "    def name(self):\n",
    "        print(\"Getting Name\")\n",
    "        return self.__name\n",
    "\n",
    "    @name.setter\n",
    "    def name(self, value):\n",
    "        print(\"setting Name ..\")\n",
    "        self.__name = value\n",
    "\n",
    "    @name.deleter\n",
    "    def name(self):\n",
    "        print(\"deleting Name .. \")\n",
    "        del self.__name\n",
    "\n",
    "person = Person(\"Han Solo\")"
   ]
  },
  {
   "cell_type": "code",
   "execution_count": 22,
   "id": "713c1450-d95b-48d4-8d7a-588104b8c5a2",
   "metadata": {},
   "outputs": [
    {
     "name": "stdout",
     "output_type": "stream",
     "text": [
      "Getting Name\n"
     ]
    },
    {
     "data": {
      "text/plain": [
       "'Han Solo'"
      ]
     },
     "execution_count": 22,
     "metadata": {},
     "output_type": "execute_result"
    }
   ],
   "source": [
    "person.name"
   ]
  },
  {
   "cell_type": "code",
   "execution_count": 24,
   "id": "1a5b12c7-6b18-4769-b5ec-c7aa91e5567a",
   "metadata": {},
   "outputs": [
    {
     "name": "stdout",
     "output_type": "stream",
     "text": [
      "deleting Name .. \n"
     ]
    }
   ],
   "source": [
    "del person.name"
   ]
  },
  {
   "cell_type": "code",
   "execution_count": 25,
   "id": "3409b938-f85f-4955-9fd8-19d0a5b0fc57",
   "metadata": {},
   "outputs": [
    {
     "name": "stdout",
     "output_type": "stream",
     "text": [
      "Getting Name\n"
     ]
    },
    {
     "ename": "AttributeError",
     "evalue": "'Person' object has no attribute '_Person__name'",
     "output_type": "error",
     "traceback": [
      "\u001b[0;31m---------------------------------------------------------------------------\u001b[0m",
      "\u001b[0;31mAttributeError\u001b[0m                            Traceback (most recent call last)",
      "Cell \u001b[0;32mIn[25], line 1\u001b[0m\n\u001b[0;32m----> 1\u001b[0m \u001b[43mperson\u001b[49m\u001b[38;5;241;43m.\u001b[39;49m\u001b[43mname\u001b[49m\n",
      "Cell \u001b[0;32mIn[21], line 9\u001b[0m, in \u001b[0;36mPerson.name\u001b[0;34m(self)\u001b[0m\n\u001b[1;32m      6\u001b[0m \u001b[38;5;129m@property\u001b[39m\n\u001b[1;32m      7\u001b[0m \u001b[38;5;28;01mdef\u001b[39;00m \u001b[38;5;21mname\u001b[39m(\u001b[38;5;28mself\u001b[39m):\n\u001b[1;32m      8\u001b[0m     \u001b[38;5;28mprint\u001b[39m(\u001b[38;5;124m\"\u001b[39m\u001b[38;5;124mGetting Name\u001b[39m\u001b[38;5;124m\"\u001b[39m)\n\u001b[0;32m----> 9\u001b[0m     \u001b[38;5;28;01mreturn\u001b[39;00m \u001b[38;5;28;43mself\u001b[39;49m\u001b[38;5;241;43m.\u001b[39;49m\u001b[43m__name\u001b[49m\n",
      "\u001b[0;31mAttributeError\u001b[0m: 'Person' object has no attribute '_Person__name'"
     ]
    }
   ],
   "source": [
    "person.name"
   ]
  },
  {
   "cell_type": "code",
   "execution_count": null,
   "id": "2a494fc6-6919-4c66-98b4-ee414c59e33e",
   "metadata": {},
   "outputs": [],
   "source": []
  }
 ],
 "metadata": {
  "kernelspec": {
   "display_name": "Python 3 (ipykernel)",
   "language": "python",
   "name": "python3"
  },
  "language_info": {
   "codemirror_mode": {
    "name": "ipython",
    "version": 3
   },
   "file_extension": ".py",
   "mimetype": "text/x-python",
   "name": "python",
   "nbconvert_exporter": "python",
   "pygments_lexer": "ipython3",
   "version": "3.10.12"
  }
 },
 "nbformat": 4,
 "nbformat_minor": 5
}
