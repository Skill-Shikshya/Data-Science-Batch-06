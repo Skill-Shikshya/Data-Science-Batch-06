{
 "cells": [
  {
   "cell_type": "markdown",
   "id": "616ad159-a10c-4020-8dcd-44539f1320bc",
   "metadata": {},
   "source": [
    "# Python Decorators\n",
    "\n",
    "In Python, a decorator is a special kind of function that can be used to modify the behavior of another function. Decorators are indicated by the `@` symbol followed by the name of the decorator function, and they are placed immediately before the function that they modify."
   ]
  },
  {
   "cell_type": "code",
   "execution_count": 5,
   "id": "b61b782e-67d3-4eff-bc75-3cb53013ee02",
   "metadata": {},
   "outputs": [],
   "source": [
    "# A simple decorator function\n",
    "def decorator(func):\n",
    "  \n",
    "    def wrapper():\n",
    "        print(\"Before calling the function.\")\n",
    "        func()\n",
    "        print(\"After calling the function.\")\n",
    "        \n",
    "    return wrapper\n"
   ]
  },
  {
   "cell_type": "code",
   "execution_count": 6,
   "id": "4b184391-c014-492d-b46c-c444b12d531b",
   "metadata": {},
   "outputs": [
    {
     "name": "stdout",
     "output_type": "stream",
     "text": [
      "Before calling the function.\n",
      "Hello, World!\n",
      "After calling the function.\n"
     ]
    }
   ],
   "source": [
    "# Applying the decorator to a function\n",
    "@decorator\n",
    "def greet():\n",
    "    print(\"Hello, World!\")\n",
    "\n",
    "greet()"
   ]
  },
  {
   "cell_type": "code",
   "execution_count": null,
   "id": "45e436b8-2dae-4c1c-9de8-0639ed3999dc",
   "metadata": {},
   "outputs": [],
   "source": []
  },
  {
   "cell_type": "markdown",
   "id": "3a5eed71-f7c4-4d25-9c13-b4dedd3cc064",
   "metadata": {},
   "source": [
    "# Check email using decorator"
   ]
  },
  {
   "cell_type": "code",
   "execution_count": 12,
   "id": "bcbd18d2-e025-49eb-9a38-636ceddf566b",
   "metadata": {},
   "outputs": [],
   "source": [
    "def validate_email(func):\n",
    "    \n",
    "    def wrapper(user_email):\n",
    "        if user_email.endswith(\"@vrit.com\"):\n",
    "            func(user_email)\n",
    "        else:\n",
    "            print(\"Invalid Email\")\n",
    "\n",
    "    return wrapper"
   ]
  },
  {
   "cell_type": "code",
   "execution_count": 13,
   "id": "51fdcd2f-3f2b-44d7-a7a2-71906911063d",
   "metadata": {},
   "outputs": [],
   "source": [
    "@validate_email\n",
    "def login_user(email):\n",
    "    print(\"Logged In\")"
   ]
  },
  {
   "cell_type": "code",
   "execution_count": 15,
   "id": "3b6d9c5f-6e7c-4169-860a-e9bd6d20cd1b",
   "metadata": {},
   "outputs": [
    {
     "name": "stdout",
     "output_type": "stream",
     "text": [
      "Logged In\n"
     ]
    }
   ],
   "source": [
    "login_user(\"shailesh@vrit.com\")"
   ]
  },
  {
   "cell_type": "code",
   "execution_count": null,
   "id": "ee03c7ad-9f91-4077-8bff-697806f72e57",
   "metadata": {},
   "outputs": [],
   "source": []
  },
  {
   "cell_type": "markdown",
   "id": "ef50ded2-caa6-47e3-81d6-dee02a25a198",
   "metadata": {},
   "source": [
    "## Function Timing Decorator: \n",
    "\n",
    "Write a decorator `time_it` that measures the time it takes for a function to execute. \n",
    "\n",
    "*Apply it to a function slow_function that sleeps for 2 seconds and prints \"Done sleeping\".*"
   ]
  },
  {
   "cell_type": "code",
   "execution_count": 22,
   "id": "d212aa2e-9999-4ae9-9b6d-39b095a99091",
   "metadata": {},
   "outputs": [],
   "source": [
    "import time\n",
    "\n",
    "def time_it(func):\n",
    "    def wrapper(*args, **kwargs):\n",
    "        st = time.time()\n",
    "        result = func(*args, **kwargs)\n",
    "        et = time.time()\n",
    "        print(f\"Total Time taken : {et - st} seconds\")\n",
    "        return result\n",
    "    \n",
    "    return wrapper\n"
   ]
  },
  {
   "cell_type": "code",
   "execution_count": 23,
   "id": "8699aab7-2b49-4940-ad19-69a92a019feb",
   "metadata": {},
   "outputs": [],
   "source": [
    "@time_it\n",
    "def slow_function():\n",
    "    time.sleep(5)\n",
    "    print(\"done Sleeping\")\n",
    "\n",
    "@time_it\n",
    "def find_square(x: int):\n",
    "    return x * x"
   ]
  },
  {
   "cell_type": "code",
   "execution_count": 24,
   "id": "3991fd5e-15c7-4263-ab94-c5f02e180954",
   "metadata": {},
   "outputs": [
    {
     "name": "stdout",
     "output_type": "stream",
     "text": [
      "done Sleeping\n",
      "Total Time taken : 5.004969358444214 seconds\n"
     ]
    }
   ],
   "source": [
    "slow_function()"
   ]
  },
  {
   "cell_type": "code",
   "execution_count": 25,
   "id": "1cf8a194-2e6d-43fe-a7df-fe6d4d47c068",
   "metadata": {},
   "outputs": [
    {
     "name": "stdout",
     "output_type": "stream",
     "text": [
      "Total Time taken : 2.6226043701171875e-06 seconds\n"
     ]
    },
    {
     "data": {
      "text/plain": [
       "25"
      ]
     },
     "execution_count": 25,
     "metadata": {},
     "output_type": "execute_result"
    }
   ],
   "source": [
    "find_square(5)"
   ]
  },
  {
   "cell_type": "code",
   "execution_count": null,
   "id": "b2c14b35-e04b-4c8b-a131-af494a98e0c0",
   "metadata": {},
   "outputs": [],
   "source": []
  },
  {
   "cell_type": "code",
   "execution_count": 32,
   "id": "38777ae5-e708-4209-890d-348021e1a1b6",
   "metadata": {},
   "outputs": [],
   "source": [
    "def cache_result(func):\n",
    "    cache = {0 : 0, 1 : 1}\n",
    "    def wrapper(n):\n",
    "        if n  in cache:\n",
    "            return cache[n]\n",
    "        result = func(n)\n",
    "        cache[n] = result\n",
    "        return result\n",
    "\n",
    "    return wrapper\n",
    "\n",
    "@cache_result\n",
    "def fibonacci(n : int):\n",
    "    if n <= 1:\n",
    "        return n\n",
    "    else:\n",
    "        return fibonacci(n-1) + fibonacci(n-2)"
   ]
  },
  {
   "cell_type": "code",
   "execution_count": 34,
   "id": "5360407a-daa9-4cf8-9a83-f3e11f1dba07",
   "metadata": {},
   "outputs": [
    {
     "name": "stdout",
     "output_type": "stream",
     "text": [
      "Total Time taken : 3.0994415283203125e-06 seconds\n",
      "Total Time taken : 0.00010609626770019531 seconds\n",
      "Total Time taken : 0.00013136863708496094 seconds\n",
      "Total Time taken : 0.00015306472778320312 seconds\n",
      "Total Time taken : 0.0001728534698486328 seconds\n"
     ]
    },
    {
     "data": {
      "text/plain": [
       "55"
      ]
     },
     "execution_count": 34,
     "metadata": {},
     "output_type": "execute_result"
    }
   ],
   "source": [
    "fibonacci(10)"
   ]
  },
  {
   "cell_type": "code",
   "execution_count": null,
   "id": "24e80269-3790-4cff-9d5c-5bae15054b19",
   "metadata": {},
   "outputs": [],
   "source": []
  }
 ],
 "metadata": {
  "kernelspec": {
   "display_name": "Python 3 (ipykernel)",
   "language": "python",
   "name": "python3"
  },
  "language_info": {
   "codemirror_mode": {
    "name": "ipython",
    "version": 3
   },
   "file_extension": ".py",
   "mimetype": "text/x-python",
   "name": "python",
   "nbconvert_exporter": "python",
   "pygments_lexer": "ipython3",
   "version": "3.10.12"
  }
 },
 "nbformat": 4,
 "nbformat_minor": 5
}
