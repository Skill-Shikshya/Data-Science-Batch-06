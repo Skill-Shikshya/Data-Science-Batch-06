{
 "cells": [
  {
   "cell_type": "markdown",
   "id": "c443ba47-a985-494f-8b5a-089d986027c4",
   "metadata": {},
   "source": [
    "# Python `assert` Statement\n",
    "\n",
    "In Python, `assert` is a debugging aid that tests a condition, and triggers an error if the condition is not true. It is commonly used to debug the code during development, by ensuring that assumptions about the code's behavior are met.\n",
    "\n",
    "The assert statement has the following syntax:\n",
    "\n",
    "```python\n",
    "assert condition, message\n",
    "```\n",
    "\n",
    "Here, `condition` is the expression to be tested and `message` is an optional error message string to be displayed if the condition is not true.\n",
    "\n",
    "When the `assert` statement is executed, Python evaluates the `condition`. If it is true, the program continues to execute normally. If it is false, Python raises an `AssertionError` with the optional error message `message`."
   ]
  },
  {
   "cell_type": "code",
   "execution_count": 1,
   "id": "e983268a-7f12-4d56-b76d-89f27faa6f5a",
   "metadata": {},
   "outputs": [],
   "source": [
    "def divide(x,y):\n",
    "    assert y!=0, \"Cannot divide by zero\"\n",
    "    return x / y"
   ]
  },
  {
   "cell_type": "code",
   "execution_count": 2,
   "id": "14533324-5130-495c-a629-3de3d731a886",
   "metadata": {},
   "outputs": [
    {
     "data": {
      "text/plain": [
       "2.0"
      ]
     },
     "execution_count": 2,
     "metadata": {},
     "output_type": "execute_result"
    }
   ],
   "source": [
    "divide(4,2)"
   ]
  },
  {
   "cell_type": "code",
   "execution_count": 3,
   "id": "cadf0aca-4024-4b34-96ac-e2f9ec50d932",
   "metadata": {},
   "outputs": [
    {
     "ename": "AssertionError",
     "evalue": "Cannot divide by zero",
     "output_type": "error",
     "traceback": [
      "\u001b[0;31m---------------------------------------------------------------------------\u001b[0m",
      "\u001b[0;31mAssertionError\u001b[0m                            Traceback (most recent call last)",
      "Cell \u001b[0;32mIn[3], line 1\u001b[0m\n\u001b[0;32m----> 1\u001b[0m \u001b[43mdivide\u001b[49m\u001b[43m(\u001b[49m\u001b[38;5;241;43m9\u001b[39;49m\u001b[43m,\u001b[49m\u001b[43m \u001b[49m\u001b[38;5;241;43m0\u001b[39;49m\u001b[43m)\u001b[49m\n",
      "Cell \u001b[0;32mIn[1], line 2\u001b[0m, in \u001b[0;36mdivide\u001b[0;34m(x, y)\u001b[0m\n\u001b[1;32m      1\u001b[0m \u001b[38;5;28;01mdef\u001b[39;00m \u001b[38;5;21mdivide\u001b[39m(x,y):\n\u001b[0;32m----> 2\u001b[0m     \u001b[38;5;28;01massert\u001b[39;00m y\u001b[38;5;241m!=\u001b[39m\u001b[38;5;241m0\u001b[39m, \u001b[38;5;124m\"\u001b[39m\u001b[38;5;124mCannot divide by zero\u001b[39m\u001b[38;5;124m\"\u001b[39m\n\u001b[1;32m      3\u001b[0m     \u001b[38;5;28;01mreturn\u001b[39;00m x \u001b[38;5;241m/\u001b[39m y\n",
      "\u001b[0;31mAssertionError\u001b[0m: Cannot divide by zero"
     ]
    }
   ],
   "source": [
    "divide(9, 0)"
   ]
  },
  {
   "cell_type": "markdown",
   "id": "5cbed197-1347-44e1-9aef-951ed5a8e006",
   "metadata": {},
   "source": [
    "In the above code, the `assert` statement tests whether `y` is not equal to 0 before performing the division operation. If `y` is indeed not 0, the program continues to execute normally and returns the result of the division. If `y` is 0, the assert statement raises an AssertionError with the message \"Cannot divide by zero\"."
   ]
  },
  {
   "cell_type": "code",
   "execution_count": 6,
   "id": "e2a8d1b1-d043-48c3-a44d-d81dcd124fa9",
   "metadata": {},
   "outputs": [
    {
     "ename": "AssertionError",
     "evalue": "Logic Error",
     "output_type": "error",
     "traceback": [
      "\u001b[0;31m---------------------------------------------------------------------------\u001b[0m",
      "\u001b[0;31mAssertionError\u001b[0m                            Traceback (most recent call last)",
      "Cell \u001b[0;32mIn[6], line 1\u001b[0m\n\u001b[0;32m----> 1\u001b[0m \u001b[38;5;28;01massert\u001b[39;00m \u001b[38;5;28mlen\u001b[39m([\u001b[38;5;241m1\u001b[39m,\u001b[38;5;241m2\u001b[39m,\u001b[38;5;241m3\u001b[39m,\u001b[38;5;241m4\u001b[39m,\u001b[38;5;241m6\u001b[39m]) \u001b[38;5;241m==\u001b[39m \u001b[38;5;241m4\u001b[39m , \u001b[38;5;124m\"\u001b[39m\u001b[38;5;124mLogic Error\u001b[39m\u001b[38;5;124m\"\u001b[39m\n",
      "\u001b[0;31mAssertionError\u001b[0m: Logic Error"
     ]
    }
   ],
   "source": [
    "assert len([1,2,3,4,6]) == 4 , \"Logic Error\""
   ]
  },
  {
   "cell_type": "code",
   "execution_count": null,
   "id": "b6aa224b-0a2f-4b8c-9fa3-3bd89a7c7f3d",
   "metadata": {},
   "outputs": [],
   "source": []
  },
  {
   "cell_type": "code",
   "execution_count": null,
   "id": "fb4ba3bf-3930-4653-9c12-bfcc5668b07c",
   "metadata": {},
   "outputs": [],
   "source": []
  },
  {
   "cell_type": "markdown",
   "id": "3fab443c-96f7-4c77-8af4-c6b5cbcf0284",
   "metadata": {},
   "source": [
    "### **Exception Handling and Debugging**  \n",
    "Write a Python program that:\n",
    "1. Takes a string input from the user and tries to convert it into an integer.\n",
    "2. Raises a **custom exception** called `InvalidInputError` if the string contains non-numeric characters.\n"
   ]
  },
  {
   "cell_type": "code",
   "execution_count": 13,
   "id": "2ca437a6-8fc1-4f4a-85d2-9daed197a3e9",
   "metadata": {},
   "outputs": [],
   "source": [
    "class InvalidInputError(Exception):  \n",
    "    def __init__(self):\n",
    "        self.message = \"Input contains non-numeric charaters\"\n",
    "        super().__init__(self.message)\n",
    "        "
   ]
  },
  {
   "cell_type": "code",
   "execution_count": 14,
   "id": "0ac63145-9770-4cc3-8cd9-0a5d50a36168",
   "metadata": {},
   "outputs": [
    {
     "name": "stdin",
     "output_type": "stream",
     "text": [
      "Enter a number ..  55\n"
     ]
    },
    {
     "name": "stdout",
     "output_type": "stream",
     "text": [
      "55\n"
     ]
    }
   ],
   "source": [
    "user_input = input(\"Enter a number .. \")\n",
    "\n",
    "if user_input.isnumeric():\n",
    "    print(int(user_input))\n",
    "else:\n",
    "    raise InvalidInputError"
   ]
  },
  {
   "cell_type": "code",
   "execution_count": null,
   "id": "cfced812-fa83-4f10-b395-20f2355f4ac9",
   "metadata": {},
   "outputs": [],
   "source": []
  },
  {
   "cell_type": "code",
   "execution_count": null,
   "id": "11fae7e3-7bf3-4565-a746-ac67f7b89680",
   "metadata": {},
   "outputs": [],
   "source": []
  }
 ],
 "metadata": {
  "kernelspec": {
   "display_name": "Python 3 (ipykernel)",
   "language": "python",
   "name": "python3"
  },
  "language_info": {
   "codemirror_mode": {
    "name": "ipython",
    "version": 3
   },
   "file_extension": ".py",
   "mimetype": "text/x-python",
   "name": "python",
   "nbconvert_exporter": "python",
   "pygments_lexer": "ipython3",
   "version": "3.10.12"
  }
 },
 "nbformat": 4,
 "nbformat_minor": 5
}
