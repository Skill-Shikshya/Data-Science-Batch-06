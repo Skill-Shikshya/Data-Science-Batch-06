{
 "cells": [
  {
   "cell_type": "markdown",
   "id": "0817b66a-0b80-42d4-a134-0078221a7429",
   "metadata": {},
   "source": [
    "# Inheritance in Python\n",
    "\n",
    "Inheritance is one of the key features of object-oriented programming. It allows a new class to be based on an existing class, inheriting all of the attributes and methods of the parent class. This enables code reuse, making it easier to write and maintain complex programs. The parent class is also called the `base` class, while the new class is called the `derived` class.\n",
    "\n",
    "Inheritance is a powerful tool that can greatly simplify code development and maintenance. By reusing existing code and building on top of it, we can avoid duplicating effort and create more complex and powerful programs.\n",
    "\n",
    "There are several types of inheritance, including single inheritance, multiple inheritance, multi-level inheritance, hierarchical inheritance, and hybrid inheritance. Let's discuss each of them independently."
   ]
  },
  {
   "cell_type": "markdown",
   "id": "a40cb534-28cd-49b0-b53c-f49fae6fcbb6",
   "metadata": {},
   "source": [
    "## 1. Single Inheritance\n",
    "\n",
    "Single inheritance is a mechanism in object-oriented programming where a class (child or derived class) inherits properties and methods from another class (parent or base class). The derived class inherits all the attributes of the base class, and it can also add its own attributes and methods.\n",
    "\n",
    "To create a single inheritance relationship in Python, you define the derived class and the base class, and then use \n",
    "the syntax \n",
    "```python \n",
    "class DerivedClassName(BaseClassName):\n",
    "``` \n",
    "to declare the derived class, with the base class specified in the parentheses."
   ]
  },
  {
   "cell_type": "code",
   "execution_count": 35,
   "id": "3de992a1-e92e-49c9-b7df-15dbaf86933c",
   "metadata": {},
   "outputs": [],
   "source": [
    "class Animal:\n",
    "    def __init__(self, name, age):\n",
    "        self.name = name\n",
    "        self.age = age\n",
    "\n",
    "    def intro(self):\n",
    "        print(f\"My name is {self.name}.\")"
   ]
  },
  {
   "cell_type": "code",
   "execution_count": 36,
   "id": "0a1c6897-dda6-450e-b60b-2c8fe2456b8c",
   "metadata": {},
   "outputs": [],
   "source": [
    "class Cat(Animal):\n",
    "    def __init__(self, name, age, color):\n",
    "        super().__init__(name, age)\n",
    "        self.color = color\n",
    "        \n",
    "    def speak(self):\n",
    "        print(\"meow\")"
   ]
  },
  {
   "cell_type": "code",
   "execution_count": 37,
   "id": "624f3aac-3ab7-4d78-b2e3-a109aeb3a6e9",
   "metadata": {},
   "outputs": [],
   "source": [
    "cat = Cat(\"fluffy\",3,\"gray\")"
   ]
  },
  {
   "cell_type": "code",
   "execution_count": 38,
   "id": "d3df06b5-d439-4ade-9308-f24660cbf5f8",
   "metadata": {},
   "outputs": [
    {
     "name": "stdout",
     "output_type": "stream",
     "text": [
      "My name is fluffy.\n"
     ]
    }
   ],
   "source": [
    "cat.intro()"
   ]
  },
  {
   "cell_type": "code",
   "execution_count": 39,
   "id": "3892685c-d510-4a1e-b9e7-2adab9357277",
   "metadata": {},
   "outputs": [
    {
     "name": "stdout",
     "output_type": "stream",
     "text": [
      "meow\n"
     ]
    }
   ],
   "source": [
    "cat.speak()"
   ]
  },
  {
   "cell_type": "code",
   "execution_count": 40,
   "id": "c6db8377-a4f6-4d74-92a2-fd2c2d0db8d3",
   "metadata": {},
   "outputs": [
    {
     "data": {
      "text/plain": [
       "'gray'"
      ]
     },
     "execution_count": 40,
     "metadata": {},
     "output_type": "execute_result"
    }
   ],
   "source": [
    "cat.color"
   ]
  },
  {
   "cell_type": "markdown",
   "id": "cf92c629-c28a-43a6-a055-50a0ef1e6a92",
   "metadata": {},
   "source": [
    "In this example, we have defined two classes, `Animal` and `Cat`. `Cat` is the derived class, and it inherits from the base class `Animal`. The `Cat` class has its own `__init__()` method, which takes three arguments: `name, age, and color`. The `super()` function is used to call the base class constructor and pass `name and age` arguments to it. The `color` argument is specific to the `Cat` class, and is assigned as an attribute of the object and so is the `speak()` method."
   ]
  },
  {
   "cell_type": "markdown",
   "id": "e62b28f0-2a57-428c-ad08-9febf6657138",
   "metadata": {},
   "source": [
    "## 2. Multiple Inheritance\n",
    "\n",
    "Multiple inheritance is a feature where a class can inherit attributes and methods from more than one base class. It allows a subclass to inherit from multiple parent classes simultaneously. The syntax for multiple inheritance in Python is as follows:\n",
    "\n",
    "```python\n",
    "class MyClass(Parent1, Parent2, ...):\n",
    "    pass\n",
    "```\n",
    "In this example, `MyClass` inherits from `Parent1`, `Parent2`, and so on.\n",
    "\n",
    "When we call a method on an instance of `MyClass`, Python looks for the method in the following order:\n",
    "\n",
    "1. `MyClass` itself\n",
    "2. `Parent1`\n",
    "3. `Parent2`\n",
    "4. and so on\n",
    "\n",
    "This is called the `method resolution order (MRO)`, and it is determined at runtime using a depth-first search algorithm.\n",
    "\n",
    "Multiple inheritance can be a powerful feature of Python, but it can also be complex and can lead to code that is difficult to understand and maintain. It is important to use it judiciously and to keep the design of your classes simple and clear."
   ]
  },
  {
   "cell_type": "code",
   "execution_count": 41,
   "id": "75b2f86e-7801-494b-8e79-b1bc827764ae",
   "metadata": {},
   "outputs": [],
   "source": [
    "class Parent1:\n",
    "    def func1(self):\n",
    "        print(\"This is Parent 1\")\n",
    "\n",
    "class Parent2:\n",
    "    def func2(self):\n",
    "        print(\"This is Parent 2\")\n",
    "\n",
    "class Parent3:\n",
    "    def func3(self):\n",
    "        print(\"This is Parent 3\")\n",
    "\n",
    "class Child(Parent1, Parent2, Parent3):\n",
    "    def func4(self):\n",
    "        print(\"This is Child Function\")"
   ]
  },
  {
   "cell_type": "code",
   "execution_count": 42,
   "id": "eabc4ef5-c40b-420c-8a54-fffef577f711",
   "metadata": {},
   "outputs": [],
   "source": [
    "obj = Child()"
   ]
  },
  {
   "cell_type": "code",
   "execution_count": 43,
   "id": "2eee0872-3136-4bb3-9125-2393e5d0c04f",
   "metadata": {},
   "outputs": [
    {
     "name": "stdout",
     "output_type": "stream",
     "text": [
      "This is Parent 1\n",
      "This is Parent 2\n",
      "This is Parent 3\n",
      "This is Child Function\n"
     ]
    }
   ],
   "source": [
    "obj.func1()\n",
    "obj.func2()\n",
    "obj.func3()\n",
    "obj.func4()"
   ]
  },
  {
   "cell_type": "code",
   "execution_count": null,
   "id": "cfe47fc0-2042-40bf-982f-893eef8acb23",
   "metadata": {},
   "outputs": [],
   "source": []
  },
  {
   "cell_type": "markdown",
   "id": "3984c84e-8d3e-4a81-9b3d-f2626fe94bce",
   "metadata": {},
   "source": [
    "## 3. Multi-level inheritance\n",
    "\n",
    "Multilevel inheritance refers to the inheritance of a derived class from a base class, where the base class itself is derived from another base class. This means that a subclass will inherit from a superclass that has already inherited from another class.\n",
    "\n",
    "For example, consider three classes: `A`, `B`, and `C`. Class `A` is the parent class, class `B` is derived from class `A`, and class `C` is derived from class `B`. In this case, class `C` will inherit all the properties and methods of both class `B` and class `A`."
   ]
  },
  {
   "cell_type": "code",
   "execution_count": 47,
   "id": "6b88acff-3145-4e02-9d78-7f6bc89a0764",
   "metadata": {},
   "outputs": [],
   "source": [
    "class A:\n",
    "    def method_a(self):\n",
    "        print(\"This is method from Class A\")\n",
    "\n",
    "class B(A):\n",
    "    def method_b(self):\n",
    "        print(\"This is method from Class B\")\n",
    "\n",
    "class C(B):\n",
    "    def method_c(self):\n",
    "        print(\"This is method from Class C\")"
   ]
  },
  {
   "cell_type": "code",
   "execution_count": 48,
   "id": "b05a6f50-3f92-49bf-9bb8-d2f1751e7749",
   "metadata": {},
   "outputs": [
    {
     "name": "stdout",
     "output_type": "stream",
     "text": [
      "This is method from Class A\n",
      "This is method from Class B\n",
      "This is method from Class C\n"
     ]
    }
   ],
   "source": [
    "obj = C()\n",
    "obj.method_a()\n",
    "obj.method_b()\n",
    "obj.method_c()"
   ]
  },
  {
   "cell_type": "markdown",
   "id": "0cc14c5b-dfc8-4101-936e-a3102adfdf5f",
   "metadata": {},
   "source": [
    "In the above example, class `C` inherits from class `B`, which in turn inherits from class `A`. Therefore, class `C` has access to all the methods and properties of classes `B` and `A`. When an instance of class `C` is created, it can call the methods of all three classes.\n"
   ]
  },
  {
   "cell_type": "code",
   "execution_count": null,
   "id": "71b03e76-3c1b-41ff-83a2-a812dbce5138",
   "metadata": {},
   "outputs": [],
   "source": []
  },
  {
   "cell_type": "markdown",
   "id": "ef909bb4-6eec-4994-b68a-0ff5c336aab4",
   "metadata": {},
   "source": [
    "## 4. Hierarchical Inheritance\n",
    "\n",
    "Hierarchical inheritance is a type of inheritance in which more than one derived class inherits from a single base or parent class. In other words, it is a relationship between classes in which one class serves as a superclass for multiple subclasses.\n",
    "\n",
    "In Python, the syntax for creating hierarchical inheritance is similar to that of single inheritance. To implement hierarchical inheritance, we simply define multiple subclasses that inherit from the same base class. Each of these subclasses can have their own unique attributes and methods, in addition to the ones inherited from the base class."
   ]
  },
  {
   "cell_type": "code",
   "execution_count": 56,
   "id": "704a74cf-c29d-4d00-8ff4-a83721eb4f3e",
   "metadata": {},
   "outputs": [],
   "source": [
    "class Animal:\n",
    "    def __init__(self,name):\n",
    "        self.name = name\n",
    "\n",
    "    def intro(self):\n",
    "        print(f\"Hello, I am {self.name}\")\n"
   ]
  },
  {
   "cell_type": "code",
   "execution_count": 57,
   "id": "25a35e74-2c35-4f29-9df8-a345220045c0",
   "metadata": {},
   "outputs": [],
   "source": [
    "class Cat(Animal):\n",
    "    def speak(self):\n",
    "        return \"Meow\"\n",
    "\n",
    "class Dog(Animal):\n",
    "    def speak(self):\n",
    "        return \"Woof\"\n",
    "\n",
    "class Lion(Animal):\n",
    "    def speak(self):\n",
    "        return \"Roar\""
   ]
  },
  {
   "cell_type": "code",
   "execution_count": 58,
   "id": "651b4c23-97e6-4719-94ce-277f23808cbc",
   "metadata": {},
   "outputs": [],
   "source": [
    "cat = Cat(\"Fluffy\")\n",
    "dog = Dog(\"Fido\")\n",
    "lino = Lion(\"Simba\")"
   ]
  },
  {
   "cell_type": "code",
   "execution_count": 60,
   "id": "4b3a2dce-af2a-425d-b5fd-a1e8ca3023df",
   "metadata": {},
   "outputs": [
    {
     "name": "stdout",
     "output_type": "stream",
     "text": [
      "Hello, I am Fluffy\n"
     ]
    },
    {
     "data": {
      "text/plain": [
       "'Meow'"
      ]
     },
     "execution_count": 60,
     "metadata": {},
     "output_type": "execute_result"
    }
   ],
   "source": [
    "cat.intro()\n",
    "cat.speak()"
   ]
  },
  {
   "cell_type": "code",
   "execution_count": 61,
   "id": "36b8aa0c-ed77-4073-bee5-d885423dc541",
   "metadata": {},
   "outputs": [
    {
     "name": "stdout",
     "output_type": "stream",
     "text": [
      "Hello, I am Fido\n"
     ]
    },
    {
     "data": {
      "text/plain": [
       "'Woof'"
      ]
     },
     "execution_count": 61,
     "metadata": {},
     "output_type": "execute_result"
    }
   ],
   "source": [
    "dog.intro()\n",
    "dog.speak()"
   ]
  },
  {
   "cell_type": "code",
   "execution_count": 63,
   "id": "24b47910-4184-4b71-8cd8-e7a75fb3e111",
   "metadata": {},
   "outputs": [
    {
     "name": "stdout",
     "output_type": "stream",
     "text": [
      "Hello, I am Simba\n"
     ]
    },
    {
     "data": {
      "text/plain": [
       "'Roar'"
      ]
     },
     "execution_count": 63,
     "metadata": {},
     "output_type": "execute_result"
    }
   ],
   "source": [
    "lino.intro()\n",
    "lino.speak()"
   ]
  },
  {
   "cell_type": "markdown",
   "id": "4f859db9-6f05-406d-afc8-1b8c72c9e0f7",
   "metadata": {},
   "source": [
    "In this example, we have a base class `Animal`, which has an `__init__` method that initializes the `name` attribute, as well as a `intro` method that is not implemented. We then define three subclasses, `Cat`, `Dog`, and `Lion`, each of which inherits from `Animal` and defines their own `speak` method.\n"
   ]
  },
  {
   "cell_type": "code",
   "execution_count": null,
   "id": "894ea49e-763b-4742-a422-af423d805ec9",
   "metadata": {},
   "outputs": [],
   "source": []
  },
  {
   "cell_type": "markdown",
   "id": "072f26ba-6dbb-4ac1-89af-fbfab703f5b8",
   "metadata": {},
   "source": [
    "## 5. Hybrid Inheritance\n",
    "\n",
    "Hybrid inheritance is a combination of two or more types of inheritance from the above types."
   ]
  },
  {
   "cell_type": "code",
   "execution_count": 14,
   "id": "356eebe2-2fd8-4b48-b791-a5a9d843980b",
   "metadata": {},
   "outputs": [],
   "source": [
    "class Animal:\n",
    "    def __init__(self,name):\n",
    "        self.name = name\n",
    "\n",
    "    def intro(self):\n",
    "        print(f\"Hello, I am {self.name}\")\n"
   ]
  },
  {
   "cell_type": "code",
   "execution_count": 15,
   "id": "c0757239-29a6-4fa7-9266-f326077d0c23",
   "metadata": {},
   "outputs": [],
   "source": [
    "class Mammal(Animal):\n",
    "    def __init__(self, name, fur = False):\n",
    "        super().__init__(name)\n",
    "        self.fur = True\n",
    "\n",
    "    def birth(self):\n",
    "        print(f\"{self.name} give birth to live ones !\")\n",
    "\n",
    "class Birds(Animal):\n",
    "    def __init__(self, name):\n",
    "        super().__init__(name)\n",
    "        \n",
    "    def fly(self):\n",
    "        print(f\"{self.name} can fly !\")"
   ]
  },
  {
   "cell_type": "code",
   "execution_count": 16,
   "id": "91e6f6b8-1623-4b4a-8810-859ea3b86153",
   "metadata": {},
   "outputs": [],
   "source": [
    "class Bat(Mammal, Birds):\n",
    "    pass"
   ]
  },
  {
   "cell_type": "code",
   "execution_count": 18,
   "id": "4cef157f-1ffc-4a3d-851b-c0fb63a729a5",
   "metadata": {},
   "outputs": [],
   "source": [
    "b = Bat(\"Bruce\")"
   ]
  },
  {
   "cell_type": "code",
   "execution_count": 95,
   "id": "2d274988-21cc-45cb-a516-b06cf9415c2a",
   "metadata": {},
   "outputs": [
    {
     "name": "stdout",
     "output_type": "stream",
     "text": [
      "Hello, I am Bruce\n",
      "Bruce can fly !\n",
      "Bruce give birth to live ones !\n"
     ]
    }
   ],
   "source": [
    "b.intro()\n",
    "b.fly()\n",
    "b.birth()"
   ]
  },
  {
   "cell_type": "markdown",
   "id": "c8252753-c726-4428-81cd-eea2a3d157a0",
   "metadata": {},
   "source": [
    "In this example, we have four classes: `Animal`, `Mammal`, `Bird`, and `Bat`. `Mammal` and `Bird` inherit from `Animal`, forming a multiple inheritance hierarchy. `Bat` then inherits from both `Mammal` and `Bird`, forming a hybrid inheritance hierarchy. This means that `Bat` has access to all the methods and attributes of `Animal`, `Mammal`, and `Bird`. When we create an instance of `Bat`, we can call all the methods defined in the parent classes."
   ]
  },
  {
   "cell_type": "code",
   "execution_count": null,
   "id": "9cbc8367-f74a-4373-a4b7-11128d83a424",
   "metadata": {},
   "outputs": [],
   "source": []
  },
  {
   "cell_type": "code",
   "execution_count": null,
   "id": "9bcf7e56-3a1b-47a7-914e-1250f14de693",
   "metadata": {},
   "outputs": [],
   "source": []
  },
  {
   "cell_type": "markdown",
   "id": "27dfb17a-2039-46c4-afea-02ef6fae3742",
   "metadata": {},
   "source": [
    "**Question:**\n",
    "You are tasked with designing a system for an online bookstore. Create a base class `Book` with the following attributes and methods:\n",
    "\n",
    "1. Attributes:\n",
    "   - `title` (string)\n",
    "   - `author` (string)\n",
    "   - `price` (float)\n",
    "\n",
    "2. Methods:\n",
    "   - `__init__()` to initialize the attributes.\n",
    "   - `display_info()` to print the details of the book in the format:  \n",
    "     `\"Title: [title], Author: [author], Price: $[price]\"`\n",
    "\n",
    "Now, create a derived class `EBook` that inherits from the `Book` class with the following additional attribute and method:\n",
    "\n",
    "1. Additional Attribute:\n",
    "   - `file_size` (float in MB)\n",
    "\n",
    "2. Method:\n",
    "   - `__init__()` to initialize all attributes of `EBook`, including those inherited from the `Book` class.\n",
    "   - Override the `display_info()` method to include the file size in the format:  \n",
    "     `\"Title: [title], Author: [author], Price: $[price], File Size: [file_size] MB\"`\n",
    "\n",
    "Finally, demonstrate the usage of both classes by creating:\n",
    "1. An object of `Book` and displaying its information.  \n",
    "2. An object of `EBook` and displaying its information."
   ]
  },
  {
   "cell_type": "code",
   "execution_count": 10,
   "id": "8e9e606d-27ea-4ae4-aeed-932f0989cc58",
   "metadata": {},
   "outputs": [],
   "source": [
    "class Book:\n",
    "    def __init__(self, title: str, author: str, price: float):\n",
    "        self.title = title\n",
    "        self.author = author\n",
    "        self.price = price\n",
    "\n",
    "    def display_info(self):\n",
    "        return f\"Title: {self.title}, Author: {self.author}, Price: ${self.price}\"\n",
    "\n",
    "\n",
    "class EBook(Book):\n",
    "    def __init__(self, title: str, author : str, price : float, file_size: float):\n",
    "        super().__init__(title, author, price)\n",
    "        self.file_size = file_size\n",
    "\n",
    "    def display_info(self):\n",
    "        return f\"Title: {self.title}, Author: {self.author}, Price: ${self.price}, File-Size: {self.file_size} MB\"\n"
   ]
  },
  {
   "cell_type": "code",
   "execution_count": 11,
   "id": "e8ae49e4-1de1-49d0-8fda-c8047b17e972",
   "metadata": {},
   "outputs": [],
   "source": [
    "book1 = Book(\n",
    "    title= \"Alice in Wonderland\",\n",
    "    author= \"Henry\",\n",
    "    price= 5.33\n",
    ")\n",
    "\n",
    "ebook1 = EBook(\n",
    "    title=\"Harry Potter\",\n",
    "    author=\"J.K Rowling\",\n",
    "    price=32.99,\n",
    "    file_size=23\n",
    ")"
   ]
  },
  {
   "cell_type": "code",
   "execution_count": 12,
   "id": "41974ebd-40f5-44be-b63f-bbdac3eefadc",
   "metadata": {},
   "outputs": [
    {
     "data": {
      "text/plain": [
       "'Title: Alice in Wonderland, Author: Henry, Price: $5.33'"
      ]
     },
     "execution_count": 12,
     "metadata": {},
     "output_type": "execute_result"
    }
   ],
   "source": [
    "book1.display_info()"
   ]
  },
  {
   "cell_type": "code",
   "execution_count": 13,
   "id": "17cf4a16-ae17-422d-91eb-4f400aa9e347",
   "metadata": {},
   "outputs": [
    {
     "data": {
      "text/plain": [
       "'Title: Harry Potter, Author: J.K Rowling, Price: $32.99, File-Size: 23 MB'"
      ]
     },
     "execution_count": 13,
     "metadata": {},
     "output_type": "execute_result"
    }
   ],
   "source": [
    "ebook1.display_info()    "
   ]
  },
  {
   "cell_type": "code",
   "execution_count": 8,
   "id": "5d15c79b-6c1d-4a6a-a4a2-405138453c44",
   "metadata": {},
   "outputs": [],
   "source": []
  }
 ],
 "metadata": {
  "kernelspec": {
   "display_name": "Python 3 (ipykernel)",
   "language": "python",
   "name": "python3"
  },
  "language_info": {
   "codemirror_mode": {
    "name": "ipython",
    "version": 3
   },
   "file_extension": ".py",
   "mimetype": "text/x-python",
   "name": "python",
   "nbconvert_exporter": "python",
   "pygments_lexer": "ipython3",
   "version": "3.10.12"
  }
 },
 "nbformat": 4,
 "nbformat_minor": 5
}
