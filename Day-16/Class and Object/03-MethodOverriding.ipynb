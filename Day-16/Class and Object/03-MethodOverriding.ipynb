{
 "cells": [
  {
   "cell_type": "markdown",
   "id": "fedd6297-5acd-4c98-b8f3-d6c7e8084cd3",
   "metadata": {},
   "source": [
    "# Method Overriding in Python\n",
    "\n",
    "Method overriding refers to the ability of a subclass to provide its own implementation of a method that is already defined in its parent class. When a method in a subclass has the same name and parameters as a method in its parent class, the subclass method will override the parent class method.\n",
    "\n",
    "To override a method in Python, the subclass method must have the same name and parameters as the parent class method. When an object of the subclass calls the method, it will use the implementation provided in the subclass, rather than the one in the superclass."
   ]
  },
  {
   "cell_type": "code",
   "execution_count": 6,
   "id": "50479702-5522-4afa-b8ec-7100800f2155",
   "metadata": {},
   "outputs": [],
   "source": [
    "class Animal:\n",
    "    def sound(self):\n",
    "        print(\"Making Animal Sound ..\")\n",
    "\n",
    "class Dog(Animal):\n",
    "    def sound(self, sound):\n",
    "        print(f\"Dog makes {sound} sound\")\n",
    "\n",
    "class Cat(Animal):\n",
    "    def sound(self):\n",
    "        print(\"Meowing...\")"
   ]
  },
  {
   "cell_type": "code",
   "execution_count": 7,
   "id": "a9406eb9-45e1-4934-8abc-808b3744563e",
   "metadata": {},
   "outputs": [
    {
     "name": "stdout",
     "output_type": "stream",
     "text": [
      "Making Animal Sound ..\n"
     ]
    }
   ],
   "source": [
    "animal = Animal()\n",
    "animal.sound()"
   ]
  },
  {
   "cell_type": "code",
   "execution_count": 8,
   "id": "c31148dc-4835-4695-b39e-ae6edea47015",
   "metadata": {},
   "outputs": [
    {
     "name": "stdout",
     "output_type": "stream",
     "text": [
      "Dog makes Woff sound\n"
     ]
    }
   ],
   "source": [
    "dog = Dog()\n",
    "dog.sound(\"Woff\")"
   ]
  },
  {
   "cell_type": "code",
   "execution_count": 9,
   "id": "fe482348-ff15-4038-a148-56ed452ee4aa",
   "metadata": {},
   "outputs": [
    {
     "name": "stdout",
     "output_type": "stream",
     "text": [
      "Meowing...\n"
     ]
    }
   ],
   "source": [
    "cat = Cat()\n",
    "cat.sound()"
   ]
  },
  {
   "cell_type": "markdown",
   "id": "790fbbd9-864a-40a7-93d2-9899709b321a",
   "metadata": {},
   "source": [
    "In this example, we define a superclass `Animal` with a method sound that prints a generic sound. We then define two subclasses, `Dog` and `Cat`, that override the sound method with their own implementation."
   ]
  },
  {
   "cell_type": "markdown",
   "id": "d9ea7ebd-3d67-4593-8995-31ef232b818c",
   "metadata": {},
   "source": [
    "The `super()` function can be used to call the overridden method in the parent class, so that the parental behaviour is not lost."
   ]
  },
  {
   "cell_type": "code",
   "execution_count": 13,
   "id": "37aee155-ef66-46fe-a951-f8ec0f5b43af",
   "metadata": {},
   "outputs": [],
   "source": [
    "class Parent:\n",
    "    def say_hello(self):\n",
    "        print(\"Hello from Parent\")\n",
    "\n",
    "class Child(Parent):\n",
    "    def say_hello(self):\n",
    "        super().say_hello()\n",
    "        print(\"Hello from child\")\n",
    "        "
   ]
  },
  {
   "cell_type": "code",
   "execution_count": 14,
   "id": "1790fd4e-e6dc-4ce7-b099-28b0bc81b383",
   "metadata": {},
   "outputs": [
    {
     "name": "stdout",
     "output_type": "stream",
     "text": [
      "Hello from Parent\n",
      "Hello from child\n"
     ]
    }
   ],
   "source": [
    "obj = Child()\n",
    "obj.say_hello()"
   ]
  },
  {
   "cell_type": "markdown",
   "id": "4877b973-d5ff-4e78-a061-ddb11012877b",
   "metadata": {},
   "source": [
    "In this example, `Child` is a subclass of `Parent`. The `Child` class overrides the `say_hello()` method of its parent class. When the `say_hello()` method is called on an object of the `Child` class, it will execute the overridden method in the `Child` class first, and then call the overridden method in the parent class using the `super()` function."
   ]
  },
  {
   "cell_type": "code",
   "execution_count": null,
   "id": "60247309-d177-4ddd-983b-6de9f0ea24dd",
   "metadata": {},
   "outputs": [],
   "source": []
  },
  {
   "cell_type": "markdown",
   "id": "a3363785-2704-4033-ad49-d55299c2745e",
   "metadata": {},
   "source": [
    "### Control Flow with Nested Loops and Complex Logic\n",
    "\n",
    "Write a Python program that simulates a **number guessing game**:\n",
    "\n",
    "1. The program should generate a random number between 1 and 100 and give the user 7 attempts to guess it.\n",
    "\n",
    "2. After each wrong guess, the program should provide a hint whether the guess was too high or too low.\n",
    "\n",
    "3. If the user fails to guess the number within the attempts, the program should reveal the number and ask if they would like to play again."
   ]
  },
  {
   "cell_type": "code",
   "execution_count": 28,
   "id": "1075dd98-5d63-4f19-83d8-8fd3bd52fd0e",
   "metadata": {},
   "outputs": [],
   "source": [
    "from random import randint"
   ]
  },
  {
   "cell_type": "code",
   "execution_count": 44,
   "id": "f0b804e2-a398-4b0f-953c-1ebd62df9059",
   "metadata": {},
   "outputs": [],
   "source": [
    "def guess_the_number(attempts = 7):\n",
    "    while True:\n",
    "        secret_number = randint(1,100)\n",
    "        \n",
    "        print(\"Welcome to the Number Guessing Game!\")\n",
    "        print(\"I have selected a number between 1 and 100. You have 7 attempts to guess it. \\n\")\n",
    "\n",
    "        for attempt in range(1, attempts+1):\n",
    "            user_numer = int(input(\"Enter your guess: \"))\n",
    "                             \n",
    "            if user_numer == secret_number :\n",
    "                print(f\"Congratulations! You've guessed the number {secret_number} correctly in {attempt} attempts.\")\n",
    "                break\n",
    "            elif user_numer > secret_number:\n",
    "                print(\"Too high! Try again. \\n\")\n",
    "            else:\n",
    "                print(\"Too low! Try again. \\n\")\n",
    "        else:\n",
    "            print(f\"Sorry, you've used all your attempts. The number was {secret_number}. \\n\")\n",
    "\n",
    "        play_again = input(\"Do you like to play again(yes / no): \").strip().lower()   \n",
    "        if play_again != 'yes':\n",
    "            break"
   ]
  },
  {
   "cell_type": "code",
   "execution_count": 45,
   "id": "f95059c0-6fcb-47de-b239-bcae4952053f",
   "metadata": {
    "scrolled": true
   },
   "outputs": [
    {
     "name": "stdout",
     "output_type": "stream",
     "text": [
      "Welcome to the Number Guessing Game!\n",
      "I have selected a number between 1 and 100. You have 7 attempts to guess it. \n",
      "\n"
     ]
    },
    {
     "name": "stdin",
     "output_type": "stream",
     "text": [
      "Enter your guess:  55\n"
     ]
    },
    {
     "name": "stdout",
     "output_type": "stream",
     "text": [
      "Too low! Try again. \n",
      "\n"
     ]
    },
    {
     "name": "stdin",
     "output_type": "stream",
     "text": [
      "Enter your guess:  88\n"
     ]
    },
    {
     "name": "stdout",
     "output_type": "stream",
     "text": [
      "Too low! Try again. \n",
      "\n"
     ]
    },
    {
     "name": "stdin",
     "output_type": "stream",
     "text": [
      "Enter your guess:  95\n"
     ]
    },
    {
     "name": "stdout",
     "output_type": "stream",
     "text": [
      "Congratulations! You've guessed the number 95 correctly in 3 attempts.\n"
     ]
    },
    {
     "name": "stdin",
     "output_type": "stream",
     "text": [
      "Do you like to play again(yes / no):  yes\n"
     ]
    },
    {
     "name": "stdout",
     "output_type": "stream",
     "text": [
      "Welcome to the Number Guessing Game!\n",
      "I have selected a number between 1 and 100. You have 7 attempts to guess it. \n",
      "\n"
     ]
    },
    {
     "name": "stdin",
     "output_type": "stream",
     "text": [
      "Enter your guess:  50\n"
     ]
    },
    {
     "name": "stdout",
     "output_type": "stream",
     "text": [
      "High! Try again. \n",
      "\n"
     ]
    },
    {
     "name": "stdin",
     "output_type": "stream",
     "text": [
      "Enter your guess:  40\n"
     ]
    },
    {
     "name": "stdout",
     "output_type": "stream",
     "text": [
      "High! Try again. \n",
      "\n"
     ]
    },
    {
     "name": "stdin",
     "output_type": "stream",
     "text": [
      "Enter your guess:  30\n"
     ]
    },
    {
     "name": "stdout",
     "output_type": "stream",
     "text": [
      "High! Try again. \n",
      "\n"
     ]
    },
    {
     "name": "stdin",
     "output_type": "stream",
     "text": [
      "Enter your guess:  600\n"
     ]
    },
    {
     "name": "stdout",
     "output_type": "stream",
     "text": [
      "Too high! Try again. \n",
      "\n"
     ]
    },
    {
     "name": "stdin",
     "output_type": "stream",
     "text": [
      "Enter your guess:  d\n"
     ]
    },
    {
     "ename": "ValueError",
     "evalue": "invalid literal for int() with base 10: 'd'",
     "output_type": "error",
     "traceback": [
      "\u001b[0;31m---------------------------------------------------------------------------\u001b[0m",
      "\u001b[0;31mValueError\u001b[0m                                Traceback (most recent call last)",
      "Cell \u001b[0;32mIn[45], line 1\u001b[0m\n\u001b[0;32m----> 1\u001b[0m \u001b[43mguess_the_number\u001b[49m\u001b[43m(\u001b[49m\u001b[43m)\u001b[49m\n",
      "Cell \u001b[0;32mIn[44], line 9\u001b[0m, in \u001b[0;36mguess_the_number\u001b[0;34m(attempts)\u001b[0m\n\u001b[1;32m      6\u001b[0m \u001b[38;5;28mprint\u001b[39m(\u001b[38;5;124m\"\u001b[39m\u001b[38;5;124mI have selected a number between 1 and 100. You have 7 attempts to guess it. \u001b[39m\u001b[38;5;130;01m\\n\u001b[39;00m\u001b[38;5;124m\"\u001b[39m)\n\u001b[1;32m      8\u001b[0m \u001b[38;5;28;01mfor\u001b[39;00m attempt \u001b[38;5;129;01min\u001b[39;00m \u001b[38;5;28mrange\u001b[39m(\u001b[38;5;241m1\u001b[39m, attempts\u001b[38;5;241m+\u001b[39m\u001b[38;5;241m1\u001b[39m):\n\u001b[0;32m----> 9\u001b[0m     user_numer \u001b[38;5;241m=\u001b[39m \u001b[38;5;28;43mint\u001b[39;49m\u001b[43m(\u001b[49m\u001b[38;5;28;43minput\u001b[39;49m\u001b[43m(\u001b[49m\u001b[38;5;124;43m\"\u001b[39;49m\u001b[38;5;124;43mEnter your guess: \u001b[39;49m\u001b[38;5;124;43m\"\u001b[39;49m\u001b[43m)\u001b[49m\u001b[43m)\u001b[49m\n\u001b[1;32m     11\u001b[0m     \u001b[38;5;28;01mif\u001b[39;00m user_numer \u001b[38;5;241m==\u001b[39m secret_number :\n\u001b[1;32m     12\u001b[0m         \u001b[38;5;28mprint\u001b[39m(\u001b[38;5;124mf\u001b[39m\u001b[38;5;124m\"\u001b[39m\u001b[38;5;124mCongratulations! You\u001b[39m\u001b[38;5;124m'\u001b[39m\u001b[38;5;124mve guessed the number \u001b[39m\u001b[38;5;132;01m{\u001b[39;00msecret_number\u001b[38;5;132;01m}\u001b[39;00m\u001b[38;5;124m correctly in \u001b[39m\u001b[38;5;132;01m{\u001b[39;00mattempt\u001b[38;5;132;01m}\u001b[39;00m\u001b[38;5;124m attempts.\u001b[39m\u001b[38;5;124m\"\u001b[39m)\n",
      "\u001b[0;31mValueError\u001b[0m: invalid literal for int() with base 10: 'd'"
     ]
    }
   ],
   "source": [
    "guess_the_number()"
   ]
  },
  {
   "cell_type": "code",
   "execution_count": null,
   "id": "878eae42-d32a-4d1f-b7af-196355d995be",
   "metadata": {},
   "outputs": [],
   "source": []
  }
 ],
 "metadata": {
  "kernelspec": {
   "display_name": "Python 3 (ipykernel)",
   "language": "python",
   "name": "python3"
  },
  "language_info": {
   "codemirror_mode": {
    "name": "ipython",
    "version": 3
   },
   "file_extension": ".py",
   "mimetype": "text/x-python",
   "name": "python",
   "nbconvert_exporter": "python",
   "pygments_lexer": "ipython3",
   "version": "3.10.12"
  }
 },
 "nbformat": 4,
 "nbformat_minor": 5
}
