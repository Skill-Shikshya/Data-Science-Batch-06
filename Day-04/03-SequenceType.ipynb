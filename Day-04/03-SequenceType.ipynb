{
 "cells": [
  {
   "cell_type": "markdown",
   "id": "786da207-b62d-4a81-b5d6-e11bf9b8d792",
   "metadata": {},
   "source": [
    "# Python Sequence Types\n",
    "\n",
    "The sequence type of python includes two data structures: list and tuple\n"
   ]
  },
  {
   "cell_type": "markdown",
   "id": "f81f37f1-a1b9-4767-a476-d68fd8978ba0",
   "metadata": {},
   "source": [
    "## 1. List\n",
    "\n",
    "In Python, lists are used to store a collection of items, which can be of any data type. Here's a brief overview of the Python list type:\n",
    "\n",
    "### Defining Lists\n",
    "\n",
    "You can define a list in Python using square brackets []. Here are some examples:"
   ]
  },
  {
   "cell_type": "code",
   "execution_count": 8,
   "id": "ffe1797c-be28-4b4f-af41-77ac38d0ecbc",
   "metadata": {},
   "outputs": [],
   "source": [
    "x = [1,2,3,4,5]\n",
    "\n",
    "y = [\"apple\",\"orange\"]\n",
    "\n",
    "z = [1,\"apple\", True, 3.24, -7]"
   ]
  },
  {
   "cell_type": "code",
   "execution_count": 9,
   "id": "36fafd4a-1405-4da3-9c24-2c37f763ed06",
   "metadata": {},
   "outputs": [
    {
     "data": {
      "text/plain": [
       "list"
      ]
     },
     "execution_count": 9,
     "metadata": {},
     "output_type": "execute_result"
    }
   ],
   "source": [
    "type(x)"
   ]
  },
  {
   "cell_type": "code",
   "execution_count": 10,
   "id": "34b18c39-afdf-43bd-9c04-d11ffc776719",
   "metadata": {},
   "outputs": [
    {
     "name": "stdout",
     "output_type": "stream",
     "text": [
      "[1, 'apple', True, 3.24, -7]\n"
     ]
    }
   ],
   "source": [
    "print(z)"
   ]
  },
  {
   "cell_type": "code",
   "execution_count": null,
   "id": "f6cf97ac-48c3-4702-a37e-edfd705f98e5",
   "metadata": {},
   "outputs": [],
   "source": []
  },
  {
   "cell_type": "markdown",
   "id": "310f5177-57af-46c7-bb65-350e168703c1",
   "metadata": {},
   "source": [
    "### Accessing List Items\n",
    "\n",
    "You can access individual items in a list using indexing. In Python, indexing starts at 0. Here are some examples:"
   ]
  },
  {
   "cell_type": "code",
   "execution_count": 13,
   "id": "686c4b5f-9ea8-4613-9e7d-8d3e5d310519",
   "metadata": {},
   "outputs": [
    {
     "data": {
      "text/plain": [
       "-7"
      ]
     },
     "execution_count": 13,
     "metadata": {},
     "output_type": "execute_result"
    }
   ],
   "source": [
    "z[-1]"
   ]
  },
  {
   "cell_type": "code",
   "execution_count": 14,
   "id": "9be97022-f69f-4148-bc4c-37774c7d0b2f",
   "metadata": {},
   "outputs": [
    {
     "data": {
      "text/plain": [
       "'apple'"
      ]
     },
     "execution_count": 14,
     "metadata": {},
     "output_type": "execute_result"
    }
   ],
   "source": [
    "y[0]"
   ]
  },
  {
   "cell_type": "markdown",
   "id": "7d42e679-2d74-4327-b925-8eb376249eec",
   "metadata": {},
   "source": [
    "### Slicing Lists\n",
    "\n",
    "You can access a range of items in a list using slicing. Slicing uses the syntax `start:stop:step`, where `start` is the index of the first item you want to include, `stop` is the index of the first item you want to exclude, and `step` is the number of items to skip. Here are some examples:"
   ]
  },
  {
   "cell_type": "markdown",
   "id": "ebe5a5b2-5c16-490b-b787-f9c108fa7a23",
   "metadata": {},
   "source": [
    "list[ start index : stop index : steps ]"
   ]
  },
  {
   "cell_type": "code",
   "execution_count": 31,
   "id": "f0de17cf-081d-45b9-a219-45084aaeb4d7",
   "metadata": {},
   "outputs": [],
   "source": [
    "numbers = list(range(10,30))"
   ]
  },
  {
   "cell_type": "code",
   "execution_count": 32,
   "id": "46357836-3b78-4858-9113-9367538c386d",
   "metadata": {},
   "outputs": [
    {
     "name": "stdout",
     "output_type": "stream",
     "text": [
      "[10, 11, 12, 13, 14, 15, 16, 17, 18, 19, 20, 21, 22, 23, 24, 25, 26, 27, 28, 29]\n"
     ]
    }
   ],
   "source": [
    "print(numbers)"
   ]
  },
  {
   "cell_type": "code",
   "execution_count": 19,
   "id": "019f0644-e2c9-4c28-a6b3-02a4aab8de1b",
   "metadata": {},
   "outputs": [
    {
     "data": {
      "text/plain": [
       "[5, 6, 7, 8, 9]"
      ]
     },
     "execution_count": 19,
     "metadata": {},
     "output_type": "execute_result"
    }
   ],
   "source": [
    "numbers[5:10]"
   ]
  },
  {
   "cell_type": "code",
   "execution_count": 37,
   "id": "28b8797a-166e-44c7-896c-8e985ce6029d",
   "metadata": {},
   "outputs": [
    {
     "data": {
      "text/plain": [
       "[12, 14, 16, 18, 20, 22, 24, 26, 28]"
      ]
     },
     "execution_count": 37,
     "metadata": {},
     "output_type": "execute_result"
    }
   ],
   "source": [
    "numbers[2::2]"
   ]
  },
  {
   "cell_type": "code",
   "execution_count": 24,
   "id": "fffc6be5-1f6a-4b08-89e7-d757c3decebf",
   "metadata": {},
   "outputs": [
    {
     "name": "stdout",
     "output_type": "stream",
     "text": [
      "[0, 3, 6, 9, 12, 15, 18, 21, 24, 27, 30, 33, 36, 39, 42, 45, 48]\n"
     ]
    }
   ],
   "source": [
    "print(numbers[::3])"
   ]
  },
  {
   "cell_type": "code",
   "execution_count": 38,
   "id": "a50aa329-bf37-4649-84c7-9dfbf4b786a8",
   "metadata": {},
   "outputs": [
    {
     "name": "stdout",
     "output_type": "stream",
     "text": [
      "[29, 28, 27, 26, 25, 24, 23, 22, 21, 20, 19, 18, 17, 16, 15, 14, 13, 12, 11, 10]\n"
     ]
    }
   ],
   "source": [
    "print(numbers[::-1])"
   ]
  },
  {
   "cell_type": "code",
   "execution_count": null,
   "id": "97d8bfe7-1d1f-4f7a-9eb3-414c42e5c181",
   "metadata": {},
   "outputs": [],
   "source": []
  },
  {
   "cell_type": "markdown",
   "id": "67aa2179-4591-4557-83a8-a9a96046b470",
   "metadata": {},
   "source": [
    "### Modifying Lists\n",
    "\n",
    "You can modify individual items in a list by assigning a new value to the index. You can also add or remove items from a list using built-in list methods. Here are some examples:\n",
    "\n",
    "Docs : https://docs.python.org/3/tutorial/datastructures.html"
   ]
  },
  {
   "cell_type": "code",
   "execution_count": 67,
   "id": "ad816c3a-9472-4c88-a996-bf52bf2531c5",
   "metadata": {},
   "outputs": [],
   "source": [
    "x = [\"apple\", \"ball\", \"cat\", \"dog\", 14.13]"
   ]
  },
  {
   "cell_type": "code",
   "execution_count": 68,
   "id": "34af1407-acab-4d44-ad1e-915d62472ebd",
   "metadata": {},
   "outputs": [],
   "source": [
    "x[2] = \"tiger\" #<- replace at any given index"
   ]
  },
  {
   "cell_type": "code",
   "execution_count": 69,
   "id": "df25c702-c229-4eeb-9886-f445dc2fe375",
   "metadata": {},
   "outputs": [
    {
     "name": "stdout",
     "output_type": "stream",
     "text": [
      "['apple', 'ball', 'tiger', 'dog', 14.13]\n"
     ]
    }
   ],
   "source": [
    "print(x)"
   ]
  },
  {
   "cell_type": "code",
   "execution_count": null,
   "id": "ddbc8f5d-e52d-4ffe-8d65-4158480295d2",
   "metadata": {},
   "outputs": [],
   "source": []
  },
  {
   "cell_type": "code",
   "execution_count": 70,
   "id": "e5b1c615-2b62-410e-8500-144cda7b0d6b",
   "metadata": {},
   "outputs": [],
   "source": [
    "x.append(66) # Adding items to list"
   ]
  },
  {
   "cell_type": "code",
   "execution_count": 71,
   "id": "c63c8774-60d6-44fb-a7f6-753ae64a8716",
   "metadata": {},
   "outputs": [
    {
     "name": "stdout",
     "output_type": "stream",
     "text": [
      "['apple', 'ball', 'tiger', 'dog', 14.13, 66]\n"
     ]
    }
   ],
   "source": [
    "print(x)"
   ]
  },
  {
   "cell_type": "code",
   "execution_count": null,
   "id": "57b64915-68de-40e3-9def-2ab388963930",
   "metadata": {},
   "outputs": [],
   "source": []
  },
  {
   "cell_type": "code",
   "execution_count": 72,
   "id": "e2ad3695-4725-4287-ae22-4dea11239ffd",
   "metadata": {},
   "outputs": [],
   "source": [
    "x.insert(2,\"cow\") # Add an item at specific index"
   ]
  },
  {
   "cell_type": "code",
   "execution_count": 73,
   "id": "3a90b8fc-1204-4fbb-8caa-f2a39701bc9e",
   "metadata": {},
   "outputs": [
    {
     "name": "stdout",
     "output_type": "stream",
     "text": [
      "['apple', 'ball', 'cow', 'tiger', 'dog', 14.13, 66]\n"
     ]
    }
   ],
   "source": [
    "print(x)"
   ]
  },
  {
   "cell_type": "code",
   "execution_count": null,
   "id": "0cf94d15-71e2-4e01-bdfc-4bc5d8af1bed",
   "metadata": {},
   "outputs": [],
   "source": []
  },
  {
   "cell_type": "code",
   "execution_count": 74,
   "id": "47bd0b07-bb6c-4261-983b-6f930da7f7b2",
   "metadata": {},
   "outputs": [],
   "source": [
    "x.remove(\"cow\") # Removes the first occurrence of the specified item from the list"
   ]
  },
  {
   "cell_type": "code",
   "execution_count": 75,
   "id": "f420a8b2-abfe-4452-a46f-71eb7d7f9cb7",
   "metadata": {},
   "outputs": [
    {
     "name": "stdout",
     "output_type": "stream",
     "text": [
      "['apple', 'ball', 'tiger', 'dog', 14.13, 66]\n"
     ]
    }
   ],
   "source": [
    "print(x)"
   ]
  },
  {
   "cell_type": "code",
   "execution_count": null,
   "id": "6c661118-516d-4a71-ae91-80b4f637917a",
   "metadata": {},
   "outputs": [],
   "source": []
  },
  {
   "cell_type": "code",
   "execution_count": 76,
   "id": "1fed4601-4018-49b0-925d-e819f3bbe43d",
   "metadata": {},
   "outputs": [
    {
     "data": {
      "text/plain": [
       "66"
      ]
     },
     "execution_count": 76,
     "metadata": {},
     "output_type": "execute_result"
    }
   ],
   "source": [
    "x.pop() # Removes and returns the item at the specified index"
   ]
  },
  {
   "cell_type": "code",
   "execution_count": 77,
   "id": "2f4d0e07-12b5-4306-9e10-01538175328a",
   "metadata": {},
   "outputs": [
    {
     "name": "stdout",
     "output_type": "stream",
     "text": [
      "['apple', 'ball', 'tiger', 'dog', 14.13]\n"
     ]
    }
   ],
   "source": [
    "print(x)"
   ]
  },
  {
   "cell_type": "code",
   "execution_count": null,
   "id": "695b10a4-6dd3-4bf4-8a6b-2509e7b5825e",
   "metadata": {},
   "outputs": [],
   "source": []
  },
  {
   "cell_type": "code",
   "execution_count": 78,
   "id": "53450acd-e78d-418b-9f07-9386b8bee1db",
   "metadata": {},
   "outputs": [],
   "source": [
    "x.clear()"
   ]
  },
  {
   "cell_type": "code",
   "execution_count": 79,
   "id": "7dd9cced-b2b1-43d5-922d-3c7ce4953f5f",
   "metadata": {},
   "outputs": [
    {
     "name": "stdout",
     "output_type": "stream",
     "text": [
      "[]\n"
     ]
    }
   ],
   "source": [
    "print(x)"
   ]
  },
  {
   "cell_type": "code",
   "execution_count": null,
   "id": "a42c8b18-8b98-4e7d-bb7e-4bd141526e3a",
   "metadata": {},
   "outputs": [],
   "source": []
  },
  {
   "cell_type": "markdown",
   "id": "4e6e99ec-3fb5-450f-a59b-d91aed19e711",
   "metadata": {},
   "source": [
    "### List Methods\n",
    "\n",
    "Python provides a variety of built-in list methods that you can use to perform operations on lists. Some common list methods include `sort()`, `reverse()`, `count()`, and `index()`. Here are some examples:"
   ]
  },
  {
   "cell_type": "code",
   "execution_count": 105,
   "id": "dc63f8d7-b465-4b4f-8fa7-fbecd86ecb77",
   "metadata": {},
   "outputs": [],
   "source": [
    "mylist = [3,1,99,1,5,23,1]"
   ]
  },
  {
   "cell_type": "code",
   "execution_count": 106,
   "id": "b87f2265-f1f3-4150-9cce-0c16d72194cc",
   "metadata": {},
   "outputs": [],
   "source": [
    "mylist.sort(reverse=True) # Sorts the list in descending order"
   ]
  },
  {
   "cell_type": "code",
   "execution_count": 107,
   "id": "2b81c159-9963-432a-bc0e-03133613624d",
   "metadata": {},
   "outputs": [
    {
     "name": "stdout",
     "output_type": "stream",
     "text": [
      "[99, 23, 5, 3, 1, 1, 1]\n"
     ]
    }
   ],
   "source": [
    "print(mylist)"
   ]
  },
  {
   "cell_type": "code",
   "execution_count": null,
   "id": "bf5a836d-bdf8-4dde-ac48-a413a4cd93c3",
   "metadata": {},
   "outputs": [],
   "source": []
  },
  {
   "cell_type": "code",
   "execution_count": 108,
   "id": "a66a4a8c-c46b-414e-93e8-f07e11ba05bf",
   "metadata": {},
   "outputs": [
    {
     "data": {
      "text/plain": [
       "3"
      ]
     },
     "execution_count": 108,
     "metadata": {},
     "output_type": "execute_result"
    }
   ],
   "source": [
    "mylist.count(1) # Returns the number of times the specified item appears in the list"
   ]
  },
  {
   "cell_type": "code",
   "execution_count": null,
   "id": "62bc47ae-984d-4791-8447-d7f5ef285e17",
   "metadata": {},
   "outputs": [],
   "source": []
  },
  {
   "cell_type": "code",
   "execution_count": 109,
   "id": "1b11078d-231c-437e-99e9-a56c608a45db",
   "metadata": {},
   "outputs": [],
   "source": [
    "mylist.reverse() # Reverses the order of the items in the list"
   ]
  },
  {
   "cell_type": "code",
   "execution_count": 110,
   "id": "6768cdf0-fc85-46a1-ba7a-4431ae331089",
   "metadata": {},
   "outputs": [
    {
     "name": "stdout",
     "output_type": "stream",
     "text": [
      "[1, 1, 1, 3, 5, 23, 99]\n"
     ]
    }
   ],
   "source": [
    "print(mylist)"
   ]
  },
  {
   "cell_type": "code",
   "execution_count": 113,
   "id": "e283b328-c63c-4c65-8488-aafe022f3f49",
   "metadata": {},
   "outputs": [
    {
     "data": {
      "text/plain": [
       "3"
      ]
     },
     "execution_count": 113,
     "metadata": {},
     "output_type": "execute_result"
    }
   ],
   "source": [
    "mylist.index(3) # Returns the index of the first occurrence of the specified item in the list"
   ]
  },
  {
   "cell_type": "code",
   "execution_count": null,
   "id": "3c347ab5-de7c-40e5-a0a8-783668f73104",
   "metadata": {},
   "outputs": [],
   "source": []
  },
  {
   "cell_type": "code",
   "execution_count": null,
   "id": "ef66f78b-6158-4deb-9286-a9f4b726db5f",
   "metadata": {},
   "outputs": [],
   "source": []
  },
  {
   "cell_type": "markdown",
   "id": "11e6a22d-07a9-404e-b238-419945757ef0",
   "metadata": {},
   "source": [
    "## 2. Tuple\n",
    "\n",
    "In Python, a tuple is a collection of ordered, immutable objects. Once created, you cannot modify the contents of a tuple. Here is a tutorial on using tuples in Python:\n",
    "\n",
    "### Creating a Tuple:\n",
    "You can create a tuple by enclosing a sequence of objects in parentheses, separated by commas:\n"
   ]
  },
  {
   "cell_type": "code",
   "execution_count": 120,
   "id": "e9ba1298-2f5f-4614-a39e-26e432d9edf4",
   "metadata": {},
   "outputs": [],
   "source": [
    "mytuple = (720,1280)"
   ]
  },
  {
   "cell_type": "code",
   "execution_count": 121,
   "id": "588bb227-1116-46cf-86fe-816e06efb80c",
   "metadata": {},
   "outputs": [
    {
     "name": "stdout",
     "output_type": "stream",
     "text": [
      "(720, 1280)\n"
     ]
    }
   ],
   "source": [
    "print(mytuple)"
   ]
  },
  {
   "cell_type": "code",
   "execution_count": 122,
   "id": "0388c4f6-94d4-469f-bcab-b818947fc24a",
   "metadata": {},
   "outputs": [
    {
     "data": {
      "text/plain": [
       "tuple"
      ]
     },
     "execution_count": 122,
     "metadata": {},
     "output_type": "execute_result"
    }
   ],
   "source": [
    "type(mytuple)"
   ]
  },
  {
   "cell_type": "markdown",
   "id": "d6d535a7-59a1-4092-9b46-76302bb33ee1",
   "metadata": {},
   "source": [
    "### Accessing Tuple Elements\n",
    "\n",
    "You can access elements of a tuple using indexing, just like with a list:"
   ]
  },
  {
   "cell_type": "code",
   "execution_count": 123,
   "id": "42e9969d-e8ee-4c75-a334-2077ef708036",
   "metadata": {},
   "outputs": [
    {
     "data": {
      "text/plain": [
       "720"
      ]
     },
     "execution_count": 123,
     "metadata": {},
     "output_type": "execute_result"
    }
   ],
   "source": [
    "mytuple[0]"
   ]
  },
  {
   "cell_type": "code",
   "execution_count": 124,
   "id": "11a70d86-b87e-4b18-9b66-0a9a2def0b63",
   "metadata": {},
   "outputs": [
    {
     "data": {
      "text/plain": [
       "1280"
      ]
     },
     "execution_count": 124,
     "metadata": {},
     "output_type": "execute_result"
    }
   ],
   "source": [
    "mytuple[-1]"
   ]
  },
  {
   "cell_type": "markdown",
   "id": "84e58c67-e29d-4280-b736-5e4020fa08b9",
   "metadata": {},
   "source": [
    "### Slicing Tuples\n",
    "\n",
    "You can slice a tuple using the same slicing syntax as a list:"
   ]
  },
  {
   "cell_type": "code",
   "execution_count": 128,
   "id": "f0ef79c5-48c2-4580-8d84-4388b4a564c8",
   "metadata": {},
   "outputs": [],
   "source": [
    "longtuple = (1,2,3,4,5,6, 66,666)"
   ]
  },
  {
   "cell_type": "code",
   "execution_count": 129,
   "id": "8b0049ee-8d94-48b6-af37-17f996d1f883",
   "metadata": {},
   "outputs": [
    {
     "data": {
      "text/plain": [
       "(3, 5, 66)"
      ]
     },
     "execution_count": 129,
     "metadata": {},
     "output_type": "execute_result"
    }
   ],
   "source": [
    "longtuple[2::2]"
   ]
  },
  {
   "cell_type": "code",
   "execution_count": null,
   "id": "435cd0b2-fe1b-4746-9025-c372a45f25c1",
   "metadata": {},
   "outputs": [],
   "source": []
  },
  {
   "cell_type": "markdown",
   "id": "a18e2b1e-89a6-494c-a42d-41b2c83c11c5",
   "metadata": {},
   "source": [
    "### Modifying Tuples\n",
    "\n",
    "####  Tuples are Immutable\n",
    "\n",
    "Once created, you cannot modify the contents of a tuple. This means that you cannot add, remove, or change elements of a tuple. It raises `TypeError`."
   ]
  },
  {
   "cell_type": "code",
   "execution_count": 131,
   "id": "5f271369-cefc-4ec9-8db8-6ad4d9857bd4",
   "metadata": {},
   "outputs": [
    {
     "ename": "TypeError",
     "evalue": "'tuple' object does not support item assignment",
     "output_type": "error",
     "traceback": [
      "\u001b[0;31m---------------------------------------------------------------------------\u001b[0m",
      "\u001b[0;31mTypeError\u001b[0m                                 Traceback (most recent call last)",
      "Cell \u001b[0;32mIn[131], line 1\u001b[0m\n\u001b[0;32m----> 1\u001b[0m \u001b[43mlongtuple\u001b[49m\u001b[43m[\u001b[49m\u001b[38;5;241;43m0\u001b[39;49m\u001b[43m]\u001b[49m \u001b[38;5;241m=\u001b[39m \u001b[38;5;241m3\u001b[39m\n",
      "\u001b[0;31mTypeError\u001b[0m: 'tuple' object does not support item assignment"
     ]
    }
   ],
   "source": [
    "longtuple[0] = 3"
   ]
  },
  {
   "cell_type": "code",
   "execution_count": null,
   "id": "49570a8b-6dac-4be1-8d41-0bac45180767",
   "metadata": {},
   "outputs": [],
   "source": []
  },
  {
   "cell_type": "markdown",
   "id": "13fe1090-df69-41b1-aaa9-7e16aa8f162c",
   "metadata": {},
   "source": [
    "### Tuple Methods\n",
    "\n",
    "Tuples are immutable in Python, which means that they cannot be modified once created. As a result, they have fewer methods compared to lists. However, there are a few built-in methods that can be used with tuples in Python. Some of the commonly used methods for tuples are `count()`, `index()`.\n",
    "\n",
    "Syntax:\n",
    "\n",
    "```\n",
    "tuple.count(value)\n",
    "tuple.index(value[, start[, end]])\n",
    "```\n",
    "\n",
    "The `start` and `end` parameters are optional and specify the range of the tuple to search in. If `value` is not found, a `ValueError` is raised."
   ]
  },
  {
   "cell_type": "code",
   "execution_count": 1,
   "id": "8c6f8fd3-6859-4db9-91d9-535724475d19",
   "metadata": {},
   "outputs": [],
   "source": [
    "my_tuple = (1, 2, 3, 2, 4, 2)\n"
   ]
  },
  {
   "cell_type": "code",
   "execution_count": 2,
   "id": "9a889fdc-5814-484b-8e08-5f47410c5d94",
   "metadata": {},
   "outputs": [
    {
     "data": {
      "text/plain": [
       "3"
      ]
     },
     "execution_count": 2,
     "metadata": {},
     "output_type": "execute_result"
    }
   ],
   "source": [
    "my_tuple.count(2) # Returns the number of occurrences of a specified element in a tuple"
   ]
  },
  {
   "cell_type": "code",
   "execution_count": 3,
   "id": "32b718a8-2446-4aa8-9dd9-7581e1a6bddd",
   "metadata": {},
   "outputs": [
    {
     "data": {
      "text/plain": [
       "4"
      ]
     },
     "execution_count": 3,
     "metadata": {},
     "output_type": "execute_result"
    }
   ],
   "source": [
    "my_tuple.index(4) # Returns the index of the first occurrence of a specified element in a tuple"
   ]
  },
  {
   "cell_type": "code",
   "execution_count": 4,
   "id": "decfad50-51e2-40e5-b359-52638fcb1d8d",
   "metadata": {},
   "outputs": [
    {
     "data": {
      "text/plain": [
       "6"
      ]
     },
     "execution_count": 4,
     "metadata": {},
     "output_type": "execute_result"
    }
   ],
   "source": [
    "len(my_tuple)"
   ]
  },
  {
   "cell_type": "code",
   "execution_count": 6,
   "id": "a72debd7-5cfc-4921-9eb5-cac63a7e9250",
   "metadata": {},
   "outputs": [
    {
     "data": {
      "text/plain": [
       "1"
      ]
     },
     "execution_count": 6,
     "metadata": {},
     "output_type": "execute_result"
    }
   ],
   "source": [
    "min(my_tuple)"
   ]
  },
  {
   "cell_type": "code",
   "execution_count": 7,
   "id": "14adfa27-927f-4a78-9a30-3cea45eec7a5",
   "metadata": {},
   "outputs": [
    {
     "data": {
      "text/plain": [
       "4"
      ]
     },
     "execution_count": 7,
     "metadata": {},
     "output_type": "execute_result"
    }
   ],
   "source": [
    "max(my_tuple)"
   ]
  },
  {
   "cell_type": "code",
   "execution_count": null,
   "id": "18e22544-70e8-4644-9a79-d331c5c0ebd0",
   "metadata": {},
   "outputs": [],
   "source": []
  },
  {
   "cell_type": "code",
   "execution_count": null,
   "id": "f8ce315a-5a5b-413c-b0b4-aa552ad82633",
   "metadata": {},
   "outputs": [],
   "source": []
  }
 ],
 "metadata": {
  "kernelspec": {
   "display_name": "Python 3 (ipykernel)",
   "language": "python",
   "name": "python3"
  },
  "language_info": {
   "codemirror_mode": {
    "name": "ipython",
    "version": 3
   },
   "file_extension": ".py",
   "mimetype": "text/x-python",
   "name": "python",
   "nbconvert_exporter": "python",
   "pygments_lexer": "ipython3",
   "version": "3.10.12"
  }
 },
 "nbformat": 4,
 "nbformat_minor": 5
}
