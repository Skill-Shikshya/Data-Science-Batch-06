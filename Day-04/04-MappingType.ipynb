{
 "cells": [
  {
   "cell_type": "markdown",
   "id": "276b4999-bd7f-4f89-b0b0-90a784cd2788",
   "metadata": {},
   "source": [
    "# Mapping Type\n",
    "\n",
    "Mapping Types are popularly known as dictionaries in python represented by `dict` keyword. In Python, dict is a built-in type that represents a collection of key-value pairs. It is also known as a dictionary or associative array in other programming languages.\n",
    "\n",
    "A dictionary is an unordered collection of elements where each element is a pair consisting of a key and a value. The key is used to index and uniquely identify the value in the dictionary.\n",
    "\n",
    "Here are some key features of Python dictionaries:\n",
    "\n",
    "- Dictionaries are unordered, meaning that the order of elements is not guaranteed.\n",
    "- Keys must be unique and immutable, while values can be of any data type, including other dictionaries (nested dictionaries).\n",
    "- Dictionary elements are accessed using the keys, rather than the index as in a list or tuple.\n",
    "- Dictionaries are mutable, meaning that you can add, delete, or modify elements after the dictionary has been created."
   ]
  },
  {
   "cell_type": "markdown",
   "id": "1b517e96-5ce3-45c6-ac5a-8e0e6d39f14a",
   "metadata": {},
   "source": [
    "## Creating a Dictionary\n",
    "\n",
    "You can create a dictionary by enclosing key-value pairs in curly braces {} or by using the dict() constructor."
   ]
  },
  {
   "cell_type": "markdown",
   "id": "c02b8fdc-2fde-46e0-b476-3a10c8bc47b9",
   "metadata": {},
   "source": [
    "dict_one = {key: value, kay:value ...... }"
   ]
  },
  {
   "cell_type": "code",
   "execution_count": 14,
   "id": "0a006f48-24e5-402a-a02d-dcfd905990db",
   "metadata": {},
   "outputs": [
    {
     "name": "stdout",
     "output_type": "stream",
     "text": [
      "{'name': 'Jhon Doe', 'age': 30, 'City': 'Baltimor', 'Gender': 'male', 'subjects': ['maths', 'science']}\n"
     ]
    }
   ],
   "source": [
    "person = {\n",
    "    \"name\": \"Jhon Doe\",\n",
    "    \"age\" : 30 , \n",
    "    \"City\" : \"Baltimor\", \n",
    "    \"Gender\" : \"male\",\n",
    "    \"subjects\" : [\"maths\",\"science\"]\n",
    "}\n",
    "print(person)"
   ]
  },
  {
   "cell_type": "code",
   "execution_count": 4,
   "id": "0c8eb6aa-ad68-4a8f-92e2-8dfa60c3872c",
   "metadata": {},
   "outputs": [
    {
     "name": "stdout",
     "output_type": "stream",
     "text": [
      "{'name': 'jhon', 'age': 33, 'city': 'NYC'}\n"
     ]
    }
   ],
   "source": [
    "person = dict(name = \"jhon\", age = 33, city = \"NYC\")\n",
    "print(person)"
   ]
  },
  {
   "cell_type": "code",
   "execution_count": null,
   "id": "2a6085d1-29bf-4881-9f69-5a0f08b56b78",
   "metadata": {},
   "outputs": [],
   "source": []
  },
  {
   "cell_type": "markdown",
   "id": "29fbd2c5-3ffb-4e74-96b6-e644d284ce3a",
   "metadata": {},
   "source": [
    "## Accessing Elements\n",
    "\n",
    "You can access the value of a dictionary element by specifying the key inside square brackets []. If you try to access a key that doesn't exist, Python will raise a `KeyError` exception. You can avoid this by using the `get()` method, which returns None (or a default value you provide) instead of raising an exception."
   ]
  },
  {
   "cell_type": "code",
   "execution_count": 8,
   "id": "692614c8-deba-48c6-ba98-5c14c9818984",
   "metadata": {},
   "outputs": [
    {
     "data": {
      "text/plain": [
       "'Baltimor'"
      ]
     },
     "execution_count": 8,
     "metadata": {},
     "output_type": "execute_result"
    }
   ],
   "source": [
    "person['City']"
   ]
  },
  {
   "cell_type": "code",
   "execution_count": 9,
   "id": "9eadd386-f551-4ed4-bb23-94e570263ee6",
   "metadata": {},
   "outputs": [
    {
     "ename": "KeyError",
     "evalue": "'DOB'",
     "output_type": "error",
     "traceback": [
      "\u001b[0;31m---------------------------------------------------------------------------\u001b[0m",
      "\u001b[0;31mKeyError\u001b[0m                                  Traceback (most recent call last)",
      "Cell \u001b[0;32mIn[9], line 1\u001b[0m\n\u001b[0;32m----> 1\u001b[0m \u001b[43mperson\u001b[49m\u001b[43m[\u001b[49m\u001b[38;5;124;43m'\u001b[39;49m\u001b[38;5;124;43mDOB\u001b[39;49m\u001b[38;5;124;43m'\u001b[39;49m\u001b[43m]\u001b[49m\n",
      "\u001b[0;31mKeyError\u001b[0m: 'DOB'"
     ]
    }
   ],
   "source": [
    "person['DOB']"
   ]
  },
  {
   "cell_type": "code",
   "execution_count": 13,
   "id": "6d2751a8-969c-49f5-9e0d-e3add2c9c40b",
   "metadata": {},
   "outputs": [
    {
     "data": {
      "text/plain": [
       "'Baltimor'"
      ]
     },
     "execution_count": 13,
     "metadata": {},
     "output_type": "execute_result"
    }
   ],
   "source": [
    "person.get(\"City\",\"unknown\")"
   ]
  },
  {
   "cell_type": "code",
   "execution_count": 15,
   "id": "4abd7eae-bfd2-41c5-8f37-f6d714693db2",
   "metadata": {},
   "outputs": [
    {
     "data": {
      "text/plain": [
       "['maths', 'science']"
      ]
     },
     "execution_count": 15,
     "metadata": {},
     "output_type": "execute_result"
    }
   ],
   "source": [
    "person.get(\"subjects\")"
   ]
  },
  {
   "cell_type": "code",
   "execution_count": null,
   "id": "d554dc0b-05d9-404c-97e7-82eba6ea5d2a",
   "metadata": {},
   "outputs": [],
   "source": []
  }
 ],
 "metadata": {
  "kernelspec": {
   "display_name": "Python 3 (ipykernel)",
   "language": "python",
   "name": "python3"
  },
  "language_info": {
   "codemirror_mode": {
    "name": "ipython",
    "version": 3
   },
   "file_extension": ".py",
   "mimetype": "text/x-python",
   "name": "python",
   "nbconvert_exporter": "python",
   "pygments_lexer": "ipython3",
   "version": "3.10.12"
  }
 },
 "nbformat": 4,
 "nbformat_minor": 5
}
