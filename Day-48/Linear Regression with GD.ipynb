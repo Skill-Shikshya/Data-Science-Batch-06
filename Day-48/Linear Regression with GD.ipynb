{
 "cells": [
  {
   "cell_type": "code",
   "execution_count": 28,
   "id": "5f729e10-c8b4-46b1-b24f-e18d06bd94c7",
   "metadata": {},
   "outputs": [],
   "source": [
    "import pandas as pd\n",
    "import numpy as np\n",
    "from sklearn.preprocessing import StandardScaler"
   ]
  },
  {
   "cell_type": "code",
   "execution_count": 29,
   "id": "61cc9459-5c7c-41d8-bd17-8d63494df575",
   "metadata": {},
   "outputs": [
    {
     "data": {
      "text/html": [
       "<div>\n",
       "<style scoped>\n",
       "    .dataframe tbody tr th:only-of-type {\n",
       "        vertical-align: middle;\n",
       "    }\n",
       "\n",
       "    .dataframe tbody tr th {\n",
       "        vertical-align: top;\n",
       "    }\n",
       "\n",
       "    .dataframe thead th {\n",
       "        text-align: right;\n",
       "    }\n",
       "</style>\n",
       "<table border=\"1\" class=\"dataframe\">\n",
       "  <thead>\n",
       "    <tr style=\"text-align: right;\">\n",
       "      <th></th>\n",
       "      <th>TV</th>\n",
       "      <th>radio</th>\n",
       "      <th>newspaper</th>\n",
       "      <th>sales</th>\n",
       "    </tr>\n",
       "  </thead>\n",
       "  <tbody>\n",
       "    <tr>\n",
       "      <th>1</th>\n",
       "      <td>230.1</td>\n",
       "      <td>37.8</td>\n",
       "      <td>69.2</td>\n",
       "      <td>22.1</td>\n",
       "    </tr>\n",
       "    <tr>\n",
       "      <th>2</th>\n",
       "      <td>44.5</td>\n",
       "      <td>39.3</td>\n",
       "      <td>45.1</td>\n",
       "      <td>10.4</td>\n",
       "    </tr>\n",
       "    <tr>\n",
       "      <th>3</th>\n",
       "      <td>17.2</td>\n",
       "      <td>45.9</td>\n",
       "      <td>69.3</td>\n",
       "      <td>9.3</td>\n",
       "    </tr>\n",
       "    <tr>\n",
       "      <th>4</th>\n",
       "      <td>151.5</td>\n",
       "      <td>41.3</td>\n",
       "      <td>58.5</td>\n",
       "      <td>18.5</td>\n",
       "    </tr>\n",
       "    <tr>\n",
       "      <th>5</th>\n",
       "      <td>180.8</td>\n",
       "      <td>10.8</td>\n",
       "      <td>58.4</td>\n",
       "      <td>12.9</td>\n",
       "    </tr>\n",
       "  </tbody>\n",
       "</table>\n",
       "</div>"
      ],
      "text/plain": [
       "      TV  radio  newspaper  sales\n",
       "1  230.1   37.8       69.2   22.1\n",
       "2   44.5   39.3       45.1   10.4\n",
       "3   17.2   45.9       69.3    9.3\n",
       "4  151.5   41.3       58.5   18.5\n",
       "5  180.8   10.8       58.4   12.9"
      ]
     },
     "execution_count": 29,
     "metadata": {},
     "output_type": "execute_result"
    }
   ],
   "source": [
    "data_df = pd.read_csv(\"https://www.statlearning.com/s/Advertising.csv\", index_col=0)\n",
    "\n",
    "data_df.head()"
   ]
  },
  {
   "cell_type": "markdown",
   "id": "3a876ec4-6f7b-457e-ab94-5d0526e0b543",
   "metadata": {},
   "source": [
    "This is a multiple Linear Regression problem with three independent variables: TV , radio and newspaper and one dependent variable: sales. There are 200 samples in the dataset *ie.* $n = 200$\n",
    "\n",
    "This multiple linear regression problem can be represented in matrix form as:\n",
    "\n",
    "$$\\mathbf{\\hat{y}} = \\mathbf{X} \\boldsymbol{\\beta}$$\n",
    "\n",
    "$$\\begin{bmatrix}\n",
    "\\hat{y_1} \\\\ \n",
    "\\hat{y_2} \\\\\n",
    "\\vdots \\\\\n",
    "\\hat{y_{200}}\n",
    "\\end{bmatrix} =   \\begin{bmatrix}\n",
    "  1 & x_{1\\ 1} & x_{1\\ 2} & x_{1\\ 3} \\\\\n",
    "  1 & x_{2\\ 1} & x_{2\\ 2} & x_{2\\ 3} \\\\\n",
    "  \\vdots  & \\vdots  & \\ddots & \\vdots  \\\\\n",
    "  1 & x_{200\\ 1} & x_{200\\ 2} & x_{200\\ 3}\n",
    " \\end{bmatrix} \\times \\begin{bmatrix}\n",
    "\\beta_0 \\\\ \n",
    "\\beta_1 \\\\\n",
    "\\beta_2 \\\\\n",
    "\\beta_3\n",
    "\\end{bmatrix}$$\n",
    "\n",
    "\n",
    "The predicted output for the samples can be computed as:\n",
    "\\begin{align*}\\hat{y_1} &= \\beta_0x_{1\\ 0}+ \\beta_1x_{1\\ 1} + \\beta_2x_{1\\ 2} + \\beta_3 x_{1\\ 3}\\\\\n",
    "\\hat{y_2} &= \\beta_0x_{2\\ 0}+ \\beta_2x_{2\\ 1} + \\beta_2x_{2\\ 2} + \\beta_3 x_{2\\ 3}\\\\\n",
    "\\hat{y_3} &= \\beta_0x_{3\\ 0}+ \\beta_1x_{3\\ 1} + \\beta_2x_{3\\ 2} + \\beta_3 x_{3\\ 3}\\\\\n",
    ".\\\\\n",
    ".\\\\\n",
    ".\\\\\n",
    ".\\\\\n",
    "\\hat{y_{200}} &= \\beta_0x_{200\\ 0}+ \\beta_1x_{200\\ 1} + \\beta_2x_{200\\ 2} + \\beta_3 x_{200\\ 3}\n",
    "\\end{align*}\n",
    "\n",
    "\n",
    "Generalizing, for any $i^{th}$ sample, predicted output can be computed as:\n",
    "\n",
    "$$\\hat{y_i} = \\beta_0x_{i\\ 0}+ \\beta_1x_{i\\ 1} + \\beta_2x_{i\\ 2} + \\beta_3 x_{i\\ 3}$$\n",
    " where for all $i$ = $1$ to $n$, $x_{i0} =1$\n",
    "\n"
   ]
  },
  {
   "cell_type": "code",
   "execution_count": 30,
   "id": "f23dca20-b3b0-4b10-9153-590b18ac3112",
   "metadata": {},
   "outputs": [],
   "source": [
    "X = data_df.drop('sales', axis = 1).to_numpy()\n",
    "\n",
    "scaler = StandardScaler()\n",
    "scaled_X = scaler.fit_transform(X)\n",
    "\n",
    "\n",
    "X = np.concat((np.ones((200,1)), scaled_X), axis = 1)\n",
    "\n",
    "Y = data_df['sales'].to_numpy().reshape(-1,1)"
   ]
  },
  {
   "cell_type": "code",
   "execution_count": null,
   "id": "0ddfbc83-7f7e-4241-b283-b359cac696a3",
   "metadata": {},
   "outputs": [],
   "source": []
  },
  {
   "cell_type": "code",
   "execution_count": 31,
   "id": "95b889f2-b0b0-40e7-8ce7-5e8190c79690",
   "metadata": {},
   "outputs": [],
   "source": [
    "n, d = X.shape"
   ]
  },
  {
   "cell_type": "markdown",
   "id": "fe94fb07-24db-4b60-82cf-d44115eafc8d",
   "metadata": {},
   "source": [
    "## Random Initialization\n",
    "\n",
    "Let's initialize the values of parameters randomly. The function `initialize_beta` uses the [`numpy.random.randn`](https://docs.scipy.org/doc/numpy-1.15.1/reference/generated/numpy.random.randn.html) function to initialize the parameters using the random values sampled from **standard normal distribution**. It returns an array of the shape $d\\times 1$ (where $d$ = no. of features) containing the initial values of the parameters. In our case $d=4$ (including the ones column)."
   ]
  },
  {
   "cell_type": "code",
   "execution_count": 32,
   "id": "6b3fa22c-273d-46b2-a345-bc9fd286891e",
   "metadata": {},
   "outputs": [
    {
     "name": "stdout",
     "output_type": "stream",
     "text": [
      "[[1.76405235]\n",
      " [0.40015721]\n",
      " [0.97873798]\n",
      " [2.2408932 ]]\n"
     ]
    }
   ],
   "source": [
    "def initializer(d):\n",
    "    np.random.seed(0)\n",
    "    betas = np.random.randn(d,1)\n",
    "    return betas\n",
    "\n",
    "betas = initializer(4)\n",
    "print(betas)"
   ]
  },
  {
   "cell_type": "markdown",
   "id": "8f2f9bfd-f0f6-46cf-8890-d5537dc15968",
   "metadata": {},
   "source": [
    "## Cost Function\n",
    "\n",
    "In OLS, you minimized the sum of squared error (SSE). Here you will be minimizing the cost function. The cost function $J(.)$ is nothing but the sum of squared error multiplied by $\\frac{1}{2}$ to make the derivation easier. You should know that multiplying the cost function with $\\frac{1}{2}$ only changes the value of the cost function but not the optimal parameters that minimize it.\n",
    "\n",
    "\\begin{align*}\n",
    "J(\\beta_0, \\beta_1, \\beta_2, \\beta_3) &= \\frac{1}{2}\\sum_{i=1}^{n}(\\hat{y_{i}}-{y_{i}})^2 \\\\\n",
    "&= \\frac{1}{2}\\sum_{i=1}^{n}((\\beta_0x_{i0}+\\beta_1x_{i1} +\\beta_2x_{i2} + \\beta_3x_{i3})-y_{i})^2\n",
    "\\end{align*}\n",
    "\n",
    "The cost function can be written in matrix form as:\n",
    "\n",
    "$$J(\\boldsymbol{\\beta}) = \\frac{1}{2}\\ \\sum(\\mathbf{X}\\boldsymbol{\\beta} - \\mathbf{y})^2$$\n",
    "\n",
    "\n",
    "*Note: We call $J$ as a function of only parameters $\\boldsymbol{\\beta}$ but not of $X$ and $y$ because $X$ and $y$ are constants given by the dataset. So the value of $J$ depends only on the parameters.*\n",
    "\n",
    "**You want to find the parameters $\\beta_0, \\beta_1, \\beta_2$ and $\\beta_3$ that minimizes the cost function $J$ using Gradient Descent.**\n"
   ]
  },
  {
   "cell_type": "code",
   "execution_count": 33,
   "id": "e6670205-4d94-4c89-a691-90e24fbdc19e",
   "metadata": {},
   "outputs": [
    {
     "data": {
      "text/plain": [
       "np.float64(17073.932296410057)"
      ]
     },
     "execution_count": 33,
     "metadata": {},
     "output_type": "execute_result"
    }
   ],
   "source": [
    "def calculate_cost(betas):\n",
    "    cost =  0.5 * np.sum(np.square(np.dot(X,betas) - Y))\n",
    "    return cost\n",
    "\n",
    "calculate_cost(betas)"
   ]
  },
  {
   "cell_type": "markdown",
   "id": "93af8c9a-35a2-48e0-875e-f6b264b37ffa",
   "metadata": {},
   "source": [
    "## Gradient\n",
    "\n",
    "Partial derivative(gradient) of the cost function with respect to $\\beta_1$, \n",
    "\n",
    "\\begin{align*}\n",
    "\\frac{\\partial J}{\\partial \\beta_1} &= \\frac{\\partial}{\\partial \\beta_1}\\ \\frac{1}{2}\\ \\sum_{i=1}^{n}(\\hat{y_{i}}-{y_{i}})^2\\\\\n",
    "&=\\frac{1}{2}\\ \\sum_{i=1}^{n}\\frac{\\partial}{\\partial \\beta_1}(\\hat{y_{i}}-{y_{i}})^2\n",
    "\\end{align*}\n",
    "\n",
    "$\\hspace{8cm}$Applying chain rule,\n",
    "\n",
    "\\begin{align*}\n",
    "\\hspace{8cm}&=\\frac{1}{2}\\ \\sum_{i=1}^{n}\\frac{\\partial (\\hat{y_{i}}-{y_{i}})^2}{\\partial (\\hat{y_{i}}-{y_{i}})} \\times \\frac{\\partial (\\hat{y_{i}}-{y_{i}})}{\\partial \\beta_1}\\\\\n",
    "&=\\sum_{i=1}^{n}(\\hat{y_i} - {y_i}) \\times \\frac{\\partial (\\beta_0x_{i0} + \\beta_1x_{i1} + \\beta_2x_{i2} + \\beta_3x_{i3})-y_i)}{\\partial \\beta_1}\\\\\n",
    "&=\\sum_{i=1}^{n}(\\hat{y_i} - {y_i}) \\times x_{i1}\\\\\n",
    "\\therefore \\frac{\\partial J}{\\partial \\beta_1}&=\\sum_{i=1}^{n}(\\hat{y_i} - {y_i})x_{i1} \n",
    "\\end{align*}\n",
    "\n",
    "Similarly, \n",
    "\n",
    "\\begin{align*}\\frac{\\partial J}{\\partial \\beta_0}&=\\sum_{i=1}^{n}(\\hat{y_i} - {y_i})x_{i0}\\\\\n",
    "&=\\sum_{i=1}^{n}(\\hat{y_i} - {y_i})\\times 1\\\\\n",
    "&=\\sum_{i=1}^{n}(\\hat{y_i} - {y_i})\n",
    "\\end{align*}\n",
    "\n",
    "\n",
    "$$\\frac{\\partial J}{\\partial \\beta_2}=\\sum_{i=1}^{n}(\\hat{y_i} - {y_i})x_{i2}$$\n",
    "\n",
    "$$\\frac{\\partial J}{\\partial \\beta_3}=\\sum_{i=1}^{n}(\\hat{y_i} - {y_i})x_{i3}$$\n",
    "\n",
    "In general, the formula for calculating the gradients with respect to a parameter $\\beta_j$ can be expressed as:\n",
    "\n",
    "$$\\frac{\\partial J}{\\partial \\beta_j}=\\sum_{i=1}^{n}(\\hat{y_i} - {y_i})x_{ij}$$\n",
    "\n",
    "\n",
    "We can write this generalized expression in matrix form to calculate the gradients wrt. all the parameters simultaneously as:\n",
    "\n",
    "$$\\frac{\\boldsymbol{\\partial J}}{\\boldsymbol{\\partial \\beta}}= \\mathbf{X^T}(\\mathbf{\\hat{y}-y}) = \\begin{bmatrix}\n",
    "\\frac{\\partial J}{\\partial \\beta_0} \\\\ \n",
    "\\frac{\\partial J}{\\partial \\beta_1}\\\\\n",
    "\\frac{\\partial J}{\\partial \\beta_2}\\\\\n",
    "\\frac{\\partial J}{\\partial \\beta_3}\n",
    "\\end{bmatrix} $$"
   ]
  },
  {
   "cell_type": "code",
   "execution_count": 34,
   "id": "4546eacd-57ea-4458-a25d-8e005196428d",
   "metadata": {},
   "outputs": [
    {
     "data": {
      "text/plain": [
       "array([[-2451.68953081],\n",
       "       [ -698.05275055],\n",
       "       [ -240.94240852],\n",
       "       [  284.39547481]])"
      ]
     },
     "execution_count": 34,
     "metadata": {},
     "output_type": "execute_result"
    }
   ],
   "source": [
    "def calculate_gradients(X,y, betas):\n",
    "    gradient = np.dot(X.T, (np.dot(X,betas) - y))\n",
    "    return gradient\n",
    "\n",
    "calculate_gradients(X,Y, betas)"
   ]
  },
  {
   "cell_type": "markdown",
   "id": "541eb4c5-df42-4321-a258-3ad0495d10b8",
   "metadata": {},
   "source": [
    "## Gradient Descent\n",
    "\n",
    "Now you need to update the parameters using their respective gradients until the cost function converges to its minimum value.\n",
    "\n",
    "\n",
    "${\\hspace{5cm}}\\text{Repeat until convergence }\\{$\n",
    "\n",
    "$$\\beta_0 :=\\beta_0-\\alpha\\frac{\\partial J}{\\partial \\beta_0}$$\n",
    "\n",
    "$$\\beta_1 :=\\beta_1-\\alpha\\frac{\\partial J}{\\partial \\beta_1}$$\n",
    "\n",
    "$$\\beta_2 :=\\beta_2-\\alpha\\frac{\\partial J}{\\partial \\beta_2}$$\n",
    "\n",
    "$$\\beta_3 :=\\beta_3-\\alpha\\frac{\\partial J}{\\partial \\beta_3}$$\n",
    "\n",
    "${\\hspace{8cm}}\\}$\n",
    "\n",
    "\n",
    "\n",
    "\n",
    "Since you already have a vector $\\beta$ called `beta` containing parameters and an another vector $\\frac{\\partial J}{\\partial \\beta}$ called `gradients` containing the gradients of cost function with respect to the parameters, this updation is a simple matrix operation:\n",
    "\n",
    "$$\\boldsymbol{\\beta} := \\boldsymbol{\\beta} - \\alpha \\boldsymbol{\\frac{\\partial J}{\\partial \\beta}}$$"
   ]
  },
  {
   "cell_type": "code",
   "execution_count": 35,
   "id": "f8a421ed-5212-4feb-b690-90a690fff8bf",
   "metadata": {},
   "outputs": [],
   "source": [
    "def gradient_descent(X,y, alpha =0.01 , max_iter = 1000, precision_change = 0.0001):\n",
    "    iteration = 0\n",
    "    difference = 1\n",
    "    n, d = X.shape\n",
    "\n",
    "    betas = initializer(d)\n",
    "    cost = calculate_cost(betas)\n",
    "    history = [cost]\n",
    "\n",
    "    while difference > precision_change and iteration <= max_iter:\n",
    "        betas = betas - alpha * calculate_gradients(X,y, betas)\n",
    "\n",
    "        cost = calculate_cost(betas)\n",
    "        history.append(cost)\n",
    "        difference = np.abs(history[iteration] - cost)\n",
    "\n",
    "        print(f\"Iteration {iteration}, cost {cost}\")\n",
    "        iteration += 1\n",
    "\n",
    "        if (cost == np.inf):\n",
    "            print(\"Cost reached infinity, try smaller lr\")\n",
    "            break\n",
    "\n",
    "    return betas, iteration, history"
   ]
  },
  {
   "cell_type": "code",
   "execution_count": 41,
   "id": "00c439d9-4bf0-4aa4-9136-2c8c09fa1453",
   "metadata": {
    "scrolled": true
   },
   "outputs": [
    {
     "name": "stdout",
     "output_type": "stream",
     "text": [
      "Iteration 0, cost 349.9900354594012\n",
      "Iteration 1, cost 287.38594759229784\n",
      "Iteration 2, cost 279.54333934087987\n",
      "Iteration 3, cost 278.5551746779677\n",
      "Iteration 4, cost 278.43060995046767\n",
      "Iteration 5, cost 278.414900211747\n",
      "Iteration 6, cost 278.41291791588446\n",
      "Iteration 7, cost 278.41266764382414\n",
      "Iteration 8, cost 278.41263602682443\n"
     ]
    }
   ],
   "source": [
    "optimized_betas, best_step, history = gradient_descent(X, Y, alpha = 0.005)"
   ]
  },
  {
   "cell_type": "code",
   "execution_count": 37,
   "id": "eae7e775-5477-43f9-b254-9b206e81961e",
   "metadata": {},
   "outputs": [
    {
     "data": {
      "text/plain": [
       "array([[14.02249789],\n",
       "       [ 3.91925014],\n",
       "       [ 2.79157142],\n",
       "       [-0.0220466 ]])"
      ]
     },
     "execution_count": 37,
     "metadata": {},
     "output_type": "execute_result"
    }
   ],
   "source": [
    "optimized_betas"
   ]
  },
  {
   "cell_type": "code",
   "execution_count": 38,
   "id": "4c4db266-3595-4f70-8979-028f6fd7d7c0",
   "metadata": {},
   "outputs": [
    {
     "data": {
      "image/png": "[encoded data removed]",
      "text/plain": [
       "<Figure size 640x480 with 1 Axes>"
      ]
     },
     "metadata": {},
     "output_type": "display_data"
    }
   ],
   "source": [
    "import matplotlib.pyplot as plt\n",
    "\n",
    "plt.plot(history)\n",
    "plt.xlabel(\"No. of iterations\")\n",
    "plt.ylabel(\"Cost\")\n",
    "# plt.ylim\n",
    "plt.show()"
   ]
  },
  {
   "cell_type": "code",
   "execution_count": null,
   "id": "e8c1b28c-b997-4f5a-8239-eb85e34fdf43",
   "metadata": {},
   "outputs": [],
   "source": []
  }
 ],
 "metadata": {
  "kernelspec": {
   "display_name": "Python 3 (ipykernel)",
   "language": "python",
   "name": "python3"
  },
  "language_info": {
   "codemirror_mode": {
    "name": "ipython",
    "version": 3
   },
   "file_extension": ".py",
   "mimetype": "text/x-python",
   "name": "python",
   "nbconvert_exporter": "python",
   "pygments_lexer": "ipython3",
   "version": "3.10.12"
  }
 },
 "nbformat": 4,
 "nbformat_minor": 5
}
