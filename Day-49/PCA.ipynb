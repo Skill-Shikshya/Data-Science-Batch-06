{
 "cells": [
  {
   "cell_type": "markdown",
   "id": "a0e62e95-ed8c-43f0-9261-2347ae66867d",
   "metadata": {},
   "source": [
    "## Introduction\n",
    "\n",
    "Principal Component Analysis or PCA is one of the most popular techniques to reduce the dimensionality of a dataset by transforming its large set of features into a smaller one without losing much of the information. It can be useful as a tool for visualization,  noise filtering, and feature extraction and engineering. \n"
   ]
  },
  {
   "cell_type": "markdown",
   "id": "0e3ff7c8-5833-463f-af05-9381ddd0f1eb",
   "metadata": {},
   "source": [
    "# How does the PCA work?\n"
   ]
  },
  {
   "cell_type": "code",
   "execution_count": 10,
   "id": "2440c4b1-2948-454c-86c5-57fab0ab4ac9",
   "metadata": {},
   "outputs": [],
   "source": [
    "import numpy as np\n",
    "import matplotlib.pyplot as plt\n",
    "\n",
    "def generate_data(n, M = 2.0, B = 5.0, X_MIN = 0.0, X_MAX = 30.0):\n",
    "      \n",
    "      n_samples = n\n",
    "      random = np.random.RandomState(1)  # RandomState Seeding\n",
    "\n",
    "      # create random x values\n",
    "      x1 = random.uniform(low=X_MIN, high=X_MAX, size=n_samples).reshape(n_samples, 1) \n",
    "\n",
    "      # calculate x2 values along the line\n",
    "      x2 = M * x1 + B\n",
    "\n",
    "      # add random noise\n",
    "      x2 += random.normal(loc=0.0, scale=10.0, size=x2.shape).reshape(n_samples, 1)\n",
    "      X = np.concatenate([x1, x2], axis=1)\n",
    "      return X \n",
    "\n",
    "X = generate_data(30)\n",
    "X[:, 0] = (X[:, 0] - X[:, 0].mean()) / X[:, 0].std()\n",
    "X[:, 1] = (X[:, 1] - X[:, 1].mean()) / X[:, 1].std()"
   ]
  },
  {
   "cell_type": "code",
   "execution_count": 11,
   "id": "ed553de6-ebfb-4bb7-9c16-59b5f9a39221",
   "metadata": {},
   "outputs": [
    {
     "data": {
      "text/plain": [
       "<matplotlib.collections.PathCollection at 0x7ecd5917fbb0>"
      ]
     },
     "execution_count": 11,
     "metadata": {},
     "output_type": "execute_result"
    },
    {
     "data": {
      "image/png": "[encoded data removed]",
      "text/plain": [
       "<Figure size 640x480 with 1 Axes>"
      ]
     },
     "metadata": {},
     "output_type": "display_data"
    }
   ],
   "source": [
    "plt.scatter(X[:,0], X[:,1])"
   ]
  },
  {
   "cell_type": "markdown",
   "id": "17c334bc-1f76-422f-84ec-d3b8d5c0a4cc",
   "metadata": {},
   "source": [
    "### Covariance Matrix\n",
    "\n",
    "You want to reduce the number of features in the dataset while preserving most of the \"information\". But what does this \"information\" actually mean? It refers to how the features vary with respect to themselves (variance) as well as the other features (covariance). Covariance matrix of $X$ consists of the covariances associated with all possible pairs of the features in $X$. The covariance matrix of $X$ is denoted by $\\mathbf{Cov}$ and computed as:\n",
    "\n",
    "\\begin{align}\n",
    "\\mathbf{Cov} &= X^TX\\\\\n",
    "\\mathbf{Cov} &= \n",
    "\\begin{bmatrix}\n",
    "\\text{cov}({x_1,x_1}) & \\text{cov}({x_1,x_2}) \\\\\n",
    "\\text{cov}({x_2,x_1}) & \\text{cov}({x_2,x_2}) \\\\\n",
    "\\end{bmatrix}\n",
    "\\end{align}\n",
    "\n",
    "\n",
    "Note: The diagonals $\\text{cov}(x_i, x_i)$ is the variance of the feature $x_i$"
   ]
  },
  {
   "cell_type": "code",
   "execution_count": 12,
   "id": "1edabb88-be25-4ead-ad90-c57c7378a091",
   "metadata": {},
   "outputs": [
    {
     "data": {
      "text/plain": [
       "array([[30.        , 27.07892187],\n",
       "       [27.07892187, 30.        ]])"
      ]
     },
     "execution_count": 12,
     "metadata": {},
     "output_type": "execute_result"
    }
   ],
   "source": [
    "cov = np.dot(X.T, X)\n",
    "cov"
   ]
  },
  {
   "cell_type": "code",
   "execution_count": null,
   "id": "6ba96f0a-b8fc-4f5c-be99-a4c682850392",
   "metadata": {},
   "outputs": [],
   "source": []
  }
 ],
 "metadata": {
  "kernelspec": {
   "display_name": "Python 3 (ipykernel)",
   "language": "python",
   "name": "python3"
  },
  "language_info": {
   "codemirror_mode": {
    "name": "ipython",
    "version": 3
   },
   "file_extension": ".py",
   "mimetype": "text/x-python",
   "name": "python",
   "nbconvert_exporter": "python",
   "pygments_lexer": "ipython3",
   "version": "3.10.12"
  }
 },
 "nbformat": 4,
 "nbformat_minor": 5
}
