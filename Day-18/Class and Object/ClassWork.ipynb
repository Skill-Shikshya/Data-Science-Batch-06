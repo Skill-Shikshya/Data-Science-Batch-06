{
 "cells": [
  {
   "cell_type": "markdown",
   "id": "b22497d5-c602-4116-a942-c6ac517103c9",
   "metadata": {},
   "source": [
    "### **OOP Concepts**  \n",
    "Create a class `BankAccount` that:\n",
    "1. Allows a user to create an account by providing a **name** and an initial **balance**.\n",
    "2. Includes methods to **deposit**, **withdraw**, and **check balance**. The withdrawal should not allow an account to go negative.\n",
    "3. Overloads the `+` operator to allow merging of two accounts (sum of their balances) and returns a new account.\n",
    "4. Uses **Inheritance** to create a subclass `SavingsAccount` that adds an interest rate. Implement a method to calculate interest on the balance and update it accordingly."
   ]
  },
  {
   "cell_type": "code",
   "execution_count": 6,
   "id": "b9607cbc-fe13-4ad1-b0c8-aac95cd0a712",
   "metadata": {},
   "outputs": [],
   "source": [
    "class BankAccount:\n",
    "    def __init__(self, name: str, balance: float):\n",
    "        self.name = name\n",
    "        self.balance = balance\n",
    "\n",
    "    def deposit(self, amount = 0):\n",
    "        self.balance += amount\n",
    "        return self.check_balance()\n",
    "\n",
    "    def withdraw(self, amount = 0):\n",
    "        pass\n",
    "\n",
    "    def check_balance(self):\n",
    "        print(f\"Hello {self.name}, you have ${self.balance}\")\n",
    "        return self.balance\n",
    "\n",
    "    def __add__(self, other):\n",
    "        pass\n",
    "        # return BankAccount(new_name, new_balance)"
   ]
  },
  {
   "cell_type": "code",
   "execution_count": 7,
   "id": "2adcfbdb-731c-49bb-967a-6e822fef0232",
   "metadata": {},
   "outputs": [],
   "source": [
    "class SavingAccount(BankAccount):\n",
    "    def calculate_interest(self, rate = 5):\n",
    "        interest = self.balance * (rate/100)\n",
    "        self.balance += interest\n",
    "\n",
    "        return self.check_balance()"
   ]
  },
  {
   "cell_type": "code",
   "execution_count": 10,
   "id": "7cc1ea8f-a22b-4322-a8f1-468c0c86d82f",
   "metadata": {},
   "outputs": [],
   "source": [
    "my_acc = BankAccount(\"Shailesh\", 200)\n",
    "my_sec_acc = BankAccount(\"Adhikari\", 620)\n",
    "your_acc = BankAccount(\"Sneha\", 500)"
   ]
  },
  {
   "cell_type": "code",
   "execution_count": 9,
   "id": "9736fd60-c44e-4811-9164-b57ceb1f3d89",
   "metadata": {},
   "outputs": [],
   "source": [
    "sav_acc = SavingAccount(\"Rahul\", 1200)"
   ]
  },
  {
   "cell_type": "code",
   "execution_count": null,
   "id": "5ce6c197-a458-49f5-a836-fd0494d6dd98",
   "metadata": {},
   "outputs": [],
   "source": []
  }
 ],
 "metadata": {
  "kernelspec": {
   "display_name": "Python 3 (ipykernel)",
   "language": "python",
   "name": "python3"
  },
  "language_info": {
   "codemirror_mode": {
    "name": "ipython",
    "version": 3
   },
   "file_extension": ".py",
   "mimetype": "text/x-python",
   "name": "python",
   "nbconvert_exporter": "python",
   "pygments_lexer": "ipython3",
   "version": "3.10.12"
  }
 },
 "nbformat": 4,
 "nbformat_minor": 5
}
