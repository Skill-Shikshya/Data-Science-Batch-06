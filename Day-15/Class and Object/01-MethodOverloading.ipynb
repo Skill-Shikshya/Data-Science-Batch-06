{
 "cells": [
  {
   "cell_type": "markdown",
   "id": "898ac49e-0333-4bec-8ca0-aa3bfeee76d4",
   "metadata": {},
   "source": [
    "# Method Overloading in Python\n",
    "\n",
    "Method overloading is a concept in object-oriented programming where a class can have multiple methods with the same name, but with different parameters or argument types. In Python, method overloading is not supported in the same way as it is in other object-oriented programming languages such as Java or C++. However, there are some ways to achieve similar functionality in Python."
   ]
  },
  {
   "cell_type": "markdown",
   "id": "6757b923-fde9-4f25-8303-13bd9e744766",
   "metadata": {},
   "source": [
    "One approach is to use default arguments in the method definition. For example, consider the following code:"
   ]
  },
  {
   "cell_type": "code",
   "execution_count": 1,
   "id": "bb7a48e6-0ea5-44d0-aeab-c24ab8b18253",
   "metadata": {},
   "outputs": [],
   "source": [
    "class Example:\n",
    "    def add(self, a, b=0, c=0):\n",
    "        return a + b +c"
   ]
  },
  {
   "cell_type": "markdown",
   "id": "03a26c2b-005e-4354-a64c-6d0b18a3fece",
   "metadata": {},
   "source": [
    "Here, the `add` method can take one, two, or three arguments. If only one argument is passed, it returns the value of that argument. If two arguments are passed, it returns the sum of those two arguments. And if three arguments are passed, it returns the sum of all three arguments.\n",
    "\n",
    "Another approach is to use variable-length arguments, which allow a method to take an arbitrary number of arguments. This can be achieved using the `*args` and `**kwargs` syntax. For example:"
   ]
  },
  {
   "cell_type": "code",
   "execution_count": 2,
   "id": "2285cf02-549a-4a75-8c93-247d732d6a91",
   "metadata": {},
   "outputs": [],
   "source": [
    "class Example:\n",
    "    def add(self, *args):\n",
    "        if len(args) == 1:\n",
    "            return args[0]\n",
    "        elif len(args) == 2:\n",
    "            return args[0] + args[1]\n",
    "        else:\n",
    "            return \"Length mismatch\""
   ]
  },
  {
   "cell_type": "code",
   "execution_count": 5,
   "id": "64e9c277-55c2-405f-affc-a42f8c48828f",
   "metadata": {},
   "outputs": [
    {
     "data": {
      "text/plain": [
       "3"
      ]
     },
     "execution_count": 5,
     "metadata": {},
     "output_type": "execute_result"
    }
   ],
   "source": [
    "ex = Example()\n",
    "ex.add(1,2)"
   ]
  },
  {
   "cell_type": "markdown",
   "id": "9bb961ec-00f4-415e-8aa1-b11fe018b13d",
   "metadata": {},
   "source": [
    "In this example, the `add` method takes any number of arguments, and the behavior is determined by the length of the arguments tuple.\n",
    "\n",
    "While these approaches can achieve similar functionality to method overloading, it is important to note that they are not exactly the same, and may not be suitable in all situations. It is generally recommended to use descriptive method names that reflect the intended behavior, rather than relying on overloading."
   ]
  },
  {
   "cell_type": "code",
   "execution_count": null,
   "id": "b6228851-36a9-45c6-83e2-56ce72800458",
   "metadata": {},
   "outputs": [],
   "source": []
  }
 ],
 "metadata": {
  "kernelspec": {
   "display_name": "Python 3 (ipykernel)",
   "language": "python",
   "name": "python3"
  },
  "language_info": {
   "codemirror_mode": {
    "name": "ipython",
    "version": 3
   },
   "file_extension": ".py",
   "mimetype": "text/x-python",
   "name": "python",
   "nbconvert_exporter": "python",
   "pygments_lexer": "ipython3",
   "version": "3.10.12"
  }
 },
 "nbformat": 4,
 "nbformat_minor": 5
}
