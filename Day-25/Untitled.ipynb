{
 "cells": [
  {
   "cell_type": "code",
   "execution_count": 6,
   "id": "6794db38-4b6a-4681-a34c-e6dce61a8d07",
   "metadata": {},
   "outputs": [],
   "source": [
    "list1 = [2,6,3,9,3]\n",
    "list2 = [0,3,4,1,2]\n",
    "list3 = [8,0,1,2,4]"
   ]
  },
  {
   "cell_type": "code",
   "execution_count": 9,
   "id": "2a605990-ef63-49b2-a09b-f646507fc33b",
   "metadata": {},
   "outputs": [
    {
     "data": {
      "text/plain": [
       "[(2, 0, 8),\n",
       " (2, 4, 4),\n",
       " (6, 0, 4),\n",
       " (6, 3, 1),\n",
       " (6, 4, 0),\n",
       " (6, 2, 2),\n",
       " (3, 3, 4),\n",
       " (9, 0, 1),\n",
       " (9, 1, 0),\n",
       " (3, 3, 4)]"
      ]
     },
     "execution_count": 9,
     "metadata": {},
     "output_type": "execute_result"
    }
   ],
   "source": [
    "[(x,y,z) for x in list1 for y in list2 for z in list3 if x+y+z == 10]"
   ]
  },
  {
   "cell_type": "code",
   "execution_count": 12,
   "id": "0c5faa46-640b-4c4c-86d8-02149553c167",
   "metadata": {},
   "outputs": [],
   "source": [
    "list4= [(list1[i],list2[i],list3[i]) for i in range(0,5) if list1[i]+list2[i]+list3[i]>10 ]"
   ]
  },
  {
   "cell_type": "code",
   "execution_count": 13,
   "id": "6c12b603-b059-4a2e-8d3e-0fc965d2e77c",
   "metadata": {},
   "outputs": [
    {
     "data": {
      "text/plain": [
       "[(9, 1, 2)]"
      ]
     },
     "execution_count": 13,
     "metadata": {},
     "output_type": "execute_result"
    }
   ],
   "source": [
    "list4"
   ]
  },
  {
   "cell_type": "code",
   "execution_count": null,
   "id": "1e4d34b0-cabe-4483-ae3f-6774c717e118",
   "metadata": {},
   "outputs": [],
   "source": []
  },
  {
   "cell_type": "markdown",
   "id": "8076e79b-cc11-4885-9d07-fd20def2a7c8",
   "metadata": {},
   "source": [
    "Write a Python program that takes user input for age. Create a custom exception InvalidAgeError to handle cases where the age is below 0 or above 120.\n",
    "\n",
    "\n",
    "\n",
    "  Hint: Create new class InvalidAgeError that inherits Exception class"
   ]
  },
  {
   "cell_type": "code",
   "execution_count": 14,
   "id": "0e8f701b-d142-41c8-b0f4-f62983171387",
   "metadata": {},
   "outputs": [],
   "source": [
    "class InvalidAgeError(Exception):\n",
    "    pass"
   ]
  },
  {
   "cell_type": "code",
   "execution_count": 18,
   "id": "e7592804-120f-4488-9188-c6380df6c14e",
   "metadata": {},
   "outputs": [],
   "source": [
    "def validate_age(age):\n",
    "    if age < 0 or age > 120:\n",
    "        raise InvalidAgeError(\"Age should be between 0 to 120\")\n",
    "    return age"
   ]
  },
  {
   "cell_type": "code",
   "execution_count": 19,
   "id": "a06dfff4-5455-4467-958a-134e9b64a93e",
   "metadata": {},
   "outputs": [
    {
     "ename": "InvalidAgeError",
     "evalue": "Age should be between 0 to 120",
     "output_type": "error",
     "traceback": [
      "\u001b[0;31m---------------------------------------------------------------------------\u001b[0m",
      "\u001b[0;31mInvalidAgeError\u001b[0m                           Traceback (most recent call last)",
      "Cell \u001b[0;32mIn[19], line 1\u001b[0m\n\u001b[0;32m----> 1\u001b[0m \u001b[43mvalidate_age\u001b[49m\u001b[43m(\u001b[49m\u001b[38;5;241;43m140\u001b[39;49m\u001b[43m)\u001b[49m\n",
      "Cell \u001b[0;32mIn[18], line 3\u001b[0m, in \u001b[0;36mvalidate_age\u001b[0;34m(age)\u001b[0m\n\u001b[1;32m      1\u001b[0m \u001b[38;5;28;01mdef\u001b[39;00m \u001b[38;5;21mvalidate_age\u001b[39m(age):\n\u001b[1;32m      2\u001b[0m     \u001b[38;5;28;01mif\u001b[39;00m age \u001b[38;5;241m<\u001b[39m \u001b[38;5;241m0\u001b[39m \u001b[38;5;129;01mor\u001b[39;00m age \u001b[38;5;241m>\u001b[39m \u001b[38;5;241m120\u001b[39m:\n\u001b[0;32m----> 3\u001b[0m         \u001b[38;5;28;01mraise\u001b[39;00m InvalidAgeError(\u001b[38;5;124m\"\u001b[39m\u001b[38;5;124mAge should be between 0 to 120\u001b[39m\u001b[38;5;124m\"\u001b[39m)\n\u001b[1;32m      4\u001b[0m     \u001b[38;5;28;01mreturn\u001b[39;00m age\n",
      "\u001b[0;31mInvalidAgeError\u001b[0m: Age should be between 0 to 120"
     ]
    }
   ],
   "source": [
    "validate_age(140)"
   ]
  },
  {
   "cell_type": "code",
   "execution_count": null,
   "id": "3d2d78d6-da52-4df3-befd-835a6316feb3",
   "metadata": {},
   "outputs": [],
   "source": []
  }
 ],
 "metadata": {
  "kernelspec": {
   "display_name": "Python 3 (ipykernel)",
   "language": "python",
   "name": "python3"
  },
  "language_info": {
   "codemirror_mode": {
    "name": "ipython",
    "version": 3
   },
   "file_extension": ".py",
   "mimetype": "text/x-python",
   "name": "python",
   "nbconvert_exporter": "python",
   "pygments_lexer": "ipython3",
   "version": "3.10.12"
  }
 },
 "nbformat": 4,
 "nbformat_minor": 5
}
