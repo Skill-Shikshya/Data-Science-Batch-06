{
 "cells": [
  {
   "cell_type": "markdown",
   "id": "72112c65-7466-4b91-a834-d3462b3cc119",
   "metadata": {},
   "source": [
    "# Python Binary Type\n",
    "\n",
    "In Python, binary data is represented using the `bytes` and `bytearray` types.\n",
    "\n",
    "A `bytes` object is an immutable sequence of bytes, while a `bytearray` object is a mutable sequence of bytes.\n",
    "\n",
    "You can create `bytes` and `bytearray` objects using the built-in `bytes()` and `bytearray()` functions, passing them either a string of binary data or a list of integers representing the binary data.\n",
    "\n",
    "Here are some examples:"
   ]
  },
  {
   "cell_type": "code",
   "execution_count": 5,
   "id": "b1e23b27-1650-4cd9-b15b-f71075f9448e",
   "metadata": {},
   "outputs": [],
   "source": [
    "# Create a bytes object from a string of binary data\n",
    "b = b'\\x00\\x01\\x02\\x03\\x04\\x05'\n",
    "\n",
    "# Create a bytes object from a list of integers representing the binary data\n",
    "b = bytes([0, 1, 2, 3, 4, 5])\n",
    "\n",
    "# Create a bytearray object from a string of binary data\n",
    "ba = bytearray(b'\\x00\\x01\\x02\\x03\\x04\\x05')\n",
    "\n",
    "# Create a bytearray object from a list of integers representing the binary data\n",
    "ba = bytearray([0, 1, 2, 3, 4, 5])"
   ]
  },
  {
   "cell_type": "code",
   "execution_count": 4,
   "id": "7e9830fe-9494-4f86-a595-e3cd2cb28430",
   "metadata": {},
   "outputs": [
    {
     "data": {
      "text/plain": [
       "bytes"
      ]
     },
     "execution_count": 4,
     "metadata": {},
     "output_type": "execute_result"
    }
   ],
   "source": [
    "type(b)"
   ]
  },
  {
   "cell_type": "code",
   "execution_count": null,
   "id": "3ba818a5-d2b0-4701-995c-01ebe207a7f2",
   "metadata": {},
   "outputs": [],
   "source": []
  },
  {
   "cell_type": "markdown",
   "id": "c13d89a4-e54a-435e-b23e-57952312be24",
   "metadata": {},
   "source": [
    "It's important to use the correct character encoding when converting between bytes and strings. If the wrong encoding is used, the resulting string may not be the same as the original string.\n",
    "\n",
    "Here's an example of using the wrong encoding:"
   ]
  },
  {
   "cell_type": "code",
   "execution_count": 10,
   "id": "4702c174-0322-4a2b-bd98-0e230627d508",
   "metadata": {},
   "outputs": [
    {
     "ename": "UnicodeEncodeError",
     "evalue": "'ascii' codec can't encode character '\\xe9' in position 1: ordinal not in range(128)",
     "output_type": "error",
     "traceback": [
      "\u001b[0;31m---------------------------------------------------------------------------\u001b[0m",
      "\u001b[0;31mUnicodeEncodeError\u001b[0m                        Traceback (most recent call last)",
      "Cell \u001b[0;32mIn[10], line 2\u001b[0m\n\u001b[1;32m      1\u001b[0m s \u001b[38;5;241m=\u001b[39m \u001b[38;5;124m\"\u001b[39m\u001b[38;5;124mrésumé\u001b[39m\u001b[38;5;124m\"\u001b[39m\n\u001b[0;32m----> 2\u001b[0m b \u001b[38;5;241m=\u001b[39m \u001b[43ms\u001b[49m\u001b[38;5;241;43m.\u001b[39;49m\u001b[43mencode\u001b[49m\u001b[43m(\u001b[49m\u001b[38;5;124;43m'\u001b[39;49m\u001b[38;5;124;43mascii\u001b[39;49m\u001b[38;5;124;43m'\u001b[39;49m\u001b[43m)\u001b[49m\n\u001b[1;32m      4\u001b[0m \u001b[38;5;28mprint\u001b[39m(b)  \u001b[38;5;66;03m# Raises a UnicodeEncodeError\u001b[39;00m\n",
      "\u001b[0;31mUnicodeEncodeError\u001b[0m: 'ascii' codec can't encode character '\\xe9' in position 1: ordinal not in range(128)"
     ]
    }
   ],
   "source": [
    "s = \"résumé\"\n",
    "b = s.encode('ascii')\n",
    "\n",
    "print(b)  # Raises a UnicodeEncodeError"
   ]
  },
  {
   "cell_type": "code",
   "execution_count": 11,
   "id": "a35b10fd-3093-48bb-a936-31e4831c973a",
   "metadata": {},
   "outputs": [
    {
     "name": "stdout",
     "output_type": "stream",
     "text": [
      "b'r\\xc3\\xa9sum\\xc3\\xa9'\n"
     ]
    }
   ],
   "source": [
    "s = \"résumé\"\n",
    "b = s.encode('utf-8')\n",
    "\n",
    "print(b)"
   ]
  },
  {
   "cell_type": "code",
   "execution_count": null,
   "id": "24ef7ece-cb71-41fe-9448-f848a8b362b4",
   "metadata": {},
   "outputs": [],
   "source": []
  }
 ],
 "metadata": {
  "kernelspec": {
   "display_name": "Python 3 (ipykernel)",
   "language": "python",
   "name": "python3"
  },
  "language_info": {
   "codemirror_mode": {
    "name": "ipython",
    "version": 3
   },
   "file_extension": ".py",
   "mimetype": "text/x-python",
   "name": "python",
   "nbconvert_exporter": "python",
   "pygments_lexer": "ipython3",
   "version": "3.10.12"
  }
 },
 "nbformat": 4,
 "nbformat_minor": 5
}
