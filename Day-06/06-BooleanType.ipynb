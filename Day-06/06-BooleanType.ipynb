{
 "cells": [
  {
   "cell_type": "markdown",
   "id": "34bda557-2944-4ce3-8fdf-041826ade69f",
   "metadata": {},
   "source": [
    "# Python Boolean Type\n",
    "\n",
    "In Python, the boolean type is a built-in data type that has two possible values: `True` and `False`. Booleans are used to represent the truth values of logical expressions, and they are often used in conditional statements to control the flow of a program.\n",
    "\n",
    "You can create boolean values using the literals `True` and `False`, or by using expressions that evaluate to boolean values.\n",
    "\n",
    "Here are some examples:"
   ]
  },
  {
   "cell_type": "code",
   "execution_count": 33,
   "id": "90a8bd59-1324-433c-bbde-75289d1904aa",
   "metadata": {},
   "outputs": [],
   "source": [
    "a = 5\n",
    "b = 10\n",
    "c = a > b\n",
    "d = a < b\n",
    "s = \"ram\".startswith(\"r\")"
   ]
  },
  {
   "cell_type": "code",
   "execution_count": 34,
   "id": "68f00810-4e2e-4451-a6b1-ad8706f8aa97",
   "metadata": {},
   "outputs": [
    {
     "data": {
      "text/plain": [
       "bool"
      ]
     },
     "execution_count": 34,
     "metadata": {},
     "output_type": "execute_result"
    }
   ],
   "source": [
    "type(c)"
   ]
  },
  {
   "cell_type": "code",
   "execution_count": 35,
   "id": "0977d02b-a755-4b93-909c-0efd27e43f26",
   "metadata": {},
   "outputs": [
    {
     "data": {
      "text/plain": [
       "True"
      ]
     },
     "execution_count": 35,
     "metadata": {},
     "output_type": "execute_result"
    }
   ],
   "source": [
    "d"
   ]
  },
  {
   "cell_type": "code",
   "execution_count": 36,
   "id": "8c286180-c1af-4927-8c37-17f8ad6f0a41",
   "metadata": {},
   "outputs": [
    {
     "data": {
      "text/plain": [
       "True"
      ]
     },
     "execution_count": 36,
     "metadata": {},
     "output_type": "execute_result"
    }
   ],
   "source": [
    "s"
   ]
  },
  {
   "cell_type": "code",
   "execution_count": 9,
   "id": "77321a68-ec7f-4647-ad64-3f31a20e2295",
   "metadata": {},
   "outputs": [],
   "source": []
  },
  {
   "cell_type": "code",
   "execution_count": 10,
   "id": "afb33a1b-40fa-4ca3-8c5f-33f4a0b83455",
   "metadata": {},
   "outputs": [],
   "source": [
    "x = True\n",
    "y = False"
   ]
  },
  {
   "cell_type": "markdown",
   "id": "39d1a224-67c8-44f1-8e14-756b7c69ad87",
   "metadata": {},
   "source": [
    "Boolean values can be combined using logical operators. The most common logical operators are:\n",
    "\n",
    "- `and:` returns True if both operands are True, otherwise False.\n",
    "- `or:` returns True if either operand is True, otherwise False.\n",
    "- `not:` negates the value of the operand\n",
    "\n",
    "Here are some examples:"
   ]
  },
  {
   "cell_type": "code",
   "execution_count": 11,
   "id": "3cef5ec8-045e-4e5e-b9d3-d9052264fa56",
   "metadata": {},
   "outputs": [
    {
     "name": "stdout",
     "output_type": "stream",
     "text": [
      "False\n"
     ]
    }
   ],
   "source": [
    "print(x and y)"
   ]
  },
  {
   "cell_type": "code",
   "execution_count": 12,
   "id": "3b628cb4-d60e-4bea-9d9f-715d5156848d",
   "metadata": {},
   "outputs": [
    {
     "name": "stdout",
     "output_type": "stream",
     "text": [
      "True\n"
     ]
    }
   ],
   "source": [
    "print(x or y)"
   ]
  },
  {
   "cell_type": "code",
   "execution_count": 14,
   "id": "a9c685b8-c625-4f0e-bed3-928285a2be12",
   "metadata": {},
   "outputs": [
    {
     "name": "stdout",
     "output_type": "stream",
     "text": [
      "False\n"
     ]
    }
   ],
   "source": [
    "print(not x)"
   ]
  },
  {
   "cell_type": "code",
   "execution_count": null,
   "id": "e917ac98-2e2a-403c-b833-4d17c5799c66",
   "metadata": {},
   "outputs": [],
   "source": []
  },
  {
   "cell_type": "markdown",
   "id": "6053050a-c9b3-46ef-b530-0df499642978",
   "metadata": {},
   "source": [
    "In Python, any non-zero number, non-empty string, non-empty list, non-empty tuple, non-empty dictionary, or non-None object is considered `True`. Zero, empty strings, empty lists, empty tuples, empty dictionaries, and None are considered `False`.\n",
    "\n",
    "Here are some examples:"
   ]
  },
  {
   "cell_type": "code",
   "execution_count": 18,
   "id": "c19f4ba8-76f2-4ce1-a81f-dd64ac6a9adb",
   "metadata": {},
   "outputs": [],
   "source": [
    "x = 55.6\n",
    "y = 0.00"
   ]
  },
  {
   "cell_type": "code",
   "execution_count": 19,
   "id": "0a6eb948-a646-4ba4-baae-5c5615921521",
   "metadata": {},
   "outputs": [
    {
     "name": "stdout",
     "output_type": "stream",
     "text": [
      "True\n"
     ]
    }
   ],
   "source": [
    "print(bool(x))"
   ]
  },
  {
   "cell_type": "code",
   "execution_count": 20,
   "id": "055b962d-f9e7-4214-9a7b-3578634657b2",
   "metadata": {},
   "outputs": [
    {
     "name": "stdout",
     "output_type": "stream",
     "text": [
      "False\n"
     ]
    }
   ],
   "source": [
    "print(bool(y))"
   ]
  },
  {
   "cell_type": "code",
   "execution_count": 23,
   "id": "fa56154c-2e1d-46f9-9dd9-cd0df9fd22d7",
   "metadata": {},
   "outputs": [
    {
     "name": "stdout",
     "output_type": "stream",
     "text": [
      "True\n"
     ]
    }
   ],
   "source": [
    "print(bool([1,2]))"
   ]
  },
  {
   "cell_type": "code",
   "execution_count": 26,
   "id": "4bbbf8e7-acd9-4d60-8240-83249e566cbc",
   "metadata": {},
   "outputs": [
    {
     "name": "stdout",
     "output_type": "stream",
     "text": [
      "True\n"
     ]
    }
   ],
   "source": [
    "name = \" \"\n",
    "print(bool(name))"
   ]
  },
  {
   "cell_type": "code",
   "execution_count": 27,
   "id": "52a9c88f-ed43-448b-8cd4-f31798ca9ee2",
   "metadata": {},
   "outputs": [],
   "source": [
    "lst = [1, 2, 3] #> True\n",
    "empty_lst = [] #> False\n",
    "\n",
    "dct = {\"a\": 1, \"b\": 2} #> True\n",
    "empty_dct = {} #> False\n",
    "\n",
    "obj = object()\n",
    "none_obj = None"
   ]
  },
  {
   "cell_type": "code",
   "execution_count": 30,
   "id": "95c33ee1-a126-4a7d-916c-cf572d0fea42",
   "metadata": {},
   "outputs": [
    {
     "name": "stdout",
     "output_type": "stream",
     "text": [
      "True\n",
      "False\n"
     ]
    }
   ],
   "source": [
    "print(bool(obj))\n",
    "print(bool(none_obj))"
   ]
  },
  {
   "cell_type": "code",
   "execution_count": null,
   "id": "2d310dbe-9c48-4863-85ba-2d8c8c1ef96d",
   "metadata": {},
   "outputs": [],
   "source": []
  }
 ],
 "metadata": {
  "kernelspec": {
   "display_name": "Python 3 (ipykernel)",
   "language": "python",
   "name": "python3"
  },
  "language_info": {
   "codemirror_mode": {
    "name": "ipython",
    "version": 3
   },
   "file_extension": ".py",
   "mimetype": "text/x-python",
   "name": "python",
   "nbconvert_exporter": "python",
   "pygments_lexer": "ipython3",
   "version": "3.10.12"
  }
 },
 "nbformat": 4,
 "nbformat_minor": 5
}
