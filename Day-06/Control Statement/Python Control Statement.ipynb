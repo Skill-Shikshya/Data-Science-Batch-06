{
 "cells": [
  {
   "cell_type": "markdown",
   "id": "a4d080d7-9157-4560-b1aa-d0759b8a22ca",
   "metadata": {},
   "source": [
    "# Python Control Statements\n",
    "\n",
    "Python control statements \n",
    " - direct the flow of execution in a program, \n",
    " - allowing for conditional execution, \n",
    " - repeated execution, and \n",
    " - the selection among different paths.\n"
   ]
  },
  {
   "cell_type": "markdown",
   "id": "39c8b932-3613-483b-a762-871b2121226d",
   "metadata": {},
   "source": [
    "**Python control statements**\n",
    "\n",
    "- Conditional Statements: if, elif, else\n",
    "- Loop Statements: for, while\n",
    "- Comprehensions: list, dictionary, set"
   ]
  },
  {
   "cell_type": "code",
   "execution_count": null,
   "id": "24d275d3-1fde-46f7-9225-776136f5ecdc",
   "metadata": {},
   "outputs": [],
   "source": []
  }
 ],
 "metadata": {
  "kernelspec": {
   "display_name": "Python 3 (ipykernel)",
   "language": "python",
   "name": "python3"
  },
  "language_info": {
   "codemirror_mode": {
    "name": "ipython",
    "version": 3
   },
   "file_extension": ".py",
   "mimetype": "text/x-python",
   "name": "python",
   "nbconvert_exporter": "python",
   "pygments_lexer": "ipython3",
   "version": "3.10.12"
  }
 },
 "nbformat": 4,
 "nbformat_minor": 5
}
