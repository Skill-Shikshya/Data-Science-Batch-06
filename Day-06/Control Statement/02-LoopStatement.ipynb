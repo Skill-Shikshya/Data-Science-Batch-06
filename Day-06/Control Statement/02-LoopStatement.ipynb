{
 "cells": [
  {
   "cell_type": "markdown",
   "id": "d9899974-867c-4bf5-9de2-4fe3d6cb62a0",
   "metadata": {},
   "source": [
    "# Python Loop Statements\n",
    "\n",
    "In Python, loops are used to execute a block of code repeatedly. There are two types of loops in Python: for loops and while loops.\n"
   ]
  },
  {
   "cell_type": "markdown",
   "id": "ac2f5967-23cb-4d79-ba43-a9567797851a",
   "metadata": {},
   "source": [
    "## 1. Python For Loop\n",
    "\n",
    "The `for` loop is used in Python to iterate over a sequence of values, such as a list, tuple, string, or range. The basic syntax of a `for` loop is as follows:\n",
    "\n",
    "Syntax:\n",
    "```python\n",
    "for item in items:\n",
    "    do somethings\n",
    "```"
   ]
  },
  {
   "cell_type": "markdown",
   "id": "978f189e-fecd-4063-8234-65adaf1b94de",
   "metadata": {},
   "source": [
    "The `item` is a new variable that is created with each iteration of the loop, and takes on the value of the next element in the `items`. The code block that follows the `for` statement is executed for each value in the `items`.\n",
    "\n",
    "Here's an example of how to use the `for` loop to iterate over a list:"
   ]
  },
  {
   "cell_type": "code",
   "execution_count": 4,
   "id": "d3da44ab-2926-4ff6-8a63-788c502306da",
   "metadata": {},
   "outputs": [
    {
     "name": "stdout",
     "output_type": "stream",
     "text": [
      "apple\n",
      "banana\n",
      "cherry\n",
      "completed\n"
     ]
    }
   ],
   "source": [
    "fruits = ['apple','banana','cherry']\n",
    "\n",
    "for each in fruits:\n",
    "    print(each)\n",
    "\n",
    "print(\"completed\")"
   ]
  },
  {
   "cell_type": "code",
   "execution_count": null,
   "id": "e2b38a17-1768-4ea1-a4e6-db71ad608cdd",
   "metadata": {},
   "outputs": [],
   "source": []
  },
  {
   "cell_type": "markdown",
   "id": "5c4fef62-2069-4f34-b1ff-4df6b9879a54",
   "metadata": {},
   "source": [
    "The `range` function is commonly used in `for` loops to generate a sequence of integers. Here's an example:"
   ]
  },
  {
   "cell_type": "code",
   "execution_count": 5,
   "id": "a86900c7-15e2-4d57-90ca-7bde913efc55",
   "metadata": {},
   "outputs": [
    {
     "data": {
      "text/plain": [
       "[0, 2, 4]"
      ]
     },
     "execution_count": 5,
     "metadata": {},
     "output_type": "execute_result"
    }
   ],
   "source": [
    "list(range(0,5,2))"
   ]
  },
  {
   "cell_type": "code",
   "execution_count": 6,
   "id": "08b9dbb3-58d6-4d1b-88cf-db04cb3e0033",
   "metadata": {},
   "outputs": [
    {
     "name": "stdout",
     "output_type": "stream",
     "text": [
      "0\n",
      "1\n",
      "2\n",
      "3\n",
      "4\n",
      "5\n",
      "6\n",
      "7\n",
      "8\n",
      "9\n"
     ]
    }
   ],
   "source": [
    "for i in range(0,10):\n",
    "    print(i)"
   ]
  },
  {
   "cell_type": "code",
   "execution_count": 9,
   "id": "e7c802c6-b89f-489f-8205-bf3fa9b03b08",
   "metadata": {},
   "outputs": [
    {
     "name": "stdout",
     "output_type": "stream",
     "text": [
      "x\n",
      "xx\n",
      "xxx\n",
      "xxxx\n",
      "xxxxx\n"
     ]
    }
   ],
   "source": [
    "# *\n",
    "# **\n",
    "# ***\n",
    "# ****\n",
    "# *****\n",
    "\n",
    "for i in range(1,6):\n",
    "    print(\"x\"*i)"
   ]
  },
  {
   "cell_type": "code",
   "execution_count": null,
   "id": "b3c63f48-8bb2-43db-ab37-d172a990cc93",
   "metadata": {},
   "outputs": [],
   "source": []
  }
 ],
 "metadata": {
  "kernelspec": {
   "display_name": "Python 3 (ipykernel)",
   "language": "python",
   "name": "python3"
  },
  "language_info": {
   "codemirror_mode": {
    "name": "ipython",
    "version": 3
   },
   "file_extension": ".py",
   "mimetype": "text/x-python",
   "name": "python",
   "nbconvert_exporter": "python",
   "pygments_lexer": "ipython3",
   "version": "3.10.12"
  }
 },
 "nbformat": 4,
 "nbformat_minor": 5
}
