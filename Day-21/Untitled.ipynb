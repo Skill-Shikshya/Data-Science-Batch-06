{
 "cells": [
  {
   "cell_type": "markdown",
   "id": "ba4e9f48-aec4-4507-a0bb-eccce9a78beb",
   "metadata": {},
   "source": [
    "### **File Handling with Data Processing**  \n",
    "Write a Python program that:\n",
    "1. Reads data from a text file containing multiple lines, where each line contains a name and a score (e.g., `John, 89`).\n",
    "```\n",
    "John, 98\n",
    "Hari, 33\n",
    "Andrew, 43\n",
    "Saimon, 66\n",
    "July, 32\n",
    "Hari, 62\n",
    "```\n",
    "3. Stores the data in a dictionary and sorts the dictionary by score.\n",
    "4. Writes the sorted data back into a new file, where the highest scores appear first.\n"
   ]
  },
  {
   "cell_type": "code",
   "execution_count": 31,
   "id": "fc4e96ac-c159-4441-b01a-2832cc3deb76",
   "metadata": {},
   "outputs": [
    {
     "data": {
      "text/plain": [
       "{'John': 98, 'Hari': 62, 'Andrew': 43, 'Saimon': 66, 'July': 32}"
      ]
     },
     "execution_count": 31,
     "metadata": {},
     "output_type": "execute_result"
    }
   ],
   "source": [
    "scores_dict = dict()\n",
    "with open(\"scores.txt\", \"r\") as file:\n",
    "    for line in file:\n",
    "        name, score = line.strip().split(\", \")\n",
    "        scores_dict[name] = int(score)\n",
    "\n",
    "scores_dict"
   ]
  },
  {
   "cell_type": "code",
   "execution_count": 18,
   "id": "7c04165f-928a-4923-89df-fd0bf330062d",
   "metadata": {},
   "outputs": [
    {
     "data": {
      "text/plain": [
       "[('John', 98), ('Saimon', 66), ('Hari', 62), ('Andrew', 43), ('July', 32)]"
      ]
     },
     "execution_count": 18,
     "metadata": {},
     "output_type": "execute_result"
    }
   ],
   "source": [
    "sorted_dict = sorted(scores_dict.items(), key = lambda x : x[1], reverse=True)\n",
    "sorted_dict"
   ]
  },
  {
   "cell_type": "code",
   "execution_count": 32,
   "id": "442ec690-b7ec-42ea-9eca-3d6cf0439845",
   "metadata": {},
   "outputs": [],
   "source": [
    "with open(\"score_sort.txt\", \"w\") as file:\n",
    "   (file.write(f\"{name}, {score} \\n\") for name, score in sorted_dict)"
   ]
  },
  {
   "cell_type": "code",
   "execution_count": null,
   "id": "7dbd7177-d6fd-4b7a-a9b6-7eae852e3c5c",
   "metadata": {},
   "outputs": [],
   "source": []
  },
  {
   "cell_type": "markdown",
   "id": "3e7a9a3a-ba02-4a57-b588-4d1b0a22be6b",
   "metadata": {},
   "source": [
    "## Uses the `reduce` function to find the **greatest common divisor (GCD)** of a list of integers."
   ]
  },
  {
   "cell_type": "code",
   "execution_count": 39,
   "id": "c176400f-74f9-44b0-b5ca-3c72df09ebb0",
   "metadata": {},
   "outputs": [],
   "source": [
    "from functools import reduce\n",
    "from math import gcd"
   ]
  },
  {
   "cell_type": "code",
   "execution_count": 44,
   "id": "76195947-6249-4d52-896d-abfa538523fc",
   "metadata": {},
   "outputs": [
    {
     "data": {
      "text/plain": [
       "16"
      ]
     },
     "execution_count": 44,
     "metadata": {},
     "output_type": "execute_result"
    }
   ],
   "source": [
    "reduce(gcd, [48, 64, 32, 16])"
   ]
  },
  {
   "cell_type": "code",
   "execution_count": null,
   "id": "f0d47dad-7350-44e1-8699-bd9427e3ae01",
   "metadata": {},
   "outputs": [],
   "source": []
  }
 ],
 "metadata": {
  "kernelspec": {
   "display_name": "Python 3 (ipykernel)",
   "language": "python",
   "name": "python3"
  },
  "language_info": {
   "codemirror_mode": {
    "name": "ipython",
    "version": 3
   },
   "file_extension": ".py",
   "mimetype": "text/x-python",
   "name": "python",
   "nbconvert_exporter": "python",
   "pygments_lexer": "ipython3",
   "version": "3.10.12"
  }
 },
 "nbformat": 4,
 "nbformat_minor": 5
}
