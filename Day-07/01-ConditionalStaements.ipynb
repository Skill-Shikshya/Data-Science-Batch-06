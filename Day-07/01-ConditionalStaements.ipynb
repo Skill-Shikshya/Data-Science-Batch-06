{
 "cells": [
  {
   "cell_type": "markdown",
   "id": "c710f5a4-4f6a-455b-90fc-877bcae8dc9a",
   "metadata": {},
   "source": [
    "# Python Conditional statements\n",
    "\n",
    "The `if` statement is used in Python to check whether a condition is `True` or `False`, and then perform an action based on that condition. The basic syntax of the `if` statement is as follows:"
   ]
  },
  {
   "cell_type": "markdown",
   "id": "abab2de9-7bfe-4bb2-945b-b4af39db86fc",
   "metadata": {},
   "source": [
    "Syntax :\n",
    "```python\n",
    "if condition:\n",
    "    do something\n",
    "```"
   ]
  },
  {
   "cell_type": "markdown",
   "id": "0d59c12b-6a97-4eb3-b767-3b979807e608",
   "metadata": {},
   "source": [
    "The `condition` is an expression that returns a boolean value (`True` or `False`). If the condition is `True`, then the code block that follows the `if` statement is executed. If the condition is `False`, then the code block is skipped.\n",
    "\n",
    "Here is an example of how to use the `if` statement in Python:"
   ]
  },
  {
   "cell_type": "code",
   "execution_count": 9,
   "id": "89ddcc27-9732-4bd7-8255-0c2ffb64f41e",
   "metadata": {},
   "outputs": [
    {
     "name": "stdout",
     "output_type": "stream",
     "text": [
      "Inside If Block\n",
      "Given Number is 55\n"
     ]
    }
   ],
   "source": [
    "x = 55\n",
    "\n",
    "if x > 0:\n",
    "    print(f\"Inside If Block\")\n",
    "\n",
    "print(f\"Given Number is {x}\")"
   ]
  },
  {
   "cell_type": "code",
   "execution_count": 10,
   "id": "fd4b73aa-dd40-4399-8e24-c68fef3751ac",
   "metadata": {},
   "outputs": [
    {
     "name": "stdout",
     "output_type": "stream",
     "text": [
      "55\n",
      "out of block\n"
     ]
    }
   ],
   "source": [
    "if x != 0:\n",
    "    print(x)\n",
    "\n",
    "print(\"out of block\")"
   ]
  },
  {
   "cell_type": "code",
   "execution_count": null,
   "id": "48fee048-3742-450f-93b6-047e302df177",
   "metadata": {},
   "outputs": [],
   "source": []
  },
  {
   "cell_type": "markdown",
   "id": "73d2f939-f3ec-4549-9b15-9350c8670d2c",
   "metadata": {},
   "source": [
    "In this example, the `if` statement checks whether `x` is greater than `0`. If the condition is `True`, then the code block that follows the `if` statement (which is just a print statement) is executed.\n",
    "\n",
    "Multiple conditions can be checked in an `if` statement by using logical operators like `and` and `or`. Here is an example:"
   ]
  },
  {
   "cell_type": "code",
   "execution_count": 18,
   "id": "cc7e18a5-8bf6-4409-bb5f-450a6b3dd675",
   "metadata": {},
   "outputs": [],
   "source": [
    "x = 5\n",
    "y = -5\n",
    "\n",
    "if x > 0 and y > 0:\n",
    "    print(\"Both x and y are positive\")"
   ]
  },
  {
   "cell_type": "markdown",
   "id": "07bc606b-0a94-4107-9e95-005830055cfe",
   "metadata": {},
   "source": [
    "In this example, the `if` statement checks whether both `x` and `y` are greater than `0`. If the condition is `True`, then the code block that follows the `if` statement is executed.\n",
    "\n",
    "The `if` statement can also be followed by an `else` clause, which is executed if the condition is `False`. Here is an example:"
   ]
  },
  {
   "cell_type": "code",
   "execution_count": 22,
   "id": "c682619b-ebf9-4bae-90de-91c04fc22c73",
   "metadata": {},
   "outputs": [
    {
     "name": "stdout",
     "output_type": "stream",
     "text": [
      "odd\n"
     ]
    }
   ],
   "source": [
    "x = 33\n",
    "\n",
    "if x%2 == 0:\n",
    "    print(\"Even\")\n",
    "\n",
    "else:\n",
    "    print(\"odd\")"
   ]
  },
  {
   "cell_type": "code",
   "execution_count": null,
   "id": "bfea1dab-011c-48b8-b47b-ec19360ce5a4",
   "metadata": {},
   "outputs": [],
   "source": []
  },
  {
   "cell_type": "markdown",
   "id": "5da669b2-a3dc-479d-9d36-3b9ec04add01",
   "metadata": {},
   "source": [
    "In addition to the `else` clause, the `if` statement can also be followed by an `elif` (short for \"else if\") clause, which allows for multiple conditions to be checked. Here is an example:"
   ]
  },
  {
   "cell_type": "code",
   "execution_count": 26,
   "id": "89715cf9-0921-4103-94fc-d9e37a968889",
   "metadata": {},
   "outputs": [
    {
     "name": "stdout",
     "output_type": "stream",
     "text": [
      "x is positive\n"
     ]
    }
   ],
   "source": [
    "x = 6\n",
    "\n",
    "if x<0:\n",
    "    print(\"x is negative\")\n",
    "\n",
    "elif x==0:\n",
    "    print(\"x is zero\")\n",
    "\n",
    "else:\n",
    "    print(\"x is positive\")"
   ]
  },
  {
   "cell_type": "markdown",
   "id": "05f891d5-7710-44f2-9f64-026fe8d46bf1",
   "metadata": {},
   "source": [
    "We used a single `elif` statement here but it can be followed by multiple other `elif` statements with different possible conditions as:\n",
    "\n",
    "Syntax: \n",
    "```python\n",
    "if condition 1:\n",
    "    do something\n",
    "elif condition 2:\n",
    "    do something\n",
    "...\n",
    "...\n",
    "elif condition n:\n",
    "    do something\n",
    "else:\n",
    "    do something\n",
    "```"
   ]
  },
  {
   "cell_type": "code",
   "execution_count": null,
   "id": "4545899f-35a3-4123-b483-b148cecd1456",
   "metadata": {},
   "outputs": [],
   "source": []
  },
  {
   "cell_type": "markdown",
   "id": "ecbd653b-9c45-413a-bbec-cf8a9df76676",
   "metadata": {},
   "source": [
    "### WAP to grade a number (100-80) Grade A, (80-60) Grade B , (60-40) Grade C and less than 40 Grade D. [if and elif control statement]\n",
    " "
   ]
  },
  {
   "cell_type": "code",
   "execution_count": 28,
   "id": "ea7a0af9-4227-4608-9afa-0837bb5172d7",
   "metadata": {},
   "outputs": [
    {
     "name": "stdout",
     "output_type": "stream",
     "text": [
      "your grade is A\n"
     ]
    }
   ],
   "source": [
    "x = 80\n",
    "if x >= 80 and x <= 100:    \n",
    "    print(\"your grade is A\")\n",
    "\n",
    "elif x>=60 and x<80:    \n",
    "    print (\"your grade is B\")\n",
    "\n",
    "elif x>=40 and x<60 :    \n",
    "    print (\"your grade is c\")\n",
    "\n",
    "else:    \n",
    "    print(\"fail\") "
   ]
  },
  {
   "cell_type": "code",
   "execution_count": null,
   "id": "4525661e-2c40-4be1-8753-fb6bb31ceda9",
   "metadata": {},
   "outputs": [],
   "source": []
  },
  {
   "cell_type": "markdown",
   "id": "a35d4a02-6c1d-4cbe-a030-1bc1f93048ad",
   "metadata": {},
   "source": [
    "## Nested If .. Conditions"
   ]
  },
  {
   "cell_type": "code",
   "execution_count": 1,
   "id": "ff6c77b3-cb02-48b8-a813-2d4ad45887cd",
   "metadata": {},
   "outputs": [
    {
     "name": "stdout",
     "output_type": "stream",
     "text": [
      "Given Number 200 is positive\n",
      "Given Number 200 is higher positive\n"
     ]
    }
   ],
   "source": [
    "x = 200\n",
    "\n",
    "if x > 0:\n",
    "    print(f\"Given Number {x} is positive\")\n",
    "    \n",
    "    if x > 100:\n",
    "        print(f\"Given Number {x} is higher positive\")\n",
    "    else:\n",
    "        print(f\"Given Number {x} is lower positive\")\n",
    "\n",
    "elif x == 0 :\n",
    "    print(f\"Given Number {x} is zero\")\n",
    "\n",
    "else:\n",
    "    print(f\"Given Number {x} is negative\")\n",
    "\n"
   ]
  },
  {
   "cell_type": "code",
   "execution_count": null,
   "id": "410b1891-a54b-418e-8e37-e2c2360e1668",
   "metadata": {},
   "outputs": [],
   "source": []
  }
 ],
 "metadata": {
  "kernelspec": {
   "display_name": "Python 3 (ipykernel)",
   "language": "python",
   "name": "python3"
  },
  "language_info": {
   "codemirror_mode": {
    "name": "ipython",
    "version": 3
   },
   "file_extension": ".py",
   "mimetype": "text/x-python",
   "name": "python",
   "nbconvert_exporter": "python",
   "pygments_lexer": "ipython3",
   "version": "3.10.12"
  }
 },
 "nbformat": 4,
 "nbformat_minor": 5
}
