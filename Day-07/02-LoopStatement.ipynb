{
 "cells": [
  {
   "cell_type": "markdown",
   "id": "d9899974-867c-4bf5-9de2-4fe3d6cb62a0",
   "metadata": {},
   "source": [
    "# Python Loop Statements\n",
    "\n",
    "In Python, loops are used to execute a block of code repeatedly. There are two types of loops in Python: for loops and while loops.\n"
   ]
  },
  {
   "cell_type": "markdown",
   "id": "ac2f5967-23cb-4d79-ba43-a9567797851a",
   "metadata": {},
   "source": [
    "## 1. Python For Loop\n",
    "\n",
    "The `for` loop is used in Python to iterate over a sequence of values, such as a list, tuple, string, or range. The basic syntax of a `for` loop is as follows:\n",
    "\n",
    "Syntax:\n",
    "```python\n",
    "for item in items:\n",
    "    do somethings\n",
    "```"
   ]
  },
  {
   "cell_type": "markdown",
   "id": "978f189e-fecd-4063-8234-65adaf1b94de",
   "metadata": {},
   "source": [
    "The `item` is a new variable that is created with each iteration of the loop, and takes on the value of the next element in the `items`. The code block that follows the `for` statement is executed for each value in the `items`.\n",
    "\n",
    "Here's an example of how to use the `for` loop to iterate over a list:"
   ]
  },
  {
   "cell_type": "code",
   "execution_count": 4,
   "id": "d3da44ab-2926-4ff6-8a63-788c502306da",
   "metadata": {},
   "outputs": [
    {
     "name": "stdout",
     "output_type": "stream",
     "text": [
      "apple\n",
      "banana\n",
      "cherry\n",
      "completed\n"
     ]
    }
   ],
   "source": [
    "fruits = ['apple','banana','cherry']\n",
    "\n",
    "for each in fruits:\n",
    "    print(each)\n",
    "\n",
    "print(\"completed\")"
   ]
  },
  {
   "cell_type": "code",
   "execution_count": null,
   "id": "e2b38a17-1768-4ea1-a4e6-db71ad608cdd",
   "metadata": {},
   "outputs": [],
   "source": []
  },
  {
   "cell_type": "markdown",
   "id": "5c4fef62-2069-4f34-b1ff-4df6b9879a54",
   "metadata": {},
   "source": [
    "The `range` function is commonly used in `for` loops to generate a sequence of integers. Here's an example:"
   ]
  },
  {
   "cell_type": "code",
   "execution_count": 5,
   "id": "a86900c7-15e2-4d57-90ca-7bde913efc55",
   "metadata": {},
   "outputs": [
    {
     "data": {
      "text/plain": [
       "[0, 2, 4]"
      ]
     },
     "execution_count": 5,
     "metadata": {},
     "output_type": "execute_result"
    }
   ],
   "source": [
    "list(range(0,5,2))"
   ]
  },
  {
   "cell_type": "code",
   "execution_count": 6,
   "id": "08b9dbb3-58d6-4d1b-88cf-db04cb3e0033",
   "metadata": {},
   "outputs": [
    {
     "name": "stdout",
     "output_type": "stream",
     "text": [
      "0\n",
      "1\n",
      "2\n",
      "3\n",
      "4\n",
      "5\n",
      "6\n",
      "7\n",
      "8\n",
      "9\n"
     ]
    }
   ],
   "source": [
    "for i in range(0,10):\n",
    "    print(i)"
   ]
  },
  {
   "cell_type": "code",
   "execution_count": 9,
   "id": "e7c802c6-b89f-489f-8205-bf3fa9b03b08",
   "metadata": {},
   "outputs": [
    {
     "name": "stdout",
     "output_type": "stream",
     "text": [
      "x\n",
      "xx\n",
      "xxx\n",
      "xxxx\n",
      "xxxxx\n"
     ]
    }
   ],
   "source": [
    "# *\n",
    "# **\n",
    "# ***\n",
    "# ****\n",
    "# *****\n",
    "\n",
    "for i in range(1,6):\n",
    "    print(\"x\"*i)"
   ]
  },
  {
   "cell_type": "code",
   "execution_count": null,
   "id": "b3c63f48-8bb2-43db-ab37-d172a990cc93",
   "metadata": {},
   "outputs": [],
   "source": []
  },
  {
   "cell_type": "markdown",
   "id": "86975398-9beb-48ec-aafe-24c78bc80863",
   "metadata": {},
   "source": [
    "`Nested for` loops can also be used to iterate over multiple sequences. Here's an example:"
   ]
  },
  {
   "cell_type": "code",
   "execution_count": 2,
   "id": "e47b9a64-deea-42d8-a1b7-4bfb6164df2e",
   "metadata": {},
   "outputs": [],
   "source": [
    "adjective = ['red','big','tasty']\n",
    "fruits = ['apple','banana','cherry','mango']"
   ]
  },
  {
   "cell_type": "code",
   "execution_count": 4,
   "id": "260618a1-a1b6-43d0-80f4-7d438c0c82a8",
   "metadata": {},
   "outputs": [
    {
     "name": "stdout",
     "output_type": "stream",
     "text": [
      "red apple\n",
      "red banana\n",
      "red cherry\n",
      "red mango\n",
      "big apple\n",
      "big banana\n",
      "big cherry\n",
      "big mango\n",
      "tasty apple\n",
      "tasty banana\n",
      "tasty cherry\n",
      "tasty mango\n"
     ]
    }
   ],
   "source": [
    "for adj in adjective:\n",
    "\n",
    "    for fruit in fruits:\n",
    "\n",
    "        print(adj, fruit)"
   ]
  },
  {
   "cell_type": "code",
   "execution_count": null,
   "id": "c6985585-608f-43f9-a53f-3e4a42244abe",
   "metadata": {},
   "outputs": [],
   "source": []
  },
  {
   "cell_type": "code",
   "execution_count": 76,
   "id": "e28088f3-595d-4f2a-905c-d5a09abcf512",
   "metadata": {},
   "outputs": [],
   "source": [
    "person = {\"name\": \"John\", \"age\": \"30\", \"city\": \"New York\", \"gender\": \"Male\"}\n",
    "person_list = list(person.items())"
   ]
  },
  {
   "cell_type": "code",
   "execution_count": 78,
   "id": "d082634c-63fe-4d57-9721-fe1a48339185",
   "metadata": {},
   "outputs": [
    {
     "data": {
      "text/plain": [
       "[('name', 'John'), ('age', '30'), ('city', 'New York'), ('gender', 'Male')]"
      ]
     },
     "execution_count": 78,
     "metadata": {},
     "output_type": "execute_result"
    }
   ],
   "source": [
    "person_list"
   ]
  },
  {
   "cell_type": "code",
   "execution_count": 82,
   "id": "5535ad87-b41e-40c2-8730-00ba6265cd3a",
   "metadata": {},
   "outputs": [
    {
     "name": "stdout",
     "output_type": "stream",
     "text": [
      "('name', 'John')\n",
      "('age', '30')\n",
      "('city', 'New York')\n",
      "('gender', 'Male')\n"
     ]
    }
   ],
   "source": [
    "for each in person.items():\n",
    "    print(each)"
   ]
  },
  {
   "cell_type": "code",
   "execution_count": null,
   "id": "232e6352-dd27-4553-ac13-9d826fb25f88",
   "metadata": {},
   "outputs": [],
   "source": []
  },
  {
   "cell_type": "code",
   "execution_count": 83,
   "id": "614d3ae5-c883-434d-9224-1155a9bb2a90",
   "metadata": {},
   "outputs": [
    {
     "name": "stdout",
     "output_type": "stream",
     "text": [
      "name John\n",
      "age 30\n",
      "city New York\n",
      "gender Male\n"
     ]
    }
   ],
   "source": [
    "for key, value in person.items():\n",
    "    print(key, value)"
   ]
  },
  {
   "cell_type": "code",
   "execution_count": 80,
   "id": "0b5f5e7d-7461-4b4a-94e0-88d3e3d27f82",
   "metadata": {},
   "outputs": [],
   "source": [
    "long_list = [tuple(range(1,5)) , tuple(range(5,9))]"
   ]
  },
  {
   "cell_type": "code",
   "execution_count": 81,
   "id": "dbf2e170-6570-4229-88d0-2487ac5df02b",
   "metadata": {},
   "outputs": [
    {
     "data": {
      "text/plain": [
       "[(1, 2, 3, 4), (5, 6, 7, 8)]"
      ]
     },
     "execution_count": 81,
     "metadata": {},
     "output_type": "execute_result"
    }
   ],
   "source": [
    "long_list"
   ]
  },
  {
   "cell_type": "code",
   "execution_count": 65,
   "id": "383a2b7b-476b-4992-886a-1f64d8abfbf7",
   "metadata": {},
   "outputs": [
    {
     "name": "stdout",
     "output_type": "stream",
     "text": [
      "1 2\n",
      "3 4\n",
      "5 6\n",
      "7 8\n"
     ]
    }
   ],
   "source": [
    "for a,b,c,d in long_list:\n",
    "    print(a,b)\n",
    "    print(c,d)"
   ]
  },
  {
   "cell_type": "code",
   "execution_count": null,
   "id": "61823b25-be33-4ac3-8a46-9a9812f278dd",
   "metadata": {},
   "outputs": [],
   "source": []
  },
  {
   "cell_type": "markdown",
   "id": "9d8a130b-15b5-483f-91f4-52917e4ad488",
   "metadata": {},
   "source": [
    "### Write a Program to Display the Multiplication Table of a Given Number:\n",
    "Create a Python program that asks the user to enter an integer, and then prints the multiplication table for that number from 1 to 10. Use a for loop to generate and display the table."
   ]
  },
  {
   "cell_type": "code",
   "execution_count": 6,
   "id": "17e050af-af30-4447-8492-e0d7c4de0c03",
   "metadata": {},
   "outputs": [
    {
     "name": "stdout",
     "output_type": "stream",
     "text": [
      "1 x 1 = 1\n",
      "1 x 2 = 2\n",
      "1 x 3 = 3\n",
      "1 x 4 = 4\n",
      "1 x 5 = 5\n",
      "1 x 6 = 6\n",
      "1 x 7 = 7\n",
      "1 x 8 = 8\n",
      "1 x 9 = 9\n",
      "1 x 10 = 10\n"
     ]
    }
   ],
   "source": [
    "i =1    \n",
    "for j in range(1,11):\n",
    "    print(f\"{i} x {j} = {i*j}\")"
   ]
  },
  {
   "cell_type": "code",
   "execution_count": null,
   "id": "e51d3434-76e9-42f4-9c85-4e636368ec59",
   "metadata": {},
   "outputs": [],
   "source": []
  },
  {
   "cell_type": "code",
   "execution_count": 16,
   "id": "e814f782-182d-4241-a346-d5e33aaaa6a6",
   "metadata": {},
   "outputs": [
    {
     "name": "stdout",
     "output_type": "stream",
     "text": [
      "p\n",
      "m\n",
      "u\n",
      "i\n",
      "a\n",
      "z\n",
      "t\n",
      "v\n",
      "n\n",
      "f\n",
      "g\n",
      "b\n",
      "j\n",
      "l\n",
      "q\n",
      "c\n",
      "s\n",
      "r\n",
      "d\n",
      "h\n",
      "k\n",
      "y\n",
      "o\n",
      "e\n",
      "x\n",
      " \n",
      "w\n"
     ]
    }
   ],
   "source": [
    "sent = \"the quick brown fox jumps over lazy dog\"\n",
    "unique_sent = set(sent)\n",
    "\n",
    "for char in unique_sent:\n",
    "    print(char)"
   ]
  },
  {
   "cell_type": "code",
   "execution_count": 17,
   "id": "584c2516-c6fe-4182-b5a2-a24d0b1bc990",
   "metadata": {},
   "outputs": [],
   "source": [
    "num = list(range(1,51))"
   ]
  },
  {
   "cell_type": "code",
   "execution_count": 18,
   "id": "1ea6b284-3f46-4842-8537-163ce3851b0b",
   "metadata": {},
   "outputs": [
    {
     "name": "stdout",
     "output_type": "stream",
     "text": [
      "[1, 2, 3, 4, 5, 6, 7, 8, 9, 10, 11, 12, 13, 14, 15, 16, 17, 18, 19, 20, 21, 22, 23, 24, 25, 26, 27, 28, 29, 30, 31, 32, 33, 34, 35, 36, 37, 38, 39, 40, 41, 42, 43, 44, 45, 46, 47, 48, 49, 50]\n"
     ]
    }
   ],
   "source": [
    "print(num)"
   ]
  },
  {
   "cell_type": "code",
   "execution_count": 21,
   "id": "01a2bd71-dfdd-472e-8da1-c571d5ee99b5",
   "metadata": {},
   "outputs": [
    {
     "data": {
      "text/plain": [
       "[1, 5, 9, 13, 17, 21, 25, 29, 33, 37, 41, 45, 49]"
      ]
     },
     "execution_count": 21,
     "metadata": {},
     "output_type": "execute_result"
    }
   ],
   "source": [
    "num[::4]"
   ]
  },
  {
   "cell_type": "code",
   "execution_count": 37,
   "id": "e3433ddd-2699-40bf-99d8-a5670551c45c",
   "metadata": {},
   "outputs": [],
   "source": [
    "dd = {5:\"apple\",1:\"ball\"}\n",
    "bb = {2:\"apple\",6:\"ball\"}"
   ]
  },
  {
   "cell_type": "code",
   "execution_count": 39,
   "id": "6c858f2e-ad1d-4ae7-825c-51206491d1cd",
   "metadata": {},
   "outputs": [
    {
     "data": {
      "text/plain": [
       "{5: 'apple', 1: 'ball', 2: 'apple', 6: 'ball'}"
      ]
     },
     "execution_count": 39,
     "metadata": {},
     "output_type": "execute_result"
    }
   ],
   "source": [
    "{**dd, **bb}"
   ]
  },
  {
   "cell_type": "code",
   "execution_count": 40,
   "id": "d4f9513c-d135-4c31-8fb6-53ca08f62900",
   "metadata": {},
   "outputs": [
    {
     "data": {
      "text/plain": [
       "{5: 'apple', 1: 'ball', 2: 'apple', 6: 'ball'}"
      ]
     },
     "execution_count": 40,
     "metadata": {},
     "output_type": "execute_result"
    }
   ],
   "source": [
    "dd | bb"
   ]
  },
  {
   "cell_type": "code",
   "execution_count": null,
   "id": "c145fa0b-ed59-4b49-bc05-0653c27690fc",
   "metadata": {},
   "outputs": [],
   "source": []
  },
  {
   "cell_type": "code",
   "execution_count": 48,
   "id": "ce71232e-209a-46c6-9425-7f02891b5b8a",
   "metadata": {},
   "outputs": [],
   "source": [
    "lis1 = [\"ball\",\"car\"]"
   ]
  },
  {
   "cell_type": "code",
   "execution_count": 49,
   "id": "c6acd06f-9b1c-4bc5-b56e-3c749ce7042e",
   "metadata": {},
   "outputs": [],
   "source": [
    "lis2 = lis1.copy()"
   ]
  },
  {
   "cell_type": "code",
   "execution_count": 50,
   "id": "b9b963db-6365-4e86-8260-b7becda2b7dd",
   "metadata": {},
   "outputs": [],
   "source": [
    "lis2[0] = 33"
   ]
  },
  {
   "cell_type": "code",
   "execution_count": 51,
   "id": "7e73b411-ca8e-4a38-a35a-35e2e53b7a87",
   "metadata": {},
   "outputs": [
    {
     "data": {
      "text/plain": [
       "[33, 'car']"
      ]
     },
     "execution_count": 51,
     "metadata": {},
     "output_type": "execute_result"
    }
   ],
   "source": [
    "lis2"
   ]
  },
  {
   "cell_type": "code",
   "execution_count": 52,
   "id": "5566e728-c2d8-4c43-a8d9-b784da9d69a5",
   "metadata": {},
   "outputs": [
    {
     "data": {
      "text/plain": [
       "['ball', 'car']"
      ]
     },
     "execution_count": 52,
     "metadata": {},
     "output_type": "execute_result"
    }
   ],
   "source": [
    "lis1"
   ]
  },
  {
   "cell_type": "code",
   "execution_count": 70,
   "id": "fea25748-afec-419f-8a2e-ef9f81a189e4",
   "metadata": {},
   "outputs": [],
   "source": [
    "lis1 = []"
   ]
  },
  {
   "cell_type": "code",
   "execution_count": 74,
   "id": "e1ae234c-0d35-48b8-902c-745d09f364f7",
   "metadata": {},
   "outputs": [],
   "source": [
    "if bool(lis1):\n",
    "    for each in lis1:\n",
    "        print(each)"
   ]
  },
  {
   "cell_type": "code",
   "execution_count": null,
   "id": "eff015ec-6255-471c-877d-6f88de2006f3",
   "metadata": {},
   "outputs": [],
   "source": []
  }
 ],
 "metadata": {
  "kernelspec": {
   "display_name": "Python 3 (ipykernel)",
   "language": "python",
   "name": "python3"
  },
  "language_info": {
   "codemirror_mode": {
    "name": "ipython",
    "version": 3
   },
   "file_extension": ".py",
   "mimetype": "text/x-python",
   "name": "python",
   "nbconvert_exporter": "python",
   "pygments_lexer": "ipython3",
   "version": "3.10.12"
  }
 },
 "nbformat": 4,
 "nbformat_minor": 5
}
