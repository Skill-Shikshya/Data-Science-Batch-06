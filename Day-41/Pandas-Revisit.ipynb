{
 "cells": [
  {
   "cell_type": "code",
   "execution_count": 1,
   "id": "3aebde45-8f58-4da0-a11d-2fc5c6bc68d4",
   "metadata": {},
   "outputs": [],
   "source": [
    "import numpy as np\n",
    "import pandas as pd\n",
    "import seaborn as sns\n",
    "import scipy.stats as stats"
   ]
  },
  {
   "cell_type": "code",
   "execution_count": 2,
   "id": "11247921-b35e-4a8c-94b5-185c1aa77b4b",
   "metadata": {},
   "outputs": [],
   "source": [
    "columns_name = [\n",
    "    'timestamp','sex','matric_gpa_%' ,'study_year','faculty','gpa_%_2023','accommodation_status',\n",
    "    'monthly_allowance','scholarship','study_hours_week','socialising_week','drinks_night',\n",
    "    'classes_missed','modules_failed','in_relationship','parental_approval','relationship_parents'\n",
    "]\n",
    "\n",
    "student_data = pd.read_csv(\"student_survey.csv\", names = columns_name, header = 0)"
   ]
  },
  {
   "cell_type": "code",
   "execution_count": 3,
   "id": "1e44c019-2c76-4d27-a289-832c4896b218",
   "metadata": {},
   "outputs": [
    {
     "data": {
      "text/html": [
       "<div>\n",
       "<style scoped>\n",
       "    .dataframe tbody tr th:only-of-type {\n",
       "        vertical-align: middle;\n",
       "    }\n",
       "\n",
       "    .dataframe tbody tr th {\n",
       "        vertical-align: top;\n",
       "    }\n",
       "\n",
       "    .dataframe thead th {\n",
       "        text-align: right;\n",
       "    }\n",
       "</style>\n",
       "<table border=\"1\" class=\"dataframe\">\n",
       "  <thead>\n",
       "    <tr style=\"text-align: right;\">\n",
       "      <th></th>\n",
       "      <th>timestamp</th>\n",
       "      <th>sex</th>\n",
       "      <th>matric_gpa_%</th>\n",
       "      <th>study_year</th>\n",
       "      <th>faculty</th>\n",
       "      <th>gpa_%_2023</th>\n",
       "      <th>accommodation_status</th>\n",
       "      <th>monthly_allowance</th>\n",
       "      <th>scholarship</th>\n",
       "      <th>study_hours_week</th>\n",
       "      <th>socialising_week</th>\n",
       "      <th>drinks_night</th>\n",
       "      <th>classes_missed</th>\n",
       "      <th>modules_failed</th>\n",
       "      <th>in_relationship</th>\n",
       "      <th>parental_approval</th>\n",
       "      <th>relationship_parents</th>\n",
       "    </tr>\n",
       "  </thead>\n",
       "  <tbody>\n",
       "    <tr>\n",
       "      <th>0</th>\n",
       "      <td>2024/03/07 5:12:01 pm EET</td>\n",
       "      <td>Female</td>\n",
       "      <td>76.0</td>\n",
       "      <td>2nd Year</td>\n",
       "      <td>Arts &amp; Social Sciences</td>\n",
       "      <td>72.0</td>\n",
       "      <td>Private accommodation/ stay with family/friends</td>\n",
       "      <td>R 4001- R 5000</td>\n",
       "      <td>No</td>\n",
       "      <td>8+</td>\n",
       "      <td>Only weekends</td>\n",
       "      <td>8+</td>\n",
       "      <td>3</td>\n",
       "      <td>0</td>\n",
       "      <td>Yes</td>\n",
       "      <td>Yes</td>\n",
       "      <td>Very close</td>\n",
       "    </tr>\n",
       "    <tr>\n",
       "      <th>1</th>\n",
       "      <td>2024/03/07 5:12:08 pm EET</td>\n",
       "      <td>Male</td>\n",
       "      <td>89.0</td>\n",
       "      <td>2nd Year</td>\n",
       "      <td>Economic &amp; Management Sciences</td>\n",
       "      <td>75.0</td>\n",
       "      <td>Private accommodation/ stay with family/friends</td>\n",
       "      <td>R 7001 - R 8000</td>\n",
       "      <td>Yes (NSFAS, etc...)</td>\n",
       "      <td>8+</td>\n",
       "      <td>Only weekends</td>\n",
       "      <td>3-5</td>\n",
       "      <td>4+</td>\n",
       "      <td>0</td>\n",
       "      <td>No</td>\n",
       "      <td>Yes</td>\n",
       "      <td>Very close</td>\n",
       "    </tr>\n",
       "    <tr>\n",
       "      <th>2</th>\n",
       "      <td>2024/03/07 5:12:25 pm EET</td>\n",
       "      <td>Male</td>\n",
       "      <td>76.0</td>\n",
       "      <td>1st Year</td>\n",
       "      <td>AgriSciences</td>\n",
       "      <td>55.0</td>\n",
       "      <td>Private accommodation/ stay with family/friends</td>\n",
       "      <td>R 4001- R 5000</td>\n",
       "      <td>No</td>\n",
       "      <td>3-5</td>\n",
       "      <td>2</td>\n",
       "      <td>8+</td>\n",
       "      <td>3</td>\n",
       "      <td>0</td>\n",
       "      <td>No</td>\n",
       "      <td>Yes</td>\n",
       "      <td>Very close</td>\n",
       "    </tr>\n",
       "    <tr>\n",
       "      <th>3</th>\n",
       "      <td>2024/03/07 5:12:28 pm EET</td>\n",
       "      <td>Male</td>\n",
       "      <td>89.0</td>\n",
       "      <td>2nd Year</td>\n",
       "      <td>Engineering</td>\n",
       "      <td>84.0</td>\n",
       "      <td>Private accommodation/ stay with family/friends</td>\n",
       "      <td>R 6001 - R 7000</td>\n",
       "      <td>No</td>\n",
       "      <td>3-5</td>\n",
       "      <td>3</td>\n",
       "      <td>8+</td>\n",
       "      <td>2</td>\n",
       "      <td>0</td>\n",
       "      <td>Yes</td>\n",
       "      <td>Yes</td>\n",
       "      <td>Very close</td>\n",
       "    </tr>\n",
       "    <tr>\n",
       "      <th>4</th>\n",
       "      <td>2024/03/07 5:13:00 pm EET</td>\n",
       "      <td>Female</td>\n",
       "      <td>74.0</td>\n",
       "      <td>2nd Year</td>\n",
       "      <td>Arts &amp; Social Sciences</td>\n",
       "      <td>52.0</td>\n",
       "      <td>Private accommodation/ stay with family/friends</td>\n",
       "      <td>R 4001- R 5000</td>\n",
       "      <td>No</td>\n",
       "      <td>3-5</td>\n",
       "      <td>Only weekends</td>\n",
       "      <td>5-8</td>\n",
       "      <td>1</td>\n",
       "      <td>3</td>\n",
       "      <td>No</td>\n",
       "      <td>Yes</td>\n",
       "      <td>Fair</td>\n",
       "    </tr>\n",
       "  </tbody>\n",
       "</table>\n",
       "</div>"
      ],
      "text/plain": [
       "                   timestamp     sex  matric_gpa_% study_year  \\\n",
       "0  2024/03/07 5:12:01 pm EET  Female          76.0   2nd Year   \n",
       "1  2024/03/07 5:12:08 pm EET    Male          89.0   2nd Year   \n",
       "2  2024/03/07 5:12:25 pm EET    Male          76.0   1st Year   \n",
       "3  2024/03/07 5:12:28 pm EET    Male          89.0   2nd Year   \n",
       "4  2024/03/07 5:13:00 pm EET  Female          74.0   2nd Year   \n",
       "\n",
       "                          faculty  gpa_%_2023  \\\n",
       "0          Arts & Social Sciences        72.0   \n",
       "1  Economic & Management Sciences        75.0   \n",
       "2                    AgriSciences        55.0   \n",
       "3                     Engineering        84.0   \n",
       "4          Arts & Social Sciences        52.0   \n",
       "\n",
       "                              accommodation_status monthly_allowance  \\\n",
       "0  Private accommodation/ stay with family/friends    R 4001- R 5000   \n",
       "1  Private accommodation/ stay with family/friends   R 7001 - R 8000   \n",
       "2  Private accommodation/ stay with family/friends    R 4001- R 5000   \n",
       "3  Private accommodation/ stay with family/friends   R 6001 - R 7000   \n",
       "4  Private accommodation/ stay with family/friends    R 4001- R 5000   \n",
       "\n",
       "           scholarship study_hours_week socialising_week drinks_night  \\\n",
       "0                   No               8+    Only weekends           8+   \n",
       "1  Yes (NSFAS, etc...)               8+    Only weekends          3-5   \n",
       "2                   No              3-5                2           8+   \n",
       "3                   No              3-5                3           8+   \n",
       "4                   No              3-5    Only weekends          5-8   \n",
       "\n",
       "  classes_missed modules_failed in_relationship parental_approval  \\\n",
       "0              3              0             Yes               Yes   \n",
       "1             4+              0              No               Yes   \n",
       "2              3              0              No               Yes   \n",
       "3              2              0             Yes               Yes   \n",
       "4              1              3              No               Yes   \n",
       "\n",
       "  relationship_parents  \n",
       "0           Very close  \n",
       "1           Very close  \n",
       "2           Very close  \n",
       "3           Very close  \n",
       "4                 Fair  "
      ]
     },
     "execution_count": 3,
     "metadata": {},
     "output_type": "execute_result"
    }
   ],
   "source": [
    "student_data.head()"
   ]
  },
  {
   "cell_type": "markdown",
   "id": "df7a459d-6dd9-4eb0-9ca5-e27840e5803f",
   "metadata": {},
   "source": [
    "## Manipulation and/or Cleaning Data"
   ]
  },
  {
   "cell_type": "markdown",
   "id": "980e363d-0a7f-4ebf-ae58-a4c2353f8ba1",
   "metadata": {},
   "source": [
    "* remove unnecessary columns\n",
    "* Null Value Handling <- Imputation\n",
    "* Outliers Handling\n",
    "* Feature Selection"
   ]
  },
  {
   "cell_type": "code",
   "execution_count": 4,
   "id": "bdf43150-1ce8-4253-aa0d-9f17df55294d",
   "metadata": {},
   "outputs": [
    {
     "name": "stdout",
     "output_type": "stream",
     "text": [
      "<class 'pandas.core.frame.DataFrame'>\n",
      "RangeIndex: 406 entries, 0 to 405\n",
      "Data columns (total 17 columns):\n",
      " #   Column                Non-Null Count  Dtype  \n",
      "---  ------                --------------  -----  \n",
      " 0   timestamp             406 non-null    object \n",
      " 1   sex                   404 non-null    object \n",
      " 2   matric_gpa_%          399 non-null    float64\n",
      " 3   study_year            333 non-null    object \n",
      " 4   faculty               399 non-null    object \n",
      " 5   gpa_%_2023            320 non-null    float64\n",
      " 6   accommodation_status  383 non-null    object \n",
      " 7   monthly_allowance     375 non-null    object \n",
      " 8   scholarship           398 non-null    object \n",
      " 9   study_hours_week      403 non-null    object \n",
      " 10  socialising_week      404 non-null    object \n",
      " 11  drinks_night          404 non-null    object \n",
      " 12  classes_missed        403 non-null    object \n",
      " 13  modules_failed        403 non-null    object \n",
      " 14  in_relationship       403 non-null    object \n",
      " 15  parental_approval     402 non-null    object \n",
      " 16  relationship_parents  403 non-null    object \n",
      "dtypes: float64(2), object(15)\n",
      "memory usage: 54.0+ KB\n"
     ]
    }
   ],
   "source": [
    "student_data.info()"
   ]
  },
  {
   "cell_type": "code",
   "execution_count": 5,
   "id": "553ab246-7eeb-4f4d-b214-67fc45440fa9",
   "metadata": {},
   "outputs": [],
   "source": [
    "# Deleting Timestamp column\n",
    "student_data.drop('timestamp', axis=1, inplace = True)"
   ]
  },
  {
   "cell_type": "code",
   "execution_count": 6,
   "id": "5e187ace-9718-4556-9b1d-ab0ca5a0d3b1",
   "metadata": {},
   "outputs": [
    {
     "data": {
      "text/html": [
       "<div>\n",
       "<style scoped>\n",
       "    .dataframe tbody tr th:only-of-type {\n",
       "        vertical-align: middle;\n",
       "    }\n",
       "\n",
       "    .dataframe tbody tr th {\n",
       "        vertical-align: top;\n",
       "    }\n",
       "\n",
       "    .dataframe thead th {\n",
       "        text-align: right;\n",
       "    }\n",
       "</style>\n",
       "<table border=\"1\" class=\"dataframe\">\n",
       "  <thead>\n",
       "    <tr style=\"text-align: right;\">\n",
       "      <th></th>\n",
       "      <th>sex</th>\n",
       "      <th>matric_gpa_%</th>\n",
       "      <th>study_year</th>\n",
       "      <th>faculty</th>\n",
       "      <th>gpa_%_2023</th>\n",
       "      <th>accommodation_status</th>\n",
       "      <th>monthly_allowance</th>\n",
       "      <th>scholarship</th>\n",
       "      <th>study_hours_week</th>\n",
       "      <th>socialising_week</th>\n",
       "      <th>drinks_night</th>\n",
       "      <th>classes_missed</th>\n",
       "      <th>modules_failed</th>\n",
       "      <th>in_relationship</th>\n",
       "      <th>parental_approval</th>\n",
       "      <th>relationship_parents</th>\n",
       "    </tr>\n",
       "  </thead>\n",
       "  <tbody>\n",
       "    <tr>\n",
       "      <th>0</th>\n",
       "      <td>Female</td>\n",
       "      <td>76.0</td>\n",
       "      <td>2nd Year</td>\n",
       "      <td>Arts &amp; Social Sciences</td>\n",
       "      <td>72.0</td>\n",
       "      <td>Private accommodation/ stay with family/friends</td>\n",
       "      <td>R 4001- R 5000</td>\n",
       "      <td>No</td>\n",
       "      <td>8+</td>\n",
       "      <td>Only weekends</td>\n",
       "      <td>8+</td>\n",
       "      <td>3</td>\n",
       "      <td>0</td>\n",
       "      <td>Yes</td>\n",
       "      <td>Yes</td>\n",
       "      <td>Very close</td>\n",
       "    </tr>\n",
       "    <tr>\n",
       "      <th>1</th>\n",
       "      <td>Male</td>\n",
       "      <td>89.0</td>\n",
       "      <td>2nd Year</td>\n",
       "      <td>Economic &amp; Management Sciences</td>\n",
       "      <td>75.0</td>\n",
       "      <td>Private accommodation/ stay with family/friends</td>\n",
       "      <td>R 7001 - R 8000</td>\n",
       "      <td>Yes (NSFAS, etc...)</td>\n",
       "      <td>8+</td>\n",
       "      <td>Only weekends</td>\n",
       "      <td>3-5</td>\n",
       "      <td>4+</td>\n",
       "      <td>0</td>\n",
       "      <td>No</td>\n",
       "      <td>Yes</td>\n",
       "      <td>Very close</td>\n",
       "    </tr>\n",
       "    <tr>\n",
       "      <th>2</th>\n",
       "      <td>Male</td>\n",
       "      <td>76.0</td>\n",
       "      <td>1st Year</td>\n",
       "      <td>AgriSciences</td>\n",
       "      <td>55.0</td>\n",
       "      <td>Private accommodation/ stay with family/friends</td>\n",
       "      <td>R 4001- R 5000</td>\n",
       "      <td>No</td>\n",
       "      <td>3-5</td>\n",
       "      <td>2</td>\n",
       "      <td>8+</td>\n",
       "      <td>3</td>\n",
       "      <td>0</td>\n",
       "      <td>No</td>\n",
       "      <td>Yes</td>\n",
       "      <td>Very close</td>\n",
       "    </tr>\n",
       "    <tr>\n",
       "      <th>3</th>\n",
       "      <td>Male</td>\n",
       "      <td>89.0</td>\n",
       "      <td>2nd Year</td>\n",
       "      <td>Engineering</td>\n",
       "      <td>84.0</td>\n",
       "      <td>Private accommodation/ stay with family/friends</td>\n",
       "      <td>R 6001 - R 7000</td>\n",
       "      <td>No</td>\n",
       "      <td>3-5</td>\n",
       "      <td>3</td>\n",
       "      <td>8+</td>\n",
       "      <td>2</td>\n",
       "      <td>0</td>\n",
       "      <td>Yes</td>\n",
       "      <td>Yes</td>\n",
       "      <td>Very close</td>\n",
       "    </tr>\n",
       "    <tr>\n",
       "      <th>4</th>\n",
       "      <td>Female</td>\n",
       "      <td>74.0</td>\n",
       "      <td>2nd Year</td>\n",
       "      <td>Arts &amp; Social Sciences</td>\n",
       "      <td>52.0</td>\n",
       "      <td>Private accommodation/ stay with family/friends</td>\n",
       "      <td>R 4001- R 5000</td>\n",
       "      <td>No</td>\n",
       "      <td>3-5</td>\n",
       "      <td>Only weekends</td>\n",
       "      <td>5-8</td>\n",
       "      <td>1</td>\n",
       "      <td>3</td>\n",
       "      <td>No</td>\n",
       "      <td>Yes</td>\n",
       "      <td>Fair</td>\n",
       "    </tr>\n",
       "  </tbody>\n",
       "</table>\n",
       "</div>"
      ],
      "text/plain": [
       "      sex  matric_gpa_% study_year                         faculty  \\\n",
       "0  Female          76.0   2nd Year          Arts & Social Sciences   \n",
       "1    Male          89.0   2nd Year  Economic & Management Sciences   \n",
       "2    Male          76.0   1st Year                    AgriSciences   \n",
       "3    Male          89.0   2nd Year                     Engineering   \n",
       "4  Female          74.0   2nd Year          Arts & Social Sciences   \n",
       "\n",
       "   gpa_%_2023                             accommodation_status  \\\n",
       "0        72.0  Private accommodation/ stay with family/friends   \n",
       "1        75.0  Private accommodation/ stay with family/friends   \n",
       "2        55.0  Private accommodation/ stay with family/friends   \n",
       "3        84.0  Private accommodation/ stay with family/friends   \n",
       "4        52.0  Private accommodation/ stay with family/friends   \n",
       "\n",
       "  monthly_allowance          scholarship study_hours_week socialising_week  \\\n",
       "0    R 4001- R 5000                   No               8+    Only weekends   \n",
       "1   R 7001 - R 8000  Yes (NSFAS, etc...)               8+    Only weekends   \n",
       "2    R 4001- R 5000                   No              3-5                2   \n",
       "3   R 6001 - R 7000                   No              3-5                3   \n",
       "4    R 4001- R 5000                   No              3-5    Only weekends   \n",
       "\n",
       "  drinks_night classes_missed modules_failed in_relationship  \\\n",
       "0           8+              3              0             Yes   \n",
       "1          3-5             4+              0              No   \n",
       "2           8+              3              0              No   \n",
       "3           8+              2              0             Yes   \n",
       "4          5-8              1              3              No   \n",
       "\n",
       "  parental_approval relationship_parents  \n",
       "0               Yes           Very close  \n",
       "1               Yes           Very close  \n",
       "2               Yes           Very close  \n",
       "3               Yes           Very close  \n",
       "4               Yes                 Fair  "
      ]
     },
     "execution_count": 6,
     "metadata": {},
     "output_type": "execute_result"
    }
   ],
   "source": [
    "student_data.head()"
   ]
  },
  {
   "cell_type": "code",
   "execution_count": 7,
   "id": "f0d7defc-c1ec-4c27-baee-3fc827edd094",
   "metadata": {},
   "outputs": [
    {
     "data": {
      "text/plain": [
       "sex                      2\n",
       "matric_gpa_%             7\n",
       "study_year              73\n",
       "faculty                  7\n",
       "gpa_%_2023              86\n",
       "accommodation_status    23\n",
       "monthly_allowance       31\n",
       "scholarship              8\n",
       "study_hours_week         3\n",
       "socialising_week         2\n",
       "drinks_night             2\n",
       "classes_missed           3\n",
       "modules_failed           3\n",
       "in_relationship          3\n",
       "parental_approval        4\n",
       "relationship_parents     3\n",
       "dtype: int64"
      ]
     },
     "execution_count": 7,
     "metadata": {},
     "output_type": "execute_result"
    }
   ],
   "source": [
    "# Handling Null values\n",
    "student_data.isna().sum()"
   ]
  },
  {
   "cell_type": "code",
   "execution_count": 10,
   "id": "4120200a-2abc-4a01-b487-13a16b66a136",
   "metadata": {},
   "outputs": [],
   "source": [
    "# Removing conditional null values related to target\n",
    "null_index = student_data[student_data[[\"study_year\",\"gpa_%_2023\"]].isna().sum(axis=1) > 1].index\n",
    "\n",
    "student_data.drop(null_index, axis = 0, inplace =True)"
   ]
  },
  {
   "cell_type": "code",
   "execution_count": 11,
   "id": "bed959d4-e4da-4a1f-8041-29e7da038099",
   "metadata": {},
   "outputs": [
    {
     "data": {
      "text/plain": [
       "sex                      0\n",
       "matric_gpa_%             3\n",
       "study_year               1\n",
       "faculty                  4\n",
       "gpa_%_2023              14\n",
       "accommodation_status     4\n",
       "monthly_allowance       15\n",
       "scholarship              0\n",
       "study_hours_week         0\n",
       "socialising_week         0\n",
       "drinks_night             0\n",
       "classes_missed           1\n",
       "modules_failed           0\n",
       "in_relationship          1\n",
       "parental_approval        2\n",
       "relationship_parents     1\n",
       "dtype: int64"
      ]
     },
     "execution_count": 11,
     "metadata": {},
     "output_type": "execute_result"
    }
   ],
   "source": [
    "student_data.isna().sum()"
   ]
  },
  {
   "cell_type": "code",
   "execution_count": 12,
   "id": "9af91a1d-37d4-43c5-abde-351eabda9107",
   "metadata": {},
   "outputs": [],
   "source": [
    "# If more than 5 columns null in a row\n",
    "student_data = student_data[~(student_data.isna().sum(axis=1) >= 5)]"
   ]
  },
  {
   "cell_type": "code",
   "execution_count": 13,
   "id": "a7063731-4f6d-4361-8a45-e99c303789ca",
   "metadata": {},
   "outputs": [
    {
     "data": {
      "text/plain": [
       "sex                      0\n",
       "matric_gpa_%             3\n",
       "study_year               1\n",
       "faculty                  4\n",
       "gpa_%_2023              14\n",
       "accommodation_status     4\n",
       "monthly_allowance       15\n",
       "scholarship              0\n",
       "study_hours_week         0\n",
       "socialising_week         0\n",
       "drinks_night             0\n",
       "classes_missed           1\n",
       "modules_failed           0\n",
       "in_relationship          1\n",
       "parental_approval        2\n",
       "relationship_parents     1\n",
       "dtype: int64"
      ]
     },
     "execution_count": 13,
     "metadata": {},
     "output_type": "execute_result"
    }
   ],
   "source": [
    "student_data.isna().sum()"
   ]
  },
  {
   "cell_type": "code",
   "execution_count": 16,
   "id": "8fc502f4-259a-4bf4-b837-11f59591c0be",
   "metadata": {},
   "outputs": [],
   "source": [
    "# filling categorical columns with mode\n",
    "columns_to_fill = [\n",
    "    'accommodation_status','monthly_allowance','scholarship','study_hours_week','faculty','study_year',\n",
    "    'classes_missed','modules_failed','in_relationship','parental_approval','relationship_parents'\n",
    "]\n",
    "student_data.fillna(\n",
    "    student_data[columns_to_fill].mode().loc[0], inplace=True\n",
    ")"
   ]
  },
  {
   "cell_type": "code",
   "execution_count": 17,
   "id": "9e815f42-c9ef-4bff-b1bb-3f38d28cfa69",
   "metadata": {},
   "outputs": [
    {
     "data": {
      "text/plain": [
       "sex                      0\n",
       "matric_gpa_%             3\n",
       "study_year               0\n",
       "faculty                  0\n",
       "gpa_%_2023              14\n",
       "accommodation_status     0\n",
       "monthly_allowance        0\n",
       "scholarship              0\n",
       "study_hours_week         0\n",
       "socialising_week         0\n",
       "drinks_night             0\n",
       "classes_missed           0\n",
       "modules_failed           0\n",
       "in_relationship          0\n",
       "parental_approval        0\n",
       "relationship_parents     0\n",
       "dtype: int64"
      ]
     },
     "execution_count": 17,
     "metadata": {},
     "output_type": "execute_result"
    }
   ],
   "source": [
    "student_data.isna().sum()"
   ]
  },
  {
   "cell_type": "code",
   "execution_count": 18,
   "id": "082d3f7f-67a2-4175-88b3-b508de19d9df",
   "metadata": {},
   "outputs": [
    {
     "name": "stderr",
     "output_type": "stream",
     "text": [
      "/tmp/ipykernel_27460/4218381368.py:3: FutureWarning: A value is trying to be set on a copy of a DataFrame or Series through chained assignment using an inplace method.\n",
      "The behavior will change in pandas 3.0. This inplace method will never work because the intermediate object on which we are setting values always behaves as a copy.\n",
      "\n",
      "For example, when doing 'df[col].method(value, inplace=True)', try using 'df.method({col: value}, inplace=True)' or df[col] = df[col].method(value) instead, to perform the operation inplace on the original object.\n",
      "\n",
      "\n",
      "  student_data[\"matric_gpa_%\"].fillna(mean_gpa, inplace=True)\n",
      "/tmp/ipykernel_27460/4218381368.py:6: FutureWarning: A value is trying to be set on a copy of a DataFrame or Series through chained assignment using an inplace method.\n",
      "The behavior will change in pandas 3.0. This inplace method will never work because the intermediate object on which we are setting values always behaves as a copy.\n",
      "\n",
      "For example, when doing 'df[col].method(value, inplace=True)', try using 'df.method({col: value}, inplace=True)' or df[col] = df[col].method(value) instead, to perform the operation inplace on the original object.\n",
      "\n",
      "\n",
      "  student_data[\"gpa_%_2023\"].fillna(mean_gpa, inplace=True)\n"
     ]
    }
   ],
   "source": [
    "# Imputing continuous numerical value\n",
    "mean_gpa = student_data[\"matric_gpa_%\"].mean()\n",
    "student_data[\"matric_gpa_%\"].fillna(mean_gpa, inplace=True)\n",
    "\n",
    "mean_gpa = student_data[\"gpa_%_2023\"].mean()\n",
    "student_data[\"gpa_%_2023\"].fillna(mean_gpa, inplace=True)\n"
   ]
  },
  {
   "cell_type": "code",
   "execution_count": 19,
   "id": "81bd8720-6df5-4f02-b153-97ab9a025ab9",
   "metadata": {},
   "outputs": [
    {
     "data": {
      "text/plain": [
       "sex                     0\n",
       "matric_gpa_%            0\n",
       "study_year              0\n",
       "faculty                 0\n",
       "gpa_%_2023              0\n",
       "accommodation_status    0\n",
       "monthly_allowance       0\n",
       "scholarship             0\n",
       "study_hours_week        0\n",
       "socialising_week        0\n",
       "drinks_night            0\n",
       "classes_missed          0\n",
       "modules_failed          0\n",
       "in_relationship         0\n",
       "parental_approval       0\n",
       "relationship_parents    0\n",
       "dtype: int64"
      ]
     },
     "execution_count": 19,
     "metadata": {},
     "output_type": "execute_result"
    }
   ],
   "source": [
    "student_data.isna().sum()"
   ]
  },
  {
   "cell_type": "code",
   "execution_count": 21,
   "id": "6982f0c4-ff63-4f78-b906-c0aa232bbd39",
   "metadata": {},
   "outputs": [
    {
     "data": {
      "text/html": [
       "<div>\n",
       "<style scoped>\n",
       "    .dataframe tbody tr th:only-of-type {\n",
       "        vertical-align: middle;\n",
       "    }\n",
       "\n",
       "    .dataframe tbody tr th {\n",
       "        vertical-align: top;\n",
       "    }\n",
       "\n",
       "    .dataframe thead th {\n",
       "        text-align: right;\n",
       "    }\n",
       "</style>\n",
       "<table border=\"1\" class=\"dataframe\">\n",
       "  <thead>\n",
       "    <tr style=\"text-align: right;\">\n",
       "      <th></th>\n",
       "      <th>matric_gpa_%</th>\n",
       "      <th>gpa_%_2023</th>\n",
       "    </tr>\n",
       "  </thead>\n",
       "  <tbody>\n",
       "    <tr>\n",
       "      <th>count</th>\n",
       "      <td>334.000000</td>\n",
       "      <td>334.000000</td>\n",
       "    </tr>\n",
       "    <tr>\n",
       "      <th>mean</th>\n",
       "      <td>78.047402</td>\n",
       "      <td>66.268469</td>\n",
       "    </tr>\n",
       "    <tr>\n",
       "      <th>std</th>\n",
       "      <td>6.623199</td>\n",
       "      <td>8.953543</td>\n",
       "    </tr>\n",
       "    <tr>\n",
       "      <th>min</th>\n",
       "      <td>55.000000</td>\n",
       "      <td>30.000000</td>\n",
       "    </tr>\n",
       "    <tr>\n",
       "      <th>25%</th>\n",
       "      <td>74.000000</td>\n",
       "      <td>60.000000</td>\n",
       "    </tr>\n",
       "    <tr>\n",
       "      <th>50%</th>\n",
       "      <td>78.000000</td>\n",
       "      <td>65.000000</td>\n",
       "    </tr>\n",
       "    <tr>\n",
       "      <th>75%</th>\n",
       "      <td>83.000000</td>\n",
       "      <td>73.000000</td>\n",
       "    </tr>\n",
       "    <tr>\n",
       "      <th>max</th>\n",
       "      <td>99.000000</td>\n",
       "      <td>95.220000</td>\n",
       "    </tr>\n",
       "  </tbody>\n",
       "</table>\n",
       "</div>"
      ],
      "text/plain": [
       "       matric_gpa_%  gpa_%_2023\n",
       "count    334.000000  334.000000\n",
       "mean      78.047402   66.268469\n",
       "std        6.623199    8.953543\n",
       "min       55.000000   30.000000\n",
       "25%       74.000000   60.000000\n",
       "50%       78.000000   65.000000\n",
       "75%       83.000000   73.000000\n",
       "max       99.000000   95.220000"
      ]
     },
     "execution_count": 21,
     "metadata": {},
     "output_type": "execute_result"
    }
   ],
   "source": [
    "# Outlier Handling\n",
    "student_data[['matric_gpa_%','gpa_%_2023']].describe()"
   ]
  },
  {
   "cell_type": "code",
   "execution_count": 22,
   "id": "fb16fffd-255e-4fcb-b2c2-e7f0f03f1946",
   "metadata": {},
   "outputs": [
    {
     "data": {
      "text/plain": [
       "<Axes: >"
      ]
     },
     "execution_count": 22,
     "metadata": {},
     "output_type": "execute_result"
    },
    {
     "data": {
      "image/png": "[encoded data removed]",
      "text/plain": [
       "<Figure size 640x480 with 1 Axes>"
      ]
     },
     "metadata": {},
     "output_type": "display_data"
    }
   ],
   "source": [
    "student_data[['matric_gpa_%','gpa_%_2023']].plot.box()"
   ]
  },
  {
   "cell_type": "code",
   "execution_count": 23,
   "id": "6d2b7c10-4998-4f47-9e71-16606ae63a45",
   "metadata": {},
   "outputs": [],
   "source": [
    "# Handling Outlier with IQR\n",
    "def handle_outlier(\n",
    "    dataframe : pd.DataFrame, columns: list[str]\n",
    "):\n",
    "    \"\"\"\n",
    "    DocString\n",
    "    \"\"\"\n",
    "    for each_col in columns:\n",
    "        print(f\"Working for {each_col} column\")\n",
    "        series = dataframe[each_col]\n",
    "        \n",
    "        q1 = series.quantile(0.25)\n",
    "        q3 = series.quantile(0.75)\n",
    "        iqr = q3-q1\n",
    "        max_v = q3 + 1.5 * iqr\n",
    "        min_v = q1 - 1.5 * iqr\n",
    "\n",
    "        to_drop = series[(series > max_v) | (series < min_v)].index\n",
    "        print(f\"Dropping {to_drop} indexes\")\n",
    "\n",
    "        dataframe = dataframe.drop(to_drop, axis = 0, inplace = False)\n",
    "\n",
    "    return dataframe"
   ]
  },
  {
   "cell_type": "code",
   "execution_count": 24,
   "id": "fe8ab4bf-a541-4e5a-84e9-e753b666d839",
   "metadata": {},
   "outputs": [
    {
     "name": "stdout",
     "output_type": "stream",
     "text": [
      "Working for matric_gpa_% column\n",
      "Dropping Index([38, 54, 73, 203, 268, 335, 358], dtype='int64') indexes\n",
      "Working for gpa_%_2023 column\n",
      "Dropping Index([303], dtype='int64') indexes\n"
     ]
    }
   ],
   "source": [
    "student_data_no_outlier = handle_outlier(student_data, ['matric_gpa_%','gpa_%_2023'])"
   ]
  },
  {
   "cell_type": "code",
   "execution_count": 27,
   "id": "d1edd54d-a40c-4406-8bce-9ac8467e1a73",
   "metadata": {},
   "outputs": [],
   "source": [
    "# def handle_outlier(series: pd.Series) -> pd.Series:\n",
    "#     \"\"\"\n",
    "#     Handle outliers in a Pandas Series using the IQR method.\n",
    "#     \"\"\"\n",
    "#     q1 = series.quantile(0.25)\n",
    "#     q3 = series.quantile(0.75)\n",
    "#     iqr = q3 - q1\n",
    "#     max_v = q3 + 1.5 * iqr\n",
    "#     min_v = q1 - 1.5 * iqr\n",
    "    \n",
    "#     return series[(series >= min_v) & (series <= max_v)]\n",
    "\n",
    "# columns = ['matric_gpa_%','gpa_%_2023']\n",
    "# student_data[columns] = student_data[columns].apply(handle_outlier)"
   ]
  },
  {
   "cell_type": "code",
   "execution_count": null,
   "id": "c9732874-ba9a-4123-9f3f-fff357fd9260",
   "metadata": {},
   "outputs": [],
   "source": []
  },
  {
   "cell_type": "code",
   "execution_count": 28,
   "id": "accf5b56-3935-47ff-8224-398b7c7618a6",
   "metadata": {},
   "outputs": [],
   "source": [
    "student_data_no_outlier.to_csv(\"student_survey_clean.csv\", index= False)"
   ]
  },
  {
   "cell_type": "code",
   "execution_count": null,
   "id": "ce7b83d6-2861-414e-8010-ba7fe53f6d2b",
   "metadata": {},
   "outputs": [],
   "source": []
  }
 ],
 "metadata": {
  "kernelspec": {
   "display_name": "Python 3 (ipykernel)",
   "language": "python",
   "name": "python3"
  },
  "language_info": {
   "codemirror_mode": {
    "name": "ipython",
    "version": 3
   },
   "file_extension": ".py",
   "mimetype": "text/x-python",
   "name": "python",
   "nbconvert_exporter": "python",
   "pygments_lexer": "ipython3",
   "version": "3.10.12"
  }
 },
 "nbformat": 4,
 "nbformat_minor": 5
}
