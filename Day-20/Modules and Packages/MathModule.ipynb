{
 "cells": [
  {
   "cell_type": "markdown",
   "id": "9b02a29f-c201-49f1-8166-7e1a61b587dc",
   "metadata": {},
   "source": [
    "# Python Math Module\n",
    "\n",
    "The Python `math` module provides a set of mathematical functions for performing various mathematical operations. Here is a brief tutorial on some of the most commonly used functions and properties in the math module:\n",
    "\n",
    "## Arithmetic Functions\n",
    "\n",
    "These are functions that perform basic arithmetic operations such as addition, subtraction, multiplication, and division.\n",
    "\n",
    "- `math.pow(x, y)`: Returns the yth power of x\n",
    "- `math.sqrt(x)`: Returns the square root of x\n",
    "- `math.ceil(x)`: Returns the smallest integer greater than or equal to x\n",
    "- `math.floor(x)`: Returns the intger after rounding it down towards negative infinity\n",
    "- `math.trunc(x)`: Returns the integer part of x after rounding it down towards zero\n",
    "- `math.fabs(x)`: Returns the absolute value of x"
   ]
  },
  {
   "cell_type": "code",
   "execution_count": 2,
   "id": "2845dce8-8518-4b31-b5d7-41c5bfcd3558",
   "metadata": {},
   "outputs": [],
   "source": [
    "import math"
   ]
  },
  {
   "cell_type": "code",
   "execution_count": 5,
   "id": "2e375a14-2913-418b-884a-3fcd05715cee",
   "metadata": {},
   "outputs": [
    {
     "data": {
      "text/plain": [
       "2"
      ]
     },
     "execution_count": 5,
     "metadata": {},
     "output_type": "execute_result"
    }
   ],
   "source": [
    "math.floor(2.66)"
   ]
  },
  {
   "cell_type": "code",
   "execution_count": 7,
   "id": "8735852f-1fc0-4bd2-a023-5b4299840b69",
   "metadata": {},
   "outputs": [
    {
     "data": {
      "text/plain": [
       "3"
      ]
     },
     "execution_count": 7,
     "metadata": {},
     "output_type": "execute_result"
    }
   ],
   "source": [
    "math.ceil(2.11)"
   ]
  },
  {
   "cell_type": "code",
   "execution_count": 9,
   "id": "e6270ea0-21ed-43ea-8adb-141c5743e93c",
   "metadata": {},
   "outputs": [
    {
     "data": {
      "text/plain": [
       "2"
      ]
     },
     "execution_count": 9,
     "metadata": {},
     "output_type": "execute_result"
    }
   ],
   "source": [
    "math.trunc(2.9)"
   ]
  },
  {
   "cell_type": "code",
   "execution_count": 10,
   "id": "5e5f44ec-7823-4794-b8cc-77ea83499877",
   "metadata": {},
   "outputs": [
    {
     "data": {
      "text/plain": [
       "3.0"
      ]
     },
     "execution_count": 10,
     "metadata": {},
     "output_type": "execute_result"
    }
   ],
   "source": [
    "math.fabs(-3)"
   ]
  },
  {
   "cell_type": "code",
   "execution_count": null,
   "id": "47c7e626-d2ac-41f0-a0dd-d4a6ea5d56ab",
   "metadata": {},
   "outputs": [],
   "source": []
  },
  {
   "cell_type": "markdown",
   "id": "0292a4f9-50d1-44a0-ad46-45017a691df8",
   "metadata": {},
   "source": [
    "## Trigonometric Functions:\n",
    "\n",
    "These are functions that deal with angles and their relationships to each other.\n",
    "\n",
    "- `math.sin(x)`: Returns the sine of x (in radians)\n",
    "- `math.cos(x)`: Returns the cosine of x (in radians)\n",
    "- `math.tan(x)`: Returns the tan of x (in radians)\n",
    "- `math.radians(x)`: Converts x from degrees to radians\n",
    "- `math.degrees(x)`: Converts x from radians to degrees\n",
    "- `math.hypot(x, y)`: Returns the length of the hypotenuse of a right triangle with sides x and y"
   ]
  },
  {
   "cell_type": "code",
   "execution_count": 12,
   "id": "566f5046-ee29-4379-9140-22bb2e939aa6",
   "metadata": {},
   "outputs": [
    {
     "data": {
      "text/plain": [
       "0.49999999999999994"
      ]
     },
     "execution_count": 12,
     "metadata": {},
     "output_type": "execute_result"
    }
   ],
   "source": [
    "d_to_r = math.radians(30)\n",
    "math.sin(d_to_r)"
   ]
  },
  {
   "cell_type": "code",
   "execution_count": 14,
   "id": "d7833b52-1e78-4b1b-9454-8fb0eb83ceae",
   "metadata": {},
   "outputs": [
    {
     "data": {
      "text/plain": [
       "5.0"
      ]
     },
     "execution_count": 14,
     "metadata": {},
     "output_type": "execute_result"
    }
   ],
   "source": [
    "math.hypot(3,4)"
   ]
  },
  {
   "cell_type": "code",
   "execution_count": null,
   "id": "8737f769-d997-4013-a377-af3e2e5937e7",
   "metadata": {},
   "outputs": [],
   "source": []
  },
  {
   "cell_type": "markdown",
   "id": "23a00b56-3d44-43ae-9d6a-6135d412379e",
   "metadata": {},
   "source": [
    "## Exponential and Logarithmic Functions:\n",
    "\n",
    "These are functions that deal with the exponential growth and decay of values over time.\n",
    "\n",
    "- `math.exp(x)`: Returns the exponential of x\n",
    "- `math.log(x)`: Returns the natural logarithm of x\n",
    "- `math.log10(x)`: Returns the base 10 logarithm of x"
   ]
  },
  {
   "cell_type": "code",
   "execution_count": 15,
   "id": "58e11211-4341-4583-8a2c-08318bb5102f",
   "metadata": {},
   "outputs": [
    {
     "data": {
      "text/plain": [
       "1.0"
      ]
     },
     "execution_count": 15,
     "metadata": {},
     "output_type": "execute_result"
    }
   ],
   "source": [
    "math.log10(10)"
   ]
  },
  {
   "cell_type": "code",
   "execution_count": 24,
   "id": "d08e3a23-56af-482c-a2a0-b66ad4749844",
   "metadata": {},
   "outputs": [
    {
     "data": {
      "text/plain": [
       "3.2188758248682006"
      ]
     },
     "execution_count": 24,
     "metadata": {},
     "output_type": "execute_result"
    }
   ],
   "source": [
    "math.log(25)"
   ]
  },
  {
   "cell_type": "code",
   "execution_count": 25,
   "id": "2550cdfc-beab-4743-a397-bbe672db74e9",
   "metadata": {},
   "outputs": [
    {
     "data": {
      "text/plain": [
       "54.598150033144236"
      ]
     },
     "execution_count": 25,
     "metadata": {},
     "output_type": "execute_result"
    }
   ],
   "source": [
    "math.exp(4)"
   ]
  },
  {
   "cell_type": "code",
   "execution_count": null,
   "id": "676a33dd-781a-47e6-8519-86920eb8d761",
   "metadata": {},
   "outputs": [],
   "source": []
  },
  {
   "cell_type": "markdown",
   "id": "d4150e0a-99c1-4e1c-bf2a-f6aeeb689910",
   "metadata": {},
   "source": [
    "## Constants:\n",
    "\n",
    "The math module also includes several mathematical constants that are popular among the mathematicians. You may be familiar with most of them.\n",
    "\n",
    "- `math.pi`: Returns the mathematical constant pi (3.141592...)\n",
    "- `math.e`: Returns the mathematical constant e (2.718281...)\n",
    "- `math.inf`: Returns a floating-point positive infinity value\n",
    "- `math.tau`: Returns the mathematical constant tau (2*pi)\n",
    "- `math.nan`: Returns a floating-point not-a-number (NaN) value"
   ]
  },
  {
   "cell_type": "code",
   "execution_count": 26,
   "id": "75f9cb44-2f4c-4cae-9e5e-1164826f863e",
   "metadata": {},
   "outputs": [
    {
     "data": {
      "text/plain": [
       "3.141592653589793"
      ]
     },
     "execution_count": 26,
     "metadata": {},
     "output_type": "execute_result"
    }
   ],
   "source": [
    "math.pi"
   ]
  },
  {
   "cell_type": "code",
   "execution_count": 27,
   "id": "0aa92ca9-bfbd-4029-862f-298b460eabc2",
   "metadata": {},
   "outputs": [
    {
     "data": {
      "text/plain": [
       "2.718281828459045"
      ]
     },
     "execution_count": 27,
     "metadata": {},
     "output_type": "execute_result"
    }
   ],
   "source": [
    "math.e"
   ]
  },
  {
   "cell_type": "code",
   "execution_count": 28,
   "id": "453c2fd8-46c8-4941-966e-cb52520cbcad",
   "metadata": {},
   "outputs": [
    {
     "data": {
      "text/plain": [
       "inf"
      ]
     },
     "execution_count": 28,
     "metadata": {},
     "output_type": "execute_result"
    }
   ],
   "source": [
    "math.inf"
   ]
  },
  {
   "cell_type": "code",
   "execution_count": null,
   "id": "00b918b3-e8fe-43b9-8169-09bdef790383",
   "metadata": {},
   "outputs": [],
   "source": []
  },
  {
   "cell_type": "markdown",
   "id": "b47e2f04-31f9-4763-93c6-1eb3b747e671",
   "metadata": {},
   "source": [
    "## Special Functions:\n",
    "\n",
    "These are functions that deal with special and more complex mathematical concepts.\n",
    "\n",
    "- `math.factorial(x)`: Returns the factorial of x (x!)\n",
    "- `math.comb(n, k)`: Returns the number of ways to choose k items from a set of n items\n",
    "- `math.isclose(a, b, rel_tol=1e-9, abs_tol=0.0)`: Returns True if the absolute difference between a and b is less than or equal to either the relative tolerance `rel_tol` or the absolute tolerance `abs_tol`\n",
    "- `math.isqrt(n)`: Returns the integer square root of n\n",
    "- `math.dist(p, q)`: Returns the Euclidean distance between two points p and q in n-dimensional space\n",
    "- `math.erf(x)`: Returns the error function of x\n",
    "- `math.gamma(x)`: Returns the gamma function of x\n",
    "- `math.perm(n, k)`: Returns the number of possible permutations of selecting k items from a group of n items without replacement and where the order of selection matters"
   ]
  },
  {
   "cell_type": "code",
   "execution_count": 31,
   "id": "5fe1e8e9-acd2-42e3-b7c1-5a6ce1a97152",
   "metadata": {},
   "outputs": [
    {
     "data": {
      "text/plain": [
       "1124000727777607680000"
      ]
     },
     "execution_count": 31,
     "metadata": {},
     "output_type": "execute_result"
    }
   ],
   "source": [
    "math.factorial(22)"
   ]
  },
  {
   "cell_type": "code",
   "execution_count": 33,
   "id": "ac63c73a-a7f5-42f1-93ed-baad86013e19",
   "metadata": {},
   "outputs": [
    {
     "data": {
      "text/plain": [
       "5"
      ]
     },
     "execution_count": 33,
     "metadata": {},
     "output_type": "execute_result"
    }
   ],
   "source": [
    "math.comb(5,4)"
   ]
  },
  {
   "cell_type": "code",
   "execution_count": 34,
   "id": "fc58af95-140e-4b4a-8b65-fd4ed9ae1657",
   "metadata": {},
   "outputs": [
    {
     "data": {
      "text/plain": [
       "5.916079783099616"
      ]
     },
     "execution_count": 34,
     "metadata": {},
     "output_type": "execute_result"
    }
   ],
   "source": [
    "math.sqrt(35)"
   ]
  },
  {
   "cell_type": "code",
   "execution_count": 35,
   "id": "53c4e874-ba4f-448d-aac4-a25fafef32ef",
   "metadata": {},
   "outputs": [
    {
     "data": {
      "text/plain": [
       "5"
      ]
     },
     "execution_count": 35,
     "metadata": {},
     "output_type": "execute_result"
    }
   ],
   "source": [
    "math.isqrt(35)"
   ]
  },
  {
   "cell_type": "code",
   "execution_count": 39,
   "id": "6d643257-0bdb-41ca-b218-0cfdc692f251",
   "metadata": {},
   "outputs": [
    {
     "data": {
      "text/plain": [
       "7.280109889280518"
      ]
     },
     "execution_count": 39,
     "metadata": {},
     "output_type": "execute_result"
    }
   ],
   "source": [
    "math.dist((4,5,7,3,2),(6,7,9,7,7))"
   ]
  },
  {
   "cell_type": "code",
   "execution_count": 43,
   "id": "426f1609-309d-4043-99bc-3b8db2423f87",
   "metadata": {},
   "outputs": [
    {
     "data": {
      "text/plain": [
       "True"
      ]
     },
     "execution_count": 43,
     "metadata": {},
     "output_type": "execute_result"
    }
   ],
   "source": [
    "math.isclose(0.011,0.012, rel_tol=0.01, abs_tol=0.01)"
   ]
  },
  {
   "cell_type": "code",
   "execution_count": 44,
   "id": "cdfa892c-639c-40cb-a2a8-22289539767f",
   "metadata": {},
   "outputs": [
    {
     "data": {
      "text/plain": [
       "0.9999779095030014"
      ]
     },
     "execution_count": 44,
     "metadata": {},
     "output_type": "execute_result"
    }
   ],
   "source": [
    "math.erf(3)"
   ]
  },
  {
   "cell_type": "code",
   "execution_count": 47,
   "id": "469870b6-b508-49ad-99b7-19ffddba8a0b",
   "metadata": {},
   "outputs": [
    {
     "data": {
      "text/plain": [
       "2.3632718012073544"
      ]
     },
     "execution_count": 47,
     "metadata": {},
     "output_type": "execute_result"
    }
   ],
   "source": [
    "math.gamma(-1.5)"
   ]
  },
  {
   "cell_type": "code",
   "execution_count": null,
   "id": "4395f545-dad3-4e8e-b9e3-3a6b366a8cc1",
   "metadata": {},
   "outputs": [],
   "source": []
  }
 ],
 "metadata": {
  "kernelspec": {
   "display_name": "Python 3 (ipykernel)",
   "language": "python",
   "name": "python3"
  },
  "language_info": {
   "codemirror_mode": {
    "name": "ipython",
    "version": 3
   },
   "file_extension": ".py",
   "mimetype": "text/x-python",
   "name": "python",
   "nbconvert_exporter": "python",
   "pygments_lexer": "ipython3",
   "version": "3.10.12"
  }
 },
 "nbformat": 4,
 "nbformat_minor": 5
}
