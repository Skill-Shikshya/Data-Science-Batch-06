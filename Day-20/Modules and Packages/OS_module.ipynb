{
 "cells": [
  {
   "cell_type": "markdown",
   "id": "9673c744-5272-4aaf-b5d2-1b44ce4464ee",
   "metadata": {},
   "source": [
    "# Python OS Module\n",
    "\n",
    "The os module in Python provides a way of interacting with the operating system. It provides a way to access and manipulate files and directories, start and stop processes, get information about the system, and more.\n",
    "\n",
    "## Working with Files and Directories\n",
    "\n",
    "Let's explore the `os` module and its various functions and methods that support working with files and directories.\n",
    "\n",
    "- `os.getcwd()`: Get the current working directory\n",
    "- `os.mkdir('path')`: Create a new directory\n",
    "- `os.chdir('path')`: Change the current working directory\n",
    "- `os.listdir('path')`: List the contents of a directory\n",
    "- `os.rename('old_name', 'new_name)`: Rename a file or a directory\n",
    "- `os.remove('file_to_delete')`: Remove a file\n",
    "- `os.rmdir('directory_to_delete')`: Remove a directory\n",
    "- `os.path.dirname('path')`: Returns the name of the directory containing pathname path\n",
    "- `os.path.exists('path')`: Checks if the path already exists, if so returns True"
   ]
  },
  {
   "cell_type": "code",
   "execution_count": 1,
   "id": "eedf6c6e-ffac-4a6b-b654-2e87e60de0df",
   "metadata": {},
   "outputs": [],
   "source": [
    "import os"
   ]
  },
  {
   "cell_type": "code",
   "execution_count": 3,
   "id": "469483f2-d080-4f18-86ee-558cf41864fa",
   "metadata": {},
   "outputs": [
    {
     "name": "stdout",
     "output_type": "stream",
     "text": [
      "/home/shailesh/Desktop/VritEducation/Data-Science-Batch-06/Day-20/Modules and Packages\n"
     ]
    }
   ],
   "source": [
    "print(os.getcwd()) #< Current working directory"
   ]
  },
  {
   "cell_type": "code",
   "execution_count": 13,
   "id": "cf36bb02-836f-4076-9d38-574362e08a0a",
   "metadata": {},
   "outputs": [
    {
     "name": "stdout",
     "output_type": "stream",
     "text": [
      "dir created\n"
     ]
    }
   ],
   "source": [
    "if not os.path.exists(\"test\"): #< if test dir exist\n",
    "    os.mkdir(\"test\")\n",
    "    print(\"dir created\")"
   ]
  },
  {
   "cell_type": "code",
   "execution_count": 18,
   "id": "045528f3-832c-4d6a-9367-2cc92250244e",
   "metadata": {},
   "outputs": [],
   "source": [
    "os.makedirs(\"test\",exist_ok=True)"
   ]
  },
  {
   "cell_type": "code",
   "execution_count": 23,
   "id": "b061651b-1404-48fd-a7e1-b61cb38d7899",
   "metadata": {},
   "outputs": [
    {
     "data": {
      "text/plain": [
       "['OS_module.ipynb', 'test', '.ipynb_checkpoints', 'Data-Time-Module.ipynb']"
      ]
     },
     "execution_count": 23,
     "metadata": {},
     "output_type": "execute_result"
    }
   ],
   "source": [
    "os.listdir('.')"
   ]
  },
  {
   "cell_type": "code",
   "execution_count": 25,
   "id": "075cb648-3090-40fa-8484-0b3787ad363f",
   "metadata": {},
   "outputs": [
    {
     "ename": "FileNotFoundError",
     "evalue": "[Errno 2] No such file or directory: 'test'",
     "output_type": "error",
     "traceback": [
      "\u001b[0;31m---------------------------------------------------------------------------\u001b[0m",
      "\u001b[0;31mFileNotFoundError\u001b[0m                         Traceback (most recent call last)",
      "Cell \u001b[0;32mIn[25], line 1\u001b[0m\n\u001b[0;32m----> 1\u001b[0m \u001b[43mos\u001b[49m\u001b[38;5;241;43m.\u001b[39;49m\u001b[43mrmdir\u001b[49m\u001b[43m(\u001b[49m\u001b[38;5;124;43m\"\u001b[39;49m\u001b[38;5;124;43mtest\u001b[39;49m\u001b[38;5;124;43m\"\u001b[39;49m\u001b[43m)\u001b[49m\n",
      "\u001b[0;31mFileNotFoundError\u001b[0m: [Errno 2] No such file or directory: 'test'"
     ]
    }
   ],
   "source": [
    "os.rmdir(\"test\")"
   ]
  },
  {
   "cell_type": "code",
   "execution_count": 26,
   "id": "ed029418-a159-4132-90bc-b2c7364922e6",
   "metadata": {},
   "outputs": [
    {
     "data": {
      "text/plain": [
       "'/home/shailesh/Desktop/VritEducation/Data-Science-Batch-06/Day-20/Modules and Packages'"
      ]
     },
     "execution_count": 26,
     "metadata": {},
     "output_type": "execute_result"
    }
   ],
   "source": [
    "os.getcwd() #< Get current dir"
   ]
  },
  {
   "cell_type": "code",
   "execution_count": 27,
   "id": "967119b9-ea37-4a0f-97e0-02a072f15c68",
   "metadata": {},
   "outputs": [],
   "source": [
    "os.chdir(\"/home/shailesh/Desktop/VritEducation/Data-Science-Batch-06/Assignment\")"
   ]
  },
  {
   "cell_type": "code",
   "execution_count": 28,
   "id": "d730af87-444e-47a2-9683-9a32d40706ac",
   "metadata": {},
   "outputs": [
    {
     "data": {
      "text/plain": [
       "'/home/shailesh/Desktop/VritEducation/Data-Science-Batch-06/Assignment'"
      ]
     },
     "execution_count": 28,
     "metadata": {},
     "output_type": "execute_result"
    }
   ],
   "source": [
    "os.getcwd()"
   ]
  },
  {
   "cell_type": "code",
   "execution_count": 30,
   "id": "66cb27b6-defe-4ea9-a424-64f11458c369",
   "metadata": {},
   "outputs": [
    {
     "data": {
      "text/plain": [
       "['Day-12',\n",
       " 'Day-07',\n",
       " '.gitignore',\n",
       " '.codegpt',\n",
       " 'Day-17',\n",
       " 'Day-14',\n",
       " 'Day-10',\n",
       " 'Day-18',\n",
       " 'Day-20',\n",
       " 'Day-16',\n",
       " 'Day-06',\n",
       " 'Day-13',\n",
       " '.git',\n",
       " 'Day-08',\n",
       " 'Day-01',\n",
       " 'README.md',\n",
       " 'Assignment',\n",
       " 'Day-09',\n",
       " 'Day-02',\n",
       " 'Day-04',\n",
       " 'Day-03',\n",
       " 'Day-05',\n",
       " '.ipynb_checkpoints',\n",
       " 'Day-15',\n",
       " 'Day-11',\n",
       " 'Day-19']"
      ]
     },
     "execution_count": 30,
     "metadata": {},
     "output_type": "execute_result"
    }
   ],
   "source": [
    "os.listdir('..')"
   ]
  },
  {
   "cell_type": "code",
   "execution_count": null,
   "id": "34a990fd-e316-443c-901d-c2a38b9e61b4",
   "metadata": {},
   "outputs": [],
   "source": []
  },
  {
   "cell_type": "markdown",
   "id": "7538787a-7d1e-4677-91db-6a5e47ceb7af",
   "metadata": {},
   "source": [
    "## Working with Environment Variables\n",
    "\n",
    "The `os` module provides functions for working with environment variables. Here are some of the most commonly used functions:\n",
    "\n",
    "- `os.getenv('var_name')`: Get the value of an Environment Variable\n",
    "- `os.environ['var_name'] = 'var_value'`: Set the Value of an Environment Variable"
   ]
  },
  {
   "cell_type": "code",
   "execution_count": 31,
   "id": "f2a93a8c-b95b-4ce7-b55b-92d0fdb90e95",
   "metadata": {},
   "outputs": [],
   "source": [
    "import os"
   ]
  },
  {
   "cell_type": "code",
   "execution_count": 33,
   "id": "4f413075-2286-4e08-ba74-bcc0d3652969",
   "metadata": {},
   "outputs": [
    {
     "data": {
      "text/plain": [
       "'/home/shailesh'"
      ]
     },
     "execution_count": 33,
     "metadata": {},
     "output_type": "execute_result"
    }
   ],
   "source": [
    "os.getenv('HOME')"
   ]
  },
  {
   "cell_type": "code",
   "execution_count": 48,
   "id": "03739536-38ce-443f-8de6-cfd4bd8cd371",
   "metadata": {},
   "outputs": [],
   "source": [
    "os.getenv('OneDrive')"
   ]
  },
  {
   "cell_type": "code",
   "execution_count": 44,
   "id": "b01f9ef0-7d7a-4a99-a845-5ce5bcb29960",
   "metadata": {},
   "outputs": [],
   "source": [
    "os.environ[\"TEST\"] = \"sercet_password\""
   ]
  },
  {
   "cell_type": "code",
   "execution_count": 45,
   "id": "ef67d728-ea00-4ab4-b08b-8f54a0c342b9",
   "metadata": {},
   "outputs": [
    {
     "data": {
      "text/plain": [
       "'sercet_password'"
      ]
     },
     "execution_count": 45,
     "metadata": {},
     "output_type": "execute_result"
    }
   ],
   "source": [
    "os.getenv(\"TEST\")"
   ]
  },
  {
   "cell_type": "code",
   "execution_count": 50,
   "id": "5fffc7ea-3dc3-450a-802b-30216cd4e52e",
   "metadata": {},
   "outputs": [
    {
     "data": {
      "text/plain": [
       "environ{'SHELL': '/bin/bash',\n",
       "        'SESSION_MANAGER': 'local/shailesh-aiml:@/tmp/.ICE-unix/5662,unix/shailesh-aiml:/tmp/.ICE-unix/5662',\n",
       "        'QT_ACCESSIBILITY': '1',\n",
       "        'COLORTERM': 'truecolor',\n",
       "        'PYENV_SHELL': 'bash',\n",
       "        'XDG_CONFIG_DIRS': '/etc/xdg/xdg-ubuntu:/etc/xdg',\n",
       "        'SSH_AGENT_LAUNCHER': 'gnome-keyring',\n",
       "        'XDG_MENU_PREFIX': 'gnome-',\n",
       "        'GNOME_DESKTOP_SESSION_ID': 'this-is-deprecated',\n",
       "        'GTK_IM_MODULE': 'ibus',\n",
       "        'LC_ADDRESS': 'bho_NP',\n",
       "        'GNOME_SHELL_SESSION_MODE': 'ubuntu',\n",
       "        'LC_NAME': 'bho_NP',\n",
       "        'SSH_AUTH_SOCK': '/run/user/1000/keyring/ssh',\n",
       "        'XMODIFIERS': '@im=ibus',\n",
       "        'DESKTOP_SESSION': 'ubuntu',\n",
       "        'LC_MONETARY': 'bho_NP',\n",
       "        'GTK_MODULES': 'gail:atk-bridge',\n",
       "        'PWD': '/home/shailesh/Desktop/VritEducation/Data-Science-Batch-06',\n",
       "        'LOGNAME': 'shailesh',\n",
       "        'XDG_SESSION_DESKTOP': 'ubuntu',\n",
       "        'XDG_SESSION_TYPE': 'x11',\n",
       "        'GPG_AGENT_INFO': '/run/user/1000/gnupg/S.gpg-agent:0:1',\n",
       "        'SYSTEMD_EXEC_PID': '5688',\n",
       "        'XAUTHORITY': '/run/user/1000/gdm/Xauthority',\n",
       "        'WINDOWPATH': '2',\n",
       "        'HOME': '/home/shailesh',\n",
       "        'USERNAME': 'shailesh',\n",
       "        'LC_PAPER': 'bho_NP',\n",
       "        'LANG': 'en_US.UTF-8',\n",
       "        'LS_COLORS': 'rs=0:di=01;34:ln=01;36:mh=00:pi=40;33:so=01;35:do=01;35:bd=40;33;01:cd=40;33;01:or=40;31;01:mi=00:su=37;41:sg=30;43:ca=30;41:tw=30;42:ow=34;42:st=37;44:ex=01;32:*.tar=01;31:*.tgz=01;31:*.arc=01;31:*.arj=01;31:*.taz=01;31:*.lha=01;31:*.lz4=01;31:*.lzh=01;31:*.lzma=01;31:*.tlz=01;31:*.txz=01;31:*.tzo=01;31:*.t7z=01;31:*.zip=01;31:*.z=01;31:*.dz=01;31:*.gz=01;31:*.lrz=01;31:*.lz=01;31:*.lzo=01;31:*.xz=01;31:*.zst=01;31:*.tzst=01;31:*.bz2=01;31:*.bz=01;31:*.tbz=01;31:*.tbz2=01;31:*.tz=01;31:*.deb=01;31:*.rpm=01;31:*.jar=01;31:*.war=01;31:*.ear=01;31:*.sar=01;31:*.rar=01;31:*.alz=01;31:*.ace=01;31:*.zoo=01;31:*.cpio=01;31:*.7z=01;31:*.rz=01;31:*.cab=01;31:*.wim=01;31:*.swm=01;31:*.dwm=01;31:*.esd=01;31:*.jpg=01;35:*.jpeg=01;35:*.mjpg=01;35:*.mjpeg=01;35:*.gif=01;35:*.bmp=01;35:*.pbm=01;35:*.pgm=01;35:*.ppm=01;35:*.tga=01;35:*.xbm=01;35:*.xpm=01;35:*.tif=01;35:*.tiff=01;35:*.png=01;35:*.svg=01;35:*.svgz=01;35:*.mng=01;35:*.pcx=01;35:*.mov=01;35:*.mpg=01;35:*.mpeg=01;35:*.m2v=01;35:*.mkv=01;35:*.webm=01;35:*.webp=01;35:*.ogm=01;35:*.mp4=01;35:*.m4v=01;35:*.mp4v=01;35:*.vob=01;35:*.qt=01;35:*.nuv=01;35:*.wmv=01;35:*.asf=01;35:*.rm=01;35:*.rmvb=01;35:*.flc=01;35:*.avi=01;35:*.fli=01;35:*.flv=01;35:*.gl=01;35:*.dl=01;35:*.xcf=01;35:*.xwd=01;35:*.yuv=01;35:*.cgm=01;35:*.emf=01;35:*.ogv=01;35:*.ogx=01;35:*.aac=00;36:*.au=00;36:*.flac=00;36:*.m4a=00;36:*.mid=00;36:*.midi=00;36:*.mka=00;36:*.mp3=00;36:*.mpc=00;36:*.ogg=00;36:*.ra=00;36:*.wav=00;36:*.oga=00;36:*.opus=00;36:*.spx=00;36:*.xspf=00;36:',\n",
       "        'XDG_CURRENT_DESKTOP': 'ubuntu:GNOME',\n",
       "        'VIRTUAL_ENV': '/home/shailesh/Desktop/VritEducation/.vritenv',\n",
       "        'VTE_VERSION': '6800',\n",
       "        'GNOME_TERMINAL_SCREEN': '/org/gnome/Terminal/screen/3695de17_ab15_4374_8576_8d1a17f40d45',\n",
       "        'LESSCLOSE': '/usr/bin/lesspipe %s %s',\n",
       "        'XDG_SESSION_CLASS': 'user',\n",
       "        'PYTHONPATH': 'home/shailesh/.cache/pypoetry/virtualenvs/tactix-yuBQfSTb-py3.11/lib/python3.11/site-packages:',\n",
       "        'TERM': 'xterm-color',\n",
       "        'LC_IDENTIFICATION': 'bho_NP',\n",
       "        'LESSOPEN': '| /usr/bin/lesspipe %s',\n",
       "        'USER': 'shailesh',\n",
       "        'GNOME_TERMINAL_SERVICE': ':1.981',\n",
       "        'DISPLAY': ':1',\n",
       "        'SHLVL': '1',\n",
       "        'LC_TELEPHONE': 'bho_NP',\n",
       "        'QT_IM_MODULE': 'ibus',\n",
       "        'LC_MEASUREMENT': 'bho_NP',\n",
       "        'VIRTUAL_ENV_PROMPT': '(.vritenv) ',\n",
       "        'XDG_RUNTIME_DIR': '/run/user/1000',\n",
       "        'PS1': '(.vritenv) \\\\[\\\\e]0;\\\\u@\\\\h: \\\\w\\\\a\\\\]${debian_chroot:+($debian_chroot)}\\\\[\\\\033[01;32m\\\\]\\\\u@\\\\h\\\\[\\\\033[00m\\\\]:\\\\[\\\\033[01;34m\\\\]\\\\w\\\\[\\\\033[00m\\\\]\\\\$ ',\n",
       "        'PYENV_ROOT': '/home/shailesh/.pyenv',\n",
       "        'LC_TIME': 'bho_NP',\n",
       "        'XDG_DATA_DIRS': '/usr/share/ubuntu:/usr/share/gnome:/home/shailesh/.local/share/flatpak/exports/share:/var/lib/flatpak/exports/share:/usr/local/share/:/usr/share/:/var/lib/snapd/desktop',\n",
       "        'PATH': '/home/shailesh/Desktop/VritEducation/.vritenv/bin:/home/shailesh/.pyenv/shims:/home/shailesh/.pyenv/bin:/home/shailesh/.pyenv/bin:/home/shailesh/.local/bin:/usr/local/sbin:/usr/local/bin:/usr/sbin:/usr/bin:/sbin:/bin:/usr/games:/usr/local/games:/snap/bin:/snap/bin',\n",
       "        'GDMSESSION': 'ubuntu',\n",
       "        'DBUS_SESSION_BUS_ADDRESS': 'unix:path=/run/user/1000/bus',\n",
       "        'LC_NUMERIC': 'bho_NP',\n",
       "        'OLDPWD': '/home/shailesh/Desktop/VritEducation',\n",
       "        '_': '/home/shailesh/Desktop/VritEducation/.vritenv/bin/jupyter',\n",
       "        'JPY_SESSION_NAME': '/home/shailesh/Desktop/VritEducation/Data-Science-Batch-06/Day-20/Modules and Packages/Untitled.ipynb',\n",
       "        'JPY_PARENT_PID': '138888',\n",
       "        'PYDEVD_USE_FRAME_EVAL': 'NO',\n",
       "        'CLICOLOR': '1',\n",
       "        'FORCE_COLOR': '1',\n",
       "        'CLICOLOR_FORCE': '1',\n",
       "        'PAGER': 'cat',\n",
       "        'GIT_PAGER': 'cat',\n",
       "        'MPLBACKEND': 'module://matplotlib_inline.backend_inline',\n",
       "        'TEST': 'sercet_password'}"
      ]
     },
     "execution_count": 50,
     "metadata": {},
     "output_type": "execute_result"
    }
   ],
   "source": [
    "os.environ #< list of env variables"
   ]
  },
  {
   "cell_type": "code",
   "execution_count": null,
   "id": "8cb541e7-a528-4f2f-beac-b6a530682974",
   "metadata": {},
   "outputs": [],
   "source": []
  }
 ],
 "metadata": {
  "kernelspec": {
   "display_name": "Python 3 (ipykernel)",
   "language": "python",
   "name": "python3"
  },
  "language_info": {
   "codemirror_mode": {
    "name": "ipython",
    "version": 3
   },
   "file_extension": ".py",
   "mimetype": "text/x-python",
   "name": "python",
   "nbconvert_exporter": "python",
   "pygments_lexer": "ipython3",
   "version": "3.10.12"
  }
 },
 "nbformat": 4,
 "nbformat_minor": 5
}
