{
 "cells": [
  {
   "cell_type": "markdown",
   "id": "c936adfc-d5c1-449b-adef-9129505d9109",
   "metadata": {},
   "source": [
    "## Why Numpy over Python `for` Loop?\n"
   ]
  },
  {
   "cell_type": "markdown",
   "id": "bd00ae1a-ae74-4d72-bf0f-3733d432a5bd",
   "metadata": {},
   "source": [
    "NumPy is faster than Python for loops because it is designed to perform operations on entire arrays rather than individual elements. This allows it to take advantage of lower-level optimizations such as vectorization and caching. Here's an example that illustrates the performance difference between NumPy and Python for loops:"
   ]
  },
  {
   "cell_type": "code",
   "execution_count": 1,
   "id": "2b8eb803-f524-4a8b-8448-318c859a0817",
   "metadata": {},
   "outputs": [],
   "source": [
    "import numpy as np\n",
    "import time \n",
    "\n",
    "a = np.random.rand(90_000_000)\n",
    "b = np.random.rand(90_000_000)"
   ]
  },
  {
   "cell_type": "code",
   "execution_count": 2,
   "id": "549a5563-80e4-4569-ac39-5b2e102c9a77",
   "metadata": {},
   "outputs": [
    {
     "name": "stdout",
     "output_type": "stream",
     "text": [
      "Time Taken by python loop 7.023554563522339 sec\n"
     ]
    }
   ],
   "source": [
    "# Using Pure python\n",
    "\n",
    "lsa = list(a)\n",
    "lsb = list(b)\n",
    "res= []\n",
    "\n",
    "start = time.time()\n",
    "for _a, _b in zip(lsa, lsb):\n",
    "    res.append(_a * _b)\n",
    "\n",
    "end = time.time()\n",
    "print(f\"Time Taken by python loop {end - start} sec\")"
   ]
  },
  {
   "cell_type": "code",
   "execution_count": 2,
   "id": "005b990a-c9c9-4209-98c7-da21b469cbb8",
   "metadata": {},
   "outputs": [
    {
     "name": "stdout",
     "output_type": "stream",
     "text": [
      "Time Taken by python loop 3.685788869857788 sec\n"
     ]
    }
   ],
   "source": [
    "# Using list comprehensions\n",
    "\n",
    "lsa = list(a)\n",
    "lsb = list(b)\n",
    "\n",
    "start = time.time()\n",
    "res= [_a*_b for _a, _b in zip(lsa, lsb)]\n",
    "end = time.time()\n",
    "\n",
    "print(f\"Time Taken by Comprehension {end - start} sec\")"
   ]
  },
  {
   "cell_type": "code",
   "execution_count": 2,
   "id": "dcf1de9e-8017-4605-895c-273f2890a2e8",
   "metadata": {},
   "outputs": [
    {
     "name": "stdout",
     "output_type": "stream",
     "text": [
      "Time Taken by Generator 4.214344024658203 sec\n"
     ]
    }
   ],
   "source": [
    "# Using Map Function\n",
    "lsa = list(a)\n",
    "lsb = list(b)\n",
    "\n",
    "start = time.time()\n",
    "gen= map(lambda x, y : x*y ,lsa, lsb)\n",
    "result = list(gen)\n",
    "end = time.time()\n",
    "\n",
    "print(f\"Time Taken by Generator {end - start} sec\")"
   ]
  },
  {
   "cell_type": "code",
   "execution_count": 2,
   "id": "136bd5fa-af6b-4a49-9822-7d6bdbfd3534",
   "metadata": {},
   "outputs": [
    {
     "name": "stdout",
     "output_type": "stream",
     "text": [
      "Time Taken by Numpy Operation:  2.6683366298675537 sec\n"
     ]
    }
   ],
   "source": [
    "# Using Numpy operation\n",
    "\n",
    "start = time.time()\n",
    "result = a * b\n",
    "end = time.time()\n",
    "\n",
    "print(f\"Time Taken by Numpy Operation:  {end - start} sec\")"
   ]
  },
  {
   "cell_type": "code",
   "execution_count": null,
   "id": "b5bd0918-f34d-4ef3-9b10-a486c233b044",
   "metadata": {},
   "outputs": [],
   "source": []
  }
 ],
 "metadata": {
  "kernelspec": {
   "display_name": "Python 3 (ipykernel)",
   "language": "python",
   "name": "python3"
  },
  "language_info": {
   "codemirror_mode": {
    "name": "ipython",
    "version": 3
   },
   "file_extension": ".py",
   "mimetype": "text/x-python",
   "name": "python",
   "nbconvert_exporter": "python",
   "pygments_lexer": "ipython3",
   "version": "3.10.12"
  }
 },
 "nbformat": 4,
 "nbformat_minor": 5
}
