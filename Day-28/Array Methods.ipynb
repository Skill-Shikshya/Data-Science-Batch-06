{
 "cells": [
  {
   "cell_type": "markdown",
   "id": "adaa318a-ad3c-4b5b-a355-beca9472511b",
   "metadata": {},
   "source": [
    "## NumPy Array Properties and Methods\n",
    "\n",
    "NumPy arrays have several useful properties and methods that can be used to manipulate them.\n",
    "\n",
    "- `shape`: Property that returns the dimensions of the array\n",
    "- `ndim`: Property that returns number of array dimensions\n",
    "- `dtype`: Property that returns data-type of the array’s elements\n",
    "- `T`: Transpose of the array’s elements\n",
    "- -------------------------------------------------------------------\n",
    "- `reshape()`: Method to change the dimensions of an array. The product of old dimensions should match the product of new dimensions\n",
    "- `ravel()`: Method that collapses all values into a single axis or dimension and returns view of original array\n",
    "- `flatten()`: Method that collapses all values into a single axis or dimension and returns an independent copy of original array\n",
    "- `np.concatenate()`: Method to concatenate two or more arrays\n",
    "- `sum()`: Method that returns the sum of all elements in an array\n",
    "- `cumsum()`: Method that returns cumulative sum over given axis\n",
    "- `prod()`: Method that compute product over given axis\n",
    "- `max()`: Method that returns the maximum along a given axis\n",
    "- `argmax()`: Method that returns indeces of the maximum values along a given axis\n",
    "- `clip()`: Clip values beyond range to threshold values\n",
    "- `np.split()`: Method to split an array into multiple sub-arrays\n",
    "- `np.vstack()`: Method to stack arrays vertically\n",
    "- `np.hstack()`: Method to stack arrays horizontally"
   ]
  },
  {
   "cell_type": "code",
   "execution_count": 14,
   "id": "2bbb252a-f2aa-427d-9e8e-5fe3e47d717c",
   "metadata": {},
   "outputs": [],
   "source": [
    "import numpy as np"
   ]
  },
  {
   "cell_type": "code",
   "execution_count": 15,
   "id": "f68bd89a-8c56-4d8c-ad89-1d51d544b829",
   "metadata": {},
   "outputs": [],
   "source": [
    "arr = np.random.randint(10,50, size = (5,2,3))"
   ]
  },
  {
   "cell_type": "code",
   "execution_count": 4,
   "id": "d00a68a5-8bc8-4f30-9d5b-67ca4a2f65f9",
   "metadata": {},
   "outputs": [
    {
     "data": {
      "text/plain": [
       "(5, 2, 3)"
      ]
     },
     "execution_count": 4,
     "metadata": {},
     "output_type": "execute_result"
    }
   ],
   "source": [
    "arr.shape"
   ]
  },
  {
   "cell_type": "code",
   "execution_count": 5,
   "id": "09e24f5f-5ee9-4064-9272-c0103fee7258",
   "metadata": {},
   "outputs": [
    {
     "data": {
      "text/plain": [
       "3"
      ]
     },
     "execution_count": 5,
     "metadata": {},
     "output_type": "execute_result"
    }
   ],
   "source": [
    "arr.ndim"
   ]
  },
  {
   "cell_type": "code",
   "execution_count": 6,
   "id": "4f8af362-1098-4761-a5a9-4b20e837b429",
   "metadata": {},
   "outputs": [
    {
     "data": {
      "text/plain": [
       "dtype('int64')"
      ]
     },
     "execution_count": 6,
     "metadata": {},
     "output_type": "execute_result"
    }
   ],
   "source": [
    "arr.dtype"
   ]
  },
  {
   "cell_type": "code",
   "execution_count": 7,
   "id": "2dfb9498-968b-45cb-974b-eb7bac79f94b",
   "metadata": {},
   "outputs": [
    {
     "data": {
      "text/plain": [
       "array([[[34, 18, 39, 16, 48],\n",
       "        [22, 27, 26, 38, 31]],\n",
       "\n",
       "       [[13, 42, 41, 41, 24],\n",
       "        [16, 44, 41, 10, 14]],\n",
       "\n",
       "       [[34, 18, 35, 24, 47],\n",
       "        [28, 16, 35, 11, 34]]])"
      ]
     },
     "execution_count": 7,
     "metadata": {},
     "output_type": "execute_result"
    }
   ],
   "source": [
    "arr_T = arr.T\n",
    "arr_T"
   ]
  },
  {
   "cell_type": "code",
   "execution_count": 8,
   "id": "454eab05-99f0-41f0-ae63-03c9c16250c1",
   "metadata": {},
   "outputs": [
    {
     "data": {
      "text/plain": [
       "(3, 2, 5)"
      ]
     },
     "execution_count": 8,
     "metadata": {},
     "output_type": "execute_result"
    }
   ],
   "source": [
    "arr_T.shape"
   ]
  },
  {
   "cell_type": "code",
   "execution_count": null,
   "id": "92d6ff8f-383e-4c0e-849d-4b070abbd849",
   "metadata": {},
   "outputs": [],
   "source": []
  },
  {
   "cell_type": "code",
   "execution_count": 9,
   "id": "99eba6af-d9f9-4f1a-aeb5-279aa24d3de5",
   "metadata": {},
   "outputs": [
    {
     "data": {
      "text/plain": [
       "(5, 2, 3)"
      ]
     },
     "execution_count": 9,
     "metadata": {},
     "output_type": "execute_result"
    }
   ],
   "source": [
    "arr.shape"
   ]
  },
  {
   "cell_type": "code",
   "execution_count": 10,
   "id": "c8604f26-fdc6-456a-9e2c-09d5c6baf8f3",
   "metadata": {},
   "outputs": [
    {
     "data": {
      "text/plain": [
       "array([[[34, 13],\n",
       "        [34, 22],\n",
       "        [16, 28],\n",
       "        [18, 42],\n",
       "        [18, 27]],\n",
       "\n",
       "       [[44, 16],\n",
       "        [39, 41],\n",
       "        [35, 26],\n",
       "        [41, 35],\n",
       "        [16, 41]],\n",
       "\n",
       "       [[24, 38],\n",
       "        [10, 11],\n",
       "        [48, 24],\n",
       "        [47, 31],\n",
       "        [14, 34]]])"
      ]
     },
     "execution_count": 10,
     "metadata": {},
     "output_type": "execute_result"
    }
   ],
   "source": [
    "arr.reshape(3,5,2)"
   ]
  },
  {
   "cell_type": "code",
   "execution_count": 12,
   "id": "141d1318-5d89-41f4-b4d8-9570bc8863f3",
   "metadata": {},
   "outputs": [
    {
     "data": {
      "text/plain": [
       "array([[[34, 13, 34],\n",
       "        [22, 16, 28]],\n",
       "\n",
       "       [[18, 42, 18],\n",
       "        [27, 44, 16]],\n",
       "\n",
       "       [[39, 41, 35],\n",
       "        [26, 41, 35]],\n",
       "\n",
       "       [[16, 41, 24],\n",
       "        [38, 10, 11]],\n",
       "\n",
       "       [[48, 24, 47],\n",
       "        [31, 14, 34]]])"
      ]
     },
     "execution_count": 12,
     "metadata": {},
     "output_type": "execute_result"
    }
   ],
   "source": [
    "arr.reshape(-1,2,3)"
   ]
  },
  {
   "cell_type": "code",
   "execution_count": null,
   "id": "9cf34816-f054-4702-8ff3-f2ba15411dc6",
   "metadata": {},
   "outputs": [],
   "source": []
  },
  {
   "cell_type": "code",
   "execution_count": 27,
   "id": "0ae94406-6151-45ba-a86e-6b1828399649",
   "metadata": {},
   "outputs": [
    {
     "data": {
      "text/plain": [
       "array([36, 12, 12, 34, 23, 27, 13, 11, 42, 13, 37, 28, 22, 23, 34, 16, 20,\n",
       "       39, 28, 42, 20, 39, 40, 36, 35, 14, 37, 31, 25, 23])"
      ]
     },
     "execution_count": 27,
     "metadata": {},
     "output_type": "execute_result"
    }
   ],
   "source": [
    "arr.flatten()"
   ]
  },
  {
   "cell_type": "code",
   "execution_count": null,
   "id": "9a0d3edd-fd75-4735-af59-bde9394d666f",
   "metadata": {},
   "outputs": [],
   "source": []
  },
  {
   "cell_type": "markdown",
   "id": "9fc517a2-7eba-4662-a006-41fbb42ca7c9",
   "metadata": {},
   "source": [
    "### 0 > column wise\n",
    "### 1 > row wise"
   ]
  },
  {
   "cell_type": "code",
   "execution_count": 49,
   "id": "574deb3d-3ede-4e62-9c53-ded849766f06",
   "metadata": {},
   "outputs": [
    {
     "data": {
      "text/plain": [
       "array([[70, 35, 39],\n",
       "       [26, 48, 70],\n",
       "       [38, 43, 73],\n",
       "       [67, 82, 56],\n",
       "       [66, 39, 60]])"
      ]
     },
     "execution_count": 49,
     "metadata": {},
     "output_type": "execute_result"
    }
   ],
   "source": [
    "# arr.sum()\n",
    "arr.sum(axis = 1)\n"
   ]
  },
  {
   "cell_type": "code",
   "execution_count": 39,
   "id": "8ecafb59-ec77-4349-a7cb-8cf81d062cac",
   "metadata": {},
   "outputs": [
    {
     "data": {
      "text/plain": [
       "array([0, 6])"
      ]
     },
     "execution_count": 39,
     "metadata": {},
     "output_type": "execute_result"
    }
   ],
   "source": [
    "np.sum(\n",
    "    [\n",
    "        [0, 1], \n",
    "        [0, 5]\n",
    "    ], \n",
    "axis=0)\n"
   ]
  },
  {
   "cell_type": "code",
   "execution_count": 40,
   "id": "5caec7b4-b326-421e-b9b7-632ee05acc5e",
   "metadata": {},
   "outputs": [
    {
     "data": {
      "text/plain": [
       "array([1, 5])"
      ]
     },
     "execution_count": 40,
     "metadata": {},
     "output_type": "execute_result"
    }
   ],
   "source": [
    "np.sum(\n",
    "    [\n",
    "        [0, 1], \n",
    "        [0, 5]\n",
    "    ], \n",
    "axis=1)\n"
   ]
  },
  {
   "cell_type": "code",
   "execution_count": null,
   "id": "2f840450-3b69-4d0d-b754-bd084fb8bcd2",
   "metadata": {},
   "outputs": [],
   "source": []
  },
  {
   "cell_type": "code",
   "execution_count": 45,
   "id": "beb2ded2-3e98-484e-a53e-e7f3f97fafca",
   "metadata": {},
   "outputs": [
    {
     "data": {
      "text/plain": [
       "np.float64(8.114461873681362e+41)"
      ]
     },
     "execution_count": 45,
     "metadata": {},
     "output_type": "execute_result"
    }
   ],
   "source": [
    "arr.prod(dtype = float)"
   ]
  },
  {
   "cell_type": "code",
   "execution_count": 46,
   "id": "53782239-025d-41c8-b2ab-0ea504d8ce7e",
   "metadata": {},
   "outputs": [
    {
     "data": {
      "text/plain": [
       "array([[10090080,  1785168, 12680640],\n",
       "       [ 8550048, 17020000, 24412752]])"
      ]
     },
     "execution_count": 46,
     "metadata": {},
     "output_type": "execute_result"
    }
   ],
   "source": [
    "arr.prod(axis = 0)"
   ]
  },
  {
   "cell_type": "code",
   "execution_count": null,
   "id": "65598ad8-af35-4699-bec8-9c0ec98b88f0",
   "metadata": {},
   "outputs": [],
   "source": []
  },
  {
   "cell_type": "code",
   "execution_count": 47,
   "id": "8f574325-d744-4cd0-bd28-a13f21f69dbb",
   "metadata": {},
   "outputs": [
    {
     "data": {
      "text/plain": [
       "array([ 36,  48,  60,  94, 117, 144, 157, 168, 210, 223, 260, 288, 310,\n",
       "       333, 367, 383, 403, 442, 470, 512, 532, 571, 611, 647, 682, 696,\n",
       "       733, 764, 789, 812])"
      ]
     },
     "execution_count": 47,
     "metadata": {},
     "output_type": "execute_result"
    }
   ],
   "source": [
    "arr.cumsum()"
   ]
  },
  {
   "cell_type": "code",
   "execution_count": null,
   "id": "8c82f817-3429-4bc5-9bd6-f97401fce920",
   "metadata": {},
   "outputs": [],
   "source": []
  },
  {
   "cell_type": "code",
   "execution_count": 55,
   "id": "f2feca53-a88c-4a81-a68f-6ce56f4a8d29",
   "metadata": {},
   "outputs": [
    {
     "data": {
      "text/plain": [
       "np.int64(42)"
      ]
     },
     "execution_count": 55,
     "metadata": {},
     "output_type": "execute_result"
    }
   ],
   "source": [
    "arr.max()"
   ]
  },
  {
   "cell_type": "code",
   "execution_count": 58,
   "id": "e7108f07-92a7-44ca-8608-80bafc4e2a6e",
   "metadata": {},
   "outputs": [
    {
     "data": {
      "text/plain": [
       "np.int64(8)"
      ]
     },
     "execution_count": 58,
     "metadata": {},
     "output_type": "execute_result"
    }
   ],
   "source": [
    "arr.argmax()\n",
    "# arr.argmax(axis = 0)"
   ]
  },
  {
   "cell_type": "code",
   "execution_count": 60,
   "id": "54feb17e-43b0-4c76-b4bc-30be809d0b70",
   "metadata": {},
   "outputs": [
    {
     "data": {
      "text/plain": [
       "array([[[20, 12, 12],\n",
       "        [20, 20, 20]],\n",
       "\n",
       "       [[13, 11, 20],\n",
       "        [13, 20, 20]],\n",
       "\n",
       "       [[20, 20, 20],\n",
       "        [16, 20, 20]],\n",
       "\n",
       "       [[20, 20, 20],\n",
       "        [20, 20, 20]],\n",
       "\n",
       "       [[20, 14, 20],\n",
       "        [20, 20, 20]]])"
      ]
     },
     "execution_count": 60,
     "metadata": {},
     "output_type": "execute_result"
    }
   ],
   "source": [
    "arr.clip(10,20)"
   ]
  },
  {
   "cell_type": "code",
   "execution_count": null,
   "id": "5cab7e75-75b3-4217-ad7b-2d9017a81c29",
   "metadata": {},
   "outputs": [],
   "source": []
  },
  {
   "cell_type": "code",
   "execution_count": 77,
   "id": "a8b4d6fc-6f3d-49de-ad9a-2a688e503e27",
   "metadata": {},
   "outputs": [],
   "source": [
    "arr1 = np.random.randint(low = -10, high = 10, size = (2,3))\n",
    "arr2 = np.random.randint(low = 0, high = 11, size = (2,3))"
   ]
  },
  {
   "cell_type": "code",
   "execution_count": 78,
   "id": "cee01206-f4ea-47c8-af16-ddbea212ced6",
   "metadata": {},
   "outputs": [
    {
     "data": {
      "text/plain": [
       "(array([[-3, -8, -2],\n",
       "        [ 4, -3,  2]]),\n",
       " array([[ 2,  8,  2],\n",
       "        [ 3,  1, 10]]))"
      ]
     },
     "execution_count": 78,
     "metadata": {},
     "output_type": "execute_result"
    }
   ],
   "source": [
    "arr1, arr2"
   ]
  },
  {
   "cell_type": "code",
   "execution_count": 81,
   "id": "c77eda15-2da0-4a9e-a342-83a231289dcc",
   "metadata": {},
   "outputs": [
    {
     "data": {
      "text/plain": [
       "array([[-3, -8, -2],\n",
       "       [ 4, -3,  2],\n",
       "       [ 2,  8,  2],\n",
       "       [ 3,  1, 10]])"
      ]
     },
     "execution_count": 81,
     "metadata": {},
     "output_type": "execute_result"
    }
   ],
   "source": [
    "np.vstack([arr1, arr2]) #< same columns"
   ]
  },
  {
   "cell_type": "code",
   "execution_count": 80,
   "id": "3623b9cd-ee5d-4ae4-8e03-67f03ad8d8ee",
   "metadata": {},
   "outputs": [
    {
     "data": {
      "text/plain": [
       "array([[-3, -8, -2,  2,  8,  2],\n",
       "       [ 4, -3,  2,  3,  1, 10]])"
      ]
     },
     "execution_count": 80,
     "metadata": {},
     "output_type": "execute_result"
    }
   ],
   "source": [
    "np.hstack((arr1, arr2)) #< same rows"
   ]
  }
 ],
 "metadata": {
  "kernelspec": {
   "display_name": "Python 3 (ipykernel)",
   "language": "python",
   "name": "python3"
  },
  "language_info": {
   "codemirror_mode": {
    "name": "ipython",
    "version": 3
   },
   "file_extension": ".py",
   "mimetype": "text/x-python",
   "name": "python",
   "nbconvert_exporter": "python",
   "pygments_lexer": "ipython3",
   "version": "3.10.12"
  }
 },
 "nbformat": 4,
 "nbformat_minor": 5
}
