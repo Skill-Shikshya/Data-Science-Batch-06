{
 "cells": [
  {
   "cell_type": "markdown",
   "id": "22862305-ac20-4495-823d-eb6ec5421335",
   "metadata": {},
   "source": [
    "## 1. Elementwise Operations\n",
    "\n",
    "Refer to : https://numpy.org/doc/1.26/reference/array_api.html#elementwise-functions"
   ]
  },
  {
   "cell_type": "code",
   "execution_count": 1,
   "id": "66e818d5-cf33-4565-822b-673c425951ec",
   "metadata": {},
   "outputs": [],
   "source": [
    "import numpy as np"
   ]
  },
  {
   "cell_type": "code",
   "execution_count": 2,
   "id": "ff26e075-1782-4129-ace4-788eee1a89f7",
   "metadata": {},
   "outputs": [],
   "source": [
    "a = np.array([[4,5,6],[5,7,9]])\n",
    "b = np.array([[1,2,3],[9,8,7]])"
   ]
  },
  {
   "cell_type": "code",
   "execution_count": 6,
   "id": "3983d350-6d46-486e-891b-3e54d66aa15f",
   "metadata": {},
   "outputs": [
    {
     "data": {
      "text/plain": [
       "(array([[4, 5, 6],\n",
       "        [5, 7, 9]]),\n",
       " array([[1, 2, 3],\n",
       "        [9, 8, 7]]))"
      ]
     },
     "execution_count": 6,
     "metadata": {},
     "output_type": "execute_result"
    }
   ],
   "source": [
    "a,b"
   ]
  },
  {
   "cell_type": "markdown",
   "id": "9567aaee-45b3-4b2d-a5a6-f6265647fa64",
   "metadata": {},
   "source": [
    "### Arithmetic Operations"
   ]
  },
  {
   "cell_type": "code",
   "execution_count": 7,
   "id": "9544cb67-bcda-40f9-b96a-98b4e7c0c4f5",
   "metadata": {},
   "outputs": [
    {
     "data": {
      "text/plain": [
       "array([[ 5,  7,  9],\n",
       "       [14, 15, 16]])"
      ]
     },
     "execution_count": 7,
     "metadata": {},
     "output_type": "execute_result"
    }
   ],
   "source": [
    "# a + b \n",
    "np.add(a,b)"
   ]
  },
  {
   "cell_type": "code",
   "execution_count": 30,
   "id": "6d77ac9e-fcad-4291-b833-558260e26152",
   "metadata": {},
   "outputs": [
    {
     "data": {
      "text/plain": [
       "array([[ 3,  3,  3],\n",
       "       [-4, -1,  2]])"
      ]
     },
     "execution_count": 30,
     "metadata": {},
     "output_type": "execute_result"
    }
   ],
   "source": [
    "# a-b\n",
    "np.subtract(a,b)"
   ]
  },
  {
   "cell_type": "code",
   "execution_count": 11,
   "id": "cde130aa-d3b9-41b2-b058-50142b855f0b",
   "metadata": {},
   "outputs": [
    {
     "data": {
      "text/plain": [
       "array([[ 4, 10, 18],\n",
       "       [45, 56, 63]])"
      ]
     },
     "execution_count": 11,
     "metadata": {},
     "output_type": "execute_result"
    }
   ],
   "source": [
    "# a * b\n",
    "np.multiply(a,b)"
   ]
  },
  {
   "cell_type": "code",
   "execution_count": 20,
   "id": "2ac35168-6845-494e-8e65-6ad59a31961c",
   "metadata": {},
   "outputs": [
    {
     "data": {
      "text/plain": [
       "array([[      4,      25,     216],\n",
       "       [1953125, 5764801, 4782969]])"
      ]
     },
     "execution_count": 20,
     "metadata": {},
     "output_type": "execute_result"
    }
   ],
   "source": [
    "# a ** 2\n",
    "# np.square(b)\n",
    "np.power(a,b)"
   ]
  },
  {
   "cell_type": "code",
   "execution_count": 21,
   "id": "bca7217c-3b1c-4524-b59f-d9498698ab58",
   "metadata": {},
   "outputs": [],
   "source": [
    "# a % b\n",
    "quo, rem = np.divmod(a,2)"
   ]
  },
  {
   "cell_type": "code",
   "execution_count": 22,
   "id": "3fe4c6e8-c473-4acb-bcb0-0456d4b9c7f2",
   "metadata": {},
   "outputs": [
    {
     "data": {
      "text/plain": [
       "array([[0, 1, 0],\n",
       "       [1, 1, 1]])"
      ]
     },
     "execution_count": 22,
     "metadata": {},
     "output_type": "execute_result"
    }
   ],
   "source": [
    "rem"
   ]
  },
  {
   "cell_type": "code",
   "execution_count": 27,
   "id": "45cb6e6d-fe9b-4a90-94cb-880a1f874e32",
   "metadata": {},
   "outputs": [
    {
     "data": {
      "text/plain": [
       "array([[2.        , 2.23606798, 2.44948974],\n",
       "       [2.23606798, 2.64575131, 3.        ]])"
      ]
     },
     "execution_count": 27,
     "metadata": {},
     "output_type": "execute_result"
    }
   ],
   "source": [
    "np.sqrt(a)"
   ]
  },
  {
   "cell_type": "code",
   "execution_count": 35,
   "id": "fcde25b9-96f6-47fd-84f6-a3a58ac363e8",
   "metadata": {},
   "outputs": [
    {
     "data": {
      "text/plain": [
       "array([[2., 3., 3.],\n",
       "       [3., 3., 3.]])"
      ]
     },
     "execution_count": 35,
     "metadata": {},
     "output_type": "execute_result"
    }
   ],
   "source": [
    "np.ceil(np.sqrt(a))"
   ]
  },
  {
   "cell_type": "code",
   "execution_count": null,
   "id": "37614c2b-fd5f-4854-9397-f398d132d04b",
   "metadata": {},
   "outputs": [],
   "source": []
  },
  {
   "cell_type": "markdown",
   "id": "80b77c1a-fd55-458c-a924-6c0c6e5f4c6b",
   "metadata": {},
   "source": [
    "### Trignometric"
   ]
  },
  {
   "cell_type": "code",
   "execution_count": 36,
   "id": "9728cf62-b537-4b0e-8896-47e50d56b2c6",
   "metadata": {},
   "outputs": [
    {
     "name": "stdout",
     "output_type": "stream",
     "text": [
      "[[-1.32134871 -1.04283521 -3.57889955]\n",
      " [-1.04283521  1.52210106  2.42648664]]\n"
     ]
    }
   ],
   "source": [
    "new = 1 / np.sin(a)\n",
    "print(new)"
   ]
  },
  {
   "cell_type": "code",
   "execution_count": 37,
   "id": "0f93a803-6f45-4726-b04f-c042c54fab85",
   "metadata": {},
   "outputs": [
    {
     "data": {
      "text/plain": [
       "array([[ 0.64209262, -0.45765755, -7.01525255],\n",
       "       [-2.21084541, -0.14706506,  1.14751542]])"
      ]
     },
     "execution_count": 37,
     "metadata": {},
     "output_type": "execute_result"
    }
   ],
   "source": [
    "1 / np.tan(b)"
   ]
  },
  {
   "cell_type": "code",
   "execution_count": null,
   "id": "287d5c1b-c22b-413a-b217-0330efcebe1b",
   "metadata": {},
   "outputs": [],
   "source": []
  },
  {
   "cell_type": "markdown",
   "id": "1bf829aa-2bc7-4ec8-81b9-02609eef9f94",
   "metadata": {},
   "source": [
    "### Rounding operations"
   ]
  },
  {
   "cell_type": "code",
   "execution_count": 39,
   "id": "79959c33-783c-4fca-85b1-6d9c48a7f009",
   "metadata": {},
   "outputs": [
    {
     "data": {
      "text/plain": [
       "array([[-1.321, -1.043, -3.579],\n",
       "       [-1.043,  1.522,  2.426]])"
      ]
     },
     "execution_count": 39,
     "metadata": {},
     "output_type": "execute_result"
    }
   ],
   "source": [
    "np.round(new, decimals=3)"
   ]
  },
  {
   "cell_type": "code",
   "execution_count": 40,
   "id": "8ce3b0b6-1c67-4aba-9b31-072d8595b0a8",
   "metadata": {},
   "outputs": [
    {
     "data": {
      "text/plain": [
       "array([[-1.321, -1.043, -3.579],\n",
       "       [-1.043,  1.522,  2.426]])"
      ]
     },
     "execution_count": 40,
     "metadata": {},
     "output_type": "execute_result"
    }
   ],
   "source": [
    "np.around(new, decimals=3)"
   ]
  },
  {
   "cell_type": "code",
   "execution_count": 46,
   "id": "819e0227-0589-4a3e-85ef-1eb477f67efd",
   "metadata": {},
   "outputs": [
    {
     "data": {
      "text/plain": [
       "array([[-1., -1., -3.],\n",
       "       [-1.,  1.,  2.]])"
      ]
     },
     "execution_count": 46,
     "metadata": {},
     "output_type": "execute_result"
    }
   ],
   "source": [
    "np.fix(new)"
   ]
  },
  {
   "cell_type": "code",
   "execution_count": 42,
   "id": "87977e4d-946c-432f-93a9-5061ec4b3451",
   "metadata": {},
   "outputs": [
    {
     "data": {
      "text/plain": [
       "array([[-2., -2., -4.],\n",
       "       [-2.,  1.,  2.]])"
      ]
     },
     "execution_count": 42,
     "metadata": {},
     "output_type": "execute_result"
    }
   ],
   "source": [
    "np.floor(new)"
   ]
  },
  {
   "cell_type": "code",
   "execution_count": null,
   "id": "f16e096f-2c08-4f69-b63d-4661dd58a6f3",
   "metadata": {},
   "outputs": [],
   "source": []
  },
  {
   "cell_type": "markdown",
   "id": "eeb6a8b9-6a90-45dd-9fc4-26a507bf2bbd",
   "metadata": {},
   "source": [
    "## 2. Matrix Operations\n",
    "\n",
    "Refer to : https://numpy.org/doc/1.26/reference/array_api.html#elementwise-functions"
   ]
  },
  {
   "cell_type": "code",
   "execution_count": 54,
   "id": "a7f65af1-5419-4094-9958-5cc28a859ffd",
   "metadata": {},
   "outputs": [
    {
     "data": {
      "text/plain": [
       "array([[1, 2, 3],\n",
       "       [9, 8, 7],\n",
       "       [9, 4, 7]])"
      ]
     },
     "execution_count": 54,
     "metadata": {},
     "output_type": "execute_result"
    }
   ],
   "source": [
    "a = np.array([[4,5,6],[5,7,9]])\n",
    "b = np.array([[1,2,3],[9,8,7], [9,4,7]])\n",
    "\n",
    "b"
   ]
  },
  {
   "cell_type": "code",
   "execution_count": 50,
   "id": "b1167e8c-9600-42f0-bbc2-a5ed83a8eac5",
   "metadata": {},
   "outputs": [
    {
     "data": {
      "text/plain": [
       "array([[103,  72,  89],\n",
       "       [149, 102, 127]])"
      ]
     },
     "execution_count": 50,
     "metadata": {},
     "output_type": "execute_result"
    }
   ],
   "source": [
    "np.dot(a,b)"
   ]
  },
  {
   "cell_type": "code",
   "execution_count": 52,
   "id": "d850e4f8-41e5-4d7c-b294-572407ad0593",
   "metadata": {},
   "outputs": [
    {
     "data": {
      "text/plain": [
       "array([[1, 9, 9],\n",
       "       [2, 8, 4],\n",
       "       [3, 7, 7]])"
      ]
     },
     "execution_count": 52,
     "metadata": {},
     "output_type": "execute_result"
    }
   ],
   "source": [
    "# b.T\n",
    "np.transpose(b)"
   ]
  },
  {
   "cell_type": "code",
   "execution_count": 55,
   "id": "21ce2e0d-70d4-4266-9d45-a5d2f0c8de4f",
   "metadata": {},
   "outputs": [
    {
     "data": {
      "text/plain": [
       "np.int64(16)"
      ]
     },
     "execution_count": 55,
     "metadata": {},
     "output_type": "execute_result"
    }
   ],
   "source": [
    "np.trace(b)"
   ]
  },
  {
   "cell_type": "code",
   "execution_count": null,
   "id": "f9871fc1-f05c-4e35-bee8-b7d6d3c87e2a",
   "metadata": {},
   "outputs": [],
   "source": []
  },
  {
   "cell_type": "code",
   "execution_count": 57,
   "id": "e5ab8818-d9e2-4bf4-95e1-f8806868600e",
   "metadata": {},
   "outputs": [
    {
     "data": {
      "text/plain": [
       "np.float64(-79.99999999999997)"
      ]
     },
     "execution_count": 57,
     "metadata": {},
     "output_type": "execute_result"
    }
   ],
   "source": [
    "np.linalg.det(b)"
   ]
  },
  {
   "cell_type": "code",
   "execution_count": 61,
   "id": "62fc7591-a48b-4542-baca-17b0654f7841",
   "metadata": {},
   "outputs": [
    {
     "data": {
      "text/plain": [
       "array([[ 1., -0.,  0.],\n",
       "       [ 0.,  1.,  0.],\n",
       "       [ 0., -0.,  1.]])"
      ]
     },
     "execution_count": 61,
     "metadata": {},
     "output_type": "execute_result"
    }
   ],
   "source": [
    "# B . B-1 = I\n",
    "np.dot(\n",
    "    b, np.linalg.inv(b)\n",
    ").round()"
   ]
  },
  {
   "cell_type": "code",
   "execution_count": null,
   "id": "4e2cd207-7783-46f1-b8c5-150e606bd731",
   "metadata": {},
   "outputs": [],
   "source": []
  },
  {
   "cell_type": "code",
   "execution_count": 65,
   "id": "f8e80dfd-7b61-4840-a6d2-d98fb23734e8",
   "metadata": {},
   "outputs": [],
   "source": [
    "# Solve Equations: x + 2*y = 1 and 3*x + 5*y = 2\n",
    "a = np.array([[1,2],\n",
    "              [3,5]])\n",
    "b = np.array([1,2])"
   ]
  },
  {
   "cell_type": "code",
   "execution_count": 68,
   "id": "5ec00c01-1a8e-4a18-aa59-45696205890d",
   "metadata": {},
   "outputs": [
    {
     "data": {
      "text/plain": [
       "array([-1.,  1.])"
      ]
     },
     "execution_count": 68,
     "metadata": {},
     "output_type": "execute_result"
    }
   ],
   "source": [
    "np.linalg.solve(a, b)"
   ]
  },
  {
   "cell_type": "code",
   "execution_count": null,
   "id": "4ba1e9e4-b599-482c-b443-ba66cfd66a84",
   "metadata": {},
   "outputs": [],
   "source": []
  }
 ],
 "metadata": {
  "kernelspec": {
   "display_name": "Python 3 (ipykernel)",
   "language": "python",
   "name": "python3"
  },
  "language_info": {
   "codemirror_mode": {
    "name": "ipython",
    "version": 3
   },
   "file_extension": ".py",
   "mimetype": "text/x-python",
   "name": "python",
   "nbconvert_exporter": "python",
   "pygments_lexer": "ipython3",
   "version": "3.10.12"
  }
 },
 "nbformat": 4,
 "nbformat_minor": 5
}
