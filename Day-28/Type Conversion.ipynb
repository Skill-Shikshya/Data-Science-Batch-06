{
 "cells": [
  {
   "cell_type": "markdown",
   "id": "e9a9e137-6a96-4a17-a12f-213cf81e8796",
   "metadata": {},
   "source": [
    "## Types and Type Conversion\n",
    "\n",
    "NumPy supports a wide range of data types for arrays, including numeric, boolean, and string types. Each data type is identified by a unique character code, such as 'i' for integers and 'f' for floating-point numbers, and can have a specific size in bytes.\n",
    "\n",
    "Here are some of the most common data types in NumPy:\n",
    "\n",
    "- `bool`: Boolean (True or False) stored as a byte.\n",
    "- `int8`, `int16`, `int32`, `int64`: Integer with a specific number of bits (8, 16, 32, or 64).\n",
    "- `uint8`, `uint16`, `uint32`, `uint64`: Unsigned integer with a specific number of bits (8, 16, 32, or 64).\n",
    "- `float16`, `float32`, `float64`: Floating-point number with a specific precision (half, single, or double precision).\n",
    "- `complex64`, `complex128`: Complex number with a specific precision (single or double precision).\n",
    "\n",
    "You can create arrays of a specific data type using the dtype argument when you create the array."
   ]
  },
  {
   "cell_type": "code",
   "execution_count": 1,
   "id": "55557f9d-51ab-43aa-ae2e-d833edf9b8f9",
   "metadata": {},
   "outputs": [],
   "source": [
    "import numpy as np"
   ]
  },
  {
   "cell_type": "code",
   "execution_count": 29,
   "id": "214d5ff2-7255-430d-914c-bf502f0ee010",
   "metadata": {},
   "outputs": [],
   "source": [
    "a = np.array([1,127,3], dtype=np.int8)"
   ]
  },
  {
   "cell_type": "code",
   "execution_count": 22,
   "id": "7bb9fdca-bcf6-4f3b-bb09-5259d6b3e199",
   "metadata": {},
   "outputs": [
    {
     "data": {
      "text/plain": [
       "dtype('uint8')"
      ]
     },
     "execution_count": 22,
     "metadata": {},
     "output_type": "execute_result"
    }
   ],
   "source": [
    "a.dtype"
   ]
  },
  {
   "cell_type": "code",
   "execution_count": 13,
   "id": "919a381b-74f5-4eab-abbc-8fc51c9d8f0c",
   "metadata": {},
   "outputs": [],
   "source": [
    "b =a.astype(np.float16)"
   ]
  },
  {
   "cell_type": "code",
   "execution_count": 14,
   "id": "092ed10b-069e-4469-9800-ff6bb3c25455",
   "metadata": {},
   "outputs": [
    {
     "data": {
      "text/plain": [
       "dtype('float16')"
      ]
     },
     "execution_count": 14,
     "metadata": {},
     "output_type": "execute_result"
    }
   ],
   "source": [
    "b.dtype"
   ]
  },
  {
   "cell_type": "code",
   "execution_count": null,
   "id": "42e44b8e-b299-4e6d-b682-5e23a66786c9",
   "metadata": {},
   "outputs": [],
   "source": []
  },
  {
   "cell_type": "code",
   "execution_count": 18,
   "id": "b9879b76-0d0d-4607-ae5c-799a9ce9aa34",
   "metadata": {},
   "outputs": [],
   "source": [
    "b = np.array([4,0,0,1], dtype=np.bool)"
   ]
  },
  {
   "cell_type": "code",
   "execution_count": 19,
   "id": "628227c0-6648-460a-91ba-802ba984ce69",
   "metadata": {},
   "outputs": [
    {
     "data": {
      "text/plain": [
       "array([ True, False, False,  True])"
      ]
     },
     "execution_count": 19,
     "metadata": {},
     "output_type": "execute_result"
    }
   ],
   "source": [
    "b"
   ]
  },
  {
   "cell_type": "code",
   "execution_count": null,
   "id": "16b5aaaf-9a93-439e-98f4-7963ce8b60d9",
   "metadata": {},
   "outputs": [],
   "source": []
  }
 ],
 "metadata": {
  "kernelspec": {
   "display_name": "Python 3 (ipykernel)",
   "language": "python",
   "name": "python3"
  },
  "language_info": {
   "codemirror_mode": {
    "name": "ipython",
    "version": 3
   },
   "file_extension": ".py",
   "mimetype": "text/x-python",
   "name": "python",
   "nbconvert_exporter": "python",
   "pygments_lexer": "ipython3",
   "version": "3.10.12"
  }
 },
 "nbformat": 4,
 "nbformat_minor": 5
}
